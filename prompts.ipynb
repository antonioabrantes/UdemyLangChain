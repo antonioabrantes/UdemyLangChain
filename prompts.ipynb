{
 "cells": [
  {
   "cell_type": "code",
   "execution_count": 1,
   "id": "8da6d58e-2b09-4002-a909-af52404a4460",
   "metadata": {},
   "outputs": [],
   "source": [
    "from dotenv import load_dotenv\n",
    "import os\n",
    "\n",
    "from langchain_groq import ChatGroq\n",
    "from langchain_openai import ChatOpenAI\n",
    "from langchain_core.output_parsers import StrOutputParser\n",
    "from langchain_core.prompts import ChatPromptTemplate\n",
    "from langchain.prompts.prompt import PromptTemplate"
   ]
  },
  {
   "cell_type": "code",
   "execution_count": 2,
   "id": "3fa48ad8-bc0b-4e6d-acef-f8e1e5152fcf",
   "metadata": {},
   "outputs": [],
   "source": [
    "load_dotenv(dotenv_path='.env')\n",
    "groq_api_key = os.getenv(\"GROQ_API_KEY\")\n",
    "openai_api_key = os.getenv(\"OPENAI_API_KEY\")"
   ]
  },
  {
   "cell_type": "code",
   "execution_count": 3,
   "id": "a73ebeb2-fee4-47c1-a937-ad668a4a856d",
   "metadata": {},
   "outputs": [
    {
     "name": "stdout",
     "output_type": "stream",
     "text": [
      "input_variables=[] input_types={} partial_variables={} messages=[HumanMessagePromptTemplate(prompt=PromptTemplate(input_variables=[], input_types={}, partial_variables={}, template='\\nQual a capital do Brasil ?\\n'), additional_kwargs={})]\n"
     ]
    }
   ],
   "source": [
    "template = \"\"\"\n",
    "Qual a capital do Brasil ?\n",
    "\"\"\"\n",
    "prompt = ChatPromptTemplate.from_template(template=template)\n",
    "print(prompt)"
   ]
  },
  {
   "cell_type": "code",
   "execution_count": 5,
   "id": "1a3778df-c62c-4d2a-9715-862a9b639ad7",
   "metadata": {},
   "outputs": [
    {
     "name": "stdout",
     "output_type": "stream",
     "text": [
      "A capital do Brasil é Brasília. Foi inaugurada em 21 de abril de 1960 e foi planejada para ser a capital do país, com o intuito de promover o desenvolvimento do interior do Brasil.\n"
     ]
    }
   ],
   "source": [
    "#llm = ChatGroq(model=\"llama3-8b-8192\")\n",
    "llm = ChatOpenAI(model=\"gpt-4o-mini\", openai_api_key=openai_api_key)\n",
    "output_parser = StrOutputParser()\n",
    "chain = prompt | llm | output_parser\n",
    "response = chain.invoke({\"input\":\"\"})\n",
    "print(response)"
   ]
  },
  {
   "cell_type": "markdown",
   "id": "55f8a8bf-4017-4043-a851-a9c1fc96439e",
   "metadata": {},
   "source": [
    "FEW SHOT PROMPT"
   ]
  },
  {
   "cell_type": "code",
   "execution_count": 6,
   "id": "fe5948c4-a278-4a2a-a6d2-71f9b9ef6f25",
   "metadata": {},
   "outputs": [],
   "source": [
    "# Few Shot Prompt - provide a few examples in the template\n",
    "TEMPLATE = \"\"\"\n",
    "Interprete o texto e faça uma avaliação.\n",
    "sentimento: o texto expressa um sentimento positivo, neutro ou negativo?\n",
    "tema: Qual o assunto do texto? Use exatamente uma palavra.\n",
    "\n",
    "texto: {input}\n",
    "\n",
    "Exemplos:\n",
    "texto: O time fez uma excelente apresentação e marcou vários gols.\n",
    "sentimento: positivo\n",
    "tema: time\n",
    "\n",
    "texto: O restaurante tem um serviço ruim e a comida deixa da desejar.\n",
    "sentimento: negativo\n",
    "tema: restaurante\n",
    "\n",
    "texto: O podcast tem uma participação razoável mas sem grandes destaques.\n",
    "sentimento: neutro\n",
    "tema: podcast\n",
    "\n",
    "\"\"\""
   ]
  },
  {
   "cell_type": "code",
   "execution_count": 9,
   "id": "61c22b45-1251-4773-8e6a-0b286cab63ae",
   "metadata": {},
   "outputs": [
    {
     "name": "stdout",
     "output_type": "stream",
     "text": [
      "texto: O debate foi incrível com muitos destaques  \n",
      "sentimento: positivo  \n",
      "tema: debate\n"
     ]
    }
   ],
   "source": [
    "prompt = PromptTemplate(template=TEMPLATE)\n",
    "# prompt = ChatPromptTemplate.from_template(template=TEMPLATE)\n",
    "#llm = ChatGroq(model=\"llama3-8b-8192\")\n",
    "llm = ChatOpenAI(model=\"gpt-4o-mini\", openai_api_key=openai_api_key)\n",
    "output_parser = StrOutputParser()\n",
    "chain = prompt | llm | output_parser\n",
    "response = chain.invoke({\"input\":\"O debate foi incrível com muitos destaques\"})\n",
    "print(response)"
   ]
  },
  {
   "cell_type": "markdown",
   "id": "b3c8bca3-7de0-4904-b44f-c95bd2dcb2f3",
   "metadata": {},
   "source": [
    "CHAIN OF THOUGTHS PROMPT"
   ]
  },
  {
   "cell_type": "code",
   "execution_count": 11,
   "id": "1d8c4da0-81e1-4731-bf20-25ae61800f8b",
   "metadata": {},
   "outputs": [],
   "source": [
    "TEMPLATE = \"\"\"\n",
    "\n",
    "Responda a pergunta\n",
    "Pergunta: {input}\n",
    "\n",
    "Examplos:\n",
    "Pergunta: \"Se há 5 maçãs e você dá 2 para o João e 1 para a Maria, quantas maçãs restam?\"\n",
    "Explicação: \"1. Começamos com 5 maçãs.\n",
    "2. Damos 2 maçãs para o João. Agora restam 5 - 2 = 3 maçãs.\n",
    "3. Em seguida, damos 1 maçã para a Maria. Agora restam 3 - 1 = 2 maçãs.\n",
    "Resposta: \"Restam 2 maçãs.\"\n",
    "\n",
    "Pergunta: \"Pergunta: \"João é mais alto que Maria. Maria é mais alta que Ana. Quem é o mais baixo?\"\n",
    "Explicação: \"1. João é mais alto que Maria.\n",
    "2. Maria é mais alta que Ana.\n",
    "3. Isso significa que Ana é mais baixa que Maria e João.\n",
    "Resposta: \"Ana é a mais baixa.\"\n",
    "\n",
    "Pergunta: \"Por que o Império Romano caiu?\"\n",
    "Explicação: \"1. Uma das principais razões foi a invasão de tribos bárbaras, como os godos e os visigodos, que enfraqueceram o controle do império.\n",
    "2. Outra razão foi a corrupção interna e má gestão, o que levou a uma economia instável.\n",
    "3. A divisão do Império Romano em oriental e ocidental também enfraqueceu a coesão e a defesa do território.\"\n",
    "Resposta: \"A queda do Império Romano foi causada por uma combinação de invasões bárbaras, corrupção interna e a divisão do império.\n",
    "\n",
    "\"\"\"\n"
   ]
  },
  {
   "cell_type": "code",
   "execution_count": 12,
   "id": "b08a63c2-dccf-4afc-9a67-00d7f5a1435d",
   "metadata": {},
   "outputs": [
    {
     "name": "stdout",
     "output_type": "stream",
     "text": [
      "Pergunta: Por que o céu é azul?\n",
      "\n",
      "Explicação:\n",
      "\n",
      "1. O céu é composto principalmente por gases atmosféricos, como nitrogênio, oxigênio e argônio.\n",
      "2. Entre esses gases, há um tipo de molécula chamada dióxido de carbono, que é responsável pela absorção de luz solar.\n",
      "3. Quando a luz solar entra na atmosfera, é absorvida pelas moléculas de dióxido de carbono e outras substâncias presentes na atmosfera.\n",
      "4. No entanto, a luz azul é absorvida menos pela atmosfera do que as outras cores, como o vermelho e o amarelo.\n",
      "5. Isso significa que a luz azul é refletida de volta para nossos olhos, fazendo com que o céu apareça azul.\n",
      "\n",
      "Resposta: O céu é azul porque a atmosfera absorve mais luz de outras cores, como o vermelho e o amarelo, e reflete mais a luz azul.\n"
     ]
    }
   ],
   "source": [
    "prompt = PromptTemplate(template=TEMPLATE)\n",
    "# prompt = ChatPromptTemplate.from_template(template=TEMPLATE)\n",
    "llm = ChatGroq(model=\"llama3-8b-8192\")\n",
    "#llm = ChatOpenAI(model=\"gpt-4o-mini\", openai_api_key=openai_api_key)\n",
    "output_parser = StrOutputParser()\n",
    "chain = prompt | llm | output_parser\n",
    "response = chain.invoke({\"input\":\"Por que o ceu é azul ?\"})\n",
    "print(response)"
   ]
  },
  {
   "cell_type": "markdown",
   "id": "35214136-99c9-44d7-9a7a-8008556fc9f6",
   "metadata": {},
   "source": [
    "COMBINED PROMPTS"
   ]
  },
  {
   "cell_type": "code",
   "execution_count": 18,
   "id": "a5b4bb0a-bd9d-42d4-88ec-cef90ee90158",
   "metadata": {},
   "outputs": [],
   "source": [
    "from langchain.prompts.pipeline import PipelinePromptTemplate\n",
    "from langchain.prompts.prompt import PromptTemplate\n",
    "\n",
    "# Introduction\n",
    "introduction_template = \"\"\"\n",
    "Interprete o texto e avalie o texto. Determine se o texto tem um sentimento positivo, neutro ou negativo. Além disso, identifique o assunto do texto \n",
    "em uma palavra.\"\"\"\n",
    "introduction_prompt = PromptTemplate.from_template(introduction_template)\n",
    "\n",
    "# Example\n",
    "example_template = \"\"\"\n",
    "Vamos começar avaliando a sentença. O texto \"{example_text}\" tem um sentimento {example_sentiment}. Coloque a resposta no formato normal: \"{example_format}\" \"\"\"\n",
    "example_prompt = PromptTemplate.from_template(example_template)\n",
    "\n",
    "# Execution\n",
    "execution_template = \"\"\"\n",
    "Agora, faça o mesmo para o seguinte texto: \"{input}\".\n",
    "\"\"\"\n",
    "execution_prompt = PromptTemplate.from_template(execution_template)\n",
    "\n",
    "\n",
    "# Composing the full prompt\n",
    "full_template = \"\"\"{introduction}\n",
    "\n",
    "{example}\n",
    "\n",
    "{execution}\"\"\"\n",
    "full_prompt = PromptTemplate.from_template(full_template)\n",
    "\n",
    "# PipelinePrompts\n",
    "input_prompts = [\n",
    "    (\"introduction\", introduction_prompt),\n",
    "    (\"example\", example_prompt),\n",
    "    (\"execution\", execution_prompt)\n",
    "]\n",
    "pipeline_prompt = PipelinePromptTemplate(final_prompt=full_prompt, pipeline_prompts=input_prompts)\n"
   ]
  },
  {
   "cell_type": "code",
   "execution_count": 19,
   "id": "4704824f-56a1-4e6b-8baf-fd3f0f542115",
   "metadata": {},
   "outputs": [
    {
     "name": "stdout",
     "output_type": "stream",
     "text": [
      "{'Sentimento': 'negativo', 'Tema': 'tempo'}\n"
     ]
    }
   ],
   "source": [
    "model = ChatOpenAI(model=\"gpt-4o-mini\",openai_api_key=openai_api_key)\n",
    "output_parser = StrOutputParser()\n",
    "chain = pipeline_prompt | model | output_parser\n",
    "response = chain.invoke({\n",
    "    \"example_text\": \"O restaurante estava maravilhoso, com uma vista deslumbrante e uma comida de alta qualidade.\",\n",
    "    \"example_sentiment\": \"positivo\",\n",
    "    \"example_format\": \"{'Sentimento': 'positivo', 'Tema': 'restaurante'}\",\n",
    "    #\"example_format\": \"Sentimento: positivo, Tema: restaurante\",\n",
    "    \"input\": \"O tempo não está bom, parece que vai cair uma tempestade.\"\n",
    "})\n",
    "print(response)\n"
   ]
  },
  {
   "cell_type": "code",
   "execution_count": null,
   "id": "2e7aab18-ffe9-4516-b5bc-d0876f7ac2d1",
   "metadata": {},
   "outputs": [],
   "source": []
  }
 ],
 "metadata": {
  "kernelspec": {
   "display_name": "Python 3 (ipykernel)",
   "language": "python",
   "name": "python3"
  },
  "language_info": {
   "codemirror_mode": {
    "name": "ipython",
    "version": 3
   },
   "file_extension": ".py",
   "mimetype": "text/x-python",
   "name": "python",
   "nbconvert_exporter": "python",
   "pygments_lexer": "ipython3",
   "version": "3.12.4"
  }
 },
 "nbformat": 4,
 "nbformat_minor": 5
}

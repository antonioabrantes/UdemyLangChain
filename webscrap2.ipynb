{
 "cells": [
  {
   "cell_type": "code",
   "execution_count": 1,
   "id": "a81861cc-411d-4f13-91ee-f228d43dc179",
   "metadata": {},
   "outputs": [],
   "source": [
    "from urllib.request import urlopen\n",
    "from bs4 import BeautifulSoup"
   ]
  },
  {
   "cell_type": "code",
   "execution_count": 2,
   "id": "3556124d-07da-44dc-9370-f86ac0aca8ae",
   "metadata": {},
   "outputs": [
    {
     "name": "stdout",
     "output_type": "stream",
     "text": [
      "<title>US5000000A - Ethanol production by Escherichia coli strains co-expressing Zymomonas PDC and ADH genes \n",
      "        - Google Patents</title>\n"
     ]
    }
   ],
   "source": [
    "url = \"https://patents.google.com/patent/US5000000A/en?oq=us5000000\"\n",
    "html = urlopen(url)\n",
    "bs = BeautifulSoup(html.read(),'html.parser')\n",
    "title = bs.title\n",
    "print(title)"
   ]
  },
  {
   "cell_type": "code",
   "execution_count": 3,
   "id": "4197ed3e-2d09-4d4d-b72b-2092d71b39a4",
   "metadata": {},
   "outputs": [
    {
     "name": "stdout",
     "output_type": "stream",
     "text": [
      "<meta content=\"1991-03-19\" name=\"DC.date\" scheme=\"issue\"/>\n"
     ]
    }
   ],
   "source": [
    "# <meta name=\"DC.date\" content=\"1991-03-19\" scheme=\"issue\">\n",
    "nameList = bs.findAll(\"meta\",{\"name\":\"DC.date\",\"scheme\":\"issue\"})\n",
    "for name in nameList:\n",
    "    print(name)"
   ]
  },
  {
   "cell_type": "code",
   "execution_count": 4,
   "id": "ea138f33-70b5-4451-817a-7f3ced274029",
   "metadata": {},
   "outputs": [
    {
     "name": "stdout",
     "output_type": "stream",
     "text": [
      "1991-03-19\n"
     ]
    }
   ],
   "source": [
    "print(name.get(\"content\"))"
   ]
  },
  {
   "cell_type": "code",
   "execution_count": 5,
   "id": "68f5ef83-a6a7-400f-9909-f43ff4232c57",
   "metadata": {},
   "outputs": [
    {
     "name": "stdout",
     "output_type": "stream",
     "text": [
      "A novel operon and plasmids comprising genes which code for the alcohol dehydrogenase and pyruvate decarboxylase activities of Zymomonas mobilis are described. Also disclosed are methods for increasing the growth of microorganisms or eukaryotic cells and methods for reducing the accumulation of undesirable metabolic products in the growth medium of microorganisms or cells.\n"
     ]
    }
   ],
   "source": [
    "nameList = bs.findAll(\"div\",{\"class\":\"abstract\"})\n",
    "for name in nameList:\n",
    "    print(name.getText())"
   ]
  },
  {
   "cell_type": "code",
   "execution_count": null,
   "id": "acdef4b1-4551-4b55-93a9-2ae0db4db101",
   "metadata": {},
   "outputs": [],
   "source": []
  }
 ],
 "metadata": {
  "kernelspec": {
   "display_name": "Python 3 (ipykernel)",
   "language": "python",
   "name": "python3"
  },
  "language_info": {
   "codemirror_mode": {
    "name": "ipython",
    "version": 3
   },
   "file_extension": ".py",
   "mimetype": "text/x-python",
   "name": "python",
   "nbconvert_exporter": "python",
   "pygments_lexer": "ipython3",
   "version": "3.12.4"
  }
 },
 "nbformat": 4,
 "nbformat_minor": 5
}

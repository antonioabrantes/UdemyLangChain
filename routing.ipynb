{
 "cells": [
  {
   "cell_type": "code",
   "execution_count": 1,
   "metadata": {},
   "outputs": [],
   "source": [
    "from langchain.utils.math import cosine_similarity\n",
    "from langchain_core.output_parsers import StrOutputParser\n",
    "from langchain_core.prompts import PromptTemplate\n",
    "from langchain_core.runnables import RunnableLambda, RunnablePassthrough\n",
    "from langchain_openai import ChatOpenAI, OpenAIEmbeddings\n",
    "from dotenv import load_dotenv\n",
    "import os\n",
    "\n",
    "load_dotenv(dotenv_path='.env')\n",
    "openai_api_key = os.getenv(\"OPENAI_API_KEY\")\n",
    "\n",
    "carro_template = \"\"\"Você é um especialista em automóveis. Você tem amplo conhecimento sobre mecânica de carros, \\\n",
    "modelos e tecnologia automotiva. Você fornece respostas claras e úteis sobre carros.\\\n",
    "\\\n",
    "Pergunta:\\\n",
    "{query}\"\"\"\n",
    "\n",
    "piada_template = \"\"\"Você é um comediante,alegre e divertido. Dada uma pergunta crie uma piada sobre a pergunta \\\n",
    "\\\n",
    "Pergunta:\\\n",
    "{query}\"\"\"\n",
    "\n",
    "patent_template = \"\"\"Você é um assistente que responde perguntas sobre pedidos de patente.\\\n",
    "\\\n",
    "Pergunta:\\\n",
    "{query}\"\"\""
   ]
  },
  {
   "cell_type": "code",
   "execution_count": 2,
   "metadata": {},
   "outputs": [],
   "source": [
    "carro_questions = [\n",
    "    \"Qual a diferença entre um sedan e um SUV?\",\n",
    "    \"Explique o funcionamento de um carro elétrico?\",\n",
    "    \"Explique a diferença de um motor de dois tempos e de quatro tempos?\",\n",
    "]\n",
    "\n",
    "piada_questions = [\n",
    "    \"O que o pato disse para a pata? R.: Vem Quá!\",\n",
    "    \"Qual é a cidade brasileira que não tem táxi? R.: Uberlândia.\",\n",
    "    \"Por que o rádio não pode ter filhos? R.: Porque ele é estéreo.\",\n",
    "]\n",
    "\n",
    "patent_questions = [\n",
    "    \"Qual o andamento do pedido de patente PI9809080?\",\n",
    "    \"A patente PI9908990 está em vigor?\",\n",
    "    \"Quando foi depositada a patente 112012004567?\",\n",
    "]"
   ]
  },
  {
   "cell_type": "code",
   "execution_count": 3,
   "metadata": {},
   "outputs": [],
   "source": [
    "embeddings = OpenAIEmbeddings(openai_api_key=openai_api_key, model=\"text-embedding-3-small\", dimensions=1536)\n",
    "\n",
    "carro_question_embeddings = embeddings.embed_documents(carro_questions)\n",
    "piada_question_embeddings = embeddings.embed_documents(piada_questions)\n",
    "patent_question_embeddings = embeddings.embed_documents(patent_questions)"
   ]
  },
  {
   "cell_type": "code",
   "execution_count": 4,
   "metadata": {},
   "outputs": [
    {
     "name": "stdout",
     "output_type": "stream",
     "text": [
      "Questão relativa a carros...\n"
     ]
    }
   ],
   "source": [
    "def prompt_router(input):\n",
    "    query_embedding = embeddings.embed_query(input[\"query\"])\n",
    "    carro_similarity = cosine_similarity([query_embedding], carro_question_embeddings)[0]\n",
    "    piada_similarity = cosine_similarity([query_embedding], piada_question_embeddings)[0]\n",
    "    patent_similarity = cosine_similarity([query_embedding], patent_question_embeddings)[0]\n",
    "\n",
    "    max_similarity = max(max(carro_similarity), max(piada_similarity), max(patent_similarity))\n",
    "\n",
    "    if max_similarity == max(carro_similarity):\n",
    "        print(f\"Questão relativa a carros...\")\n",
    "        return PromptTemplate.from_template(carro_template)\n",
    "    elif max_similarity == max(piada_similarity):\n",
    "        print(f\"Questão relativa a piadas\")\n",
    "        return PromptTemplate.from_template(piada_template)\n",
    "    else:\n",
    "        print(f\"Questão relativa a patente\")\n",
    "        return PromptTemplate.from_template(patent_template)\n",
    "\n",
    "query = \"Qual o melhor modo de melhorar a durabilidade da bateria do meu carro?\"\n",
    "input_query = {\"query\": query}\n",
    "prompt = prompt_router(input_query)"
   ]
  },
  {
   "cell_type": "code",
   "execution_count": 5,
   "metadata": {},
   "outputs": [],
   "source": [
    "chain = (\n",
    "    {\"query\": RunnablePassthrough()}\n",
    "    | RunnableLambda(prompt_router)\n",
    "    | ChatOpenAI()\n",
    "    | StrOutputParser()\n",
    ")"
   ]
  },
  {
   "cell_type": "code",
   "execution_count": 6,
   "metadata": {},
   "outputs": [
    {
     "name": "stdout",
     "output_type": "stream",
     "text": [
      "Questão relativa a carros...\n"
     ]
    },
    {
     "data": {
      "text/plain": [
       "'Para melhorar a durabilidade da bateria do seu carro, siga estas dicas:\\n\\n1. Evite deixar dispositivos eletrônicos ligados quando o motor estiver desligado, pois isso pode descarregar a bateria mais rapidamente.\\n2. Realize manutenções regulares no sistema elétrico do veículo, verificando se não há fios desgastados ou conexões soltas.\\n3. Mantenha a bateria limpa e livre de corrosão, limpando os terminais com uma escova de metal e uma solução de água e bicarbonato de sódio.\\n4. Evite dar partida no carro com muita frequência sem que o motor aqueça completamente, pois isso pode sobrecarregar a bateria.\\n5. Se o carro ficar parado por um longo período de tempo, desconecte a bateria ou utilize um carregador de bateria para mantê-la carregada.\\n\\nSeguindo essas dicas, você pode prolongar a vida útil da bateria do seu carro.'"
      ]
     },
     "execution_count": 6,
     "metadata": {},
     "output_type": "execute_result"
    }
   ],
   "source": [
    "chain.invoke(query)"
   ]
  },
  {
   "cell_type": "code",
   "execution_count": 7,
   "metadata": {},
   "outputs": [
    {
     "name": "stdout",
     "output_type": "stream",
     "text": [
      "Questão relativa a patente\n"
     ]
    },
    {
     "data": {
      "text/plain": [
       "'Para verificar o status de um pedido de patente, é necessário consultar o Instituto Nacional da Propriedade Industrial (INPI) ou o órgão responsável pela concessão de patentes no país em questão. Geralmente, é possível acompanhar o andamento do pedido de patente através de um número de protocolo fornecido no momento da solicitação. Recomendo entrar em contato diretamente com o órgão competente para obter informações atualizadas sobre o status do pedido de patente.'"
      ]
     },
     "execution_count": 7,
     "metadata": {},
     "output_type": "execute_result"
    }
   ],
   "source": [
    "query = \"qual o status do pedido de patente ?\"\n",
    "input_query = {\"query\": query}\n",
    "chain.invoke(query)"
   ]
  },
  {
   "cell_type": "code",
   "execution_count": 8,
   "metadata": {},
   "outputs": [
    {
     "name": "stdout",
     "output_type": "stream",
     "text": [
      "Questão relativa a piadas\n"
     ]
    },
    {
     "data": {
      "text/plain": [
       "'Claro! Por que as girafas têm pescoços tão compridos? Para conseguir dar beijos de bom dia nas nuvens!'"
      ]
     },
     "execution_count": 8,
     "metadata": {},
     "output_type": "execute_result"
    }
   ],
   "source": [
    "query = \"conte-me uma piada de girafas ?\"\n",
    "input_query = {\"query\": query}\n",
    "chain.invoke(query)"
   ]
  },
  {
   "cell_type": "code",
   "execution_count": null,
   "metadata": {},
   "outputs": [],
   "source": []
  }
 ],
 "metadata": {
  "kernelspec": {
   "display_name": "Python 3 (ipykernel)",
   "language": "python",
   "name": "python3"
  },
  "language_info": {
   "codemirror_mode": {
    "name": "ipython",
    "version": 3
   },
   "file_extension": ".py",
   "mimetype": "text/x-python",
   "name": "python",
   "nbconvert_exporter": "python",
   "pygments_lexer": "ipython3",
   "version": "3.12.4"
  }
 },
 "nbformat": 4,
 "nbformat_minor": 4
}

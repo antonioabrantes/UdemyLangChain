{
 "cells": [
  {
   "cell_type": "code",
   "execution_count": 3,
   "id": "145fdf40-4b8d-46ae-acfa-93c56c8ad04d",
   "metadata": {},
   "outputs": [],
   "source": [
    "import pandas as pd\n",
    "import requests\n",
    "from io import StringIO\n",
    "from dotenv import load_dotenv\n",
    "import os"
   ]
  },
  {
   "cell_type": "code",
   "execution_count": 4,
   "id": "e1c12823-acad-45b2-a020-84bcd7c26cfb",
   "metadata": {},
   "outputs": [
    {
     "data": {
      "text/plain": [
       "True"
      ]
     },
     "execution_count": 4,
     "metadata": {},
     "output_type": "execute_result"
    }
   ],
   "source": [
    "load_dotenv(dotenv_path='.env')"
   ]
  },
  {
   "cell_type": "code",
   "execution_count": null,
   "id": "851f5969-aa01-4b6a-afdf-c2f0c7558e7b",
   "metadata": {},
   "outputs": [],
   "source": [
    "alphavantage_api_key = os.getenv(\"ALPHAVANTAGE_API_KEY\")\n",
    "print(alphavantage_api_key)"
   ]
  },
  {
   "cell_type": "code",
   "execution_count": 6,
   "id": "cf491a78-e147-4cad-b7e4-a2b91bc322b8",
   "metadata": {},
   "outputs": [],
   "source": [
    "url = f'https://www.alphavantage.co/query?function=TIME_SERIES_WEEKLY_ADJUSTED&symbol=ITUB4.SAO&apikey={alphavantage_api_key}&datatype=csv'"
   ]
  },
  {
   "cell_type": "code",
   "execution_count": 8,
   "id": "ec829ea5-d06f-4409-979c-ac83277f618a",
   "metadata": {},
   "outputs": [
    {
     "name": "stderr",
     "output_type": "stream",
     "text": [
      "D:\\Users\\abrantes\\InstallAnaconda\\envs\\academia3_13\\Lib\\site-packages\\urllib3\\connectionpool.py:1097: InsecureRequestWarning: Unverified HTTPS request is being made to host 'www.alphavantage.co'. Adding certificate verification is strongly advised. See: https://urllib3.readthedocs.io/en/latest/advanced-usage.html#tls-warnings\n",
      "  warnings.warn(\n"
     ]
    }
   ],
   "source": [
    "r = requests.get(url, verify=False)"
   ]
  },
  {
   "cell_type": "code",
   "execution_count": 9,
   "id": "f4b8dff7-b639-43c7-b14b-2408b89d2ff8",
   "metadata": {},
   "outputs": [],
   "source": [
    "tabela = pd.read_csv(StringIO(r.text))"
   ]
  },
  {
   "cell_type": "code",
   "execution_count": 10,
   "id": "933552c2-813a-4e25-a352-b9a5f6639d30",
   "metadata": {},
   "outputs": [
    {
     "data": {
      "text/html": [
       "<div>\n",
       "<style scoped>\n",
       "    .dataframe tbody tr th:only-of-type {\n",
       "        vertical-align: middle;\n",
       "    }\n",
       "\n",
       "    .dataframe tbody tr th {\n",
       "        vertical-align: top;\n",
       "    }\n",
       "\n",
       "    .dataframe thead th {\n",
       "        text-align: right;\n",
       "    }\n",
       "</style>\n",
       "<table border=\"1\" class=\"dataframe\">\n",
       "  <thead>\n",
       "    <tr style=\"text-align: right;\">\n",
       "      <th></th>\n",
       "      <th>timestamp</th>\n",
       "      <th>open</th>\n",
       "      <th>high</th>\n",
       "      <th>low</th>\n",
       "      <th>close</th>\n",
       "      <th>adjusted close</th>\n",
       "      <th>volume</th>\n",
       "      <th>dividend amount</th>\n",
       "    </tr>\n",
       "  </thead>\n",
       "  <tbody>\n",
       "    <tr>\n",
       "      <th>0</th>\n",
       "      <td>2025-06-11</td>\n",
       "      <td>36.4700</td>\n",
       "      <td>36.6300</td>\n",
       "      <td>35.7400</td>\n",
       "      <td>36.3300</td>\n",
       "      <td>36.3300</td>\n",
       "      <td>60426000</td>\n",
       "      <td>0.3341</td>\n",
       "    </tr>\n",
       "    <tr>\n",
       "      <th>1</th>\n",
       "      <td>2025-06-06</td>\n",
       "      <td>37.6700</td>\n",
       "      <td>37.7600</td>\n",
       "      <td>36.3000</td>\n",
       "      <td>36.5800</td>\n",
       "      <td>36.2459</td>\n",
       "      <td>106839600</td>\n",
       "      <td>0.0000</td>\n",
       "    </tr>\n",
       "    <tr>\n",
       "      <th>2</th>\n",
       "      <td>2025-05-30</td>\n",
       "      <td>37.6200</td>\n",
       "      <td>38.6200</td>\n",
       "      <td>37.0900</td>\n",
       "      <td>37.4300</td>\n",
       "      <td>37.0881</td>\n",
       "      <td>84474000</td>\n",
       "      <td>0.0176</td>\n",
       "    </tr>\n",
       "    <tr>\n",
       "      <th>3</th>\n",
       "      <td>2025-05-23</td>\n",
       "      <td>37.8200</td>\n",
       "      <td>38.5900</td>\n",
       "      <td>36.3600</td>\n",
       "      <td>37.7200</td>\n",
       "      <td>37.3579</td>\n",
       "      <td>105533300</td>\n",
       "      <td>0.0000</td>\n",
       "    </tr>\n",
       "    <tr>\n",
       "      <th>4</th>\n",
       "      <td>2025-05-16</td>\n",
       "      <td>37.4400</td>\n",
       "      <td>38.0000</td>\n",
       "      <td>36.2500</td>\n",
       "      <td>37.9000</td>\n",
       "      <td>37.5362</td>\n",
       "      <td>125386100</td>\n",
       "      <td>0.0000</td>\n",
       "    </tr>\n",
       "    <tr>\n",
       "      <th>...</th>\n",
       "      <td>...</td>\n",
       "      <td>...</td>\n",
       "      <td>...</td>\n",
       "      <td>...</td>\n",
       "      <td>...</td>\n",
       "      <td>...</td>\n",
       "      <td>...</td>\n",
       "      <td>...</td>\n",
       "    </tr>\n",
       "    <tr>\n",
       "      <th>1071</th>\n",
       "      <td>2005-02-11</td>\n",
       "      <td>429.9978</td>\n",
       "      <td>438.0030</td>\n",
       "      <td>427.0017</td>\n",
       "      <td>432.9009</td>\n",
       "      <td>2.2477</td>\n",
       "      <td>701139553</td>\n",
       "      <td>0.0000</td>\n",
       "    </tr>\n",
       "    <tr>\n",
       "      <th>1072</th>\n",
       "      <td>2005-02-04</td>\n",
       "      <td>384.4975</td>\n",
       "      <td>440.0028</td>\n",
       "      <td>384.4975</td>\n",
       "      <td>438.0030</td>\n",
       "      <td>2.2742</td>\n",
       "      <td>984013556</td>\n",
       "      <td>0.0024</td>\n",
       "    </tr>\n",
       "    <tr>\n",
       "      <th>1073</th>\n",
       "      <td>2005-01-28</td>\n",
       "      <td>387.0019</td>\n",
       "      <td>391.9980</td>\n",
       "      <td>375.5023</td>\n",
       "      <td>378.9970</td>\n",
       "      <td>1.9670</td>\n",
       "      <td>950796787</td>\n",
       "      <td>0.0000</td>\n",
       "    </tr>\n",
       "    <tr>\n",
       "      <th>1074</th>\n",
       "      <td>2005-01-21</td>\n",
       "      <td>397.8971</td>\n",
       "      <td>402.9929</td>\n",
       "      <td>386.0987</td>\n",
       "      <td>389.5000</td>\n",
       "      <td>2.0215</td>\n",
       "      <td>932062529</td>\n",
       "      <td>0.0000</td>\n",
       "    </tr>\n",
       "    <tr>\n",
       "      <th>1075</th>\n",
       "      <td>2005-01-14</td>\n",
       "      <td>390.0115</td>\n",
       "      <td>398.0100</td>\n",
       "      <td>383.9992</td>\n",
       "      <td>398.0100</td>\n",
       "      <td>2.0657</td>\n",
       "      <td>1036761783</td>\n",
       "      <td>0.0000</td>\n",
       "    </tr>\n",
       "  </tbody>\n",
       "</table>\n",
       "<p>1076 rows × 8 columns</p>\n",
       "</div>"
      ],
      "text/plain": [
       "       timestamp      open      high       low     close  adjusted close  \\\n",
       "0     2025-06-11   36.4700   36.6300   35.7400   36.3300         36.3300   \n",
       "1     2025-06-06   37.6700   37.7600   36.3000   36.5800         36.2459   \n",
       "2     2025-05-30   37.6200   38.6200   37.0900   37.4300         37.0881   \n",
       "3     2025-05-23   37.8200   38.5900   36.3600   37.7200         37.3579   \n",
       "4     2025-05-16   37.4400   38.0000   36.2500   37.9000         37.5362   \n",
       "...          ...       ...       ...       ...       ...             ...   \n",
       "1071  2005-02-11  429.9978  438.0030  427.0017  432.9009          2.2477   \n",
       "1072  2005-02-04  384.4975  440.0028  384.4975  438.0030          2.2742   \n",
       "1073  2005-01-28  387.0019  391.9980  375.5023  378.9970          1.9670   \n",
       "1074  2005-01-21  397.8971  402.9929  386.0987  389.5000          2.0215   \n",
       "1075  2005-01-14  390.0115  398.0100  383.9992  398.0100          2.0657   \n",
       "\n",
       "          volume  dividend amount  \n",
       "0       60426000           0.3341  \n",
       "1      106839600           0.0000  \n",
       "2       84474000           0.0176  \n",
       "3      105533300           0.0000  \n",
       "4      125386100           0.0000  \n",
       "...          ...              ...  \n",
       "1071   701139553           0.0000  \n",
       "1072   984013556           0.0024  \n",
       "1073   950796787           0.0000  \n",
       "1074   932062529           0.0000  \n",
       "1075  1036761783           0.0000  \n",
       "\n",
       "[1076 rows x 8 columns]"
      ]
     },
     "metadata": {},
     "output_type": "display_data"
    }
   ],
   "source": [
    "display(tabela)"
   ]
  },
  {
   "cell_type": "code",
   "execution_count": 12,
   "id": "359c10bd-51ac-4d91-87ac-c084b10e124c",
   "metadata": {},
   "outputs": [
    {
     "data": {
      "text/plain": [
       "<Axes: xlabel='timestamp'>"
      ]
     },
     "execution_count": 12,
     "metadata": {},
     "output_type": "execute_result"
    },
    {
     "data": {
      "image/png": "[encoded data removed]",
      "text/plain": [
       "<Figure size 1000x600 with 1 Axes>"
      ]
     },
     "metadata": {},
     "output_type": "display_data"
    }
   ],
   "source": [
    "#pip install matplotlib\n",
    "tabela.plot(kind='line', x='timestamp', y='close', color='red', linestyle='dashed', linewidth=1, figsize=(10,6))"
   ]
  },
  {
   "cell_type": "code",
   "execution_count": null,
   "id": "0254ebb8-f591-470f-87f3-3411bdf73173",
   "metadata": {},
   "outputs": [],
   "source": []
  }
 ],
 "metadata": {
  "kernelspec": {
   "display_name": "Python 3 (ipykernel)",
   "language": "python",
   "name": "python3"
  },
  "language_info": {
   "codemirror_mode": {
    "name": "ipython",
    "version": 3
   },
   "file_extension": ".py",
   "mimetype": "text/x-python",
   "name": "python",
   "nbconvert_exporter": "python",
   "pygments_lexer": "ipython3",
   "version": "3.13.4"
  }
 },
 "nbformat": 4,
 "nbformat_minor": 5
}

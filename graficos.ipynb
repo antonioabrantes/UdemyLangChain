{
 "cells": [
  {
   "cell_type": "code",
   "execution_count": 5,
   "id": "145fdf40-4b8d-46ae-acfa-93c56c8ad04d",
   "metadata": {},
   "outputs": [],
   "source": [
    "import pandas as pd\n",
    "import requests\n",
    "from io import StringIO\n",
    "from dotenv import load_dotenv\n",
    "import os"
   ]
  },
  {
   "cell_type": "code",
   "execution_count": 6,
   "id": "e1c12823-acad-45b2-a020-84bcd7c26cfb",
   "metadata": {},
   "outputs": [
    {
     "data": {
      "text/plain": [
       "True"
      ]
     },
     "execution_count": 6,
     "metadata": {},
     "output_type": "execute_result"
    }
   ],
   "source": [
    "load_dotenv(dotenv_path='.env')"
   ]
  },
  {
   "cell_type": "code",
   "execution_count": 9,
   "id": "851f5969-aa01-4b6a-afdf-c2f0c7558e7b",
   "metadata": {},
   "outputs": [],
   "source": [
    "alphavantage_api_key = os.getenv(\"ALPHAVANTAGE_API_KEY\")"
   ]
  },
  {
   "cell_type": "code",
   "execution_count": 10,
   "id": "cf491a78-e147-4cad-b7e4-a2b91bc322b8",
   "metadata": {},
   "outputs": [],
   "source": [
    "url = f'https://www.alphavantage.co/query?function=TIME_SERIES_WEEKLY_ADJUSTED&symbol=ITUB4.SAO&apikey={alphavantage_api_key}&datatype=csv'"
   ]
  },
  {
   "cell_type": "code",
   "execution_count": 11,
   "id": "ec829ea5-d06f-4409-979c-ac83277f618a",
   "metadata": {},
   "outputs": [],
   "source": [
    "r = requests.get(url)"
   ]
  },
  {
   "cell_type": "code",
   "execution_count": 12,
   "id": "f4b8dff7-b639-43c7-b14b-2408b89d2ff8",
   "metadata": {},
   "outputs": [],
   "source": [
    "tabela = pd.read_csv(StringIO(r.text))"
   ]
  },
  {
   "cell_type": "code",
   "execution_count": 13,
   "id": "933552c2-813a-4e25-a352-b9a5f6639d30",
   "metadata": {},
   "outputs": [
    {
     "data": {
      "text/html": [
       "<div>\n",
       "<style scoped>\n",
       "    .dataframe tbody tr th:only-of-type {\n",
       "        vertical-align: middle;\n",
       "    }\n",
       "\n",
       "    .dataframe tbody tr th {\n",
       "        vertical-align: top;\n",
       "    }\n",
       "\n",
       "    .dataframe thead th {\n",
       "        text-align: right;\n",
       "    }\n",
       "</style>\n",
       "<table border=\"1\" class=\"dataframe\">\n",
       "  <thead>\n",
       "    <tr style=\"text-align: right;\">\n",
       "      <th></th>\n",
       "      <th>timestamp</th>\n",
       "      <th>open</th>\n",
       "      <th>high</th>\n",
       "      <th>low</th>\n",
       "      <th>close</th>\n",
       "      <th>adjusted close</th>\n",
       "      <th>volume</th>\n",
       "      <th>dividend amount</th>\n",
       "    </tr>\n",
       "  </thead>\n",
       "  <tbody>\n",
       "    <tr>\n",
       "      <th>0</th>\n",
       "      <td>2024-09-10</td>\n",
       "      <td>37.0200</td>\n",
       "      <td>37.4500</td>\n",
       "      <td>36.9700</td>\n",
       "      <td>37.3100</td>\n",
       "      <td>37.3100</td>\n",
       "      <td>26980600</td>\n",
       "      <td>0.0000</td>\n",
       "    </tr>\n",
       "    <tr>\n",
       "      <th>1</th>\n",
       "      <td>2024-09-06</td>\n",
       "      <td>36.5700</td>\n",
       "      <td>37.7900</td>\n",
       "      <td>36.3400</td>\n",
       "      <td>36.9500</td>\n",
       "      <td>36.9500</td>\n",
       "      <td>73727200</td>\n",
       "      <td>0.0000</td>\n",
       "    </tr>\n",
       "    <tr>\n",
       "      <th>2</th>\n",
       "      <td>2024-08-30</td>\n",
       "      <td>36.5300</td>\n",
       "      <td>37.4700</td>\n",
       "      <td>36.2300</td>\n",
       "      <td>36.7000</td>\n",
       "      <td>36.7000</td>\n",
       "      <td>144788600</td>\n",
       "      <td>0.0176</td>\n",
       "    </tr>\n",
       "    <tr>\n",
       "      <th>3</th>\n",
       "      <td>2024-08-23</td>\n",
       "      <td>36.8800</td>\n",
       "      <td>37.3800</td>\n",
       "      <td>36.3000</td>\n",
       "      <td>36.4600</td>\n",
       "      <td>36.4426</td>\n",
       "      <td>95373000</td>\n",
       "      <td>0.0000</td>\n",
       "    </tr>\n",
       "    <tr>\n",
       "      <th>4</th>\n",
       "      <td>2024-08-16</td>\n",
       "      <td>34.6700</td>\n",
       "      <td>37.4900</td>\n",
       "      <td>34.4700</td>\n",
       "      <td>36.7400</td>\n",
       "      <td>36.7225</td>\n",
       "      <td>181863500</td>\n",
       "      <td>0.0000</td>\n",
       "    </tr>\n",
       "    <tr>\n",
       "      <th>...</th>\n",
       "      <td>...</td>\n",
       "      <td>...</td>\n",
       "      <td>...</td>\n",
       "      <td>...</td>\n",
       "      <td>...</td>\n",
       "      <td>...</td>\n",
       "      <td>...</td>\n",
       "      <td>...</td>\n",
       "    </tr>\n",
       "    <tr>\n",
       "      <th>1030</th>\n",
       "      <td>2005-02-11</td>\n",
       "      <td>430.0002</td>\n",
       "      <td>438.0024</td>\n",
       "      <td>426.9987</td>\n",
       "      <td>432.8991</td>\n",
       "      <td>2.9427</td>\n",
       "      <td>637399594</td>\n",
       "      <td>0.0000</td>\n",
       "    </tr>\n",
       "    <tr>\n",
       "      <th>1031</th>\n",
       "      <td>2005-02-04</td>\n",
       "      <td>384.4994</td>\n",
       "      <td>440.0015</td>\n",
       "      <td>384.4994</td>\n",
       "      <td>438.0024</td>\n",
       "      <td>2.9774</td>\n",
       "      <td>894557778</td>\n",
       "      <td>0.0024</td>\n",
       "    </tr>\n",
       "    <tr>\n",
       "      <th>1032</th>\n",
       "      <td>2005-01-28</td>\n",
       "      <td>386.9996</td>\n",
       "      <td>392.0003</td>\n",
       "      <td>375.5004</td>\n",
       "      <td>378.9974</td>\n",
       "      <td>2.5753</td>\n",
       "      <td>864360715</td>\n",
       "      <td>0.0000</td>\n",
       "    </tr>\n",
       "    <tr>\n",
       "      <th>1033</th>\n",
       "      <td>2005-01-21</td>\n",
       "      <td>397.9007</td>\n",
       "      <td>402.9920</td>\n",
       "      <td>386.0997</td>\n",
       "      <td>389.5001</td>\n",
       "      <td>2.6467</td>\n",
       "      <td>847329571</td>\n",
       "      <td>0.0000</td>\n",
       "    </tr>\n",
       "    <tr>\n",
       "      <th>1034</th>\n",
       "      <td>2005-01-14</td>\n",
       "      <td>390.0074</td>\n",
       "      <td>398.0096</td>\n",
       "      <td>383.9981</td>\n",
       "      <td>398.0096</td>\n",
       "      <td>2.7045</td>\n",
       "      <td>942510713</td>\n",
       "      <td>0.0000</td>\n",
       "    </tr>\n",
       "  </tbody>\n",
       "</table>\n",
       "<p>1035 rows × 8 columns</p>\n",
       "</div>"
      ],
      "text/plain": [
       "       timestamp      open      high       low     close  adjusted close  \\\n",
       "0     2024-09-10   37.0200   37.4500   36.9700   37.3100         37.3100   \n",
       "1     2024-09-06   36.5700   37.7900   36.3400   36.9500         36.9500   \n",
       "2     2024-08-30   36.5300   37.4700   36.2300   36.7000         36.7000   \n",
       "3     2024-08-23   36.8800   37.3800   36.3000   36.4600         36.4426   \n",
       "4     2024-08-16   34.6700   37.4900   34.4700   36.7400         36.7225   \n",
       "...          ...       ...       ...       ...       ...             ...   \n",
       "1030  2005-02-11  430.0002  438.0024  426.9987  432.8991          2.9427   \n",
       "1031  2005-02-04  384.4994  440.0015  384.4994  438.0024          2.9774   \n",
       "1032  2005-01-28  386.9996  392.0003  375.5004  378.9974          2.5753   \n",
       "1033  2005-01-21  397.9007  402.9920  386.0997  389.5001          2.6467   \n",
       "1034  2005-01-14  390.0074  398.0096  383.9981  398.0096          2.7045   \n",
       "\n",
       "         volume  dividend amount  \n",
       "0      26980600           0.0000  \n",
       "1      73727200           0.0000  \n",
       "2     144788600           0.0176  \n",
       "3      95373000           0.0000  \n",
       "4     181863500           0.0000  \n",
       "...         ...              ...  \n",
       "1030  637399594           0.0000  \n",
       "1031  894557778           0.0024  \n",
       "1032  864360715           0.0000  \n",
       "1033  847329571           0.0000  \n",
       "1034  942510713           0.0000  \n",
       "\n",
       "[1035 rows x 8 columns]"
      ]
     },
     "metadata": {},
     "output_type": "display_data"
    }
   ],
   "source": [
    "display(tabela)"
   ]
  },
  {
   "cell_type": "code",
   "execution_count": 19,
   "id": "359c10bd-51ac-4d91-87ac-c084b10e124c",
   "metadata": {},
   "outputs": [
    {
     "data": {
      "text/plain": [
       "<Axes: xlabel='timestamp'>"
      ]
     },
     "execution_count": 19,
     "metadata": {},
     "output_type": "execute_result"
    },
    {
     "data": {
      "image/png": "[encoded data removed]",
      "text/plain": [
       "<Figure size 1000x600 with 1 Axes>"
      ]
     },
     "metadata": {},
     "output_type": "display_data"
    }
   ],
   "source": [
    "tabela.plot(kind='line', x='timestamp', y='close', color='red', linestyle='dashed', linewidth=1, figsize=(10,6))"
   ]
  },
  {
   "cell_type": "code",
   "execution_count": null,
   "id": "0254ebb8-f591-470f-87f3-3411bdf73173",
   "metadata": {},
   "outputs": [],
   "source": []
  }
 ],
 "metadata": {
  "kernelspec": {
   "display_name": "Python 3 (ipykernel)",
   "language": "python",
   "name": "python3"
  },
  "language_info": {
   "codemirror_mode": {
    "name": "ipython",
    "version": 3
   },
   "file_extension": ".py",
   "mimetype": "text/x-python",
   "name": "python",
   "nbconvert_exporter": "python",
   "pygments_lexer": "ipython3",
   "version": "3.12.4"
  }
 },
 "nbformat": 4,
 "nbformat_minor": 5
}

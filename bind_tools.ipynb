{
 "cells": [
  {
   "cell_type": "code",
   "execution_count": 2,
   "id": "36834865-c90f-42d3-bdd3-9c33e70a2712",
   "metadata": {},
   "outputs": [],
   "source": [
    "# https://python.langchain.com/docs/integrations/tools/\n",
    "\n",
    "from langchain_openai import ChatOpenAI\n",
    "from langchain_groq import ChatGroq\n",
    "from langchain_anthropic import ChatAnthropic\n",
    "from langchain_google_genai import ChatGoogleGenerativeAI\n",
    "\n",
    "import os\n",
    "from dotenv import load_dotenv\n"
   ]
  },
  {
   "cell_type": "code",
   "execution_count": 3,
   "id": "b0aed158-d233-49ee-a5a8-91fd99fa2db5",
   "metadata": {},
   "outputs": [],
   "source": [
    "load_dotenv(dotenv_path='.env')\n",
    "\n",
    "# https://platform.openai.com/api-keys\n",
    "openai_api_key = os.getenv(\"OPENAI_API_KEY\")\n",
    "\n",
    "# https://console.groq.com/keys\n",
    "groq_api_key = os.getenv(\"GROQ_API_KEY\")\n",
    "\n",
    "# https://console.anthropic.com/dashboard\n",
    "anthropic_api_key = os.getenv(\"ANTHROPIC_API_KEY\")\n",
    "\n",
    "# https://aistudio.google.com/app/apikey\n",
    "gemini_api_key = os.getenv(\"GEMINI_API_KEY\")"
   ]
  },
  {
   "cell_type": "code",
   "execution_count": 4,
   "id": "dac69422-007f-44c0-8f2c-c1d315bbe1f8",
   "metadata": {},
   "outputs": [],
   "source": [
    "from langchain.tools import Tool\n",
    "from langchain.agents import initialize_agent, AgentType\n",
    "\n",
    "llm = ChatOpenAI(openai_api_key=openai_api_key, model_name=\"gpt-4o-mini\", temperature=0)"
   ]
  },
  {
   "cell_type": "code",
   "execution_count": 5,
   "id": "dcf0ae63-0669-46b1-9941-9fea6115fa61",
   "metadata": {},
   "outputs": [],
   "source": [
    "response = llm.invoke(\"quem descobriu o brasil\")"
   ]
  },
  {
   "cell_type": "code",
   "execution_count": 7,
   "id": "9bd473a2-04e7-4c5d-901f-d14f8e01c2cd",
   "metadata": {},
   "outputs": [
    {
     "name": "stdout",
     "output_type": "stream",
     "text": [
      "O Brasil foi \"descoberto\" por Pedro Álvares Cabral, um navegador português, em 22 de abril de 1500. No entanto, é importante lembrar que o território já era habitado por diversas populações indígenas muito antes da chegada dos europeus. A \"descoberta\" refere-se à chegada dos europeus e ao início do processo de colonização.\n"
     ]
    }
   ],
   "source": [
    "print(response.content)"
   ]
  },
  {
   "cell_type": "code",
   "execution_count": 9,
   "id": "0d56b882-daad-4b1c-b32e-e452842ce8da",
   "metadata": {},
   "outputs": [],
   "source": [
    "from langchain_core.tools import tool\n",
    "\n",
    "@tool\n",
    "def add(a: int, b:int) -> int:\n",
    "    \"\"\"\n",
    "    Esta função soma dois números inteiros\n",
    "    \"\"\"\n",
    "    return a + b\n",
    "\n",
    "@tool\n",
    "def multiply (a: int, b:int) -> int:\n",
    "    \"\"\"\n",
    "    Esta função função multiplica dois números inteiros\n",
    "    \"\"\"\n",
    "    return a * b"
   ]
  },
  {
   "cell_type": "code",
   "execution_count": 10,
   "id": "e3649f7b-73b8-430a-852d-657c2726b51a",
   "metadata": {},
   "outputs": [],
   "source": [
    "tools = [add, multiply]\n",
    "llm_with_tools = llm.bind_tools(tools)"
   ]
  },
  {
   "cell_type": "code",
   "execution_count": 11,
   "id": "e8d1f19b-52e8-4d93-8af2-9250fa519041",
   "metadata": {},
   "outputs": [
    {
     "name": "stdout",
     "output_type": "stream",
     "text": [
      "content='' additional_kwargs={'tool_calls': [{'id': 'call_bvlVkjNb8HS5U6MYEW2MGpkF', 'function': {'arguments': '{\"a\":2,\"b\":56}', 'name': 'add'}, 'type': 'function'}], 'refusal': None} response_metadata={'token_usage': {'completion_tokens': 17, 'prompt_tokens': 83, 'total_tokens': 100, 'completion_tokens_details': {'reasoning_tokens': 0}}, 'model_name': 'gpt-4o-mini-2024-07-18', 'system_fingerprint': 'fp_1bb46167f9', 'finish_reason': 'tool_calls', 'logprobs': None} id='run-dfac7490-b258-48f0-8285-797cdc44a4ed-0' tool_calls=[{'name': 'add', 'args': {'a': 2, 'b': 56}, 'id': 'call_bvlVkjNb8HS5U6MYEW2MGpkF', 'type': 'tool_call'}] usage_metadata={'input_tokens': 83, 'output_tokens': 17, 'total_tokens': 100}\n"
     ]
    }
   ],
   "source": [
    "ai_msg = llm_with_tools.invoke(\"Quanto é 2 + 56 ?\")\n",
    "print(ai_msg)"
   ]
  },
  {
   "cell_type": "code",
   "execution_count": 14,
   "id": "cea8aa33-66d9-46c4-b580-722dc1dbbe0b",
   "metadata": {},
   "outputs": [
    {
     "data": {
      "text/plain": [
       "'add'"
      ]
     },
     "execution_count": 14,
     "metadata": {},
     "output_type": "execute_result"
    }
   ],
   "source": [
    "ai_msg.tool_calls[0]['name']"
   ]
  },
  {
   "cell_type": "code",
   "execution_count": 16,
   "id": "f275f149-f6f8-4792-aef8-7801b050ea54",
   "metadata": {},
   "outputs": [
    {
     "data": {
      "text/plain": [
       "{'a': 2, 'b': 56}"
      ]
     },
     "execution_count": 16,
     "metadata": {},
     "output_type": "execute_result"
    }
   ],
   "source": [
    "ai_msg.tool_calls[0]['args']"
   ]
  },
  {
   "cell_type": "code",
   "execution_count": 17,
   "id": "6e4e3406-4114-41f7-bd24-64bef1067cc1",
   "metadata": {},
   "outputs": [
    {
     "name": "stdout",
     "output_type": "stream",
     "text": [
      "content='' additional_kwargs={'tool_calls': [{'id': 'call_bReKtAQitdHuWVLiouCJIzGY', 'function': {'arguments': '{\"a\":2,\"b\":56}', 'name': 'multiply'}, 'type': 'function'}], 'refusal': None} response_metadata={'token_usage': {'completion_tokens': 17, 'prompt_tokens': 83, 'total_tokens': 100, 'completion_tokens_details': {'reasoning_tokens': 0}}, 'model_name': 'gpt-4o-mini-2024-07-18', 'system_fingerprint': 'fp_1bb46167f9', 'finish_reason': 'tool_calls', 'logprobs': None} id='run-14c4f974-4c73-4ec5-ace0-3c32dfe09537-0' tool_calls=[{'name': 'multiply', 'args': {'a': 2, 'b': 56}, 'id': 'call_bReKtAQitdHuWVLiouCJIzGY', 'type': 'tool_call'}] usage_metadata={'input_tokens': 83, 'output_tokens': 17, 'total_tokens': 100}\n"
     ]
    }
   ],
   "source": [
    "ai_msg = llm_with_tools.invoke(\"Quanto é 2 * 56 ?\")\n",
    "print(ai_msg)"
   ]
  },
  {
   "cell_type": "code",
   "execution_count": 18,
   "id": "889aef3b-eef6-4ce3-909a-2c0417e6005f",
   "metadata": {},
   "outputs": [
    {
     "data": {
      "text/plain": [
       "'multiply'"
      ]
     },
     "execution_count": 18,
     "metadata": {},
     "output_type": "execute_result"
    }
   ],
   "source": [
    "ai_msg.tool_calls[0]['name']"
   ]
  },
  {
   "cell_type": "code",
   "execution_count": 19,
   "id": "da2a5aee-2243-4825-a9eb-035d699d3aa2",
   "metadata": {},
   "outputs": [
    {
     "name": "stdout",
     "output_type": "stream",
     "text": [
      "content='A capital do Brasil é Brasília.' additional_kwargs={'refusal': None} response_metadata={'token_usage': {'completion_tokens': 8, 'prompt_tokens': 81, 'total_tokens': 89, 'completion_tokens_details': {'reasoning_tokens': 0}}, 'model_name': 'gpt-4o-mini-2024-07-18', 'system_fingerprint': 'fp_1bb46167f9', 'finish_reason': 'stop', 'logprobs': None} id='run-b8d6f27f-4cc3-4e04-aa44-963cfe0fb690-0' usage_metadata={'input_tokens': 81, 'output_tokens': 8, 'total_tokens': 89}\n"
     ]
    }
   ],
   "source": [
    "ai_msg = llm_with_tools.invoke(\"Qual a capital do Brasil ?\")\n",
    "print(ai_msg)"
   ]
  },
  {
   "cell_type": "code",
   "execution_count": 21,
   "id": "f07895b4-8c06-43e7-8aad-c49f14265827",
   "metadata": {},
   "outputs": [
    {
     "name": "stdout",
     "output_type": "stream",
     "text": [
      "content='' additional_kwargs={'tool_calls': [{'id': 'call_Pv0z0GSZlsQqoGnJ3FVnM28B', 'function': {'arguments': '{\"a\": 2, \"b\": 56}', 'name': 'multiply'}, 'type': 'function'}, {'id': 'call_TWRcE5niaDWPgg65m5Opd9fU', 'function': {'arguments': '{\"a\": 11, \"b\": 33}', 'name': 'add'}, 'type': 'function'}], 'refusal': None} response_metadata={'token_usage': {'completion_tokens': 50, 'prompt_tokens': 91, 'total_tokens': 141, 'completion_tokens_details': {'reasoning_tokens': 0}}, 'model_name': 'gpt-4o-mini-2024-07-18', 'system_fingerprint': 'fp_1bb46167f9', 'finish_reason': 'tool_calls', 'logprobs': None} id='run-a21b661b-60b5-41cd-9fc1-971c3ca1a7aa-0' tool_calls=[{'name': 'multiply', 'args': {'a': 2, 'b': 56}, 'id': 'call_Pv0z0GSZlsQqoGnJ3FVnM28B', 'type': 'tool_call'}, {'name': 'add', 'args': {'a': 11, 'b': 33}, 'id': 'call_TWRcE5niaDWPgg65m5Opd9fU', 'type': 'tool_call'}] usage_metadata={'input_tokens': 91, 'output_tokens': 50, 'total_tokens': 141}\n"
     ]
    }
   ],
   "source": [
    "ai_msg = llm_with_tools.invoke(\"Quanto é 2 * 56 ? Quanto é 11 + 33 ?\")\n",
    "print(ai_msg)"
   ]
  },
  {
   "cell_type": "code",
   "execution_count": 22,
   "id": "d86399e0-42f6-480d-ab53-f0f468297ea0",
   "metadata": {},
   "outputs": [
    {
     "data": {
      "text/plain": [
       "'multiply'"
      ]
     },
     "execution_count": 22,
     "metadata": {},
     "output_type": "execute_result"
    }
   ],
   "source": [
    "ai_msg.tool_calls[0]['name']"
   ]
  },
  {
   "cell_type": "code",
   "execution_count": 23,
   "id": "b3b14411-9a9e-4aaf-9110-ee8ed9eb1560",
   "metadata": {},
   "outputs": [
    {
     "data": {
      "text/plain": [
       "'add'"
      ]
     },
     "execution_count": 23,
     "metadata": {},
     "output_type": "execute_result"
    }
   ],
   "source": [
    "ai_msg.tool_calls[1]['name']"
   ]
  },
  {
   "cell_type": "code",
   "execution_count": 24,
   "id": "4220639c-7948-47c1-9346-6697de336459",
   "metadata": {},
   "outputs": [
    {
     "data": {
      "text/plain": [
       "{'a': 2, 'b': 56}"
      ]
     },
     "execution_count": 24,
     "metadata": {},
     "output_type": "execute_result"
    }
   ],
   "source": [
    "ai_msg.tool_calls[0]['args']"
   ]
  },
  {
   "cell_type": "code",
   "execution_count": 25,
   "id": "6d2593cd-ff56-412e-a04b-2326bccd1857",
   "metadata": {},
   "outputs": [
    {
     "data": {
      "text/plain": [
       "112"
      ]
     },
     "execution_count": 25,
     "metadata": {},
     "output_type": "execute_result"
    }
   ],
   "source": [
    "multiply.invoke(ai_msg.tool_calls[0]['args'])"
   ]
  },
  {
   "cell_type": "code",
   "execution_count": 26,
   "id": "464a77e6-7d0a-492e-a495-51a525d1165d",
   "metadata": {},
   "outputs": [],
   "source": [
    "selected_tool_dic = {\n",
    "    \"add\": add,\n",
    "    \"multiply\": multiply\n",
    "}"
   ]
  },
  {
   "cell_type": "code",
   "execution_count": 31,
   "id": "9b6153b0-d220-450a-8321-957d4e5ace7c",
   "metadata": {},
   "outputs": [
    {
     "name": "stdout",
     "output_type": "stream",
     "text": [
      "multiply\n",
      "{'a': 2, 'b': 56}\n",
      "112\n",
      "add\n",
      "{'a': 11, 'b': 33}\n",
      "44\n"
     ]
    }
   ],
   "source": [
    "from langchain_core.messages import ToolMessage\n",
    "\n",
    "for tool_call in ai_msg.tool_calls:\n",
    "    tool_name = tool_call[\"name\"].lower()\n",
    "    print(tool_name)\n",
    "    print(tool_call['args'])\n",
    "    selected_tool = selected_tool_dic[tool_name]\n",
    "    tool_output = selected_tool.invoke(tool_call['args'])\n",
    "    print(tool_output)\n",
    "    "
   ]
  },
  {
   "cell_type": "code",
   "execution_count": 51,
   "id": "a953995a-17ee-41cc-b04d-7ccb2af38898",
   "metadata": {},
   "outputs": [],
   "source": [
    "from langchain.tools import Tool\n",
    "from langchain.prompts import PromptTemplate\n",
    "\n",
    "\n",
    "def find_product(product_name: str):\n",
    "    \"Busca um produto na base de dados\"\n",
    "    return f\"produto {product_name} encontrado\"\n",
    "\n",
    "tool = Tool(\n",
    "    name=\"FindProduct\",\n",
    "    func= find_product,\n",
    "    description=\"busca de um produto na base de dados\"\n",
    ")\n",
    "\n",
    "\n",
    "def sum_numbers(x: int, y:int):\n",
    "    \"\"\" Soma dois números inteiros \"\"\"\n",
    "    return x + y\n",
    "\n",
    "sum_tool = Tool(\n",
    "    name=\"SumNumbers\",\n",
    "    func= sum_numbers,\n",
    "    description=\"soma dois números\"\n",
    ")\n",
    "\n",
    "prompt = PromptTemplate(input_variables=[\"product_name,x,y\"], template=\"encontre detalhes de {product_name} ou some {x} e {y}\")\n",
    "chain = prompt | llm\n",
    "chain_with_tool = llm.bind_tools([tool,sum_tool])"
   ]
  },
  {
   "cell_type": "code",
   "execution_count": 52,
   "id": "46d44b20-4a01-41fe-9e03-df6c50a39682",
   "metadata": {},
   "outputs": [
    {
     "name": "stdout",
     "output_type": "stream",
     "text": [
      "[{'name': 'FindProduct', 'args': {'__arg1': 'laptop'}, 'id': 'call_TFPgXrdVoLvzA9H466MK6FXn', 'type': 'tool_call'}]\n"
     ]
    }
   ],
   "source": [
    "response = chain_with_tool.invoke(\"encontre um laptop no banco de dados\")\n",
    "saida = response.tool_calls\n",
    "print(saida)"
   ]
  },
  {
   "cell_type": "code",
   "execution_count": 53,
   "id": "98f237b4-af40-47d1-bd9f-19e558512765",
   "metadata": {},
   "outputs": [
    {
     "name": "stdout",
     "output_type": "stream",
     "text": [
      "laptop\n",
      "produto laptop encontrado\n"
     ]
    }
   ],
   "source": [
    "function_type = saida[0]['name']\n",
    "if function_type == 'FindProduct':\n",
    "    product_name = saida[0]['args']['__arg1']\n",
    "    print(product_name)\n",
    "    resposta = find_product(product_name)\n",
    "    print(resposta)"
   ]
  },
  {
   "cell_type": "code",
   "execution_count": 54,
   "id": "8e5bd16e-4b5a-431c-b096-380040c0c3ea",
   "metadata": {},
   "outputs": [
    {
     "name": "stdout",
     "output_type": "stream",
     "text": [
      "[{'name': 'SumNumbers', 'args': {'__arg1': '10,20'}, 'id': 'call_gldbcBWPfpGS1GEiV3E2epfM', 'type': 'tool_call'}]\n"
     ]
    }
   ],
   "source": [
    "response = chain_with_tool.invoke(\"qual o valor da soma de 10 com 20\")\n",
    "saida = response.tool_calls\n",
    "print(saida)"
   ]
  },
  {
   "cell_type": "code",
   "execution_count": 43,
   "id": "51c80568-d8c1-491a-bb61-9576e8ea1efc",
   "metadata": {},
   "outputs": [
    {
     "name": "stdout",
     "output_type": "stream",
     "text": [
      "10,20\n",
      "30\n"
     ]
    }
   ],
   "source": [
    "function_type = saida[0]['name']\n",
    "if function_type == 'SumNumbers':\n",
    "    values = saida[0]['args']['__arg1']\n",
    "    print(values)\n",
    "    first_value = int(values.split(\",\")[0])\n",
    "    second_value = int(values.split(\",\")[1])\n",
    "    resposta = sum_numbers(first_value, second_value)\n",
    "    print(resposta)"
   ]
  },
  {
   "cell_type": "code",
   "execution_count": 44,
   "id": "325280b0-7088-40dd-8761-f73e3f40b05e",
   "metadata": {},
   "outputs": [
    {
     "name": "stdout",
     "output_type": "stream",
     "text": [
      "[]\n"
     ]
    }
   ],
   "source": [
    "response = chain_with_tool.invoke(\"qual a capital do Brasil ?\")\n",
    "saida = response.tool_calls\n",
    "print(saida)"
   ]
  },
  {
   "cell_type": "code",
   "execution_count": 47,
   "id": "351770ad-3670-4f2f-93d2-82daa309a4dd",
   "metadata": {},
   "outputs": [
    {
     "data": {
      "text/plain": [
       "'A capital do Brasil é Brasília.'"
      ]
     },
     "execution_count": 47,
     "metadata": {},
     "output_type": "execute_result"
    }
   ],
   "source": [
    "response.content"
   ]
  },
  {
   "cell_type": "code",
   "execution_count": null,
   "id": "a98a30e7-6097-4485-8035-9a23bdc47e52",
   "metadata": {},
   "outputs": [],
   "source": []
  }
 ],
 "metadata": {
  "kernelspec": {
   "display_name": "Python 3 (ipykernel)",
   "language": "python",
   "name": "python3"
  },
  "language_info": {
   "codemirror_mode": {
    "name": "ipython",
    "version": 3
   },
   "file_extension": ".py",
   "mimetype": "text/x-python",
   "name": "python",
   "nbconvert_exporter": "python",
   "pygments_lexer": "ipython3",
   "version": "3.12.4"
  }
 },
 "nbformat": 4,
 "nbformat_minor": 5
}

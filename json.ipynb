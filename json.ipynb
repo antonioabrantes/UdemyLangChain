{
 "cells": [
  {
   "cell_type": "code",
   "execution_count": 1,
   "id": "ad679b66-c726-472d-9b36-9d9c55e6cfa7",
   "metadata": {},
   "outputs": [],
   "source": [
    "import requests"
   ]
  },
  {
   "cell_type": "code",
   "execution_count": 2,
   "id": "94064d0f-dab9-4702-a047-4ac940c77416",
   "metadata": {},
   "outputs": [],
   "source": [
    "import json"
   ]
  },
  {
   "cell_type": "code",
   "execution_count": 5,
   "id": "2bb8fc9b-25e0-4876-8bcd-84ec0e6df0a7",
   "metadata": {},
   "outputs": [
    {
     "name": "stdout",
     "output_type": "stream",
     "text": [
      "[{'code': 'USD', 'codein': 'BRL', 'name': 'Dólar Americano/Real Brasileiro', 'high': '5.5749', 'low': '5.5679', 'varBid': '-0.0057', 'pctChange': '-0.1', 'bid': '5.5679', 'ask': '5.5689', 'timestamp': '1725571793', 'create_date': '2024-09-05 18:29:53'}, {'high': '5.5749', 'low': '5.5679', 'varBid': '-0.003', 'pctChange': '-0.05', 'bid': '5.5709', 'ask': '5.5714', 'timestamp': '1725571739'}, {'high': '5.6446', 'low': '5.6404', 'varBid': '0.0045', 'pctChange': '0.08', 'bid': '5.6439', 'ask': '5.6449', 'timestamp': '1725485379'}, {'high': '5.6494', 'low': '5.6447', 'varBid': '0.004', 'pctChange': '0.07', 'bid': '5.6489', 'ask': '5.6499', 'timestamp': '1725398941'}, {'high': '5.6176', 'low': '5.6141', 'varBid': '-0.0011', 'pctChange': '-0.02', 'bid': '5.6162', 'ask': '5.617', 'timestamp': '1725321520'}, {'high': '5.691', 'low': '5.5528', 'varBid': '-0.0147', 'pctChange': '-0.26', 'bid': '5.6111', 'ask': '5.6126', 'timestamp': '1725051595'}, {'high': '5.691', 'low': '5.5528', 'varBid': '-0.0185', 'pctChange': '-0.33', 'bid': '5.6071', 'ask': '5.6091', 'timestamp': '1725051538'}, {'high': '5.6326', 'low': '5.6269', 'varBid': '0.0023', 'pctChange': '0.04', 'bid': '5.6286', 'ask': '5.6291', 'timestamp': '1724967000'}, {'high': '5.5696', 'low': '5.5629', 'varBid': '-0.0012', 'pctChange': '-0.02', 'bid': '5.5627', 'ask': '5.5637', 'timestamp': '1724882570'}, {'high': '5.5141', 'low': '5.5059', 'varBid': '0.0012', 'pctChange': '0.02', 'bid': '5.5091', 'ask': '5.5098', 'timestamp': '1724794198'}, {'high': '5.5003', 'low': '5.4939', 'varBid': '0.0023', 'pctChange': '0.04', 'bid': '5.4968', 'ask': '5.4978', 'timestamp': '1724707793'}, {'high': '5.6061', 'low': '5.4738', 'varBid': '0.0006', 'pctChange': '0.01', 'bid': '5.4857', 'ask': '5.488', 'timestamp': '1724619600'}, {'high': '5.6061', 'low': '5.4716', 'varBid': '-0.0963', 'pctChange': '-1.72', 'bid': '5.4859', 'ask': '5.4884', 'timestamp': '1724446796'}, {'high': '5.6061', 'low': '5.4716', 'varBid': '-0.0971', 'pctChange': '-1.74', 'bid': '5.4858', 'ask': '5.4868', 'timestamp': '1724446740'}, {'high': '5.5936', 'low': '5.5844', 'varBid': '0.0082', 'pctChange': '0.15', 'bid': '5.5911', 'ask': '5.5921', 'timestamp': '1724361875'}]\n"
     ]
    }
   ],
   "source": [
    "# https://docs.awesomeapi.com.br/api-de-moedas\n",
    "# https://economia.awesomeapi.com.br/json/daily/USD-BRL/15\n",
    "cotacoes = requests.get(\"https://economia.awesomeapi.com.br/json/daily/USD-BRL/15\")\n",
    "print(cotacoes.json())\n"
   ]
  },
  {
   "cell_type": "code",
   "execution_count": 6,
   "id": "dc5e6ce0-70d3-4193-a05d-a6610bcbe568",
   "metadata": {},
   "outputs": [
    {
     "name": "stdout",
     "output_type": "stream",
     "text": [
      "Cotação =  5.5679\n"
     ]
    }
   ],
   "source": [
    "dados = cotacoes.json()\n",
    "cotacao = dados[0]['bid']\n",
    "print(\"Cotação = \",cotacao)"
   ]
  },
  {
   "cell_type": "code",
   "execution_count": null,
   "id": "37928d45-d261-480e-bbf9-24aaeba3ffe8",
   "metadata": {},
   "outputs": [],
   "source": []
  }
 ],
 "metadata": {
  "kernelspec": {
   "display_name": "Python 3 (ipykernel)",
   "language": "python",
   "name": "python3"
  },
  "language_info": {
   "codemirror_mode": {
    "name": "ipython",
    "version": 3
   },
   "file_extension": ".py",
   "mimetype": "text/x-python",
   "name": "python",
   "nbconvert_exporter": "python",
   "pygments_lexer": "ipython3",
   "version": "3.12.4"
  }
 },
 "nbformat": 4,
 "nbformat_minor": 5
}

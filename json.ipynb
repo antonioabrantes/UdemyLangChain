{
 "cells": [
  {
   "cell_type": "code",
   "execution_count": 1,
   "id": "ad679b66-c726-472d-9b36-9d9c55e6cfa7",
   "metadata": {},
   "outputs": [],
   "source": [
    "import requests"
   ]
  },
  {
   "cell_type": "code",
   "execution_count": 2,
   "id": "94064d0f-dab9-4702-a047-4ac940c77416",
   "metadata": {},
   "outputs": [],
   "source": [
    "import json"
   ]
  },
  {
   "cell_type": "code",
   "execution_count": 4,
   "id": "2bb8fc9b-25e0-4876-8bcd-84ec0e6df0a7",
   "metadata": {},
   "outputs": [
    {
     "name": "stdout",
     "output_type": "stream",
     "text": [
      "[{'code': 'USD', 'codein': 'BRL', 'name': 'Dólar Americano/Real Brasileiro', 'high': '5.5771', 'low': '5.51845', 'varBid': '-0.0365', 'pctChange': '-0.655034', 'bid': '5.5357', 'ask': '5.5387', 'timestamp': '1749678513', 'create_date': '2025-06-11 18:48:33'}, {'high': '5.5761', 'low': '5.53617', 'varBid': '0.02249', 'pctChange': '0.40525', 'bid': '5.5722', 'ask': '5.5752', 'timestamp': '1749599960'}, {'high': '5.5971', 'low': '5.54673', 'varBid': '-0.00599', 'pctChange': '-0.107814', 'bid': '5.54971', 'ask': '5.56382', 'timestamp': '1749513561'}, {'high': '5.564', 'low': '5.5544', 'varBid': '0.001299', 'pctChange': '0.023387', 'bid': '5.5557', 'ask': '5.56982', 'timestamp': '1749427160'}, {'high': '5.5544', 'low': '5.55064', 'varBid': '0.00376', 'pctChange': '0.067738', 'bid': '5.5544', 'ask': '5.5644', 'timestamp': '1749269210'}, {'high': '5.6166', 'low': '5.54907', 'varBid': '-0.032563', 'pctChange': '-0.583231', 'bid': '5.55064', 'ask': '5.56473', 'timestamp': '1749243831'}, {'high': '5.6411', 'low': '5.57554', 'varBid': '-0.0477', 'pctChange': '-0.84711', 'bid': '5.5832', 'ask': '5.5862', 'timestamp': '1749167906'}, {'high': '5.6582', 'low': '5.60104', 'varBid': '-0.00367', 'pctChange': '-0.065136', 'bid': '5.6309', 'ask': '5.6339', 'timestamp': '1749081531'}, {'high': '5.7114', 'low': '5.61731', 'varBid': '-0.031918', 'pctChange': '-0.563278', 'bid': '5.63457', 'ask': '5.64907', 'timestamp': '1748995129'}, {'high': '5.7882', 'low': '5.65874', 'varBid': '-0.05156', 'pctChange': '-0.901706', 'bid': '5.66649', 'ask': '5.68124', 'timestamp': '1748908470'}, {'high': '5.7246', 'low': '5.71454', 'varBid': '-0.000547', 'pctChange': '-0.009562', 'bid': '5.71805', 'ask': '5.73294', 'timestamp': '1748822055'}, {'high': '5.7384', 'low': '5.64234', 'varBid': '0.0534', 'pctChange': '0.942593', 'bid': '5.7186', 'ask': '5.7286', 'timestamp': '1748640524'}, {'high': '5.7004', 'low': '5.63667', 'varBid': '-0.01702', 'pctChange': '-0.299531', 'bid': '5.6652', 'ask': '5.6682', 'timestamp': '1748563116'}, {'high': '5.7157', 'low': '5.62834', 'varBid': '0.046024', 'pctChange': '0.816579', 'bid': '5.68222', 'ask': '5.69677', 'timestamp': '1748476716'}, {'high': '5.6867', 'low': '5.62819', 'varBid': '-0.0305', 'pctChange': '-0.53823', 'bid': '5.6362', 'ask': '5.6392', 'timestamp': '1748390361'}]\n"
     ]
    },
    {
     "name": "stderr",
     "output_type": "stream",
     "text": [
      "D:\\Users\\abrantes\\InstallAnaconda\\envs\\academia3_13\\Lib\\site-packages\\urllib3\\connectionpool.py:1097: InsecureRequestWarning: Unverified HTTPS request is being made to host 'economia.awesomeapi.com.br'. Adding certificate verification is strongly advised. See: https://urllib3.readthedocs.io/en/latest/advanced-usage.html#tls-warnings\n",
      "  warnings.warn(\n"
     ]
    }
   ],
   "source": [
    "# https://docs.awesomeapi.com.br/api-de-moedas\n",
    "# https://economia.awesomeapi.com.br/json/daily/USD-BRL/15\n",
    "cotacoes = requests.get(\"https://economia.awesomeapi.com.br/json/daily/USD-BRL/15\", verify=False)\n",
    "print(cotacoes.json())\n"
   ]
  },
  {
   "cell_type": "code",
   "execution_count": 5,
   "id": "dc5e6ce0-70d3-4193-a05d-a6610bcbe568",
   "metadata": {},
   "outputs": [
    {
     "name": "stdout",
     "output_type": "stream",
     "text": [
      "Cotação =  5.5357\n"
     ]
    }
   ],
   "source": [
    "dados = cotacoes.json()\n",
    "cotacao = dados[0]['bid']\n",
    "print(\"Cotação = \",cotacao)"
   ]
  },
  {
   "cell_type": "code",
   "execution_count": null,
   "id": "37928d45-d261-480e-bbf9-24aaeba3ffe8",
   "metadata": {},
   "outputs": [],
   "source": []
  }
 ],
 "metadata": {
  "kernelspec": {
   "display_name": "Python 3 (ipykernel)",
   "language": "python",
   "name": "python3"
  },
  "language_info": {
   "codemirror_mode": {
    "name": "ipython",
    "version": 3
   },
   "file_extension": ".py",
   "mimetype": "text/x-python",
   "name": "python",
   "nbconvert_exporter": "python",
   "pygments_lexer": "ipython3",
   "version": "3.13.4"
  }
 },
 "nbformat": 4,
 "nbformat_minor": 5
}

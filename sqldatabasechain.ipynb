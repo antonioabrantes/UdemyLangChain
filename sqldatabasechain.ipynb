{
 "cells": [
  {
   "cell_type": "code",
   "execution_count": 1,
   "id": "0aafb558-5b7b-4946-aaf5-5f7faa03bf1b",
   "metadata": {},
   "outputs": [
    {
     "name": "stderr",
     "output_type": "stream",
     "text": [
      "C:\\Users\\otimi\\anaconda3\\envs\\python\\Lib\\site-packages\\tqdm\\auto.py:21: TqdmWarning: IProgress not found. Please update jupyter and ipywidgets. See https://ipywidgets.readthedocs.io/en/stable/user_install.html\n",
      "  from .autonotebook import tqdm as notebook_tqdm\n"
     ]
    }
   ],
   "source": [
    "from dotenv import load_dotenv\n",
    "import os\n",
    "\n",
    "from langchain_openai import ChatOpenAI\n",
    "from langchain_groq import ChatGroq\n",
    "from langchain_anthropic import ChatAnthropic\n",
    "from langchain_google_genai import ChatGoogleGenerativeAI"
   ]
  },
  {
   "cell_type": "code",
   "execution_count": 2,
   "id": "9cda6b5e-986d-4627-9038-388a9db78733",
   "metadata": {},
   "outputs": [],
   "source": [
    "load_dotenv(dotenv_path='.env')\n",
    "\n",
    "# https://platform.openai.com/api-keys\n",
    "openai_api_key = os.getenv(\"OPENAI_API_KEY\")\n",
    "\n",
    "# https://console.groq.com/keys\n",
    "groq_api_key = os.getenv(\"GROQ_API_KEY\")\n",
    "\n",
    "# https://console.anthropic.com/dashboard\n",
    "anthropic_api_key = os.getenv(\"ANTHROPIC_API_KEY\")\n",
    "\n",
    "# https://aistudio.google.com/app/apikey\n",
    "gemini_api_key = os.getenv(\"GEMINI_API_KEY\")"
   ]
  },
  {
   "cell_type": "code",
   "execution_count": 3,
   "id": "8d882d7d-3308-4d22-ae52-496497979d03",
   "metadata": {},
   "outputs": [
    {
     "name": "stdout",
     "output_type": "stream",
     "text": [
      "A capital do Brasil é Brasília!\n"
     ]
    }
   ],
   "source": [
    "#llm = ChatOpenAI(temperature=0.0, model=\"gpt-4o-mini\", max_tokens=256, openai_api_key=openai_api_key)\n",
    "llm = ChatGroq(temperature=0.0, model=\"llama3-8b-8192\", max_tokens=256)\n",
    "user_question= \"Qual a capital do Brasil ?\"\n",
    "messages = [{\"role\": \"user\", \"content\": user_question}]\n",
    "response = llm.invoke(messages)\n",
    "print(response.content)"
   ]
  },
  {
   "cell_type": "code",
   "execution_count": 4,
   "id": "23a40e4a-a958-4233-9722-5b56f261640d",
   "metadata": {},
   "outputs": [
    {
     "name": "stdout",
     "output_type": "stream",
     "text": [
      "\n",
      "CREATE TABLE album (\n",
      "\talbum_id INTEGER NOT NULL, \n",
      "\ttitle NVARCHAR(160) NOT NULL, \n",
      "\tartist_id INTEGER NOT NULL, \n",
      "\tPRIMARY KEY (album_id), \n",
      "\tFOREIGN KEY(artist_id) REFERENCES artist (artist_id)\n",
      ")\n",
      "\n",
      "/*\n",
      "3 rows from album table:\n",
      "album_id\ttitle\tartist_id\n",
      "1\tFor Those About To Rock We Salute You\t1\n",
      "2\tBalls to the Wall\t2\n",
      "3\tRestless and Wild\t2\n",
      "*/\n",
      "\n",
      "\n",
      "CREATE TABLE artist (\n",
      "\tartist_id INTEGER NOT NULL, \n",
      "\tname NVARCHAR(120), \n",
      "\tPRIMARY KEY (artist_id)\n",
      ")\n",
      "\n",
      "/*\n",
      "3 rows from artist table:\n",
      "artist_id\tname\n",
      "1\tAC/DC\n",
      "2\tAccept\n",
      "3\tAerosmith\n",
      "*/\n",
      "\n",
      "\n",
      "CREATE TABLE customer (\n",
      "\tcustomer_id INTEGER NOT NULL, \n",
      "\tfirst_name NVARCHAR(40) NOT NULL, \n",
      "\tlast_name NVARCHAR(20) NOT NULL, \n",
      "\tcompany NVARCHAR(80), \n",
      "\taddress NVARCHAR(70), \n",
      "\tcity NVARCHAR(40), \n",
      "\tstate NVARCHAR(40), \n",
      "\tcountry NVARCHAR(40), \n",
      "\tpostal_code NVARCHAR(10), \n",
      "\tphone NVARCHAR(24), \n",
      "\tfax NVARCHAR(24), \n",
      "\temail NVARCHAR(60) NOT NULL, \n",
      "\tsupport_rep_id INTEGER, \n",
      "\tPRIMARY KEY (customer_id), \n",
      "\tFOREIGN KEY(support_rep_id) REFERENCES employee (employee_id)\n",
      ")\n",
      "\n",
      "/*\n",
      "3 rows from customer table:\n",
      "customer_id\tfirst_name\tlast_name\tcompany\taddress\tcity\tstate\tcountry\tpostal_code\tphone\tfax\temail\tsupport_rep_id\n",
      "1\tLuís\tGonçalves\tEmbraer - Empresa Brasileira de Aeronáutica S.A.\tAv. Brigadeiro Faria Lima, 2170\tSão José dos Campos\tSP\tBrazil\t12227-000\t+55 (12) 3923-5555\t+55 (12) 3923-5566\tluisg@embraer.com.br\t3\n",
      "2\tLeonie\tKöhler\tNone\tTheodor-Heuss-Straße 34\tStuttgart\tNone\tGermany\t70174\t+49 0711 2842222\tNone\tleonekohler@surfeu.de\t5\n",
      "3\tFrançois\tTremblay\tNone\t1498 rue Bélanger\tMontréal\tQC\tCanada\tH2G 1A7\t+1 (514) 721-4711\tNone\tftremblay@gmail.com\t3\n",
      "*/\n",
      "\n",
      "\n",
      "CREATE TABLE employee (\n",
      "\temployee_id INTEGER NOT NULL, \n",
      "\tlast_name NVARCHAR(20) NOT NULL, \n",
      "\tfirst_name NVARCHAR(20) NOT NULL, \n",
      "\ttitle NVARCHAR(30), \n",
      "\treports_to INTEGER, \n",
      "\tbirthdate DATETIME, \n",
      "\thire_date DATETIME, \n",
      "\taddress NVARCHAR(70), \n",
      "\tcity NVARCHAR(40), \n",
      "\tstate NVARCHAR(40), \n",
      "\tcountry NVARCHAR(40), \n",
      "\tpostal_code NVARCHAR(10), \n",
      "\tphone NVARCHAR(24), \n",
      "\tfax NVARCHAR(24), \n",
      "\temail NVARCHAR(60), \n",
      "\tPRIMARY KEY (employee_id), \n",
      "\tFOREIGN KEY(reports_to) REFERENCES employee (employee_id)\n",
      ")\n",
      "\n",
      "/*\n",
      "3 rows from employee table:\n",
      "employee_id\tlast_name\tfirst_name\ttitle\treports_to\tbirthdate\thire_date\taddress\tcity\tstate\tcountry\tpostal_code\tphone\tfax\temail\n",
      "1\tAdams\tAndrew\tGeneral Manager\tNone\t1962-02-18 00:00:00\t2016-08-14 00:00:00\t11120 Jasper Ave NW\tEdmonton\tAB\tCanada\tT5K 2N1\t+1 (780) 428-9482\t+1 (780) 428-3457\tandrew@chinookcorp.com\n",
      "2\tEdwards\tNancy\tSales Manager\t1\t1958-12-08 00:00:00\t2016-05-01 00:00:00\t825 8 Ave SW\tCalgary\tAB\tCanada\tT2P 2T3\t+1 (403) 262-3443\t+1 (403) 262-3322\tnancy@chinookcorp.com\n",
      "3\tPeacock\tJane\tSales Support Agent\t2\t1973-08-29 00:00:00\t2017-04-01 00:00:00\t1111 6 Ave SW\tCalgary\tAB\tCanada\tT2P 5M5\t+1 (403) 262-3443\t+1 (403) 262-6712\tjane@chinookcorp.com\n",
      "*/\n",
      "\n",
      "\n",
      "CREATE TABLE genre (\n",
      "\tgenre_id INTEGER NOT NULL, \n",
      "\tname NVARCHAR(120), \n",
      "\tPRIMARY KEY (genre_id)\n",
      ")\n",
      "\n",
      "/*\n",
      "3 rows from genre table:\n",
      "genre_id\tname\n",
      "1\tRock\n",
      "2\tJazz\n",
      "3\tMetal\n",
      "*/\n",
      "\n",
      "\n",
      "CREATE TABLE invoice (\n",
      "\tinvoice_id INTEGER NOT NULL, \n",
      "\tcustomer_id INTEGER NOT NULL, \n",
      "\tinvoice_date DATETIME NOT NULL, \n",
      "\tbilling_address NVARCHAR(70), \n",
      "\tbilling_city NVARCHAR(40), \n",
      "\tbilling_state NVARCHAR(40), \n",
      "\tbilling_country NVARCHAR(40), \n",
      "\tbilling_postal_code NVARCHAR(10), \n",
      "\ttotal NUMERIC(10, 2) NOT NULL, \n",
      "\tPRIMARY KEY (invoice_id), \n",
      "\tFOREIGN KEY(customer_id) REFERENCES customer (customer_id)\n",
      ")\n",
      "\n",
      "/*\n",
      "3 rows from invoice table:\n",
      "invoice_id\tcustomer_id\tinvoice_date\tbilling_address\tbilling_city\tbilling_state\tbilling_country\tbilling_postal_code\ttotal\n",
      "1\t18\t2017-01-03 00:00:00\t627 Broadway\tNew York\tNY\tUSA\t10012-2612\t15.84\n",
      "2\t30\t2017-01-03 00:00:00\t230 Elgin Street\tOttawa\tON\tCanada\tK2P 1L7\t9.90\n",
      "3\t40\t2017-01-05 00:00:00\t8, Rue Hanovre\tParis\tNone\tFrance\t75002\t1.98\n",
      "*/\n",
      "\n",
      "\n",
      "CREATE TABLE invoice_line (\n",
      "\tinvoice_line_id INTEGER NOT NULL, \n",
      "\tinvoice_id INTEGER NOT NULL, \n",
      "\ttrack_id INTEGER NOT NULL, \n",
      "\tunit_price NUMERIC(10, 2) NOT NULL, \n",
      "\tquantity INTEGER NOT NULL, \n",
      "\tPRIMARY KEY (invoice_line_id), \n",
      "\tFOREIGN KEY(track_id) REFERENCES track (track_id), \n",
      "\tFOREIGN KEY(invoice_id) REFERENCES invoice (invoice_id)\n",
      ")\n",
      "\n",
      "/*\n",
      "3 rows from invoice_line table:\n",
      "invoice_line_id\tinvoice_id\ttrack_id\tunit_price\tquantity\n",
      "1\t1\t1158\t0.99\t1\n",
      "2\t1\t1159\t0.99\t1\n",
      "3\t1\t1160\t0.99\t1\n",
      "*/\n",
      "\n",
      "\n",
      "CREATE TABLE media_type (\n",
      "\tmedia_type_id INTEGER NOT NULL, \n",
      "\tname NVARCHAR(120), \n",
      "\tPRIMARY KEY (media_type_id)\n",
      ")\n",
      "\n",
      "/*\n",
      "3 rows from media_type table:\n",
      "media_type_id\tname\n",
      "1\tMPEG audio file\n",
      "2\tProtected AAC audio file\n",
      "3\tProtected MPEG-4 video file\n",
      "*/\n",
      "\n",
      "\n",
      "CREATE TABLE playlist (\n",
      "\tplaylist_id INTEGER NOT NULL, \n",
      "\tname NVARCHAR(120), \n",
      "\tPRIMARY KEY (playlist_id)\n",
      ")\n",
      "\n",
      "/*\n",
      "3 rows from playlist table:\n",
      "playlist_id\tname\n",
      "1\tMusic\n",
      "2\tMovies\n",
      "3\tTV Shows\n",
      "*/\n",
      "\n",
      "\n",
      "CREATE TABLE playlist_track (\n",
      "\tplaylist_id INTEGER NOT NULL, \n",
      "\ttrack_id INTEGER NOT NULL, \n",
      "\tPRIMARY KEY (playlist_id, track_id), \n",
      "\tFOREIGN KEY(track_id) REFERENCES track (track_id), \n",
      "\tFOREIGN KEY(playlist_id) REFERENCES playlist (playlist_id)\n",
      ")\n",
      "\n",
      "/*\n",
      "3 rows from playlist_track table:\n",
      "playlist_id\ttrack_id\n",
      "1\t3402\n",
      "1\t3389\n",
      "1\t3390\n",
      "*/\n",
      "\n",
      "\n",
      "CREATE TABLE track (\n",
      "\ttrack_id INTEGER NOT NULL, \n",
      "\tname NVARCHAR(200) NOT NULL, \n",
      "\talbum_id INTEGER, \n",
      "\tmedia_type_id INTEGER NOT NULL, \n",
      "\tgenre_id INTEGER, \n",
      "\tcomposer NVARCHAR(220), \n",
      "\tmilliseconds INTEGER NOT NULL, \n",
      "\tbytes INTEGER, \n",
      "\tunit_price NUMERIC(10, 2) NOT NULL, \n",
      "\tPRIMARY KEY (track_id), \n",
      "\tFOREIGN KEY(media_type_id) REFERENCES media_type (media_type_id), \n",
      "\tFOREIGN KEY(genre_id) REFERENCES genre (genre_id), \n",
      "\tFOREIGN KEY(album_id) REFERENCES album (album_id)\n",
      ")\n",
      "\n",
      "/*\n",
      "3 rows from track table:\n",
      "track_id\tname\talbum_id\tmedia_type_id\tgenre_id\tcomposer\tmilliseconds\tbytes\tunit_price\n",
      "1\tFor Those About To Rock (We Salute You)\t1\t1\t1\tAngus Young, Malcolm Young, Brian Johnson\t343719\t11170334\t0.99\n",
      "2\tBalls to the Wall\t2\t2\t1\tNone\t342562\t5510424\t0.99\n",
      "3\tFast As a Shark\t3\t2\t1\tF. Baltes, S. Kaufman, U. Dirkscneider & W. Hoffman\t230619\t3990994\t0.99\n",
      "*/\n"
     ]
    }
   ],
   "source": [
    "from langchain_community.utilities import SQLDatabase\n",
    "db = SQLDatabase.from_uri(\"sqlite:///Chinook.db\")\n",
    "print(db.get_table_info())"
   ]
  },
  {
   "cell_type": "code",
   "execution_count": 5,
   "id": "0766d0d6-5e07-4a72-adef-46323d9dd3de",
   "metadata": {},
   "outputs": [],
   "source": [
    "from langchain_experimental.sql import SQLDatabaseChain\n",
    "db_chain = SQLDatabaseChain.from_llm(llm, db, verbose=True)"
   ]
  },
  {
   "cell_type": "code",
   "execution_count": 6,
   "id": "eb41ad8b-f231-4c98-958d-8ae4a61f3f70",
   "metadata": {},
   "outputs": [
    {
     "name": "stderr",
     "output_type": "stream",
     "text": [
      "Error in StdOutCallbackHandler.on_chain_start callback: AttributeError(\"'NoneType' object has no attribute 'get'\")\n"
     ]
    },
    {
     "name": "stdout",
     "output_type": "stream",
     "text": [
      "How many employees are there?\n",
      "SQLQuery:\u001b[32;1m\u001b[1;3mQuestion: How many employees are there?\n",
      "SQLQuery: SELECT COUNT(*) FROM employee;\u001b[0m\n",
      "SQLResult: \u001b[33;1m\u001b[1;3m[(8,)]\u001b[0m\n",
      "Answer:\u001b[32;1m\u001b[1;3mQuestion: How many employees are there?\n",
      "SQLQuery: SELECT COUNT(*) FROM employee;\u001b[0m\n",
      "\u001b[1m> Finished chain.\u001b[0m\n"
     ]
    },
    {
     "data": {
      "text/plain": [
       "'Question: How many employees are there?\\nSQLQuery: SELECT COUNT(*) FROM employee;'"
      ]
     },
     "execution_count": 6,
     "metadata": {},
     "output_type": "execute_result"
    }
   ],
   "source": [
    "ai_msg= db_chain.invoke(\"How many employees are there?\")\n",
    "ai_msg\n",
    "ai_msg['result']"
   ]
  },
  {
   "cell_type": "code",
   "execution_count": 7,
   "id": "d65c8c35-4e4a-44ec-b9ae-ad66978ccdd0",
   "metadata": {},
   "outputs": [
    {
     "name": "stdout",
     "output_type": "stream",
     "text": [
      "SELECT COUNT(*) FROM employee;\n"
     ]
    }
   ],
   "source": [
    "sql_query = ai_msg['result'].split(\"SQLQuery: \")[1].strip()\n",
    "print(sql_query)"
   ]
  },
  {
   "cell_type": "code",
   "execution_count": 8,
   "id": "74971877-0a96-45fd-8981-6f327a3c1869",
   "metadata": {},
   "outputs": [
    {
     "name": "stdout",
     "output_type": "stream",
     "text": [
      "SQL Result:  8\n"
     ]
    }
   ],
   "source": [
    "from sqlalchemy import create_engine, text\n",
    "db_uri = \"sqlite:///Chinook.db\"  # Altere para seu banco de dados se necessário\n",
    "engine = create_engine(db_uri)\n",
    "\n",
    "with engine.connect() as connection:\n",
    "    result = connection.execute(text(sql_query)).fetchall()\n",
    "    print(\"SQL Result: \", result[0][0]) # retorna primeiro elemento da tupla"
   ]
  },
  {
   "cell_type": "code",
   "execution_count": 9,
   "id": "59f61d17-4d0a-42aa-ac50-4578752dce5c",
   "metadata": {},
   "outputs": [
    {
     "name": "stderr",
     "output_type": "stream",
     "text": [
      "Error in StdOutCallbackHandler.on_chain_start callback: AttributeError(\"'NoneType' object has no attribute 'get'\")\n"
     ]
    },
    {
     "name": "stdout",
     "output_type": "stream",
     "text": [
      "How many albums by Aerosmith?\n",
      "SQLQuery:\u001b[32;1m\u001b[1;3mQuestion: How many albums by Aerosmith?\n",
      "SQLQuery: SELECT COUNT(*) FROM album WHERE artist_id IN (SELECT artist_id FROM artist WHERE name = 'Aerosmith');\u001b[0m\n",
      "SQLResult: \u001b[33;1m\u001b[1;3m[(1,)]\u001b[0m\n",
      "Answer:\u001b[32;1m\u001b[1;3mQuestion: How many albums by Aerosmith?\n",
      "SQLQuery: SELECT COUNT(*) FROM album WHERE artist_id IN (SELECT artist_id FROM artist WHERE name = 'Aerosmith');\u001b[0m\n",
      "\u001b[1m> Finished chain.\u001b[0m\n"
     ]
    },
    {
     "data": {
      "text/plain": [
       "\"Question: How many albums by Aerosmith?\\nSQLQuery: SELECT COUNT(*) FROM album WHERE artist_id IN (SELECT artist_id FROM artist WHERE name = 'Aerosmith');\""
      ]
     },
     "execution_count": 9,
     "metadata": {},
     "output_type": "execute_result"
    }
   ],
   "source": [
    "ai_msg= db_chain.invoke(\"How many albums by Aerosmith?\")\n",
    "ai_msg\n",
    "ai_msg['result']"
   ]
  },
  {
   "cell_type": "code",
   "execution_count": 10,
   "id": "842f3e7c-8acc-48d3-b9f4-a4ccc01aad4e",
   "metadata": {},
   "outputs": [
    {
     "name": "stderr",
     "output_type": "stream",
     "text": [
      "Error in StdOutCallbackHandler.on_chain_start callback: AttributeError(\"'NoneType' object has no attribute 'get'\")\n"
     ]
    },
    {
     "name": "stdout",
     "output_type": "stream",
     "text": [
      "How many employees are there in the general table?\n",
      "SQLQuery:\u001b[32;1m\u001b[1;3mSELECT COUNT(*) FROM employee;\u001b[0m\n",
      "SQLResult: \u001b[33;1m\u001b[1;3m[(8,)]\u001b[0m\n",
      "Answer:\u001b[32;1m\u001b[1;3mQuestion: How many employees are there in the general table?\n",
      "SQLQuery: SELECT COUNT(*) FROM employee;\u001b[0m\n",
      "\u001b[1m> Finished chain.\u001b[0m\n"
     ]
    },
    {
     "data": {
      "text/plain": [
       "'Question: How many employees are there in the general table?\\nSQLQuery: SELECT COUNT(*) FROM employee;'"
      ]
     },
     "execution_count": 10,
     "metadata": {},
     "output_type": "execute_result"
    }
   ],
   "source": [
    "from langchain.prompts.prompt import PromptTemplate\n",
    "\n",
    "template = \"\"\"\n",
    "Given an input question, first create a syntactically correct query to run, then look at the results of the query and return the answer.\n",
    "Use the following format:\n",
    "\n",
    "Question: \"Question here\"\n",
    "SQLQuery: \"SQL Query to run\"\n",
    "SQLResult: \"Result of the SQLQuery\"\n",
    "Answer: \"Final answer here\"\n",
    "\n",
    "Only use the following tables:\n",
    "{table_info}\n",
    "\n",
    "If someone asks for the general table, they really mean the employee table.\n",
    "Question: {input}\"\"\"\n",
    "\n",
    "PROMPT = PromptTemplate(\n",
    "    input_variables=[\"input\", \"table_info\"], template=template\n",
    ")\n",
    "\n",
    "db_chain = SQLDatabaseChain.from_llm(llm, db, prompt=PROMPT, use_query_checker=True, verbose=True)\n",
    "ai_msg = db_chain.invoke(\"How many employees are there in the general table?\")\n",
    "ai_msg\n",
    "ai_msg['result']"
   ]
  },
  {
   "cell_type": "code",
   "execution_count": 11,
   "id": "7e3220ad-768a-4306-9e71-bb9b6523cb4b",
   "metadata": {},
   "outputs": [
    {
     "name": "stderr",
     "output_type": "stream",
     "text": [
      "Error in StdOutCallbackHandler.on_chain_start callback: AttributeError(\"'NoneType' object has no attribute 'get'\")\n"
     ]
    },
    {
     "name": "stdout",
     "output_type": "stream",
     "text": [
      "list the tables of all database\n",
      "SQLQuery:\u001b[32;1m\u001b[1;3mQuestion: list the tables of all database\n",
      "SQLQuery: SELECT name FROM sqlite_master WHERE type='table';\u001b[0m\n",
      "SQLResult: \u001b[33;1m\u001b[1;3m[('album',), ('artist',), ('customer',), ('employee',), ('genre',), ('invoice',), ('invoice_line',), ('media_type',), ('playlist',), ('playlist_track',), ('track',)]\u001b[0m\n",
      "Answer:\u001b[32;1m\u001b[1;3mQuestion: list the tables of all database\n",
      "SQLQuery: SELECT name FROM sqlite_master WHERE type='table';\u001b[0m\n",
      "\u001b[1m> Finished chain.\u001b[0m\n",
      "{'query': 'list the tables of all database', 'result': \"Question: list the tables of all database\\nSQLQuery: SELECT name FROM sqlite_master WHERE type='table';\"}\n",
      "Question: list the tables of all database\n",
      "SQLQuery: SELECT name FROM sqlite_master WHERE type='table';\n"
     ]
    }
   ],
   "source": [
    "db_chain = SQLDatabaseChain.from_llm(llm, db, verbose=True)\n",
    "ai_msg = db_chain.invoke(\"list the tables of all database\")\n",
    "print(ai_msg)\n",
    "print(ai_msg['result'])"
   ]
  },
  {
   "cell_type": "code",
   "execution_count": 12,
   "id": "d180b454-5724-4a4e-8a56-4676ee7d56d5",
   "metadata": {},
   "outputs": [
    {
     "name": "stderr",
     "output_type": "stream",
     "text": [
      "Error in StdOutCallbackHandler.on_chain_start callback: AttributeError(\"'NoneType' object has no attribute 'get'\")\n"
     ]
    },
    {
     "name": "stdout",
     "output_type": "stream",
     "text": [
      "list the columns in genre table\n",
      "SQLQuery:\u001b[32;1m\u001b[1;3mQuestion: list the columns in genre table\n",
      "SQLQuery: SELECT \"name\" FROM genre\u001b[0m\n",
      "SQLResult: \u001b[33;1m\u001b[1;3m[('Rock',), ('Jazz',), ('Metal',), ('Alternative & Punk',), ('Rock And Roll',), ('Blues',), ('Latin',), ('Reggae',), ('Pop',), ('Soundtrack',), ('Bossa Nova',), ('Easy Listening',), ('Heavy Metal',), ('R&B/Soul',), ('Electronica/Dance',), ('World',), ('Hip Hop/Rap',), ('Science Fiction',), ('TV Shows',), ('Sci Fi & Fantasy',), ('Drama',), ('Comedy',), ('Alternative',), ('Classical',), ('Opera',)]\u001b[0m\n",
      "Answer:\u001b[32;1m\u001b[1;3mQuestion: list the columns in genre table\n",
      "SQLQuery:SELECT * FROM genre\u001b[0m\n",
      "\u001b[1m> Finished chain.\u001b[0m\n",
      "{'query': 'list the columns in genre table', 'result': 'Question: list the columns in genre table\\nSQLQuery:SELECT * FROM genre'}\n",
      "Question: list the columns in genre table\n",
      "SQLQuery:SELECT * FROM genre\n"
     ]
    }
   ],
   "source": [
    "ai_msg = db_chain.invoke(\"list the columns in genre table\")\n",
    "print(ai_msg)\n",
    "print(ai_msg['result'])"
   ]
  },
  {
   "cell_type": "code",
   "execution_count": 13,
   "id": "d1be0517-4219-4311-88b7-14dc3e2f1f1a",
   "metadata": {
    "scrolled": true
   },
   "outputs": [
    {
     "name": "stderr",
     "output_type": "stream",
     "text": [
      "Error in StdOutCallbackHandler.on_chain_start callback: AttributeError(\"'NoneType' object has no attribute 'get'\")\n"
     ]
    },
    {
     "name": "stdout",
     "output_type": "stream",
     "text": [
      "list all the names of unique media types  of the media_type table?\n",
      "SQLQuery:\u001b[32;1m\u001b[1;3mQuestion: list all the names of unique media types of the media_type table?\n",
      "\n",
      "SQLQuery: SELECT DISTINCT \"name\" FROM media_type;\u001b[0m\n",
      "SQLResult: \u001b[33;1m\u001b[1;3m[('MPEG audio file',), ('Protected AAC audio file',), ('Protected MPEG-4 video file',), ('Purchased AAC audio file',), ('AAC audio file',)]\u001b[0m\n",
      "Answer:\u001b[32;1m\u001b[1;3mQuestion: list all the names of unique media types  of the media_type table?\n",
      "\n",
      "SQLQuery: SELECT DISTINCT \"name\" FROM media_type;\u001b[0m\n",
      "\u001b[1m> Finished chain.\u001b[0m\n",
      "{'query': 'list all the names of unique media types  of the media_type table?', 'result': 'Question: list all the names of unique media types  of the media_type table?\\n\\nSQLQuery: SELECT DISTINCT \"name\" FROM media_type;'}\n"
     ]
    }
   ],
   "source": [
    "query = \"list all the names of unique media types  of the media_type table?\"\n",
    "ai_msg = db_chain.invoke(query)\n",
    "print(ai_msg)"
   ]
  },
  {
   "cell_type": "code",
   "execution_count": null,
   "id": "eade22f4-b2bf-4e53-a9d5-7e8af0533ed6",
   "metadata": {},
   "outputs": [],
   "source": []
  }
 ],
 "metadata": {
  "kernelspec": {
   "display_name": "Python 3 (ipykernel)",
   "language": "python",
   "name": "python3"
  },
  "language_info": {
   "codemirror_mode": {
    "name": "ipython",
    "version": 3
   },
   "file_extension": ".py",
   "mimetype": "text/x-python",
   "name": "python",
   "nbconvert_exporter": "python",
   "pygments_lexer": "ipython3",
   "version": "3.12.4"
  }
 },
 "nbformat": 4,
 "nbformat_minor": 5
}

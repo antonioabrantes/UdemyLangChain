{
 "cells": [
  {
   "cell_type": "code",
   "execution_count": 3,
   "id": "ff4f0009-a3a5-4ddf-877a-b6eb3e7f3c1c",
   "metadata": {},
   "outputs": [],
   "source": [
    "from dotenv import load_dotenv\n",
    "import os\n",
    "\n",
    "from langchain_groq import ChatGroq\n",
    "from langchain_openai import ChatOpenAI\n",
    "from langchain_core.output_parsers import StrOutputParser\n",
    "from langchain_core.prompts import ChatPromptTemplate\n",
    "from langchain.prompts.prompt import PromptTemplate\n",
    "from langchain.prompts.few_shot import FewShotPromptTemplate"
   ]
  },
  {
   "cell_type": "code",
   "execution_count": 4,
   "id": "d258d00d-31ec-4d4e-82ea-4ea315bdb772",
   "metadata": {},
   "outputs": [],
   "source": [
    "load_dotenv(dotenv_path='.env')\n",
    "groq_api_key = os.getenv(\"GROQ_API_KEY\")\n",
    "openai_api_key = os.getenv(\"OPENAI_API_KEY\")"
   ]
  },
  {
   "cell_type": "code",
   "execution_count": 5,
   "id": "e15fe039-2b3a-418b-96a4-2bd6d2ecb047",
   "metadata": {},
   "outputs": [],
   "source": [
    "# Few Shot Prompt - provide a few examples in the template\n",
    "examples = [\n",
    "    {\n",
    "        \"texto\": \"O time fez uma excelente apresentação e marcou vários gols\",\n",
    "        \"resposta\": \"sentimento: positivo, tema: time\"\n",
    "    },\n",
    "    {\n",
    "        \"texto\": \"O restaurante tem um serviço ruim e a comida deixa a desejar\",\n",
    "        \"resposta\": \"sentimento: negativo, tema: restaurante\"\n",
    "    },\n",
    "    {\n",
    "        \"texto\": \"O podcast tem uma participação razoável mas sem grandes destaques.\",\n",
    "        \"resposta\": \"sentimento: neutro, tema: podcast\"\n",
    "    },\n",
    "]\n"
   ]
  },
  {
   "cell_type": "code",
   "execution_count": 6,
   "id": "2f25bf10-e77c-4f52-a82b-92f3001f1135",
   "metadata": {},
   "outputs": [
    {
     "data": {
      "text/plain": [
       "[{'texto': 'O time fez uma excelente apresentação e marcou vários gols',\n",
       "  'resposta': 'sentimento: positivo, tema: time'},\n",
       " {'texto': 'O restaurante tem um serviço ruim e a comida deixa a desejar',\n",
       "  'resposta': 'sentimento: negativo, tema: restaurante'},\n",
       " {'texto': 'O podcast tem uma participação razoável mas sem grandes destaques.',\n",
       "  'resposta': 'sentimento: neutro, tema: podcast'}]"
      ]
     },
     "execution_count": 6,
     "metadata": {},
     "output_type": "execute_result"
    }
   ],
   "source": [
    "examples"
   ]
  },
  {
   "cell_type": "code",
   "execution_count": 7,
   "id": "7917e7f1-039a-4d80-ae2e-b91f1160b592",
   "metadata": {},
   "outputs": [],
   "source": [
    "examples.append({'texto': 'O restaurante era bom a música agradável.',\n",
    "   'resposta': 'sentimento: positivo, tema: restaurante'})\n"
   ]
  },
  {
   "cell_type": "code",
   "execution_count": 8,
   "id": "947afde1-ec31-4844-919c-01f7be15f316",
   "metadata": {},
   "outputs": [
    {
     "data": {
      "text/plain": [
       "[{'texto': 'O time fez uma excelente apresentação e marcou vários gols',\n",
       "  'resposta': 'sentimento: positivo, tema: time'},\n",
       " {'texto': 'O restaurante tem um serviço ruim e a comida deixa a desejar',\n",
       "  'resposta': 'sentimento: negativo, tema: restaurante'},\n",
       " {'texto': 'O podcast tem uma participação razoável mas sem grandes destaques.',\n",
       "  'resposta': 'sentimento: neutro, tema: podcast'},\n",
       " {'texto': 'O restaurante era bom a música agradável.',\n",
       "  'resposta': 'sentimento: positivo, tema: restaurante'}]"
      ]
     },
     "execution_count": 8,
     "metadata": {},
     "output_type": "execute_result"
    }
   ],
   "source": [
    "examples"
   ]
  },
  {
   "cell_type": "code",
   "execution_count": 9,
   "id": "51e4d1d5-865e-496c-ba1a-77a7ed254f78",
   "metadata": {},
   "outputs": [],
   "source": [
    "example_format_template = \"\"\"\n",
    "Texto: {texto}\n",
    "Resposta: {resposta}\n",
    "\"\"\"\n",
    "\n",
    "example_prompt = PromptTemplate(\n",
    "    input_variable=[\"texto\",\"resposta\"],\n",
    "    template = example_format_template\n",
    ")"
   ]
  },
  {
   "cell_type": "code",
   "execution_count": 16,
   "id": "b8ba0772-3468-4223-88e3-22779fe9de19",
   "metadata": {},
   "outputs": [],
   "source": [
    "prompt = FewShotPromptTemplate(\n",
    "    examples = examples,\n",
    "    example_prompt = example_prompt,\n",
    "    prefix =\"Classifique o sentimento e o tema do texto a seguir:\",\n",
    "    suffix = \"Texto: {input} em formato JSON\",\n",
    "    input_variables=[\"input\"]\n",
    ")"
   ]
  },
  {
   "cell_type": "code",
   "execution_count": 17,
   "id": "16bdb502-2c48-4423-ab5a-8546f816b5e6",
   "metadata": {},
   "outputs": [],
   "source": [
    "input_text = \"O filme foi interessante, mas a atuação deixou a desejar.\"\n",
    "prompt_output = prompt.format(input=input_text)\n",
    "#print(prompt_output)"
   ]
  },
  {
   "cell_type": "code",
   "execution_count": 18,
   "id": "0435c260-fe93-4aaa-8afb-73de035749bf",
   "metadata": {},
   "outputs": [
    {
     "name": "stdout",
     "output_type": "stream",
     "text": [
      "```json\n",
      "{\n",
      "  \"sentimento\": \"neutro\",\n",
      "  \"tema\": \"filme\"\n",
      "}\n",
      "```\n"
     ]
    }
   ],
   "source": [
    "llm = ChatOpenAI(model=\"gpt-4o-mini\", openai_api_key=openai_api_key)\n",
    "output_parser = StrOutputParser()\n",
    "chain = prompt | llm | output_parser\n",
    "response = chain.invoke({\"input\":input_text})\n",
    "print(response)"
   ]
  },
  {
   "cell_type": "code",
   "execution_count": 20,
   "id": "908a80a9-5cb1-4696-b7e0-b7881e285d9f",
   "metadata": {},
   "outputs": [
    {
     "name": "stdout",
     "output_type": "stream",
     "text": [
      "{\n",
      "  \"sentimento\": \"neutro\",\n",
      "  \"tema\": \"filme\"\n",
      "}\n"
     ]
    }
   ],
   "source": [
    "json_data = response.strip()\n",
    "json_data = json_data.replace(\"```json\\n\",\"\")\n",
    "json_data = json_data.replace(\"\\n```\",\"\")\n",
    "print(json_data)"
   ]
  },
  {
   "cell_type": "code",
   "execution_count": 90,
   "id": "f5339f88-dd3a-4099-affc-2c5e8cf4bb1c",
   "metadata": {},
   "outputs": [
    {
     "name": "stdout",
     "output_type": "stream",
     "text": [
      "sentimento:  neutro\n",
      "tema:  filme\n"
     ]
    }
   ],
   "source": [
    "import json\n",
    "try:\n",
    "    dados = json.loads(json_data)\n",
    "    print(\"sentimento: \", dados.get(\"sentimento\"))\n",
    "    print(\"tema: \", dados.get(\"tema\"))\n",
    "except Exception as e :\n",
    "    print(f\"JSON não identificado {e}\")"
   ]
  },
  {
   "cell_type": "code",
   "execution_count": null,
   "id": "0b183e4f-d2b1-4229-af56-5bed77d15fe5",
   "metadata": {},
   "outputs": [],
   "source": []
  }
 ],
 "metadata": {
  "kernelspec": {
   "display_name": "Python 3 (ipykernel)",
   "language": "python",
   "name": "python3"
  },
  "language_info": {
   "codemirror_mode": {
    "name": "ipython",
    "version": 3
   },
   "file_extension": ".py",
   "mimetype": "text/x-python",
   "name": "python",
   "nbconvert_exporter": "python",
   "pygments_lexer": "ipython3",
   "version": "3.12.4"
  }
 },
 "nbformat": 4,
 "nbformat_minor": 5
}

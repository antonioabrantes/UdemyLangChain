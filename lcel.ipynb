{
 "cells": [
  {
   "cell_type": "code",
   "execution_count": 1,
   "id": "9431b2a7-17fd-4b2b-b278-4467626fba9b",
   "metadata": {},
   "outputs": [],
   "source": [
    "#LCEL - Langchain Expression Language\n",
    "import os\n",
    "from dotenv import load_dotenv\n",
    "load_dotenv(dotenv_path='.env')\n",
    "openai_api_key = os.getenv(\"OPENAI_API_KEY\")"
   ]
  },
  {
   "cell_type": "code",
   "execution_count": 2,
   "id": "5733605e-17fe-42e2-89ef-32793642a3ac",
   "metadata": {},
   "outputs": [
    {
     "name": "stderr",
     "output_type": "stream",
     "text": [
      "C:\\Users\\otimi\\AppData\\Local\\Temp\\ipykernel_19448\\3490360659.py:8: LangChainDeprecationWarning: The class `LLMChain` was deprecated in LangChain 0.1.17 and will be removed in 1.0. Use RunnableSequence, e.g., `prompt | llm` instead.\n",
      "  chain = LLMChain(llm=ChatOpenAI(openai_api_key=openai_api_key), prompt=prompt)\n",
      "C:\\Users\\otimi\\AppData\\Local\\Temp\\ipykernel_19448\\3490360659.py:9: LangChainDeprecationWarning: The method `Chain.__call__` was deprecated in langchain 0.1.0 and will be removed in 1.0. Use invoke instead.\n",
      "  response = chain({\"complemento\":\"sobre médicos\"})\n"
     ]
    },
    {
     "name": "stdout",
     "output_type": "stream",
     "text": [
      "Por que o médico foi trabalhar de bicicleta? Porque ele perdeu a carteira de motorista!\n"
     ]
    }
   ],
   "source": [
    "from langchain.chains import LLMChain\n",
    "from langchain_core.prompts import ChatPromptTemplate\n",
    "from langchain_openai import ChatOpenAI\n",
    "\n",
    "prompt = ChatPromptTemplate.from_messages(\n",
    "\t[(\"user\", \"Conte uma piada {complemento} \")],\n",
    ")\n",
    "chain = LLMChain(llm=ChatOpenAI(openai_api_key=openai_api_key), prompt=prompt)\n",
    "response = chain({\"complemento\":\"sobre médicos\"})\n",
    "print(response[\"text\"])"
   ]
  },
  {
   "cell_type": "code",
   "execution_count": 3,
   "id": "31839514-2063-49a9-9d93-973c176c95c0",
   "metadata": {},
   "outputs": [
    {
     "name": "stdout",
     "output_type": "stream",
     "text": [
      "Por que o médico colocou um ponto de interrogação na receita?\n",
      "\n",
      "Porque ele estava prescrevendo uma dúvida existencial!\n"
     ]
    }
   ],
   "source": [
    "from langchain_core.output_parsers import StrOutputParser\n",
    "from langchain_core.prompts import ChatPromptTemplate\n",
    "from langchain_openai import ChatOpenAI\n",
    "\n",
    "prompt = ChatPromptTemplate.from_messages(\n",
    "\t[(\"user\", \"Conte uma piada {complemento} \")],\n",
    ")\n",
    "\n",
    "llm = ChatOpenAI(openai_api_key=openai_api_key)\n",
    "chain = prompt | llm | StrOutputParser()\n",
    "response = chain.invoke({\"complemento\":\"sobre médicos\"})\n",
    "print(response)\n"
   ]
  },
  {
   "cell_type": "code",
   "execution_count": 6,
   "id": "290de258-d9b4-450e-8382-eab4703965f2",
   "metadata": {},
   "outputs": [
    {
     "name": "stdout",
     "output_type": "stream",
     "text": [
      "Palavras: 14\n",
      "Por que o médico foi expulso do bar? Porque ele só sabia receitar doses!\n"
     ]
    }
   ],
   "source": [
    "from langchain_core.runnables import RunnableLambda\n",
    "\n",
    "funcao = RunnableLambda(lambda x: f\"Palavras: {len(x.split())}\\n{x}\")\n",
    "chain = prompt | llm | StrOutputParser() | funcao\n",
    "response = chain.invoke({\"complemento\":\"sobre médicos\"})\n",
    "print(response)"
   ]
  },
  {
   "cell_type": "code",
   "execution_count": 4,
   "id": "e5834da7-8cf1-407b-b1b0-c707aba17a80",
   "metadata": {},
   "outputs": [
    {
     "name": "stdout",
     "output_type": "stream",
     "text": [
      "['testando', 'nesta', 'frase']\n"
     ]
    }
   ],
   "source": [
    "x = \"testando nesta frase\"\n",
    "print(x.split())"
   ]
  },
  {
   "cell_type": "code",
   "execution_count": 5,
   "id": "3782e702-d286-44ca-927f-3a6ab8f0fe4c",
   "metadata": {},
   "outputs": [
    {
     "name": "stdout",
     "output_type": "stream",
     "text": [
      "3\n"
     ]
    }
   ],
   "source": [
    "print(len(x.split()))"
   ]
  },
  {
   "cell_type": "code",
   "execution_count": null,
   "id": "dd0f0bc7-4652-4c25-be6e-4fcd59c05fe3",
   "metadata": {},
   "outputs": [],
   "source": []
  }
 ],
 "metadata": {
  "kernelspec": {
   "display_name": "Python 3 (ipykernel)",
   "language": "python",
   "name": "python3"
  },
  "language_info": {
   "codemirror_mode": {
    "name": "ipython",
    "version": 3
   },
   "file_extension": ".py",
   "mimetype": "text/x-python",
   "name": "python",
   "nbconvert_exporter": "python",
   "pygments_lexer": "ipython3",
   "version": "3.12.4"
  }
 },
 "nbformat": 4,
 "nbformat_minor": 5
}

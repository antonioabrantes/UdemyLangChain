{
 "cells": [
  {
   "cell_type": "code",
   "execution_count": 1,
   "id": "b3273bc1-273e-406f-b0a2-4eec0ea5681f",
   "metadata": {},
   "outputs": [],
   "source": [
    "# https://docs.cohere.com/docs/embed-on-langchain\n",
    "# https://www.pinecone.io/learn/refine-with-rerank/\n",
    "\n",
    "# pip install langchain-cohere\n",
    "# pip install cohere\n",
    "\n",
    "from langchain.retrievers import ContextualCompressionRetriever\n",
    "from langchain_cohere import CohereRagRetriever\n",
    "from langchain_cohere import CohereRerank\n",
    "from langchain_cohere import CohereEmbeddings\n",
    "from langchain_cohere import ChatCohere\n",
    "from langchain.storage import InMemoryStore\n",
    "from langchain.retrievers import ParentDocumentRetriever\n",
    "from langchain.text_splitter import CharacterTextSplitter\n",
    "from langchain_community.document_loaders import TextLoader\n",
    "from langchain_community.vectorstores import Chroma\n",
    "\n",
    "import os\n",
    "import openai\n",
    "from dotenv import load_dotenv\n",
    "\n",
    "current_dir = os.getcwd()\n",
    "parent_dir = os.path.dirname(current_dir)\n",
    "app_dir = os.path.join(parent_dir, \"\")\n",
    "load_dotenv(os.path.join(app_dir, \".env\"))\n",
    "openai_api_key = os.getenv(\"OPENAI_API_KEY\")\n",
    "cohere_api_ky = os.getenv(\"COHERE_API_KEY\")\n",
    "embed_model = \"text-embedding-3-small\""
   ]
  },
  {
   "cell_type": "code",
   "execution_count": 2,
   "id": "a1e260f4-51cd-424e-bcb1-90982df296d0",
   "metadata": {},
   "outputs": [],
   "source": [
    "raw_documents = TextLoader('dados/lei9279.txt', encoding='utf-8').load()"
   ]
  },
  {
   "cell_type": "code",
   "execution_count": 3,
   "id": "20b274ba-6bcf-4e91-9456-375844204a43",
   "metadata": {},
   "outputs": [
    {
     "name": "stderr",
     "output_type": "stream",
     "text": [
      "Created a chunk of size 704, which is longer than the specified 512\n",
      "Created a chunk of size 684, which is longer than the specified 512\n",
      "Created a chunk of size 695, which is longer than the specified 512\n",
      "Created a chunk of size 545, which is longer than the specified 512\n",
      "Created a chunk of size 671, which is longer than the specified 512\n",
      "Created a chunk of size 601, which is longer than the specified 512\n",
      "Created a chunk of size 727, which is longer than the specified 512\n",
      "Created a chunk of size 535, which is longer than the specified 512\n",
      "Created a chunk of size 723, which is longer than the specified 512\n",
      "Created a chunk of size 553, which is longer than the specified 512\n",
      "Created a chunk of size 626, which is longer than the specified 512\n",
      "Created a chunk of size 1172, which is longer than the specified 512\n",
      "Created a chunk of size 610, which is longer than the specified 512\n",
      "Created a chunk of size 518, which is longer than the specified 512\n",
      "Created a chunk of size 730, which is longer than the specified 512\n",
      "Created a chunk of size 650, which is longer than the specified 512\n",
      "Created a chunk of size 753, which is longer than the specified 512\n",
      "Created a chunk of size 674, which is longer than the specified 512\n",
      "Created a chunk of size 766, which is longer than the specified 512\n",
      "Created a chunk of size 517, which is longer than the specified 512\n",
      "Created a chunk of size 1505, which is longer than the specified 512\n",
      "Created a chunk of size 1342, which is longer than the specified 512\n",
      "Created a chunk of size 2069, which is longer than the specified 512\n",
      "Created a chunk of size 605, which is longer than the specified 512\n",
      "Created a chunk of size 727, which is longer than the specified 512\n",
      "Created a chunk of size 2322, which is longer than the specified 512\n",
      "Created a chunk of size 599, which is longer than the specified 512\n",
      "Created a chunk of size 802, which is longer than the specified 512\n",
      "Created a chunk of size 1170, which is longer than the specified 512\n",
      "Created a chunk of size 666, which is longer than the specified 512\n",
      "Created a chunk of size 1221, which is longer than the specified 512\n"
     ]
    },
    {
     "data": {
      "text/plain": [
       "'LEI Nº 9.279, DE 14 DE MAIO DE 1996\\n\\nRegula direitos e obrigações relativos à propriedade industrial.\\n\\n        O  PRESIDENTE DA REPÚBLICA Faço saber que o Congresso Nacional decreta e eu sanciono a seguinte Lei:\\n\\nDISPOSIÇÕES PRELIMINARES\\n\\n        Art. 1º Esta Lei regula direitos e obrigações relativos à propriedade industrial.'"
      ]
     },
     "execution_count": 3,
     "metadata": {},
     "output_type": "execute_result"
    }
   ],
   "source": [
    "text_splitter = CharacterTextSplitter(chunk_size=512, chunk_overlap=0)\n",
    "documents = text_splitter.split_documents(raw_documents)\n",
    "documents[0].page_content"
   ]
  },
  {
   "cell_type": "code",
   "execution_count": 4,
   "id": "40bdf6fa-63c9-4614-af5c-b0c715ff199d",
   "metadata": {},
   "outputs": [
    {
     "data": {
      "text/plain": [
       "'Art. 2º A proteção dos direitos relativos à propriedade industrial, considerado o seu interesse social e o desenvolvimento tecnológico e econômico do País, efetua-se mediante:\\n\\n        I - concessão de patentes de invenção e de modelo de utilidade;\\n\\n        II - concessão de registro de desenho industrial;\\n\\n        III - concessão de registro de marca;\\n\\n        IV - repressão às falsas indicações geográficas; e\\n\\n        V - repressão à concorrência desleal.'"
      ]
     },
     "execution_count": 4,
     "metadata": {},
     "output_type": "execute_result"
    }
   ],
   "source": [
    "documents[1].page_content"
   ]
  },
  {
   "cell_type": "code",
   "execution_count": 5,
   "id": "8ac984e2-b54a-45fb-bde1-3d9bd4efa61d",
   "metadata": {},
   "outputs": [
    {
     "data": {
      "text/plain": [
       "259"
      ]
     },
     "execution_count": 5,
     "metadata": {},
     "output_type": "execute_result"
    }
   ],
   "source": [
    "len(documents)"
   ]
  },
  {
   "cell_type": "code",
   "execution_count": 6,
   "id": "fbf4c1fb-324e-462a-ba80-3a2ceff9286d",
   "metadata": {},
   "outputs": [
    {
     "name": "stdout",
     "output_type": "stream",
     "text": [
      "page_content='I - aos atos praticados por terceiros não autorizados, em caráter privado e sem finalidade comercial, desde que não acarretem prejuízo ao interesse econômico do titular da patente;\n",
      "\n",
      "        II - aos atos praticados por terceiros não autorizados, com finalidade experimental, relacionados a estudos ou pesquisas científicas ou tecnológicas;' metadata={'source': 'dados/lei9279.txt'}\n"
     ]
    }
   ],
   "source": [
    "cohere_embeddings = CohereEmbeddings(cohere_api_key=os.getenv(\"COHERE_API_KEY\"),model=\"embed-english-v3.0\")\n",
    "db = Chroma.from_documents(documents, cohere_embeddings)\n",
    "\n",
    "# teste se tem algum db ativo\n",
    "input_docs = db.as_retriever().invoke(\"tem alguma base ativa?\")\n",
    "try:\n",
    "    print(input_docs[0])\n",
    "except Exception as e:\n",
    "    print(e)"
   ]
  },
  {
   "cell_type": "code",
   "execution_count": 7,
   "id": "1d42e486-25bd-42e5-b5e3-6b77b5d1bba2",
   "metadata": {},
   "outputs": [],
   "source": [
    "db.delete(where={\"source\": \"dados/bitcoin.txt\"})\n",
    "db.delete(where={\"source\": \"dados/lei9279.txt\"})"
   ]
  },
  {
   "cell_type": "code",
   "execution_count": 8,
   "id": "76d0c345-426f-4a92-b0d0-5e5b74fc99aa",
   "metadata": {},
   "outputs": [],
   "source": [
    "cohere_embeddings = CohereEmbeddings(cohere_api_key=os.getenv(\"COHERE_API_KEY\"),model=\"embed-english-v3.0\")\n",
    "db = Chroma.from_documents(documents, cohere_embeddings)"
   ]
  },
  {
   "cell_type": "code",
   "execution_count": 9,
   "id": "403bc1f6-8e28-4784-b995-3049a6eb7a35",
   "metadata": {},
   "outputs": [
    {
     "name": "stderr",
     "output_type": "stream",
     "text": [
      "C:\\Users\\otimi\\AppData\\Local\\Temp\\ipykernel_13804\\3856611624.py:2: LangChainDeprecationWarning: The method `BaseRetriever.get_relevant_documents` was deprecated in langchain-core 0.1.46 and will be removed in 1.0. Use :meth:`~invoke` instead.\n",
      "  input_docs = db.as_retriever().get_relevant_documents(user_query)\n"
     ]
    }
   ],
   "source": [
    "user_query = \"O que é um modelo de utilidade ?\"\n",
    "input_docs = db.as_retriever().get_relevant_documents(user_query)"
   ]
  },
  {
   "cell_type": "code",
   "execution_count": 10,
   "id": "e60b046b-ead4-4e74-9353-980ea173aca7",
   "metadata": {},
   "outputs": [
    {
     "data": {
      "text/plain": [
       "[Document(metadata={'source': 'dados/lei9279.txt'}, page_content='Art. 8º É patenteável a invenção que atenda aos requisitos de novidade, atividade inventiva e aplicação industrial.\\n#\\n        Art. 9º É patenteável como modelo de utilidade o objeto de uso prático, ou parte deste, suscetível de aplicação industrial, que apresente nova forma ou disposição, envolvendo ato inventivo, que resulte em melhoria funcional no seu uso ou em sua fabricação.\\n#\\n        Art. 10. Não se considera invenção nem modelo de utilidade:'),\n",
       " Document(metadata={'source': 'dados/lei9279.txt'}, page_content='Art. 88. A invenção e o modelo de utilidade pertencem exclusivamente ao empregador quando decorrerem de contrato de trabalho cuja execução ocorra no Brasil e que tenha por objeto a pesquisa ou a atividade inventiva, ou resulte esta da natureza dos serviços para os quais foi o empregado contratado.      (Regulamento)\\n\\n        § 1º Salvo expressa disposição contratual em contrário, a retribuição pelo trabalho a que se refere este artigo limita-se ao salário ajustado.'),\n",
       " Document(metadata={'source': 'dados/lei9279.txt'}, page_content='VIII - técnicas e métodos operatórios ou cirúrgicos, bem como métodos terapêuticos ou de diagnóstico, para aplicação no corpo humano ou animal; e\\n\\n        IX - o todo ou parte de seres vivos naturais e materiais biológicos encontrados na natureza, ou ainda que dela isolados, inclusive o genoma ou germoplasma de qualquer ser vivo natural e os processos biológicos naturais.\\n#\\n        Art. 11. A invenção e o modelo de utilidade são considerados novos quando não compreendidos no estado da técnica.'),\n",
       " Document(metadata={'source': 'dados/lei9279.txt'}, page_content='Art. 22. O pedido de patente de invenção terá de se referir a uma única invenção ou a um grupo de invenções inter-relacionadas de maneira a compreenderem um único conceito inventivo.\\n#\\n        Art. 23. O pedido de patente de modelo de utilidade terá de se referir a um único modelo principal, que poderá incluir uma pluralidade de elementos distintos, adicionais ou variantes construtivas ou configurativas, desde que mantida a unidade técnico-funcional e corporal do objeto.\\n#\\n        Art. 24. O relatório deverá descrever clara e suficientemente o objeto, de modo a possibilitar sua realização por técnico no assunto e indicar, quando for o caso, a melhor forma de execução.')]"
      ]
     },
     "execution_count": 10,
     "metadata": {},
     "output_type": "execute_result"
    }
   ],
   "source": [
    "input_docs"
   ]
  },
  {
   "cell_type": "code",
   "execution_count": 11,
   "id": "1816541f-0ea4-44e8-b51f-87ad65e069d3",
   "metadata": {},
   "outputs": [
    {
     "data": {
      "text/plain": [
       "Document(metadata={'source': 'dados/lei9279.txt'}, page_content='Art. 8º É patenteável a invenção que atenda aos requisitos de novidade, atividade inventiva e aplicação industrial.\\n#\\n        Art. 9º É patenteável como modelo de utilidade o objeto de uso prático, ou parte deste, suscetível de aplicação industrial, que apresente nova forma ou disposição, envolvendo ato inventivo, que resulte em melhoria funcional no seu uso ou em sua fabricação.\\n#\\n        Art. 10. Não se considera invenção nem modelo de utilidade:')"
      ]
     },
     "execution_count": 11,
     "metadata": {},
     "output_type": "execute_result"
    }
   ],
   "source": [
    "# https://docs.cohere.com/docs/embed-on-langchain\n",
    "\n",
    "input_docs = db.as_retriever().invoke(user_query)\n",
    "input_docs[0]"
   ]
  },
  {
   "cell_type": "code",
   "execution_count": 12,
   "id": "3f23f4d1-9a70-4ed9-8535-8cf7d7eef282",
   "metadata": {},
   "outputs": [
    {
     "data": {
      "text/plain": [
       "Document(metadata={'source': 'dados/lei9279.txt'}, page_content='Art. 88. A invenção e o modelo de utilidade pertencem exclusivamente ao empregador quando decorrerem de contrato de trabalho cuja execução ocorra no Brasil e que tenha por objeto a pesquisa ou a atividade inventiva, ou resulte esta da natureza dos serviços para os quais foi o empregado contratado.      (Regulamento)\\n\\n        § 1º Salvo expressa disposição contratual em contrário, a retribuição pelo trabalho a que se refere este artigo limita-se ao salário ajustado.')"
      ]
     },
     "execution_count": 12,
     "metadata": {},
     "output_type": "execute_result"
    }
   ],
   "source": [
    "input_docs[1]"
   ]
  },
  {
   "cell_type": "code",
   "execution_count": 13,
   "id": "58186ef5-2c25-4ffd-816a-0f9c530baa0a",
   "metadata": {},
   "outputs": [
    {
     "data": {
      "text/plain": [
       "Document(metadata={'source': 'dados/lei9279.txt'}, page_content='VIII - técnicas e métodos operatórios ou cirúrgicos, bem como métodos terapêuticos ou de diagnóstico, para aplicação no corpo humano ou animal; e\\n\\n        IX - o todo ou parte de seres vivos naturais e materiais biológicos encontrados na natureza, ou ainda que dela isolados, inclusive o genoma ou germoplasma de qualquer ser vivo natural e os processos biológicos naturais.\\n#\\n        Art. 11. A invenção e o modelo de utilidade são considerados novos quando não compreendidos no estado da técnica.')"
      ]
     },
     "execution_count": 13,
     "metadata": {},
     "output_type": "execute_result"
    }
   ],
   "source": [
    "input_docs[2]"
   ]
  },
  {
   "cell_type": "code",
   "execution_count": 14,
   "id": "fcc3e6ad-b012-4ed4-821e-a40c349802f9",
   "metadata": {},
   "outputs": [
    {
     "data": {
      "text/plain": [
       "Document(metadata={'source': 'dados/lei9279.txt'}, page_content='Art. 22. O pedido de patente de invenção terá de se referir a uma única invenção ou a um grupo de invenções inter-relacionadas de maneira a compreenderem um único conceito inventivo.\\n#\\n        Art. 23. O pedido de patente de modelo de utilidade terá de se referir a um único modelo principal, que poderá incluir uma pluralidade de elementos distintos, adicionais ou variantes construtivas ou configurativas, desde que mantida a unidade técnico-funcional e corporal do objeto.\\n#\\n        Art. 24. O relatório deverá descrever clara e suficientemente o objeto, de modo a possibilitar sua realização por técnico no assunto e indicar, quando for o caso, a melhor forma de execução.')"
      ]
     },
     "execution_count": 14,
     "metadata": {},
     "output_type": "execute_result"
    }
   ],
   "source": [
    "input_docs[3]"
   ]
  },
  {
   "cell_type": "code",
   "execution_count": 15,
   "id": "8c9ff830-3ddf-4abf-96f3-3d3dfb086bba",
   "metadata": {},
   "outputs": [
    {
     "data": {
      "text/plain": [
       "4"
      ]
     },
     "execution_count": 15,
     "metadata": {},
     "output_type": "execute_result"
    }
   ],
   "source": [
    "len(input_docs)"
   ]
  },
  {
   "cell_type": "code",
   "execution_count": 16,
   "id": "47ef7361-c03f-4550-90a3-ff19ce008c4e",
   "metadata": {},
   "outputs": [
    {
     "name": "stdout",
     "output_type": "stream",
     "text": [
      "Art. 8º É patenteável a invenção que atenda aos requisitos de novidade, atividade inventiva e aplicação industrial.\n",
      "#\n",
      "        Art. 9º É patenteável como modelo de utilidade o objeto de uso prático, ou parte deste, suscetível de aplicação industrial, que apresente nova forma ou disposição, envolvendo ato inventivo, que resulte em melhoria funcional no seu uso ou em sua fabricação.\n",
      "#\n",
      "        Art. 10. Não se considera invenção nem modelo de utilidade:\n",
      "Art. 88. A invenção e o modelo de utilidade pertencem exclusivamente ao empregador quando decorrerem de contrato de trabalho cuja execução ocorra no Brasil e que tenha por objeto a pesquisa ou a atividade inventiva, ou resulte esta da natureza dos serviços para os quais foi o empregado contratado.      (Regulamento)\n",
      "\n",
      "        § 1º Salvo expressa disposição contratual em contrário, a retribuição pelo trabalho a que se refere este artigo limita-se ao salário ajustado.\n",
      "VIII - técnicas e métodos operatórios ou cirúrgicos, bem como métodos terapêuticos ou de diagnóstico, para aplicação no corpo humano ou animal; e\n",
      "\n",
      "        IX - o todo ou parte de seres vivos naturais e materiais biológicos encontrados na natureza, ou ainda que dela isolados, inclusive o genoma ou germoplasma de qualquer ser vivo natural e os processos biológicos naturais.\n",
      "#\n",
      "        Art. 11. A invenção e o modelo de utilidade são considerados novos quando não compreendidos no estado da técnica.\n",
      "Art. 22. O pedido de patente de invenção terá de se referir a uma única invenção ou a um grupo de invenções inter-relacionadas de maneira a compreenderem um único conceito inventivo.\n",
      "#\n",
      "        Art. 23. O pedido de patente de modelo de utilidade terá de se referir a um único modelo principal, que poderá incluir uma pluralidade de elementos distintos, adicionais ou variantes construtivas ou configurativas, desde que mantida a unidade técnico-funcional e corporal do objeto.\n",
      "#\n",
      "        Art. 24. O relatório deverá descrever clara e suficientemente o objeto, de modo a possibilitar sua realização por técnico no assunto e indicar, quando for o caso, a melhor forma de execução.\n"
     ]
    }
   ],
   "source": [
    "combined_content = \"\\n\".join(doc.page_content for doc in input_docs)\n",
    "print(combined_content)\n"
   ]
  },
  {
   "cell_type": "code",
   "execution_count": 17,
   "id": "7abe2b88-df37-4dea-b5a0-7b4804bcaee9",
   "metadata": {},
   "outputs": [
    {
     "name": "stdout",
     "output_type": "stream",
     "text": [
      "{'source': 'dados/lei9279.txt'}\n",
      "\n",
      "\n",
      "Art. 8º É patenteável a invenção que atenda aos requisitos de novidade, atividade inventiva e aplicação industrial.\n",
      "#\n",
      "        Art. 9º É patenteável como modelo de utilidade o objeto de uso prático, ou parte deste, suscetível de aplicação industrial, que apresente nova forma ou disposição, envolvendo ato inventivo, que resulte em melhoria funcional no seu uso ou em sua fabricação.\n",
      "#\n",
      "        Art. 10. Não se considera invenção nem modelo de utilidade:\n",
      "\n",
      "\n",
      "------------------------------\n",
      "\n",
      "\n",
      "{'source': 'dados/lei9279.txt'}\n",
      "\n",
      "\n",
      "Art. 88. A invenção e o modelo de utilidade pertencem exclusivamente ao empregador quando decorrerem de contrato de trabalho cuja execução ocorra no Brasil e que tenha por objeto a pesquisa ou a atividade inventiva, ou resulte esta da natureza dos serviços para os quais foi o empregado contratado.      (Regulamento)\n",
      "\n",
      "        § 1º Salvo expressa disposição contratual em contrário, a retribuição pelo trabalho a que se refere este artigo limita-se ao salário ajustado.\n",
      "\n",
      "\n",
      "------------------------------\n",
      "\n",
      "\n",
      "{'source': 'dados/lei9279.txt'}\n",
      "\n",
      "\n",
      "VIII - técnicas e métodos operatórios ou cirúrgicos, bem como métodos terapêuticos ou de diagnóstico, para aplicação no corpo humano ou animal; e\n",
      "\n",
      "        IX - o todo ou parte de seres vivos naturais e materiais biológicos encontrados na natureza, ou ainda que dela isolados, inclusive o genoma ou germoplasma de qualquer ser vivo natural e os processos biológicos naturais.\n",
      "#\n",
      "        Art. 11. A invenção e o modelo de utilidade são considerados novos quando não compreendidos no estado da técnica.\n",
      "\n",
      "\n",
      "------------------------------\n",
      "\n",
      "\n"
     ]
    }
   ],
   "source": [
    "for doc in input_docs[:-1]:\n",
    "    print(doc.metadata)\n",
    "    print(\"\\n\\n\" + doc.page_content)\n",
    "    print(\"\\n\\n\" + \"-\" * 30 + \"\\n\\n\")"
   ]
  },
  {
   "cell_type": "code",
   "execution_count": 18,
   "id": "3a65cee1-9c03-4a66-ae0e-3f2f61d5a1b1",
   "metadata": {},
   "outputs": [
    {
     "name": "stdout",
     "output_type": "stream",
     "text": [
      "Art. 8º É patenteável a invenção que atenda aos requisitos de novidade, atividade inventiva e aplicação industrial.\n",
      "#\n",
      "        Art. 9º É patenteável como modelo de utilidade o objeto de uso prático, ou parte deste, suscetível de aplicação industrial, que apresente nova forma ou disposição, envolvendo ato inventivo, que resulte em melhoria funcional no seu uso ou em sua fabricação.\n",
      "#\n",
      "        Art. 10. Não se considera invenção nem modelo de utilidade:\n"
     ]
    }
   ],
   "source": [
    "answer = input_docs[0].page_content\n",
    "print(answer)"
   ]
  },
  {
   "cell_type": "code",
   "execution_count": 19,
   "id": "c60caba9-b4b6-4638-8bdb-7f70b5ccdd91",
   "metadata": {},
   "outputs": [
    {
     "name": "stdout",
     "output_type": "stream",
     "text": [
      "dados/lei9279.txt\n"
     ]
    }
   ],
   "source": [
    "citations = input_docs[0].metadata['source']\n",
    "print(citations)"
   ]
  },
  {
   "cell_type": "code",
   "execution_count": 20,
   "id": "7ea66312-486c-4667-a1a0-f059cc85b522",
   "metadata": {},
   "outputs": [],
   "source": [
    "# Create Cohere's reranker with the vector DB using Cohere's embeddings as the base retriever\n",
    "cohere_chat_model = ChatCohere(cohere_api_key=os.getenv(\"COHERE_API_KEY\"))\n",
    "\n",
    "cohere_rerank = CohereRerank(cohere_api_key=os.getenv(\"COHERE_API_KEY\"),model=\"rerank-english-v3.0\")\n",
    "\n",
    "compression_retriever = ContextualCompressionRetriever(\n",
    "    base_compressor=cohere_rerank, \n",
    "    base_retriever=db.as_retriever()\n",
    ")"
   ]
  },
  {
   "cell_type": "code",
   "execution_count": 21,
   "id": "3fadb3db-6249-49d1-a2d6-b448233f964d",
   "metadata": {},
   "outputs": [
    {
     "name": "stdout",
     "output_type": "stream",
     "text": [
      "[Document(metadata={'source': 'dados/lei9279.txt', 'relevance_score': 0.99743915}, page_content='Art. 8º É patenteável a invenção que atenda aos requisitos de novidade, atividade inventiva e aplicação industrial.\\n#\\n        Art. 9º É patenteável como modelo de utilidade o objeto de uso prático, ou parte deste, suscetível de aplicação industrial, que apresente nova forma ou disposição, envolvendo ato inventivo, que resulte em melhoria funcional no seu uso ou em sua fabricação.\\n#\\n        Art. 10. Não se considera invenção nem modelo de utilidade:'), Document(metadata={'source': 'dados/lei9279.txt', 'relevance_score': 0.9929061}, page_content='Art. 88. A invenção e o modelo de utilidade pertencem exclusivamente ao empregador quando decorrerem de contrato de trabalho cuja execução ocorra no Brasil e que tenha por objeto a pesquisa ou a atividade inventiva, ou resulte esta da natureza dos serviços para os quais foi o empregado contratado.      (Regulamento)\\n\\n        § 1º Salvo expressa disposição contratual em contrário, a retribuição pelo trabalho a que se refere este artigo limita-se ao salário ajustado.'), Document(metadata={'source': 'dados/lei9279.txt', 'relevance_score': 0.9749169}, page_content='Art. 22. O pedido de patente de invenção terá de se referir a uma única invenção ou a um grupo de invenções inter-relacionadas de maneira a compreenderem um único conceito inventivo.\\n#\\n        Art. 23. O pedido de patente de modelo de utilidade terá de se referir a um único modelo principal, que poderá incluir uma pluralidade de elementos distintos, adicionais ou variantes construtivas ou configurativas, desde que mantida a unidade técnico-funcional e corporal do objeto.\\n#\\n        Art. 24. O relatório deverá descrever clara e suficientemente o objeto, de modo a possibilitar sua realização por técnico no assunto e indicar, quando for o caso, a melhor forma de execução.')]\n"
     ]
    }
   ],
   "source": [
    "compressed_docs = compression_retriever.get_relevant_documents(user_query)\n",
    "print(compressed_docs)"
   ]
  },
  {
   "cell_type": "code",
   "execution_count": 22,
   "id": "cbd3bffc-6c3a-4ae4-a864-f53e5a555af6",
   "metadata": {},
   "outputs": [
    {
     "name": "stdout",
     "output_type": "stream",
     "text": [
      "[Document(metadata={'id': 'web-search_2', 'snippet': 'Patente de Invenção / Modelo de Utilidade https://www.inovacao.ufscar.br/pt-br/propriedade-intelectual/propriedade-industrial/patente-de-invencao-modelo-de-utilidade https://www.inovacao.ufscar.br/@@site-logo/logo.svg\\n\\nPatente de Invenção / Modelo de Utilidade\\n\\nA patente é um título de propriedade concedido pelo Governo e expedido pelo Instituto Nacional de Propriedade Industrial - INPI que, por força de lei, concede direitos exclusivos de exploração e utilização de um produto, dentro dos limites do território nacional, por um período de tempo determinado.\\n\\nUma patente (ou privilégio) de invenção é definida como um bem material (processo, produto ou aparelho) que seja fruto da atividade intelectual do homem, e que proporcione uma melhoria no estado da técnica. Já o modelo de utilidade faz referência a um bem material já conhecido que, devido a sua forma particular, proporciona um aumento de sua capacidade de utilização (melhoria funcional).\\n\\nPara que um invento seja considerado patenteável deve atender aos requisitos de aplicação industrial, atividade inventiva e novidade. Abaixo segue uma breve descrição de cada um desses requisitos:\\n\\n1. Aplicação industrial: tudo aquilo que possa ser produzido (industrializado) e comercializado.\\n\\n2. Atividade inventiva: a atividade inventiva é verificada sempre que, para um técnico no assunto, não decorra de maneira evidente ou óbvia do estado da técnica. Como indícios da existência de atividade inventiva, pode-se verificar se o invento resulta em redução de custos, simplificação na fabricação, redução de tamanho ou tempo, sucesso comercial etc.\\n\\n3. Novidade: o invento não pode fazer parte do estado da técnica, ou seja, não pode ter sido divulgado por qualquer meio, nem estar disponível para utilização. Este importante requisito deve ser observado, já que o inventor não pode divulgar seu invento antes de depositar o pedido de registro no INPI.\\n\\nQuando uma patente é concedida, o titular adquire direitos exclusivos de exploração, usufruindo o direito de impedir terceiros de produzir, vender, importar e utilizar o produto, processo ou produto obtido por processo patenteado, sem seu consentimento.\\n\\nEssa proteção possui vigência de 20 anos para privilégio de invenção, e de 15 anos para modelos de utilidade, ambos os casos contados a partir da data de depósito do pedido de registro.', 'timestamp': '2024-11-02T16:37:47', 'title': 'Patente de Invenção / Modelo de Utilidade — Português (Brasil)', 'url': 'https://www.inovacao.ufscar.br/pt-br/propriedade-intelectual/propriedade-industrial/patente-de-invencao-modelo-de-utilidade'}, page_content='Patente de Invenção / Modelo de Utilidade https://www.inovacao.ufscar.br/pt-br/propriedade-intelectual/propriedade-industrial/patente-de-invencao-modelo-de-utilidade https://www.inovacao.ufscar.br/@@site-logo/logo.svg\\n\\nPatente de Invenção / Modelo de Utilidade\\n\\nA patente é um título de propriedade concedido pelo Governo e expedido pelo Instituto Nacional de Propriedade Industrial - INPI que, por força de lei, concede direitos exclusivos de exploração e utilização de um produto, dentro dos limites do território nacional, por um período de tempo determinado.\\n\\nUma patente (ou privilégio) de invenção é definida como um bem material (processo, produto ou aparelho) que seja fruto da atividade intelectual do homem, e que proporcione uma melhoria no estado da técnica. Já o modelo de utilidade faz referência a um bem material já conhecido que, devido a sua forma particular, proporciona um aumento de sua capacidade de utilização (melhoria funcional).\\n\\nPara que um invento seja considerado patenteável deve atender aos requisitos de aplicação industrial, atividade inventiva e novidade. Abaixo segue uma breve descrição de cada um desses requisitos:\\n\\n1. Aplicação industrial: tudo aquilo que possa ser produzido (industrializado) e comercializado.\\n\\n2. Atividade inventiva: a atividade inventiva é verificada sempre que, para um técnico no assunto, não decorra de maneira evidente ou óbvia do estado da técnica. Como indícios da existência de atividade inventiva, pode-se verificar se o invento resulta em redução de custos, simplificação na fabricação, redução de tamanho ou tempo, sucesso comercial etc.\\n\\n3. Novidade: o invento não pode fazer parte do estado da técnica, ou seja, não pode ter sido divulgado por qualquer meio, nem estar disponível para utilização. Este importante requisito deve ser observado, já que o inventor não pode divulgar seu invento antes de depositar o pedido de registro no INPI.\\n\\nQuando uma patente é concedida, o titular adquire direitos exclusivos de exploração, usufruindo o direito de impedir terceiros de produzir, vender, importar e utilizar o produto, processo ou produto obtido por processo patenteado, sem seu consentimento.\\n\\nEssa proteção possui vigência de 20 anos para privilégio de invenção, e de 15 anos para modelos de utilidade, ambos os casos contados a partir da data de depósito do pedido de registro.'), Document(metadata={'id': 'web-search_0', 'snippet': 'Conteúdo Intermediário\\n\\nLivros Sobre Patentes\\n\\nO que é um Modelo de Utilidade?\\n\\nÉ muito comum que alguns iniciantes na área de propriedade industrial façam certa confusão à respeito das diferenças entre a patente de invenção e a patente de modelo de utilidade.\\n\\nAlguns doutrinadores erroneamente induzem a crer que a patente de modelo de utilidade serve para proteger um melhoramento em algo que já existe, ao passo que a patente de invenção cumpre a função de proteger apenas invenções disruptivas (i.e., a lâmpada de Thomas Edison, a prensa de Gutenberg, a primeira locomotiva e o primeiro computador pessoal, por exemplo).\\n\\nNem de longe essa informação procede. Isso porque não apenas invenções de breakthrough podem ser objeto de patentes de invenção, mas pequenas melhorias implementadas em invenções muito conhecidas também o são.\\n\\nNão obstante, a patente de modelo de utilidade adota como objeto de proteção um elemento muito mais limitado do que essa concepção errada postula. Senão vejamos. A lei de propriedade industrial define, em seu artigo 9º, que:\\n\\nArt. 9o. É patenteável como modelo de utilidade o objeto de uso prático, ou parte deste, suscetível de aplicação industrial, que apresente nova forma ou disposição, envolvendo ato inventivo, que resulte em melhoria funcional no seu uso ou em sua fabricação (LPI, Lei nº 9.279, de 14 de maio de 1996).\\n\\nProcure um escritório que te ajude na elaboração do seu modelo de utilidade: MNIP\\n\\nDe acordo com a letra da lei, o elemento suscetível à proteção por patente de modelo de utilidade obrigatoriamente tem de ser: um objeto de uso prático, que apresente nova forma ou disposição, que envolva ato inventivo e que resulte em melhoria funcional em seu uso ou fabricação.\\n\\nPor objeto de uso prático, entende-se: um objeto palpável, de proporção macroscópica, preferencialmente manipulável pelas mãos de um usuário.\\n\\nPor nova forma ou disposição, entende-se: uma modificação introduzida em parte ou em toda a forma física do objeto, sendo definida e estável esta forma física.\\n\\nPor resultar em melhoria funcional no uso ou fabricação, entende-se: que seja mais prático para manusear ou mais barato e/ou mais rápido de fabricar.\\n\\nPor ato inventivo, entende-se: um requisito análogo à “atividade inventiva” (requisito para concessão de patentes de invenção) só que apreciado em escala reduzida. O ato inventivo é, por definição, a propriedade de uma invenção menor, de uma criação que não se qualifica à proteção por patentes de invenção.\\n\\nPortanto, com base nessa definição, não podem ser protegidos por patente de modelo de utilidade os seguintes elementos:\\n\\nfórmulas químicas;\\n\\nprocessos industriais;\\n\\nsoftwares embarcados;\\n\\ninvenções mais sofisticadas, que vão além do dito “ato inventivo”;\\n\\ndentre outros elementos que se adéquam somente à proteção por patente de invenção.\\n\\nVide exemplos de documentos que atendem simultaneamente a todos os requisitos listados acima:\\n\\n(documentos acessíveis no seguinte link)\\n\\n1 – LIMITAÇÕES DA PATENTE DE MODELO DE UTILIDADE\\n\\nRegra geral, a concessão de uma patente de invenção traz muito mais benefícios ao seu titular que uma patente de modelo de utilidade. Dentre as desvantagens da patente de modelo de utilidade, podemos citar os problemas que seguem:\\n\\ni. O modelo de utilidade compreende apenas uma única reivindicação independente no quadro reivindicatório (vide artigo 10 da Instrução Normativa nº 30/2013 e o artigo 23 da LPI);\\n\\nii. O modelo de utilidade tem apenas 15 anos de vigência (cinco anos a menos que as patentes de invenção – vide art. 40 LPI);\\n\\niii. Em tese, é muito mais difícil emplacar uma infração por equivalência a uma patente de modelo de utilidade. Isso porque, para determinação de infração a uma patente de modelo de utilidade, deve-se preferir a interpretação literal em oposição ao uso da doutrina dos equivalentes.\\n\\niv. O modelo de utilidade encontra dificuldades de gerar pedidos de patente correspondentes no exterior.\\n\\nEste último detalhe – encontrar dificuldade de gerar pedidos de patente correspondentes no exterior – advém do fato de que a maioria dos países no exterior não concedem patentes de modelos de utilidade; portanto, não reconhecem o “ato inventivo” como requisito para concessão de patentes de um modo geral.\\n\\nPor esse motivo, fica difícil convencer um examinador no exterior – nos países onde não existe modelo de utilidade – de que uma criação que atende ao requisito de ato inventivo no Brasil (que, portanto, não tem atividade inventiva em nosso país) atenderá ao requisito de atividade inventiva no exterior. Vide lista de países que possuem modelo de utilidade segundo a Organização Mundial de Propriedade Industrial, OMPI (em inglês, WIPO).\\n\\nQuanto a ser mais difícil emplacar uma infração por equivalência a uma patente de modelo de utilidade, esse entendimento pode ser obtido facilmente na doutrina nacional. Vide artigo Modelo de Utilidade e Infração por Equivalência.\\n\\nApesar de tudo isso, depositar um Pedido de Patente de Modelo de Utilidade pode ser uma excelente ideia para o inventor que criou uma inovação incremental, que consista em uma modificação física em um objeto de uso prático. Isto porque a concessão do Modelo de Utilidade é muito mais facilmente alcançada do que a concessão da Patente de Invenção (quem diz isso é a WIPO, a organização mundial de propriedade industrial, vide link).\\n\\nApesar da taxa de concessão de Modelo de Utilidade ser relativamente igual à taxa de concessão de Patentes de Invenção no INPI, (vide Artigo de Antônio Abrantes), é notória a diferença no impacto tecnológico das tecnologias pleiteadas em ambos os campos (PI e MU).\\n\\nPor esse motivo, quando a criação não for disruptiva, não estiver associada a um novo material, não compreender software embarcado, não dizer respeito a novos compostos químicos, fármacos, transgênicos e afins e sobre tudo isso persistir alguma dúvida se a invenção é óbvia a um técnico no assunto, a melhor opção é o depósito de um pedido de patente de modelo de utilidade.\\n\\n2 – VANTAGENS DO MODELO DE UTILIDADE EM RELAÇÃO À PATENTE DE INVENÇÃO\\n\\nNa prática, a única vantagem do pedido de patente de modelo de utilidade em relação ao pedido de patente de invenção é o fato de que o pedido de patente de modelo de utilidade é muito mais facilmente deferido pelo INPI do que o pedido de patente de invenção.\\n\\nIsso, evidentemente, advém do fato de que, por definição, o “ato inventivo”, requisito para deferimento de modelos de utilidade, é muito mais facilmente alcançado que a “atividade inventiva”, requisito para deferimento de patentes de invenção.\\n\\n3 – EXEMPLOS DE MODELO DE UTILIDADE\\n\\n(MAIS EXEMPLOS DE MODELO DE UTILIDADE)\\n\\n4 – MUDANÇA DE NATUREZA\\n\\nÉ possível converter um pedido de patente de invenção em um pedido de patente de modelo de utilidade durante o processamento administrativo do documento. O procedimento para essa troca de pedido de patente de invenção para pedido de patente de modelo de utilidade chama-se “mudança de natureza” e pode ocorrer tanto para converter um pedido de modelo de utilidade em um pedido de patente de invenção como o contrário, isto é, converter patente de invenção em modelo de utilidade.\\n\\nCom base nessa possibilidade, muitos redatores evitam ao máximo depositar pedidos de patente de modelo de utilidade, sempre tentando obter uma patente de invenção para qualquer que seja a criação. Quando o INPI entende não ser possível o deferimento de um pedido de patente de invenção pelo não atendimento do requisito de atividade inventiva por suas reivindicações independentes, o redator solicita a mudança de natureza do documento para pedido de patente de modelo de utilidade (art. 35, inciso II, e art. 36, LPI).\\n\\nEsta é uma boa estratégia, do ponto de vista da proteção dos direitos do titular da patente: sempre tentar a proteção por patente de invenção; quando isso não for possível, admitir a proteção por modelo de utilidade. Ao buscar a proteção mais abrangente possível, mas aceitando uma proteção mais restrita quando não houver outra opção, o redator faz uso da mesma lógica que adotou ao elaborar o quadro reivindicatório do documento, isto é: construir reivindicações independentes o mais amplas possível e dispor de diversas reivindicações dependentes para limitar o conteúdo das independentes durante o processo administrativo quando necessário.\\n\\n5 – VIGÊNCIA DO MODELO DE UTILIDADE\\n\\nComentamos aqui que a vigência do modelo de utilidade é pelo prazo de 15 anos após a data de depósito. Ocorre que, uma exceção à regra é o atraso na concessão do documento pelo INPI devido ao grande backlog (i.e. a grande fila de pedidos de patente que aguardam exame no Instituto).\\n\\nO pedido de patente de modelo de utilidade que demorar mais de 8 anos para ser concedido, terá um período de vigência mínimo de 7 anos após a concessão. Isso é o que revela o parágrafo único do artigo 40 da lei de propriedade industrial brasileira:\\n\\nArt. 40. A patente de invenção vigorará pelo prazo de 20 (vinte) anos e a de modelo de utilidade pelo prazo 15 (quinze) anos contados da data de depósito. Parágrafo único. O prazo de vigência não será inferior a 10 (dez) anos para a patente de invenção e a 7 (sete) anos para a patente de modelo de utilidade, a contar da data de concessão, ressalvada a hipótese de o INPI estar impedido de proceder ao exame de mérito do pedido, por pendência judicial comprovada ou por motivo de força maior.\\n\\n+ e-books gratuitos sobre patentes\\n\\n(artigo baseado em trecho do livro Manual de Redação de Patentes de Ari Magalhães)\\n\\nADVOGADO – ENGENHEIRO MECÂNICO – PATENTES – SÓCIO FUNDADOR info@mnip.com.br / +55 11 95448-6409\\n\\nDeixe um comentário Cancelar resposta\\n\\nExcelência em Propriedade Industrial\\n\\nConte com quem tem mais de 10 anos de experiência no mercado de Patentes', 'timestamp': '2024-11-02T16:37:48', 'title': 'O que é um Modelo de Utilidade? – O Consultor em Patentes', 'url': 'https://oconsultorempatentes.com/o-que-e-um-modelo-de-utilidade/'}, page_content='Conteúdo Intermediário\\n\\nLivros Sobre Patentes\\n\\nO que é um Modelo de Utilidade?\\n\\nÉ muito comum que alguns iniciantes na área de propriedade industrial façam certa confusão à respeito das diferenças entre a patente de invenção e a patente de modelo de utilidade.\\n\\nAlguns doutrinadores erroneamente induzem a crer que a patente de modelo de utilidade serve para proteger um melhoramento em algo que já existe, ao passo que a patente de invenção cumpre a função de proteger apenas invenções disruptivas (i.e., a lâmpada de Thomas Edison, a prensa de Gutenberg, a primeira locomotiva e o primeiro computador pessoal, por exemplo).\\n\\nNem de longe essa informação procede. Isso porque não apenas invenções de breakthrough podem ser objeto de patentes de invenção, mas pequenas melhorias implementadas em invenções muito conhecidas também o são.\\n\\nNão obstante, a patente de modelo de utilidade adota como objeto de proteção um elemento muito mais limitado do que essa concepção errada postula. Senão vejamos. A lei de propriedade industrial define, em seu artigo 9º, que:\\n\\nArt. 9o. É patenteável como modelo de utilidade o objeto de uso prático, ou parte deste, suscetível de aplicação industrial, que apresente nova forma ou disposição, envolvendo ato inventivo, que resulte em melhoria funcional no seu uso ou em sua fabricação (LPI, Lei nº 9.279, de 14 de maio de 1996).\\n\\nProcure um escritório que te ajude na elaboração do seu modelo de utilidade: MNIP\\n\\nDe acordo com a letra da lei, o elemento suscetível à proteção por patente de modelo de utilidade obrigatoriamente tem de ser: um objeto de uso prático, que apresente nova forma ou disposição, que envolva ato inventivo e que resulte em melhoria funcional em seu uso ou fabricação.\\n\\nPor objeto de uso prático, entende-se: um objeto palpável, de proporção macroscópica, preferencialmente manipulável pelas mãos de um usuário.\\n\\nPor nova forma ou disposição, entende-se: uma modificação introduzida em parte ou em toda a forma física do objeto, sendo definida e estável esta forma física.\\n\\nPor resultar em melhoria funcional no uso ou fabricação, entende-se: que seja mais prático para manusear ou mais barato e/ou mais rápido de fabricar.\\n\\nPor ato inventivo, entende-se: um requisito análogo à “atividade inventiva” (requisito para concessão de patentes de invenção) só que apreciado em escala reduzida. O ato inventivo é, por definição, a propriedade de uma invenção menor, de uma criação que não se qualifica à proteção por patentes de invenção.\\n\\nPortanto, com base nessa definição, não podem ser protegidos por patente de modelo de utilidade os seguintes elementos:\\n\\nfórmulas químicas;\\n\\nprocessos industriais;\\n\\nsoftwares embarcados;\\n\\ninvenções mais sofisticadas, que vão além do dito “ato inventivo”;\\n\\ndentre outros elementos que se adéquam somente à proteção por patente de invenção.\\n\\nVide exemplos de documentos que atendem simultaneamente a todos os requisitos listados acima:\\n\\n(documentos acessíveis no seguinte link)\\n\\n1 – LIMITAÇÕES DA PATENTE DE MODELO DE UTILIDADE\\n\\nRegra geral, a concessão de uma patente de invenção traz muito mais benefícios ao seu titular que uma patente de modelo de utilidade. Dentre as desvantagens da patente de modelo de utilidade, podemos citar os problemas que seguem:\\n\\ni. O modelo de utilidade compreende apenas uma única reivindicação independente no quadro reivindicatório (vide artigo 10 da Instrução Normativa nº 30/2013 e o artigo 23 da LPI);\\n\\nii. O modelo de utilidade tem apenas 15 anos de vigência (cinco anos a menos que as patentes de invenção – vide art. 40 LPI);\\n\\niii. Em tese, é muito mais difícil emplacar uma infração por equivalência a uma patente de modelo de utilidade. Isso porque, para determinação de infração a uma patente de modelo de utilidade, deve-se preferir a interpretação literal em oposição ao uso da doutrina dos equivalentes.\\n\\niv. O modelo de utilidade encontra dificuldades de gerar pedidos de patente correspondentes no exterior.\\n\\nEste último detalhe – encontrar dificuldade de gerar pedidos de patente correspondentes no exterior – advém do fato de que a maioria dos países no exterior não concedem patentes de modelos de utilidade; portanto, não reconhecem o “ato inventivo” como requisito para concessão de patentes de um modo geral.\\n\\nPor esse motivo, fica difícil convencer um examinador no exterior – nos países onde não existe modelo de utilidade – de que uma criação que atende ao requisito de ato inventivo no Brasil (que, portanto, não tem atividade inventiva em nosso país) atenderá ao requisito de atividade inventiva no exterior. Vide lista de países que possuem modelo de utilidade segundo a Organização Mundial de Propriedade Industrial, OMPI (em inglês, WIPO).\\n\\nQuanto a ser mais difícil emplacar uma infração por equivalência a uma patente de modelo de utilidade, esse entendimento pode ser obtido facilmente na doutrina nacional. Vide artigo Modelo de Utilidade e Infração por Equivalência.\\n\\nApesar de tudo isso, depositar um Pedido de Patente de Modelo de Utilidade pode ser uma excelente ideia para o inventor que criou uma inovação incremental, que consista em uma modificação física em um objeto de uso prático. Isto porque a concessão do Modelo de Utilidade é muito mais facilmente alcançada do que a concessão da Patente de Invenção (quem diz isso é a WIPO, a organização mundial de propriedade industrial, vide link).\\n\\nApesar da taxa de concessão de Modelo de Utilidade ser relativamente igual à taxa de concessão de Patentes de Invenção no INPI, (vide Artigo de Antônio Abrantes), é notória a diferença no impacto tecnológico das tecnologias pleiteadas em ambos os campos (PI e MU).\\n\\nPor esse motivo, quando a criação não for disruptiva, não estiver associada a um novo material, não compreender software embarcado, não dizer respeito a novos compostos químicos, fármacos, transgênicos e afins e sobre tudo isso persistir alguma dúvida se a invenção é óbvia a um técnico no assunto, a melhor opção é o depósito de um pedido de patente de modelo de utilidade.\\n\\n2 – VANTAGENS DO MODELO DE UTILIDADE EM RELAÇÃO À PATENTE DE INVENÇÃO\\n\\nNa prática, a única vantagem do pedido de patente de modelo de utilidade em relação ao pedido de patente de invenção é o fato de que o pedido de patente de modelo de utilidade é muito mais facilmente deferido pelo INPI do que o pedido de patente de invenção.\\n\\nIsso, evidentemente, advém do fato de que, por definição, o “ato inventivo”, requisito para deferimento de modelos de utilidade, é muito mais facilmente alcançado que a “atividade inventiva”, requisito para deferimento de patentes de invenção.\\n\\n3 – EXEMPLOS DE MODELO DE UTILIDADE\\n\\n(MAIS EXEMPLOS DE MODELO DE UTILIDADE)\\n\\n4 – MUDANÇA DE NATUREZA\\n\\nÉ possível converter um pedido de patente de invenção em um pedido de patente de modelo de utilidade durante o processamento administrativo do documento. O procedimento para essa troca de pedido de patente de invenção para pedido de patente de modelo de utilidade chama-se “mudança de natureza” e pode ocorrer tanto para converter um pedido de modelo de utilidade em um pedido de patente de invenção como o contrário, isto é, converter patente de invenção em modelo de utilidade.\\n\\nCom base nessa possibilidade, muitos redatores evitam ao máximo depositar pedidos de patente de modelo de utilidade, sempre tentando obter uma patente de invenção para qualquer que seja a criação. Quando o INPI entende não ser possível o deferimento de um pedido de patente de invenção pelo não atendimento do requisito de atividade inventiva por suas reivindicações independentes, o redator solicita a mudança de natureza do documento para pedido de patente de modelo de utilidade (art. 35, inciso II, e art. 36, LPI).\\n\\nEsta é uma boa estratégia, do ponto de vista da proteção dos direitos do titular da patente: sempre tentar a proteção por patente de invenção; quando isso não for possível, admitir a proteção por modelo de utilidade. Ao buscar a proteção mais abrangente possível, mas aceitando uma proteção mais restrita quando não houver outra opção, o redator faz uso da mesma lógica que adotou ao elaborar o quadro reivindicatório do documento, isto é: construir reivindicações independentes o mais amplas possível e dispor de diversas reivindicações dependentes para limitar o conteúdo das independentes durante o processo administrativo quando necessário.\\n\\n5 – VIGÊNCIA DO MODELO DE UTILIDADE\\n\\nComentamos aqui que a vigência do modelo de utilidade é pelo prazo de 15 anos após a data de depósito. Ocorre que, uma exceção à regra é o atraso na concessão do documento pelo INPI devido ao grande backlog (i.e. a grande fila de pedidos de patente que aguardam exame no Instituto).\\n\\nO pedido de patente de modelo de utilidade que demorar mais de 8 anos para ser concedido, terá um período de vigência mínimo de 7 anos após a concessão. Isso é o que revela o parágrafo único do artigo 40 da lei de propriedade industrial brasileira:\\n\\nArt. 40. A patente de invenção vigorará pelo prazo de 20 (vinte) anos e a de modelo de utilidade pelo prazo 15 (quinze) anos contados da data de depósito. Parágrafo único. O prazo de vigência não será inferior a 10 (dez) anos para a patente de invenção e a 7 (sete) anos para a patente de modelo de utilidade, a contar da data de concessão, ressalvada a hipótese de o INPI estar impedido de proceder ao exame de mérito do pedido, por pendência judicial comprovada ou por motivo de força maior.\\n\\n+ e-books gratuitos sobre patentes\\n\\n(artigo baseado em trecho do livro Manual de Redação de Patentes de Ari Magalhães)\\n\\nADVOGADO – ENGENHEIRO MECÂNICO – PATENTES – SÓCIO FUNDADOR info@mnip.com.br / +55 11 95448-6409\\n\\nDeixe um comentário Cancelar resposta\\n\\nExcelência em Propriedade Industrial\\n\\nConte com quem tem mais de 10 anos de experiência no mercado de Patentes'), Document(metadata={'id': 'web-search_1', 'snippet': 'Acesso à Informação\\n\\npt Escolher o idioma\\n\\nMudar para o modo de alto contraste\\n\\nAbrir menu principal de navegação\\n\\nServiços e Informações do Brasil\\n\\nTermos mais buscados\\n\\nTermos mais buscados\\n\\nSolicitar patente de modelo de utilidade\\n\\nEmpresa, Indústria e Comércio\\n\\nPropriedade Industrial e Intelectual > Patentes\\n\\nSolicitar patente de modelo de utilidade Iniciar\\n\\nAvaliação: Sem Avaliação\\n\\nO número antes das estrelas é a nota dada pelos usuários que utilizaram o serviço e vai de 1 a 5. Depois das estrelas, entre parênteses, é a quantidade de usuários que avaliaram o serviço. Os números são atualizados diariamente. Iniciar\\n\\nImprimir Compartilhe: Compartilhe no Whatsapp Compartilhe no Facebook Compartilhe no Twitter Compartilhe no Linkedin Compartilhar essa página\\n\\nÚltima Modificação: 31/10/2023\\n\\nDestina-se à pessoa física ou jurídica que deseja requerer um pedido de patente de modelo de utilidade de um objeto de uso prático ou parte deste, suscetível de aplicação industrial, que apresente nova forma ou disposição, envolvendo ato inventivo que resulte em melhoria funcional no seu uso ou em sua fabricação, como utensílios e ferramentas.O serviço consiste, basicamente, no recebimento do depósito do pedido de patente de modelo de utilidade, que será mantido em sigilo durante dezoito meses (da data de depósito ou da prioridade mais antiga), seguido da sua publicação e exame técnico, sendo facultada a apresentação, pelos interessados, de documentos e informações para subsidiarem o exame. A patente de modelo de utilidade, quando concedida, tem validade de 15 anos contados do depósito.\\n\\nQuem pode utilizar este serviço?\\n\\nPessoa física ou jurídica, ou seu procurador devidamente constituído por instrumento de mandato, que deseja requerer um pedido de patente de modelo de utilidade de um objeto de uso prático ou parte deste, suscetível de aplicação industrial, que apresente nova forma ou disposição, envolvendo ato inventivo que resulte em melhoria funcional no seu uso ou em sua fabricação, como utensílios e ferramentas.\\n\\nCadastrado no Sistema e-INPI.\\n\\nEtapas para a realização deste serviço\\n\\nLogin no Sistema e-INPI.\\n\\nCanais de prestação\\n\\nProcedimentos de atendimento quando o sistema informatizado se encontrar indisponível\\n\\nAcompanhamento da regularização dos serviços digitais e solicitação da devolução do respectivo prazo, se necessário.\\n\\nDocumentação em comum para todos os casos\\n\\nCadastrado no Sistema e-INPI.\\n\\nTempo de duração da etapa\\n\\nPagar a Guia de Recolhimento da União\\n\\nEmissão e pagamento da GRU (relativa ao serviço).\\n\\nCanais de prestação\\n\\nProcedimentos de atendimento quando o sistema informatizado se encontrar indisponível\\n\\nAcompanhamento da regularização dos serviços digitais e solicitação da devolução do respectivo prazo, se necessário.\\n\\nDocumentação em comum para todos os casos\\n\\nCadastrado no Sistema e-INPI.\\n\\nCódigo 200: Serviço prestado por meio eletrônico, pelo Sistema e-Patentes (sem desconto) R$ 175,00\\n\\nCódigo 200: Serviço prestado por meio eletrônico, pelo Sistema e-Patentes (com desconto) R$ 70,00\\n\\nCódigo 200: Serviço prestado por meio físico, em papel (sem desconto) R$ 260,00\\n\\nCódigo 200: Serviço prestado por meio físico, em papel (com desconto) R$ 104,00\\n\\nTempo de duração da etapa\\n\\nAcesso ao Sistema e-Patentes e preenchimento do formulário eletrônico ou impressão, preenchimento e postagem do formulário em papel.\\n\\nCanais de prestação\\n\\nProcedimentos de atendimento quando o sistema informatizado se encontrar indisponível\\n\\nRealização de protocolo presencial na sede do INPI ou em suas unidades regionais; ou acompanhamento da regularização dos serviços digitais e solicitação da devolução do respectivo prazo, se necessário.\\n\\nDocumentação em comum para todos os casos\\n\\nDados do depositante e do inventor (preenchimento do formulário de depósito); Numeração da GRU paga; Conteúdo técnico — relatório descritivo; quadro reivindicatório; resumo; desenhos (pelo menos o relatório descritivo ou o quadro reivindicatório deve ser apresentado em português no ato do depósito).\\n\\nTempo de duração da etapa\\n\\nPagar nova Guia de Recolhimento da União\\n\\nEmissão e pagamento da GRU. Ao longo do processo, alguns recolhimentos são obrigatórios. No prazo de até 36 meses do depósito deve ser comprovado o recolhimento da retribuição de pedido de exame (Código 204). O pagamento das anuidades também é obrigatório de acordo com os prazos legais (Códigos 240 a 247).\\n\\nCanais de prestação\\n\\nProcedimentos de atendimento quando o sistema informatizado se encontrar indisponível\\n\\nAcompanhamento da regularização dos serviços digitais e solicitação da devolução do respectivo prazo, se necessário.\\n\\nDocumentação em comum para todos os casos\\n\\nCadastrado no Sistema e-INPI.\\n\\nTempo de duração da etapa\\n\\nAcompanhar o serviço\\n\\nAcompanhamento processual. Os processos relativos aos serviços prestados pelo INPI atravessam diferentes etapas, a solicitar dos usuários a consulta aos conteúdos publicados, o cumprimento de exigências e o envio de documentos. Os usuários podem acompanhar a movimentação processual no Sistema Busca Web. No entanto, para não perder prazos, é importante acompanhar atentamente o andamento do processo pela consulta à Revista da Propriedade Industrial (RPI).\\n\\nCanais de prestação\\n\\nProcedimentos de atendimento quando o sistema informatizado se encontrar indisponível\\n\\nAcompanhamento da regularização dos serviços digitais e solicitação da devolução do respectivo prazo, se necessário.\\n\\nDocumentação em comum para todos os casos\\n\\nAcesso ao Sistema Busca Web.\\n\\nTempo de duração da etapa\\n\\nTomar conhecimento da decisão\\n\\nPublicação da decisão de mérito na Revista da Propriedade Industrial (RPI). A Revista da Propriedade Industrial (RPI) é a publicação oficial do INPI. Em conformidade com a Lei nº 5.648, de 11 de dezembro de 1970, o Instituto publica todos os seus atos, despachos e decisões relativos ao sistema de propriedade industrial do Brasil. O usuário deve acompanhar atentamente o andamento do processo pela consulta à Revista da Propriedade Industrial (RPI), publicada semanalmente, às terças-feiras.\\n\\nCanais de prestação\\n\\nProcedimentos de atendimento quando o sistema informatizado se encontrar indisponível\\n\\nAcompanhamento da regularização dos serviços digitais e solicitação da devolução do respectivo prazo, se necessário.\\n\\nDocumentação em comum para todos os casos\\n\\nTempo de duração da etapa\\n\\nAté 7 dia(s) corrido(s)\\n\\nPagar mais uma Guia de Recolhimento da União\\n\\nEmissão e pagamento da GRU (relativa à expedição da carta-patente, se houver o deferimento do pedido).\\n\\nCanais de prestação\\n\\nProcedimentos de atendimento quando o sistema informatizado se encontrar indisponível\\n\\nAcompanhamento da regularização dos serviços digitais e solicitação da devolução do respectivo prazo, se necessário.\\n\\nDocumentação em comum para todos os casos\\n\\nCadastrado no Sistema e-INPI.\\n\\nCódigo 212: Expedição da carta-patente, no prazo ordinário (60 dias) (sem desconto) R$ 235,00\\n\\nCódigo 212: Expedição da carta-patente, no prazo ordinário (60 dias) (com desconto) R$ 94,00\\n\\nCódigo 212: Expedição da carta-patente, no prazo extraordinário (90 dias) (sem desconto) R$ 475,00\\n\\nCódigo 212: Expedição da carta-patente, no prazo extraordinário (90 dias) (com desconto) R$ 190,00\\n\\nTempo de duração da etapa\\n\\nReceber a carta-patente\\n\\nAcesso ao Sistema Busca Web para download da carta-patente.\\n\\nCanais de prestação\\n\\nProcedimentos de atendimento quando o sistema informatizado se encontrar indisponível\\n\\nAcompanhamento da regularização dos serviços digitais e solicitação da devolução do respectivo prazo, se necessário.\\n\\nDocumentação em comum para todos os casos\\n\\nAcesso ao Sistema Busca Web.\\n\\nTempo de duração da etapa\\n\\nOutras Informações\\n\\nAté 117 mês(es) é o tempo estimado para a prestação deste serviço.\\n\\nInformações adicionais ao tempo estimado\\n\\nMeta para 2021: 2 anos, a partir do pedido de exame.\\n\\nPara mais informações ou dúvidas sobre este serviço, entre em contato\\n\\nhttps://www.gov.br/inpi/pt-br/plataforma-integrada-de-atendimento\\n\\nEste é um serviço do(a) Instituto Nacional da Propriedade Industrial . Em caso de dúvidas, reclamações ou sugestões favor contactá-lo.\\n\\nInformações adicionais ao tempo de validade\\n\\nA patente de modelo de utilidade, quando concedida, tem validade de 15 anos contados do depósito.\\n\\nhttps://www.gov.br/inpi/pt-br/central-de-conteudo/legislacao\\n\\nTratamento a ser dispensado ao usuário no atendimento\\n\\nAssiste aos usuários do INPI: I – obter a proteção de seus dados e informações pessoais, e daqueles considerados sensíveis; II – ter acesso a dados e informações necessárias à tutela judicial ou administrativa de direitos fundamentais, e daqueles relativos à sua pessoa, contidos em registros ou documentos, produzidos ou custodiados pelo INPI, e constantes das bases de dados do Instituto e de suas unidades administrativas; III – acompanhar e monitorar os serviços públicos solicitados ao INPI, evitando, quando possível, a necessidade de atendimento presencial; IV – receber atendimento igualitário, prestado com urbanidade, respeito, cortesia e em linguagem cidadã; V – ter assegurado o recebimento de requerimentos pelos serviços de protocolo, exceto quando o INPI ou suas unidades administrativas forem manifestamente incompetentes; VI – ter assegurada a simplificação de processos e procedimentos de atendimento, com a valorização da jornada e experiência para a obtenção do serviço público.\\n\\nInformações sobre as condições de acessibilidade, sinalização, limpeza e conforto dos locais de atendimento\\n\\nO usuário do serviço público, conforme estabelecido pela Lei nº 13.460, de 2017, tem direito a atendimento presencial, quando necessário, em instalações salubres, seguras, sinalizadas, acessíveis e adequadas ao serviço e ao atendimento.\\n\\nInformação sobre quem tem direito a tratamento prioritário\\n\\nDe acordo com o disposto no art. 69-A da Lei nº 9.784, de 29 de janeiro de 1999, o INPI confere trâmite prioritário a idosos, a portadores de deficiência física ou mental, e a portadores de doenças graves. Além desses casos, é realizado exame prioritário de pedidos de patente nas seguintes situações: I - idade, uso indevido do invento, portador de deficiência física ou mental, ou de doença grave, pedido de recursos de fomento, objeto de emergência nacional ou interesse público (Resolução INPI/PR nº 151, de 23 de outubro de 2015); II - tecnologias verdes (Resolução INPI/PR nº 175, de 5 de novembro de 2016); III - produtos para saúde (Resolução INPI/PR nº 217, de 3 de maio de 2018); IV - Patent Prosecution Highway (PPH); V - Prioridade BR; VI - Patentes MPE; e VII - Patentes ICTs.\\n\\nSERVIÇOS RECOMENDADOS PARA VOCÊ\\n\\nSolicitar patente de invenção\\n\\nSolicitar patente de modelo de utilidade para pedido internacional (PCT)\\n\\nSolicitar patente de invenção para pedido internacional (PCT)\\n\\nSolicitar o registro de desenho industrial\\n\\nSolicitar certificado de adição de invenção\\n\\nSolicitar a realização de busca e emissão de opinião preliminar sobre patenteabilidade\\n\\nDenúncia Denúncia Para comunicar a ocorrência de alguma irregularidade relacionada ao serviço\\n\\nReclamação Reclamação Se você foi mal atendido e está insatisfeito com o atendimento e/ou serviço prestado\\n\\nElogio Elogio Se você ficou satisfeito com o serviço prestado\\n\\nSugestão Sugestão Se você tiver uma idéia ou proposta de melhoria para este serviço\\n\\nTags: INPIpatentesmodelo de utilidade\\n\\nSua avaliação já foi realizada\\n\\nAvaliação indisponível no momento\\n\\nErro ao gravar motivo da avaliação.\\n\\nAs informações desta página foram úteis para você?\\n\\nAgradecemos a sua contribuição para a melhoria do GOV.BR!\\n\\nFale Agora Refazer a busca', 'timestamp': '2024-11-05T00:35:44', 'title': 'Solicitar patente de modelo de utilidade', 'url': 'https://www.gov.br/pt-br/servicos/solicitar-patente-de-modelo-de-utilidade'}, page_content='Acesso à Informação\\n\\npt Escolher o idioma\\n\\nMudar para o modo de alto contraste\\n\\nAbrir menu principal de navegação\\n\\nServiços e Informações do Brasil\\n\\nTermos mais buscados\\n\\nTermos mais buscados\\n\\nSolicitar patente de modelo de utilidade\\n\\nEmpresa, Indústria e Comércio\\n\\nPropriedade Industrial e Intelectual > Patentes\\n\\nSolicitar patente de modelo de utilidade Iniciar\\n\\nAvaliação: Sem Avaliação\\n\\nO número antes das estrelas é a nota dada pelos usuários que utilizaram o serviço e vai de 1 a 5. Depois das estrelas, entre parênteses, é a quantidade de usuários que avaliaram o serviço. Os números são atualizados diariamente. Iniciar\\n\\nImprimir Compartilhe: Compartilhe no Whatsapp Compartilhe no Facebook Compartilhe no Twitter Compartilhe no Linkedin Compartilhar essa página\\n\\nÚltima Modificação: 31/10/2023\\n\\nDestina-se à pessoa física ou jurídica que deseja requerer um pedido de patente de modelo de utilidade de um objeto de uso prático ou parte deste, suscetível de aplicação industrial, que apresente nova forma ou disposição, envolvendo ato inventivo que resulte em melhoria funcional no seu uso ou em sua fabricação, como utensílios e ferramentas.O serviço consiste, basicamente, no recebimento do depósito do pedido de patente de modelo de utilidade, que será mantido em sigilo durante dezoito meses (da data de depósito ou da prioridade mais antiga), seguido da sua publicação e exame técnico, sendo facultada a apresentação, pelos interessados, de documentos e informações para subsidiarem o exame. A patente de modelo de utilidade, quando concedida, tem validade de 15 anos contados do depósito.\\n\\nQuem pode utilizar este serviço?\\n\\nPessoa física ou jurídica, ou seu procurador devidamente constituído por instrumento de mandato, que deseja requerer um pedido de patente de modelo de utilidade de um objeto de uso prático ou parte deste, suscetível de aplicação industrial, que apresente nova forma ou disposição, envolvendo ato inventivo que resulte em melhoria funcional no seu uso ou em sua fabricação, como utensílios e ferramentas.\\n\\nCadastrado no Sistema e-INPI.\\n\\nEtapas para a realização deste serviço\\n\\nLogin no Sistema e-INPI.\\n\\nCanais de prestação\\n\\nProcedimentos de atendimento quando o sistema informatizado se encontrar indisponível\\n\\nAcompanhamento da regularização dos serviços digitais e solicitação da devolução do respectivo prazo, se necessário.\\n\\nDocumentação em comum para todos os casos\\n\\nCadastrado no Sistema e-INPI.\\n\\nTempo de duração da etapa\\n\\nPagar a Guia de Recolhimento da União\\n\\nEmissão e pagamento da GRU (relativa ao serviço).\\n\\nCanais de prestação\\n\\nProcedimentos de atendimento quando o sistema informatizado se encontrar indisponível\\n\\nAcompanhamento da regularização dos serviços digitais e solicitação da devolução do respectivo prazo, se necessário.\\n\\nDocumentação em comum para todos os casos\\n\\nCadastrado no Sistema e-INPI.\\n\\nCódigo 200: Serviço prestado por meio eletrônico, pelo Sistema e-Patentes (sem desconto) R$ 175,00\\n\\nCódigo 200: Serviço prestado por meio eletrônico, pelo Sistema e-Patentes (com desconto) R$ 70,00\\n\\nCódigo 200: Serviço prestado por meio físico, em papel (sem desconto) R$ 260,00\\n\\nCódigo 200: Serviço prestado por meio físico, em papel (com desconto) R$ 104,00\\n\\nTempo de duração da etapa\\n\\nAcesso ao Sistema e-Patentes e preenchimento do formulário eletrônico ou impressão, preenchimento e postagem do formulário em papel.\\n\\nCanais de prestação\\n\\nProcedimentos de atendimento quando o sistema informatizado se encontrar indisponível\\n\\nRealização de protocolo presencial na sede do INPI ou em suas unidades regionais; ou acompanhamento da regularização dos serviços digitais e solicitação da devolução do respectivo prazo, se necessário.\\n\\nDocumentação em comum para todos os casos\\n\\nDados do depositante e do inventor (preenchimento do formulário de depósito); Numeração da GRU paga; Conteúdo técnico — relatório descritivo; quadro reivindicatório; resumo; desenhos (pelo menos o relatório descritivo ou o quadro reivindicatório deve ser apresentado em português no ato do depósito).\\n\\nTempo de duração da etapa\\n\\nPagar nova Guia de Recolhimento da União\\n\\nEmissão e pagamento da GRU. Ao longo do processo, alguns recolhimentos são obrigatórios. No prazo de até 36 meses do depósito deve ser comprovado o recolhimento da retribuição de pedido de exame (Código 204). O pagamento das anuidades também é obrigatório de acordo com os prazos legais (Códigos 240 a 247).\\n\\nCanais de prestação\\n\\nProcedimentos de atendimento quando o sistema informatizado se encontrar indisponível\\n\\nAcompanhamento da regularização dos serviços digitais e solicitação da devolução do respectivo prazo, se necessário.\\n\\nDocumentação em comum para todos os casos\\n\\nCadastrado no Sistema e-INPI.\\n\\nTempo de duração da etapa\\n\\nAcompanhar o serviço\\n\\nAcompanhamento processual. Os processos relativos aos serviços prestados pelo INPI atravessam diferentes etapas, a solicitar dos usuários a consulta aos conteúdos publicados, o cumprimento de exigências e o envio de documentos. Os usuários podem acompanhar a movimentação processual no Sistema Busca Web. No entanto, para não perder prazos, é importante acompanhar atentamente o andamento do processo pela consulta à Revista da Propriedade Industrial (RPI).\\n\\nCanais de prestação\\n\\nProcedimentos de atendimento quando o sistema informatizado se encontrar indisponível\\n\\nAcompanhamento da regularização dos serviços digitais e solicitação da devolução do respectivo prazo, se necessário.\\n\\nDocumentação em comum para todos os casos\\n\\nAcesso ao Sistema Busca Web.\\n\\nTempo de duração da etapa\\n\\nTomar conhecimento da decisão\\n\\nPublicação da decisão de mérito na Revista da Propriedade Industrial (RPI). A Revista da Propriedade Industrial (RPI) é a publicação oficial do INPI. Em conformidade com a Lei nº 5.648, de 11 de dezembro de 1970, o Instituto publica todos os seus atos, despachos e decisões relativos ao sistema de propriedade industrial do Brasil. O usuário deve acompanhar atentamente o andamento do processo pela consulta à Revista da Propriedade Industrial (RPI), publicada semanalmente, às terças-feiras.\\n\\nCanais de prestação\\n\\nProcedimentos de atendimento quando o sistema informatizado se encontrar indisponível\\n\\nAcompanhamento da regularização dos serviços digitais e solicitação da devolução do respectivo prazo, se necessário.\\n\\nDocumentação em comum para todos os casos\\n\\nTempo de duração da etapa\\n\\nAté 7 dia(s) corrido(s)\\n\\nPagar mais uma Guia de Recolhimento da União\\n\\nEmissão e pagamento da GRU (relativa à expedição da carta-patente, se houver o deferimento do pedido).\\n\\nCanais de prestação\\n\\nProcedimentos de atendimento quando o sistema informatizado se encontrar indisponível\\n\\nAcompanhamento da regularização dos serviços digitais e solicitação da devolução do respectivo prazo, se necessário.\\n\\nDocumentação em comum para todos os casos\\n\\nCadastrado no Sistema e-INPI.\\n\\nCódigo 212: Expedição da carta-patente, no prazo ordinário (60 dias) (sem desconto) R$ 235,00\\n\\nCódigo 212: Expedição da carta-patente, no prazo ordinário (60 dias) (com desconto) R$ 94,00\\n\\nCódigo 212: Expedição da carta-patente, no prazo extraordinário (90 dias) (sem desconto) R$ 475,00\\n\\nCódigo 212: Expedição da carta-patente, no prazo extraordinário (90 dias) (com desconto) R$ 190,00\\n\\nTempo de duração da etapa\\n\\nReceber a carta-patente\\n\\nAcesso ao Sistema Busca Web para download da carta-patente.\\n\\nCanais de prestação\\n\\nProcedimentos de atendimento quando o sistema informatizado se encontrar indisponível\\n\\nAcompanhamento da regularização dos serviços digitais e solicitação da devolução do respectivo prazo, se necessário.\\n\\nDocumentação em comum para todos os casos\\n\\nAcesso ao Sistema Busca Web.\\n\\nTempo de duração da etapa\\n\\nOutras Informações\\n\\nAté 117 mês(es) é o tempo estimado para a prestação deste serviço.\\n\\nInformações adicionais ao tempo estimado\\n\\nMeta para 2021: 2 anos, a partir do pedido de exame.\\n\\nPara mais informações ou dúvidas sobre este serviço, entre em contato\\n\\nhttps://www.gov.br/inpi/pt-br/plataforma-integrada-de-atendimento\\n\\nEste é um serviço do(a) Instituto Nacional da Propriedade Industrial . Em caso de dúvidas, reclamações ou sugestões favor contactá-lo.\\n\\nInformações adicionais ao tempo de validade\\n\\nA patente de modelo de utilidade, quando concedida, tem validade de 15 anos contados do depósito.\\n\\nhttps://www.gov.br/inpi/pt-br/central-de-conteudo/legislacao\\n\\nTratamento a ser dispensado ao usuário no atendimento\\n\\nAssiste aos usuários do INPI: I – obter a proteção de seus dados e informações pessoais, e daqueles considerados sensíveis; II – ter acesso a dados e informações necessárias à tutela judicial ou administrativa de direitos fundamentais, e daqueles relativos à sua pessoa, contidos em registros ou documentos, produzidos ou custodiados pelo INPI, e constantes das bases de dados do Instituto e de suas unidades administrativas; III – acompanhar e monitorar os serviços públicos solicitados ao INPI, evitando, quando possível, a necessidade de atendimento presencial; IV – receber atendimento igualitário, prestado com urbanidade, respeito, cortesia e em linguagem cidadã; V – ter assegurado o recebimento de requerimentos pelos serviços de protocolo, exceto quando o INPI ou suas unidades administrativas forem manifestamente incompetentes; VI – ter assegurada a simplificação de processos e procedimentos de atendimento, com a valorização da jornada e experiência para a obtenção do serviço público.\\n\\nInformações sobre as condições de acessibilidade, sinalização, limpeza e conforto dos locais de atendimento\\n\\nO usuário do serviço público, conforme estabelecido pela Lei nº 13.460, de 2017, tem direito a atendimento presencial, quando necessário, em instalações salubres, seguras, sinalizadas, acessíveis e adequadas ao serviço e ao atendimento.\\n\\nInformação sobre quem tem direito a tratamento prioritário\\n\\nDe acordo com o disposto no art. 69-A da Lei nº 9.784, de 29 de janeiro de 1999, o INPI confere trâmite prioritário a idosos, a portadores de deficiência física ou mental, e a portadores de doenças graves. Além desses casos, é realizado exame prioritário de pedidos de patente nas seguintes situações: I - idade, uso indevido do invento, portador de deficiência física ou mental, ou de doença grave, pedido de recursos de fomento, objeto de emergência nacional ou interesse público (Resolução INPI/PR nº 151, de 23 de outubro de 2015); II - tecnologias verdes (Resolução INPI/PR nº 175, de 5 de novembro de 2016); III - produtos para saúde (Resolução INPI/PR nº 217, de 3 de maio de 2018); IV - Patent Prosecution Highway (PPH); V - Prioridade BR; VI - Patentes MPE; e VII - Patentes ICTs.\\n\\nSERVIÇOS RECOMENDADOS PARA VOCÊ\\n\\nSolicitar patente de invenção\\n\\nSolicitar patente de modelo de utilidade para pedido internacional (PCT)\\n\\nSolicitar patente de invenção para pedido internacional (PCT)\\n\\nSolicitar o registro de desenho industrial\\n\\nSolicitar certificado de adição de invenção\\n\\nSolicitar a realização de busca e emissão de opinião preliminar sobre patenteabilidade\\n\\nDenúncia Denúncia Para comunicar a ocorrência de alguma irregularidade relacionada ao serviço\\n\\nReclamação Reclamação Se você foi mal atendido e está insatisfeito com o atendimento e/ou serviço prestado\\n\\nElogio Elogio Se você ficou satisfeito com o serviço prestado\\n\\nSugestão Sugestão Se você tiver uma idéia ou proposta de melhoria para este serviço\\n\\nTags: INPIpatentesmodelo de utilidade\\n\\nSua avaliação já foi realizada\\n\\nAvaliação indisponível no momento\\n\\nErro ao gravar motivo da avaliação.\\n\\nAs informações desta página foram úteis para você?\\n\\nAgradecemos a sua contribuição para a melhoria do GOV.BR!\\n\\nFale Agora Refazer a busca'), Document(metadata={'type': 'model_response', 'citations': [ChatCitation(start=28, end=53, text='bem material já conhecido', document_ids=['web-search_2']), ChatCitation(start=59, end=88, text='devido a sua forma particular', document_ids=['web-search_2']), ChatCitation(start=90, end=144, text='proporciona um aumento de sua capacidade de utilização', document_ids=['web-search_2']), ChatCitation(start=145, end=165, text='(melhoria funcional)', document_ids=['web-search_2']), ChatCitation(start=218, end=269, text='Instituto Nacional da Propriedade Industrial (INPI)', document_ids=['web-search_2']), ChatCitation(start=272, end=341, text='protege um elemento muito mais limitado do que a patente de invenção.', document_ids=['web-search_0']), ChatCitation(start=385, end=396, text='uso prático', document_ids=['web-search_0', 'web-search_1']), ChatCitation(start=402, end=436, text='apresente nova forma ou disposição', document_ids=['web-search_0', 'web-search_1']), ChatCitation(start=442, end=463, text='envolva ato inventivo', document_ids=['web-search_0', 'web-search_1']), ChatCitation(start=470, end=525, text='resulta em melhoria funcional em seu uso ou fabricação.', document_ids=['web-search_0', 'web-search_1']), ChatCitation(start=561, end=577, text='quando concedida', document_ids=['web-search_1']), ChatCitation(start=583, end=624, text='validade de 15 anos contados do depósito.', document_ids=['web-search_1'])], 'search_results': [ChatSearchResult(search_query=ChatSearchQuery(text='modelo de utilidade', generation_id='a78f310e-2fa5-4ee3-8362-70fe1a0a3911'), connector=ChatSearchResultConnector(id='web-search'), document_ids=['web-search_0', 'web-search_1', 'web-search_2', 'web-search_3', 'web-search_4'], error_message=None, continue_on_failure=None)], 'search_queries': [ChatSearchQuery(text='modelo de utilidade', generation_id='a78f310e-2fa5-4ee3-8362-70fe1a0a3911')], 'token_count': {'input_tokens': 8845.0, 'output_tokens': 456.0}}, page_content='Um modelo de utilidade é um bem material já conhecido que, devido a sua forma particular, proporciona um aumento de sua capacidade de utilização (melhoria funcional).\\n\\nA patente de modelo de utilidade é concedida pelo Instituto Nacional da Propriedade Industrial (INPI) e protege um elemento muito mais limitado do que a patente de invenção. Para ser patenteável, o objeto deve ser de uso prático, que apresente nova forma ou disposição, que envolva ato inventivo e que resulta em melhoria funcional em seu uso ou fabricação.\\n\\nA patente de modelo de utilidade, quando concedida, tem validade de 15 anos contados do depósito.')]\n"
     ]
    }
   ],
   "source": [
    "user_query = \"O que é um modelo de utilidade ?\"\n",
    "\n",
    "rag = CohereRagRetriever(llm=cohere_chat_model)\n",
    "docs = rag.get_relevant_documents(\n",
    "    user_query,\n",
    ")\n",
    "print(docs)"
   ]
  },
  {
   "cell_type": "code",
   "execution_count": 30,
   "id": "fc9d0eb9-54e0-4962-9450-a0831f281945",
   "metadata": {
    "scrolled": true
   },
   "outputs": [
    {
     "name": "stdout",
     "output_type": "stream",
     "text": [
      "Documents:\n",
      "{'id': 'doc-0', 'text': 'Art. 8º É patenteável a invenção que atenda aos requisitos de novidade, atividade inventiva e aplicação industrial.\\n#\\n        Art. 9º É patenteável como modelo de utilidade o objeto de uso prático, ou parte deste, suscetível de aplicação industrial, que apresente nova forma ou disposição, envolvendo ato inventivo, que resulte em melhoria funcional no seu uso ou em sua fabricação.\\n#\\n        Art. 10. Não se considera invenção nem modelo de utilidade:'}\n",
      "\n",
      "\n",
      "Art. 8º É patenteável a invenção que atenda aos requisitos de novidade, atividade inventiva e aplicação industrial.\n",
      "#\n",
      "        Art. 9º É patenteável como modelo de utilidade o objeto de uso prático, ou parte deste, suscetível de aplicação industrial, que apresente nova forma ou disposição, envolvendo ato inventivo, que resulte em melhoria funcional no seu uso ou em sua fabricação.\n",
      "#\n",
      "        Art. 10. Não se considera invenção nem modelo de utilidade:\n",
      "\n",
      "\n",
      "------------------------------\n",
      "\n",
      "\n",
      "Answer:\n",
      "Um modelo de utilidade é um objeto de uso prático, ou parte deste, suscetível de aplicação industrial, que apresente nova forma ou disposição, envolvendo ato inventivo, que resulte em melhoria funcional no seu uso ou em sua fabricação.\n",
      "Citations:\n",
      "[ChatCitation(start=28, end=235, text='objeto de uso prático, ou parte deste, suscetível de aplicação industrial, que apresente nova forma ou disposição, envolvendo ato inventivo, que resulte em melhoria funcional no seu uso ou em sua fabricação.', document_ids=['doc-0'])]\n"
     ]
    }
   ],
   "source": [
    "# https://docs.cohere.com/docs/embed-on-langchain\n",
    "\n",
    "docs = rag.invoke(\n",
    "    user_query,\n",
    "    documents=input_docs,\n",
    ")\n",
    "# Print the documents\n",
    "print(\"Documents:\")\n",
    "for doc in docs[:-1]: # resposta\n",
    "    print(doc.metadata)\n",
    "    print(\"\\n\\n\" + doc.page_content)\n",
    "    print(\"\\n\\n\" + \"-\" * 30 + \"\\n\\n\")\n",
    "# Print the final generation \n",
    "answer = docs[-1].page_content\n",
    "print(\"Answer:\")\n",
    "print(answer)\n",
    "# Print the final citations \n",
    "citations = docs[-1].metadata['citations']\n",
    "print(\"Citations:\")\n",
    "print(citations)\n"
   ]
  },
  {
   "cell_type": "code",
   "execution_count": 28,
   "id": "b80799f5-d231-415c-9dae-60af70e8bfd0",
   "metadata": {},
   "outputs": [
    {
     "name": "stdout",
     "output_type": "stream",
     "text": [
      "{'id': 'doc-0', 'text': 'Art. 8º É patenteável a invenção que atenda aos requisitos de novidade, atividade inventiva e aplicação industrial.\\n#\\n        Art. 9º É patenteável como modelo de utilidade o objeto de uso prático, ou parte deste, suscetível de aplicação industrial, que apresente nova forma ou disposição, envolvendo ato inventivo, que resulte em melhoria funcional no seu uso ou em sua fabricação.\\n#\\n        Art. 10. Não se considera invenção nem modelo de utilidade:'}\n",
      "\n",
      "\n",
      "++++++++++++++++++++++++++++++\n",
      "\n",
      "\n",
      "\n",
      "\n",
      "Art. 8º É patenteável a invenção que atenda aos requisitos de novidade, atividade inventiva e aplicação industrial.\n",
      "#\n",
      "        Art. 9º É patenteável como modelo de utilidade o objeto de uso prático, ou parte deste, suscetível de aplicação industrial, que apresente nova forma ou disposição, envolvendo ato inventivo, que resulte em melhoria funcional no seu uso ou em sua fabricação.\n",
      "#\n",
      "        Art. 10. Não se considera invenção nem modelo de utilidade:\n",
      "\n",
      "\n",
      "------------------------------\n",
      "\n",
      "\n",
      "{'type': 'model_response', 'citations': [ChatCitation(start=28, end=235, text='objeto de uso prático, ou parte deste, suscetível de aplicação industrial, que apresente nova forma ou disposição, envolvendo ato inventivo, que resulte em melhoria funcional no seu uso ou em sua fabricação.', document_ids=['doc-0'])], 'search_results': None, 'search_queries': [ChatSearchQuery(text='modelo de utilidade', generation_id='40892535-cd82-413b-8b2d-11471a8963cd')], 'token_count': {'input_tokens': 1166.0, 'output_tokens': 117.0}}\n",
      "\n",
      "\n",
      "++++++++++++++++++++++++++++++\n",
      "\n",
      "\n",
      "\n",
      "\n",
      "Um modelo de utilidade é um objeto de uso prático, ou parte deste, suscetível de aplicação industrial, que apresente nova forma ou disposição, envolvendo ato inventivo, que resulte em melhoria funcional no seu uso ou em sua fabricação.\n",
      "\n",
      "\n",
      "------------------------------\n",
      "\n",
      "\n"
     ]
    }
   ],
   "source": [
    "for doc in docs:\n",
    "    print(doc.metadata)\n",
    "    print(\"\\n\\n\" + \"+\" * 30 + \"\\n\\n\")\n",
    "    print(\"\\n\\n\" + doc.page_content)\n",
    "    print(\"\\n\\n\" + \"-\" * 30 + \"\\n\\n\")"
   ]
  },
  {
   "cell_type": "code",
   "execution_count": 27,
   "id": "f2b5fd31-bdbd-41be-834f-f5dce29ccaee",
   "metadata": {},
   "outputs": [
    {
     "data": {
      "text/plain": [
       "2"
      ]
     },
     "execution_count": 27,
     "metadata": {},
     "output_type": "execute_result"
    }
   ],
   "source": [
    "len(docs)"
   ]
  },
  {
   "cell_type": "code",
   "execution_count": null,
   "id": "bb185b3f-1625-4296-acc5-80d2f5ba1a5b",
   "metadata": {},
   "outputs": [],
   "source": []
  }
 ],
 "metadata": {
  "kernelspec": {
   "display_name": "Python 3 (ipykernel)",
   "language": "python",
   "name": "python3"
  },
  "language_info": {
   "codemirror_mode": {
    "name": "ipython",
    "version": 3
   },
   "file_extension": ".py",
   "mimetype": "text/x-python",
   "name": "python",
   "nbconvert_exporter": "python",
   "pygments_lexer": "ipython3",
   "version": "3.10.15"
  }
 },
 "nbformat": 4,
 "nbformat_minor": 5
}

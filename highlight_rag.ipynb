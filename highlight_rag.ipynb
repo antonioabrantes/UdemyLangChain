{
 "cells": [
  {
   "cell_type": "code",
   "execution_count": 54,
   "id": "c021cf3d-b0b6-4047-b409-45e0ccfb7a56",
   "metadata": {},
   "outputs": [],
   "source": [
    "# https://github.com/Coding-Crashkurse/LangGraph-Tutorial/blob/main/highlight_rag.ipynb\n",
    "# RAG avançado: destacando texto recuperado em PDFs\n",
    "# https://www.youtube.com/watch?v=GB_LG0QtXGg\n",
    "\n",
    "# pip install openai\n",
    "# pip install langchain-openai\n",
    "# pip install python-dotenv\n",
    "# pip install pypdf\n",
    "# pip install langchain-community\n",
    "# pip install PyMuPDF\n",
    "# pip install chromadb\n",
    "# pip install langgraph\n",
    "\n",
    "from langchain_openai import ChatOpenAI\n",
    "#from langchain_groq import ChatGroq\n",
    "#from langchain_anthropic import ChatAnthropic\n",
    "#from langchain_google_genai import ChatGoogleGenerativeAI\n",
    "\n",
    "import os\n",
    "from dotenv import load_dotenv"
   ]
  },
  {
   "cell_type": "code",
   "execution_count": 55,
   "id": "d6cc2802-435a-432c-bc6c-8e984c01c173",
   "metadata": {},
   "outputs": [],
   "source": [
    "load_dotenv(dotenv_path='../.env')\n",
    "\n",
    "# https://platform.openai.com/api-keys\n",
    "openai_api_key = os.getenv(\"OPENAI_API_KEY\")\n",
    "\n",
    "# https://console.groq.com/keys\n",
    "#groq_api_key = os.getenv(\"GROQ_API_KEY\")\n",
    "\n",
    "# https://console.anthropic.com/dashboard\n",
    "#anthropic_api_key = os.getenv(\"ANTHROPIC_API_KEY\")\n",
    "\n",
    "# https://aistudio.google.com/app/apikey\n",
    "#gemini_api_key = os.getenv(\"GEMINI_API_KEY\")"
   ]
  },
  {
   "cell_type": "code",
   "execution_count": 56,
   "id": "3d89a43e-eccd-4ac4-bd6e-dc57d82b0b2b",
   "metadata": {},
   "outputs": [],
   "source": [
    "from langchain_community.document_loaders import PyPDFLoader # pip install pypdf\n",
    "\n",
    "loader = PyPDFLoader(\"output.pdf\")\n",
    "pages = []\n",
    "async for page in loader.alazy_load():\n",
    "    pages.append(page)"
   ]
  },
  {
   "cell_type": "code",
   "execution_count": 57,
   "id": "7340799a-267b-434c-9827-1d98ba2f4bc6",
   "metadata": {},
   "outputs": [
    {
     "data": {
      "text/plain": [
       "[Document(metadata={'producer': 'Microsoft® Word para Microsoft 365', 'creator': 'Microsoft® Word para Microsoft 365', 'creationdate': '2025-04-14T11:22:55-03:00', 'author': 'Antonio Abrantes', 'moddate': '2025-04-14T11:22:55-03:00', 'source': 'output.pdf', 'total_pages': 14, 'page': 0, 'page_label': '1'}, page_content='id;Tema;Pergunta;Resposta;Modelos;Despacho \\n1;Vício de procedimento;No parecer de indeferimento não houve o tratamento de todas \\nas petições apresentadas relacionadas diretamente ao mérito da decisão impugnada, por \\nexemplo de existe uma petição subsídio ao exame que foi desconsiderada. Existe um \\nvício de porcedimento neste caso?;Sim. O examinador de recurso deve se certificar de \\nque todas as petições pertinentes ao exame de mérito foram consideradas no parecer de \\nindeferimento. O examinador recursal deve verificar se o quadro reivindicatório analisado \\né o correto e se foi desconsiderada alguma das petições apresentadas relacionadas \\ndiretamente ao mérito da decisão impugnada, por exemplo uma petição de subsídio ao \\nexame que foi desconsiderada. Tendo em vista que existe um Vício de procedimento que \\nimpede a resolução do mérito do recurso, opina-se pela anulação da decisão proferida, \\ncom consequente retorno dos autos à primeira instância, para a continuação do exame. A \\nanálise do julgamento de indeferimento está prejudicada em razão do Vício de \\nprocedimento. Fica igualmente prejudicada a análise sobre a possibilidade de \\nmodificações no pedido.;[1];Despacho 100.2. Recurso conhecido e provido para correção \\ndo Vício de procedimento. Anulado o indeferimento para retorno dos autos à Primeira \\nInstância.# \\n2;Regra de transição;Existe uma regra transitória para adoção dos novos procedimentos \\nde recurso de pedidos de patente que possibilite a aceitação de novas vias de quadro \\nreivindicatório na fase recursal?;Sim, a Portaria/INPI/Nº 10, de 08 de março de 2024, que \\naprova as Diretrizes de instrução de Recursos e Processos Administrativos de Nulidade \\nestabelece uma regra de transição. De acordo com esta Portaria/INPI/Nº 10 publicada na \\nRPI 2776, para os pedidos de patente nos quais o exame substantivo iniciou após 1º de \\nabril de 2024, emendas na segunda instância já não são aceitas. Para os pedidos mais \\nantigos é possível se aceitar novas vias de quadro reivindicatório na fase recursal durante \\nesta fase de transição. Segundo o item 7 da mesma Portaria, em conformidade com o que \\ndetermina o Despacho Decisório do Presidente do INPI publicado na RPI 2764, de 26 de \\ndezembro de 2023, as diretrizes aqui instituídas passam a vigorar a partir de 02 de abril de \\n2024. O recurso que tiver sido interposto até 01/04/2024 e não se adequar aos \\nbalizamentos previstos nas manifestações jurídicas constantes dos Pareceres \\nNormativos: PARECER n. 00016/2023/CGPI/PFE-INPI/PGF/AGU, PARECER n. \\n00017/2023/CGPI/PFE-INPI/PGF/AGU, PARECER n. 00018/2023/CGPI/PFE-INPI/PGF/AGU, \\nPARECER n. 00019/2023/CGPI/PFE/INPI/PGF/AGU e PARECER n. 00003/2024/CGPI/PFE-\\nINPI/PGF/AGU e, ainda, nos Despachos Decisórios do Presidente do INPI publicados nas \\nRPIs 2762 de 12/12/2023, 2764 de 26/12/2023 e 2773, de 27/02/2024, sofrerá exigência, a \\nqual poderá ser respondida dentro do prazo legalmente estabelecido pela Lei nº 9.279, de \\n14 de maio de 1996. Na ausência da petição de aditamento de que trata o Despacho \\nDecisório do Presidente do INPI, publicado na RPI 2764, de 26/12/2023, poderá ser \\nadmitido e provido o recurso oriundo de pedido de patente cujo primeiro despacho de \\nexigência (despacho 6.1) ou ciência (despacho 7.1) ocorrer até 1º de abril de 2024. Em tal \\ncaso, caberá ao recorrente, mediante cumprimento de exigência formulada pela \\nCoordenação Geral de Recursos e Nulidades Administrativas (CGREC), justificar e \\ncomprovar a impossibilidade técnica de adequação às presentes Diretrizes de Instrução \\nde Recursos e Processos Administrativos de Nulidade.;[0];# \\n3;Vício de procedimento;O parecer de indeferimento foi baseado no quadro \\nreivindicatório errado. Isso é um vício de procedimento?;Sim, todo o indeferimento foi'),\n",
       " Document(metadata={'producer': 'Microsoft® Word para Microsoft 365', 'creator': 'Microsoft® Word para Microsoft 365', 'creationdate': '2025-04-14T11:22:55-03:00', 'author': 'Antonio Abrantes', 'moddate': '2025-04-14T11:22:55-03:00', 'source': 'output.pdf', 'total_pages': 14, 'page': 1, 'page_label': '2'}, page_content='baseado no quadro reivindicatório errado, o que impede o exame de mérito desta decisão \\nde indeferimento. O pedido deve retornar à primeira instância.;[1];Despacho 100.2. \\nRecurso conhecido e provido para correção do vício de procedimento. Anulado o \\nindeferimento para retorno dos autos à Primeira Instância.# \\n4;Vício de procedimento;Os Quadros I e II indicam inconformidades no pedido de \\npatente, mas na conclusão final do parecer de indeferimento estas inconformidades não \\nestão todas listadas. Isso é um vício de procedimento;Sim, a contradição deve ser \\napontada no parecer recursal e o pedido devolvido à primeira instância caso na \\nmanifestação de recurso fique claro que o requerente não pode exercer plenamente seu \\ndireito de defesa. No caso em que apesar do erro do parecer de indeferimento ele expôs a \\nsua argumentação contra todas as objeções citadas no parecer então o exame de recurso \\ndeve prosseguir sem a necessidade de remeter este pedido novamente à primeira \\ninstância, pois o Vício de procedimento foi sanado pelo próprio requerente. O parecer de \\nprimeira instância que fundamenta um indeferimento sem citar o artigo correto, ou \\ninconsistente com os erros apontados nos quadros do parecer, pode constituir Vício de \\nprocedimento se de fato o recorrente não exercer seu direito de defesa por conta desses \\nproblemas.;[1];Despacho 100.2. Recurso conhecido e provido para correção do vício de \\nprocedimento. Anulado o indeferimento para retorno dos autos à Primeira Instância.# \\n5;Vício de procedimento;O parecer de indeferimento é sumário em sua argumentação, e, \\nportanto, apresenta inconsistências prejudiciais à ampla defesa e contraditório. Existe \\nvício de procedimento?;Sim, segundo Parecer n. 00016/2023/CGPI/PFE-INPI/PGF/AGU \\nitem 50 é de se destacar o princípio da pluralidade das instâncias. Para que este direito \\nseja exercido plenamente é fundamental que o parecer de indeferimento seja \\nfundamentado e exponha claramente as razões para sua conclusão. O parecer de \\nindeferimento que apresenta inconsistências prejudiciais, por exemplo um parecer \\nincoerente ou que se contradiz, ou que é pouco claro em sua argumentação lógica \\nconstitui um Vício de procedimento. Tais inconsistências no parecer impedem ou \\ndificultam o exercício da ampla defesa e contraditório.;[1];Despacho 100.2. Recurso \\nconhecido e provido para correção do vício de procedimento. Anulado o indeferimento \\npara retorno dos autos à Primeira Instância.# \\n6;Vício de procedimento;O parecer de indeferimento encontra-se com falta de motivação \\nadequada e, portanto, apresenta inconsistências prejudiciais à ampla defesa e \\ncontraditório. Existe vício de procedimento? ;Sim, o parecer de indeferimento não \\nencontra-se devidamente motivado. A não motivação da decisão recorrida prejudica a \\ndefesa por parte do recorrente, na medida em que este não discute de forma suficiente \\ntodas as alegações relevantes do depositante. Não se trata de avaliar o mérito aqui, mas \\napenas se o parecer não apresenta minimamente uma justificativa (correta ou não) para o \\nindeferimento. A motivação da decisão emanada pela primeira instância deve permitir \\nque a 2ª instância e o próprio requerente compreendam claramente a justificativa do \\nindeferimento.;[1];Despacho 100.2. Recurso conhecido e provido para correção do vício \\nde procedimento. Anulado o indeferimento para retorno dos autos à Primeira Instância. \\n6;Vício de procedimento;O parecer de indeferimento encontra-se com falta de motivação \\nadequada e, portanto, apresenta inconsistências prejudiciais à ampla defesa e \\ncontraditório. Existe vício de procedimento? ;Sim, o parecer de indeferimento não \\nencontra-se devidamente motivado. A não motivação da decisão recorrida prejudica a \\ndefesa por parte do recorrente, na medida em que este não discute de forma suficiente'),\n",
       " Document(metadata={'producer': 'Microsoft® Word para Microsoft 365', 'creator': 'Microsoft® Word para Microsoft 365', 'creationdate': '2025-04-14T11:22:55-03:00', 'author': 'Antonio Abrantes', 'moddate': '2025-04-14T11:22:55-03:00', 'source': 'output.pdf', 'total_pages': 14, 'page': 2, 'page_label': '3'}, page_content='todas as alegações relevantes do depositante. Não se trata de avaliar o mérito aqui, mas \\napenas se o parecer não apresenta minimamente uma justificativa (correta ou não) para o \\nindeferimento. A motivação da decisão emanada pela primeira instância deve permitir \\nque a 2ª instância e o próprio requerente compreendam claramente a justificativa do \\nindeferimento.;[1];Despacho 100.2. Recurso conhecido e provido para correção do vício \\nde procedimento. Anulado o indeferimento para retorno dos autos à Primeira Instância.# \\n7;Vício de procedimento;O parecer de indeferimento marca no Quadro II insuficiência \\ndescritiva artigo 24 da LPI, mas todo restante do parecer discute atividade inventiva e na \\nconclusão menciona apenas falta de atividade inventiva. Isso é um Vício de \\nprocedimento? ;Não, mas deve ser apontado no parecer recursal, porém, isso não \\nimpede o exame, pois pode-se assumir que houve um ato falho no preenchimento do \\nQuadro II. O pedido não retorna à primeira instância por conta desse lapso.;[0];# \\n8;Vício de julgamento;Um pedido que trata de segundo uso médico é indeferido por falta \\nde atividade inventiva. O parecer de indeferimento conclui que possui suficiência \\ndescritiva. Na fase recursal, mesmo não sendo objeto de indeferimento, o examinador \\nconclui que o pedido não tem suficiência descritiva. Este é um vício de julgamento?;Sim e \\nque impede o prosseguimento do exame, devendo o pedido, portanto, retornar à primeira \\ninstância. Nos casos de segundo uso o examinador deve verificar se a matéria \\nreivindicada tem insuficiência descritiva e se isso não foi levantado no parecer de \\nindeferimento. ;[2];Despacho 100.2. Recurso conhecido e provido por vício de \\njulgamento. Anulado indeferimento para retorno dos autos à 1ª Instância para a \\ncontinuação do exame técnico.# \\n9;Vício de procedimento;Um pedido é indeferido por falta de atividade inventiva. O \\nparecer de indeferimento conclui que não houve violação do artigo 32 da LPI, ou seja, não \\nhouve acréscimo de matéria. Na fase recursal, mesmo não sendo objeto de \\nindeferimento, o examinador conclui que o quadro reivindicatório viola o artigo 32 da LPI \\npor aumento de escopo de matéria reivindicada em relação ao quadro reivindicatório \\nválido no momento do pedido de exame. Este é um Vício de procedimento?;Sim tratar-se \\nde um erro de procedimento e que impede o prosseguimento do exame, devendo o \\npedido, portanto, retornar à primeira instância. O examinador na fase recursal deve \\nverificar se o quadro reivindicatório do indeferimento foi resultado de emendas em \\nrelação ao pedido de exame e se elas não atendem ao artigo 32 da LPI e se isso não foi \\nlevantado no parecer de indeferimento. Este pedido deve retornar à primeira instância \\nsomente se não houver qualquer discussão do artigo 32 da LPI no parecer de \\nindeferimento. Se tiver sido discutida esta questão no parecer de indeferimento, então \\nnão se trata de vício de procedimento mas de vício de julgamento. ;[2];Despacho 100.2. \\nRecurso conhecido e provido para correção do vício de procedimento. Anulado o \\nindeferimento para retorno dos autos à Primeira Instância.# \\n10;Vício de procedimento;Um pedido dividido é indeferido. Neste indeferimento em \\nnenhum momento se questiona qualquer problema com relação ao artigo 32 da LPI \\nrelativo a acréscimos de matéria. Na fase recursal o examinador conclui que este pedido \\nviola o artigo 32 da LPI, pois amplia matéria reivindicada em relação ao quadro \\nreivindicatório válido do pedido principal (pedido o qual originou o pedido dividido), no \\nmomento de seu pedido de exame. Isso se trata de vício de procedimento? ;Sim, nos \\ncasos de pedido dividido o examinador recursal deve certificar-se de que o quadro \\nreivindicatório dividido atende ao artigo 32 da LPI. Se não atender e isso foi ignorado no'),\n",
       " Document(metadata={'producer': 'Microsoft® Word para Microsoft 365', 'creator': 'Microsoft® Word para Microsoft 365', 'creationdate': '2025-04-14T11:22:55-03:00', 'author': 'Antonio Abrantes', 'moddate': '2025-04-14T11:22:55-03:00', 'source': 'output.pdf', 'total_pages': 14, 'page': 3, 'page_label': '4'}, page_content='parecer de indeferimento, deve ser apontado no parecer de recurso, mas somente se não \\nhouve qualquer discussão do artigo 32 da LPI no parecer de indeferimento. Se tiver sido \\ndiscutido então não se trata de vício de procedimento, mas vício de \\njulgamento.;[1];Despacho 100.2. Recurso conhecido e provido para correção do vício de \\nprocedimento. Anulado o indeferimento para retorno dos autos à Primeira Instância.# \\n11;Vício de procedimento;Vícios de procedimento dizem respeito a questões \\nprocessuais, de procedimento, na primeira instância?;Sim. Se ocorreram vícios formais \\n(questões processuais, de procedimento) que provocam prejuízo ao recorrente então o \\nparecer recursal deve encerrar com Despacho 100.1 Recurso conhecido e provido para \\ncorreção do vício de procedimento. Anulado indeferimento para retorno dos autos à \\nPrimeira Instância. Vícios formais tratam de qualquer questão diferente dos óbices que \\nfundamentam o indeferimento. Os vícios de julgamento envolvem questões que não \\nfazem parte objetiva da impugnação, isto é, não são óbices apontados pela primeira \\nInstância e que justificam o indeferimento, todavia, colocam em dúvida substancial o \\ndesfecho final da decisão recorrida. Tais óbices apontados na conclusão do parecer que \\nfundamentam o indeferimento devem ser considerados pelo examinador de segunda \\ninstância e caso venha a divergir dos mesmos deverá justificar claramente sua decisão. \\nToda vez que houver vícios formais que impedem a sequência do exame de recurso, estes \\nterão de ser claramente apontados no parecer de segunda instância para instrução da \\ndevolução para primeira instância.;[0];# \\n12;Vício de procedimento;O parecer de indeferimento, por um lado, se refere a uma \\nreferência errada do documento de anterioridade que fundamenta a falta de atividade \\ninventiva do pedido em exame, mas na sua petição de recurso o recorrente entende que \\nhouve um lapso, e consegue reconhecer a referência certa a que o examinador se refere \\nno indeferimento, de modo que isso em nada prejudica o seu direito de defesa. Isso é um \\nvício de procedimento?;Não, pois o direito de defesa foi respeitado. ;[0];# \\n13;Vício de procedimento;O indeferimento conclui que o pedido está de acordo com o \\nartigo 32 da LPI, mas marca um X no quadro II indicando que há violação do artigo 32 da \\nLPI. Temos um exemplo de vício de julgamento?;Não, mas um vício de procedimento. \\nHouve um erro de preenchimento do Quadro II, porque há uma contradição entre o que \\nestá no quadro e o que está no texto do parecer de indeferimento. Se o indeferimento diz \\nque o pedido atende ao artigo 32 da LPI mas marca um X no quadro dizendo que tem um \\nproblemas mas sem nenhuma desenvolvimento no texto do parecer, então não tem como \\no examinador da fase recursal alegar que houve um vício de julgamento se não há um \\njulgamento expresso, pis apesar de apontar problemas no Quadro II o parecer de \\nindeferimento nada discute sobre isso, que não aparece no fundamento do \\nindeferimento. Caso o examinador recursal verifique que há um problema do artigo 32 da \\nLPI então trata-se de um vício de procedimento: o artigo 32 da LPI não foi avaliado \\ncorretamente. Se o artigo 32 consta do fundamento do indeferimento como óbice, mas \\nexiste uma divergência do examinador de segunda instância sobre este ponto, então \\ntemos um vício de julgamento. ;[1];Despacho 100.2. Recurso conhecido e provido para \\ncorreção do vício de procedimento. Anulado o indeferimento para retorno dos autos à \\nPrimeira Instância.# \\n14;Vício de procedimento;Ao devolver à primeira instância o examinador de segunda \\ninstância pode adicionalmente (opcional) apontar outras objeções do pedido que não \\nforam apontadas no indeferimento?;Sim, mas raramente, pois o examinador deve'),\n",
       " Document(metadata={'producer': 'Microsoft® Word para Microsoft 365', 'creator': 'Microsoft® Word para Microsoft 365', 'creationdate': '2025-04-14T11:22:55-03:00', 'author': 'Antonio Abrantes', 'moddate': '2025-04-14T11:22:55-03:00', 'source': 'output.pdf', 'total_pages': 14, 'page': 4, 'page_label': '5'}, page_content='procurar se ater às razões de indeferimento e as argumentações levantadas pela \\nrequerente em sua petição de recurso.  Ao devolver à primeira instância o examinador de \\nsegunda instância pode adicionalmente (opcional) apontar outras objeções do pedido \\nque não foram apontadas no indeferimento, como exemplo, algum documento relevante \\nencontrado nas busca EP , por exemplo e não mencionados no parecer no parecer de \\nindeferimento, mas sempre como sugestão, apontando as características técnicas do \\ndocumento mas sem emitir qualquer opinião conclusiva de mérito dos mesmos.;[0];# \\n15;Vício de procedimento;Um parecer de indeferimento aponta falta de atividade \\ninventiva. O examinador na fase recursal entende que a matéria viola o artigo 18 da LPI, \\nmas isso em nenhum momento foi discutido no parecer de indeferimento. Trata-se de um \\nvício de procedimento?;Sim, O examinador de segunda instância deve examinar se existe \\nalguma objeção quanto aos artigos da LPI 10 (matéria não considerada invenção), 18 \\n(matéria não patenteável, como por exemplos seres vivos), 22 ((falta de unidade de \\ninvenção), 32 (acréscimo de matéria) e 24 (insuficiência descritiva) que não tenham sido \\nobservadas em primeiras instância e que impedem o prosseguimento do exame de \\nmérito. Se há questões prejudiciais de mérito, isto é, questões que impediriam alcançar a \\ndecisão do indeferimento caso sejam observadas (por exemplo o parecer de \\nindeferimento conclui por falta de atividade inventiva, mas existe um problema de artigo \\n32 não observado no parecer),  então parecer deve encerrar com Despacho 100.1 \\nRecurso conhecido e provido para correção do vício de procedimento. Anulado \\nindeferimento para retorno dos autos à Primeira Instância;[1];Despacho 100.2. Recurso \\nconhecido e provido para correção do vício de procedimento. Anulado o indeferimento \\npara retorno dos autos à Primeira Instância.# \\n16;Parecer recursal;Quais as três etapas básicas no exame de recurso que o examinador \\nrecursal deve contemplar em seu parecer?;A primeira etapa consiste em verificar a \\nexistência de vícios formais na tramitação do pedido na primeira instância (Despacho \\n100.1). Superada a situação de Despacho 100.1 o exame segue para segunda etapa onde \\no examinador de segunda instância deve investigar se ocorreram vícios de julgamento \\n(questões de fato e de direito) que provocam prejuízo ao recorrente, ou seja, as razões \\napontadas para o indeferimento estão corretas. Se o examinador entender que não há \\nvícios de julgamento, ou seja, ele concorda com o parecer de indeferimento e que o \\npedido não tem condições de deferimento ele segue para a terceira etapa do exame de \\nmérito, em que deve investigar se há solução para os óbices apontados no parecer de \\nindeferimento. Se entender que não há solução para tais óbices deve emitir Despacho \\n111 Recurso conhecido e negado provimento. Mantido o indeferimento.;[];# \\n17;Vício de julgamento;O parecer de indeferimento aponta insuficiência descritiva, falta \\nde clareza e falta de atividade inventiva como razões de indeferimento. O examinador \\nrecursal concorda apenas com a falta de atividade inventiva. Existe vício de \\njulgamento?;Não, porque no final fica mantida a decisão de indeferimento, apenas os \\nfundamentos mudaram. Na fase transitória o examinador recursal deve emitir um parecer \\nde exigência indicando que conclui que não procedem as alegações apresentadas uma \\nvez que a matéria reivindicada não atende aos requisitos de patenteabilidade do artigo 8 e \\n13 da LPI por falta de atividade inventiva.;[6];Despacho 121. Exigência técnica.# \\n18;Parecer recursal;O parecer recursal pode emitir exigências técnicas?;Sim, para \\npequenos ajustes no pedido. Na elaboração de novas exigências o examinador de \\nsegunda instância não deve aplicar exigência já formulada na primeira instância e não'),\n",
       " Document(metadata={'producer': 'Microsoft® Word para Microsoft 365', 'creator': 'Microsoft® Word para Microsoft 365', 'creationdate': '2025-04-14T11:22:55-03:00', 'author': 'Antonio Abrantes', 'moddate': '2025-04-14T11:22:55-03:00', 'source': 'output.pdf', 'total_pages': 14, 'page': 5, 'page_label': '6'}, page_content='atendida, pois há preclusão nestes casos. Nos casos de 7.1 não respondidos, em que há \\no 9.2 administrativo, nunca se aplica a preclusão de qualquer exigência. Como estamos \\nna fase transitória para aqueles pedidos que o primeiro despacho de exigência (despacho \\n6.1) ou ciência (despacho 7.1) ocorrer até 1º de abril de 2024 então a fase recursal deve \\nprimeiro emitir uma exigência em que pergunta ao recorrente o por que dele não ter \\natendido esta mesma exigência em primeiro exame. Independente da motivação \\napresentada, desde que o recorrente responda esta exigência, o cumprimento desta \\nmesma deve ser acolhida, pois para este período transitório não se aplica a preclusão, \\napenas que faz-se necessário esta etapa adicional para manifestação do recorrente.;[0];# \\n19;Parecer recursal;Na primeira instância o INPI fez uma exigência técnica para excluir a \\nreivindicação 7 por violação do artigo 10 da LPI. O requerente manteve o quadro \\nreivindicatório inalterado e teve seu pedido indeferido por artigo 10 da LPI. No recurso o \\nrequerente que apresente novo quadro reivindicatório sem esta reivindicação 7, pode ter \\neste novo quadro reivindicatório aceito?;Sim na fase transitória, mas a resposta é não, se \\napós a fase transitória, pois neste caso aplicam-se as regras de preclusão. Segundo o \\nParecer 0016/2023 CGPI/PFE-INPI/PGF/AGU publicado na RPI 2762 de 12/12/2023 no \\nitem  16. Preclusão impede inovações em fase recursal. No item 28. Por força da \\npreclusão se um pleito deveria ter sido apresentado em determinada oportunidade \\nprocessual e não foi, tal pleito não pode mais ser apresentado. Parecer 0019/2023 \\nCGPI/PFE-INPI/PGF/AGU item 23. A preclusão administrativa impede a apresentação de \\nnovo pleito na fase recursal. Ora, se um pleito deveria ter sido apresentado em \\ndeterminada oportunidade processual e não foi, tal pleito não pode ser mais \\napresentado. E mais, tal pleito, ainda que tenha sido apresentado em recurso, não pode \\nser conhecido na instância recursal por força da preclusão.;[];# \\n20;Parecer recursal;Constatado um vício de procedimento que impede o prosseguimento \\ndo exame, este pedido deve ser remetido de volta à primeira instância?;Sim. Segundo \\nParecer 0016/2023 CGPI/PFE-INPI/PGF/AGU publicado na RPI 2762 de 12/12/2023 item \\n46. Em não ocorrendo a preclusão, o erro in procedendo (erro formal/processual \\ncometido pelo órgão julgador) deve ser reconhecido, devendo a petição ser objeto de \\nanálise. Item 47 A regra geral seria remeter os autos à primeira instância para que esta \\nanalise a situação e possa eventualmente reconhecer o erro in procedendo. Item 50. É de \\nse destacar o princípio da pluralidade das instâncias;[];# \\n21;Parecer recursal;Considere um parecer de indeferimento que não tenha vícios \\nformais, mas há vício de julgamento e este provocou prejuízo ao recorrente. O examinador \\nde recurso deve necessariamente devolver este pedido à primeira instância para que \\nprossiga o exame ou ele mesmo pode deferir este pedido se entender que o pedido \\natende aos demais critérios de patenteabilidade? ;O examinador pode dar provimento a \\neste recurso e aplicar o princípio da causa madura. Segundo Parecer 0016/2023 \\nCGPI/PFE-INPI/PGF/AGU publicado na RPI 2762 de 12/12/2023 item 52. É possível \\nvislumbrar a possibilidade de a petição ser imediatamente analisada pela segunda \\ninstância com fundamento da teoria da causa madura;[3];Despacho 100.1. Recurso \\nconhecido e provido por vício de julgamento. Reformada a decisão recorrida e deferido o \\npedido.# \\n22;Parecer recursal;O parecer recursal pode levantar novas objeções à patenteabilidade \\ndo pedido que não foram levantadas no parecer de indeferimento? ;Sim, mas como a \\ncausa não está madura, este pedido deve ser devolvido à primeira instância para'),\n",
       " Document(metadata={'producer': 'Microsoft® Word para Microsoft 365', 'creator': 'Microsoft® Word para Microsoft 365', 'creationdate': '2025-04-14T11:22:55-03:00', 'author': 'Antonio Abrantes', 'moddate': '2025-04-14T11:22:55-03:00', 'source': 'output.pdf', 'total_pages': 14, 'page': 6, 'page_label': '7'}, page_content='prosseguimento do exame para que se respeite o direito de duplo grau de jurisdição. Em \\nrespeito ao princípio constitucional do duplo grau de jurisdição, os autos devem retornar \\nà primeira instância administrativa a qual possui competência regimental interna para \\nanalisar a matéria. O Parecer 0016/2023 CGPI/PFE-INPI/PGF/AGU publicado na RPI 2762 \\nde 12/12/2023 no item 50 observa que é de se destacar o princípio da pluralidade das \\ninstâncias;[2];Despacho 100.2. Recurso conhecido e provido por vício de julgamento. \\nAnulado indeferimento para retorno dos autos à 1ª Instância para a continuação do \\nexame técnico.# \\n23;Parecer recursal;O requerente na fase recursal apresenta novo quadro reivindicatório \\nem que reduz escopo de proteção, eliminando algumas reivindicações independentes. \\nMesmo com a regra de preclusão, esse quadro reduzido por ser aceito?;Não. Segundo \\nParecer 0019/2023 CGPI/PFE-INPI/PGF/AGU item 25. Não é cabível inovação no âmbito \\ndo recurso da LPI, sobretudo para incluir novo pleito, mesmo que para reduzir o escopo \\ndo quadro reivindicatório do pedido de patente, por força da preclusão administrativa. \\nItem 29. Por força da preclusão, se um pleito deveria ter sido apresentado em \\ndeterminada oportunidade processual e não foi, tal pleito não pode mais ser \\napresentado. E mais tal pleito, ainda que tenha sido apresentado em recurso, não pode \\nser conhecido na instância recursal, por força da preclusão. Item 31. Se as exigências não \\nforam cumpridas no prazo assinalado, precluiu a oportunidade para o depositante \\ncumpri-las. Não é cabível a inovação em sede recursal, logo, não há espaço em recurso \\npara apresentação de novo pleito. Item 34. Não é cabível inovação no âmbito de recurso \\nda LPI, sobretudo para incluir novo pleito, mesmo que para reduzir o escopo do quadro da \\nreivindicação do pedido de patente, por força da preclusão administrativa;[0];# \\n24;Parecer recursal;No caso de indeferimento em QR1 (quadro reivindicatório) se no \\nrecurso o requerente apresenta QR2 e QR3 mais restritos, mas o recurso conclui que \\nhouve vício de julgamento e o QR1 está ok e é inventivo o examinador recursal deve \\nanalisar QR2 e QR3?;Não, pois o pedido com QR1 encontra-se em condições de \\npatenteabilidade e pelo princípio da causa madura não há questões adicionais a serem \\nconsideradas. ;[3];Despacho 100.1. Recurso conhecido e provido por vício de julgamento. \\nReformada a decisão recorrida e deferido o pedido.# \\n25;Parecer recursal;No caso de indeferimento em QR1 (quadro reivindicatório) se no \\nrecurso o requerente apresenta QR2 e QR3 mais restritos, mas o recurso conclui que \\nhouve vício de julgamento e o QR1 está ok e é inventivo o examinador recursal deve \\nanalisar QR2 e QR3?;Não, pois o pedido com QR1 encontra-se em condições de \\npatenteabilidade e pelo princípio da causa madura não há questões adicionais a serem \\nconsideradas. ;[3];Despacho 100.1. Recurso conhecido e provido por vício de julgamento. \\nReformada a decisão recorrida e deferido o pedido.# \\n26;Parecer recursal;O examinador no recurso deve reanalisar todos os critérios de \\npatenteabilidade e fazer novas buscas, se necessário, ou se limitar aos argumentos de \\nindeferimento e a defesa apresentada pelo recorrente em seu recurso?;O examinador \\nrecursal deve se orientar pelas razões apontadas no parecer de indeferimento e a \\nmanifestação do requerente. O recurso não se trata de um novo exame. Se indeferimento \\nfoi indeferido por falta de atividade inventiva usando D1 não cabe ao examinador da \\nsegunda instância (fase recursal) fazer novas buscas. Ele deve se concentrar no exame \\ndos artigos 8 e 13. Não cabe, por exemplo, analisar artigo 25 para mostrar que o pedido \\ntem clareza tendo em vista que isso não foi questionado no indeferimento. O examinador'),\n",
       " Document(metadata={'producer': 'Microsoft® Word para Microsoft 365', 'creator': 'Microsoft® Word para Microsoft 365', 'creationdate': '2025-04-14T11:22:55-03:00', 'author': 'Antonio Abrantes', 'moddate': '2025-04-14T11:22:55-03:00', 'source': 'output.pdf', 'total_pages': 14, 'page': 7, 'page_label': '8'}, page_content='recursal, caso concorde com a falta de atividade inventiva ele deve sustentar a \\nmanutenção deste indeferimento unicamente com este argumento, sem trazer qualquer \\nargumento novo.;[3];Despacho 100.1. Recurso conhecido e provido por vício de \\njulgamento. Reformada a decisão recorrida e deferido o pedido.# \\n27;Parecer recursal;O QR novo apresentado no recurso traz restrições de faixa de valores \\npresentes somente no relatório descritivo, mas que não constam do QR indeferido. Este \\nQR novo pode ser aceito no recurso? ;Não. Na fase transitória ainda são aceitas novas \\npropostas de QR, contudo, mesmo nesta fase transitória serão aceitas somente emendas \\nque tragam elementos presentes em outras reivindicações do mesmo QR indeferido. Não \\né possível trazer elementos do relatório descritivo, ausentes do QR indeferido, pois isso \\nimplicaria em novo exame, que não cabe em um recurso. Caso o requerente traga no \\nrecurso um QR novo com elementos de outras reivindicações do QR indeferido então \\ncabe o examinador recursal fazer uma exigência técnica para que o requerente justifique \\nporque tal emenda não foi apresentada na primeira instância.;[6];Despacho 121. \\nExigência técnica.# \\n28;Parecer recursal;Indeferimento baseado na falta de atividade inventiva diante da \\ncombinação de D1, D2 ou D3 com D4, D5 ou D6. O parecer recursal deve examinar todas \\nas combinações possíveis?  ;Não. O examinador recursal deve se concentrar na \\ncombinação de dois documentos que considera mais relevantes e justificar nessa \\ncombinação a falta de atividade inventiva, se assim entender não ser inventivo, e desta \\nforma manter o indeferimento. De qualquer forma, no período transitório o examinador \\nrecursal deve emitir uma exigência técnica.;[6];Despacho 121. Exigência técnica.# \\n29;Parecer recursal;O examinador na fase recursal pode emitir um recurso não provido \\n(111) no seu primeiro parecer de recurso?;Não. O examinador recursal deve sempre emitir \\nprimeiro uma exigência técnica (121) para que o requerente possa se manifestar. \\nSomente após o cumprimento desta exigência, e diante das alegações do requerente, \\npoderá emitir um parecer conclusivo de recurso não provido (111) quando se encerra a \\nesfera administrativa no INPI.;[6];Despacho 121. Exigência técnica.# \\n30;Parecer recursal;É recomendável que no parecer recursal o examinador siga a \\nabordagem problema solução indicada na diretriz de exame para o exame de atividade \\ninventiva?;Sim. É importante reforçar a abordagem de atividade inventiva especificada na \\ndiretriz, pois isso facilita as ações judiciais. Mesmo a diretriz não usando claramente a \\nabordagem europeia problema solução especificando o documento mais relevante D1 (a \\ndiretriz se mostra ambígua nesse ponto), seria importante, na medida do possível seguir \\nessa abordagem para firmar posição nas ações judiciais e que contribui para pareceres \\nmais claros.;[0];# \\n31;Parecer recursal;Na dúvida o examinador recursal deve sempre enviar o parecer \\nnovamente à primeira instância?;Não, a devolução à primeira instância deve ser sempre \\nvista como exceção e não como regra. O examinador recursal deve proceder com \\nbastante cautela, e somente quando estiver absolutamente convencido de que houve um \\nvício de procedimento ou vício de julgamento (causa não madura) estes pedidos deverão \\nser devolvidos à primeira instância. Nesses casos a CGREC poderá inclusive indicar um \\ncolegiado para ter certeza da necessidade de devolução deste pedido à primeira \\ninstância.;[0];#'),\n",
       " Document(metadata={'producer': 'Microsoft® Word para Microsoft 365', 'creator': 'Microsoft® Word para Microsoft 365', 'creationdate': '2025-04-14T11:22:55-03:00', 'author': 'Antonio Abrantes', 'moddate': '2025-04-14T11:22:55-03:00', 'source': 'output.pdf', 'total_pages': 14, 'page': 8, 'page_label': '9'}, page_content='32;Parecer recursal;Indeferimento por D1. O examinador recursal discorda. Existe um D2 \\ncitado no parecer de 6.21 e no relatório da EPO relevante que em combinação com D1 \\nindefere por atividade inventiva. O recurso deve mencionar essa combinação D1 e \\nD2?;Sim, O recurso deve mencionar esse D2 e sugerir falta de atividade inventiva na \\ncombinação D1 e D2 quando enviar pedido de volta para primeira instância. COREP não \\ndeve fazer nova busca. Neste caso D2 estava citado na busca do 6.21.;[2];Despacho \\n100.2. Recurso conhecido e provido por vício de julgamento. Anulado indeferimento para \\nretorno dos autos à 1ª Instância para a continuação do exame técnico.# \\n33;Parecer recursal;Composição inoculante substituta de adubos químicos feito de \\nbiomassa de cana de açúcar, composição caracterizada por ser reforçada por rocha \\nmineral perlita como suporte para o microrganismo, funciona como biofertilizante. Os \\nresultados mostram aumento de biomassa de pepino e aumento de vagens de soja por \\nplanta. O indeferimento alega que a presença de perlita não é relevante e ignora essa \\ncaracterística em suas buscas, e cita falta de atividade inventiva em relação a D1. Na fase \\nrecursal o examinador pode mencionar outro documento D2 que menciona perlita?;Sim, \\nO recurso deve mencionar esse D2 e sugerir falta de atividade inventiva na combinação \\nD1 e D2 quando enviar pedido de volta para primeira instância. COREP não deve fazer \\nnova busca. Neste caso D2 estava citado na busca do 6.21 e ademais o examinador de \\nrecurso entendeu que houve um vício de julgamento quando se deixou de fazer busca \\nsobre perlita por a considerar irrelevante.;[2];Despacho 100.2. Recurso conhecido e \\nprovido por vício de julgamento. Anulado indeferimento para retorno dos autos à 1ª \\nInstância para a continuação do exame técnico.# \\n34;Parecer recursal;Pedido indeferido por método terapêutico. O examinador recursal \\nentende que não é método terapêutico mas uma fórmula suíça, que são patenteáveis. \\nEste pedido deve ser devolvido à primeira instância?;Não. O recurso não deve ser \\ndevolvido à primeira instância por vício de julgamento. Fase recursal deve fazer exigência \\npara o recorrente expor suas razões de acordo com as novas regras. Ë preferível fazer o \\nrecorrente falar e expor que não se trata de método terapêutico do que o examinador \\nrecursal levantar novas questões.;[6];Despacho 121. Exigência técnica.# \\n35;Parecer recursal;O Documento citado na primeira instância para atividade inventiva do \\npedido indeferido têm data posterior ao depósito do pedido. Existe vício de \\nprocedimento?;Sim. Pedido deve voltar para primeira instância.;[2];Despacho 100.2. \\nRecurso conhecido e provido por vício de julgamento. Anulado indeferimento para retorno \\ndos autos à 1ª Instância para a continuação do exame técnico.# \\n36;Parecer recursal;Indeferimento por ampliação de QR e violação de artigo 32 da LPI. No \\nrecurso o recorrente pode apresentar novo QR retornando a matéria reivindicada no \\npedido de exame?;Sim, se esta decisão encontra-se no período da fase de transição, mas \\nnão, após a fase de transição, quando não serão mais aceitas emendas no QR na fase \\nrecursal. Mesmo com o novo QR já apresentado na fase recursal, o examinador recursal \\ndeve formular exigência para que a recorrente apresente suas justificativas para \\napresentação do novo QR;[6];Despacho 121. Exigência técnica.# \\n37;Parecer recursal;Parecer de primeira instância baseado em norma revogada. É um \\nvício de procedimento?;Sim, o pedido deve voltar para primeira instância.;[2];Despacho \\n100.2. Recurso conhecido e provido por vício de julgamento. Anulado indeferimento para \\nretorno dos autos à 1ª Instância para a continuação do exame técnico.#'),\n",
       " Document(metadata={'producer': 'Microsoft® Word para Microsoft 365', 'creator': 'Microsoft® Word para Microsoft 365', 'creationdate': '2025-04-14T11:22:55-03:00', 'author': 'Antonio Abrantes', 'moddate': '2025-04-14T11:22:55-03:00', 'source': 'output.pdf', 'total_pages': 14, 'page': 9, 'page_label': '10'}, page_content='38;Parecer recursal;No recurso recorrente traz 3 QRs, se um deles resolver o óbice \\nlevantado no indeferimento, pode dar provimento ao recurso?;Sim, mas apenas se na \\nfase transitória. ;[2];Despacho 100.2. Recurso conhecido e provido por vício de \\njulgamento. Anulado indeferimento para retorno dos autos à 1ª Instância para a \\ncontinuação do exame técnico.# \\n39;Parecer recursal;Nos casos de razões do recurso insuficientes ou incompletas (o \\nrequerente não discutiu todas as razões de indeferimento), cabe exigência na fase \\nrecursal para ele complementar razões? ;Sim, mas apenas se na fase transitória. A \\nexigência deve ser formulada apenas se quando há uma tendência de manter \\nindeferimento. Mas se parecer recursal for para prover recurso então ok, decidir logo, \\ndesde que causa esteja madura.;[2];Despacho 100.2. Recurso conhecido e provido por \\nvício de julgamento. Anulado indeferimento para retorno dos autos à 1ª Instância para a \\ncontinuação do exame técnico.# \\n40;Parecer recursal;No recurso o requerente não apresenta qualquer razão técnica, ele \\nfaz um parecer sumário, em que se limita a dizer que discorda do indeferimento, sem \\nnada aprofundar. Cabe o recurso negar provimento a este recurso em seu primeiro \\nparecer? ;Não, mas apenas se na fase transitória.  Quando recorrente não traz razão \\nalguma no recurso, cabe exigência para ele complementar porque estamos na disposição \\ntransitória.;[6];Despacho 121. Exigência técnica.# \\n41;Parecer recursal;Se indeferimento foi por duas razões, mas a requerente no recurso se \\nmanifesta apenas para uma das razões e o examinador de recurso mantém \\nindeferimento, cabe fazer exigência na fase recursal para requerente se manifestar sobre \\na segunda razão? ;Sim, mas apenas se na fase transitória. Passada a fase transitória não \\ncabe fazer exigência para requerente se manifestar sobre a segunda razão, porque a \\nprimeira já decide a questão.  ;[6];Despacho 121. Exigência técnica.# \\n42;Parecer recursal;Um indeferimento por falta de atividade inventiva é baseado em D1 \\nou D2. No recurso, o examinador concluiu que o pedido não é inventivo em relação a D1, \\nmas é inventivo em relação a D2. Houve vício de julgamento?;Não, porque a decisão de \\nindeferimento continua mantida com D1. Essa discussão deve estar toda na parte do \\nparecer que avalia vício de julgamento.;[6];Despacho 121. Exigência técnica.# \\n43;Vício de procedimento;Primeira instância indeferiu um pedido dividido, por dupla \\nproteção sendo que o pedido principal não tem patente concedida. Há vício de \\nprocedimento?;Sim, o pedido deve ser devolvido para primeira instância. Pode sugerir \\nque a primeira instância aproveite o QR apresentado no recurso, se houver. \\n ;[1];Despacho 100.2. Recurso conhecido e provido para correção do vício de \\nprocedimento. Anulado o indeferimento para retorno dos autos à Primeira Instância.# \\n44;Vício de procedimento;Pedido indeferido por violação do artigo 6 da lei de \\nbiossegurança ao invés do artigo 6 da LPI que trata de dupla proteção. O indeferimento \\nnão discutiu dupla proteção, mas houve discussão de dupla proteção no 7.1. Há Vício de \\nprocedimento?;Não. O recurso deve fazer exigência para requerente apresentar \\nmanifestação quanto a dupla proteção. Não é necessário retornar pedido para primeira \\ninstância. ;[6];Despacho 121. Exigência técnica.# \\n45;Vício de julgamento;Pedido trata da reivindicação de composição e uso do ativo para \\ntratamento de doenças. Indeferimento na primeira instância analisa como não novo e não'),\n",
       " Document(metadata={'producer': 'Microsoft® Word para Microsoft 365', 'creator': 'Microsoft® Word para Microsoft 365', 'creationdate': '2025-04-14T11:22:55-03:00', 'author': 'Antonio Abrantes', 'moddate': '2025-04-14T11:22:55-03:00', 'source': 'output.pdf', 'total_pages': 14, 'page': 10, 'page_label': '11'}, page_content='inventivo e cita D1 e D2 que tratam somente do uso da composição. Houve erro de \\njulgamento?;Sim. O Vício de procedimento diz respeito a algo que impede de prosseguir \\nexame de recurso, o que não é o caso. Existe vício de julgamento na avaliação de \\natividade inventiva, pois a composição não esta em D1 e D2.  Causa não madura, retorna \\nà primeira instância. Parecer recursal pode indicar D3 encontrado em nova busca como \\nsubsídio para primeira instância considerar. ;[2];Despacho 100.2. Recurso conhecido e \\nprovido por vício de julgamento. Anulado indeferimento para retorno dos autos à 1ª \\nInstância para a continuação do exame técnico.# \\n46;Vício de julgamento;Indeferimento por dupla proteção, no recurso requerente \\napresenta novo QR com disclaimer. O examinador no recurso constata que o novo QR \\nviola o artigo 32 da LPI. Esse pedido deve voltar para primeira instância?;Sim.  Existe um \\nvício de procedimento que impede o prosseguimento do exame, logo pedido deve \\nretornar à primeira instância.;[1];Despacho 100.2. Recurso conhecido e provido para \\ncorreção do vício de procedimento. Anulado o indeferimento para retorno dos autos à \\nPrimeira Instância.# \\n47;Parecer recursal;O recurso conclui por vício de julgamento, mas a causa não está \\nmadura e o pedido deve retornar à primeira instância. O requerente apresentou novas vias \\nde QR no recurso. O examinador recursal deve apontar qual quadro reivindicatório (QR) a \\nprimeira instância deve analisar?;Sim. Sempre que possível o examinador recursal deve \\napontar qual dos QRs apresentados devem ser considerados neste retorno à primeira \\ninstância.;[1];Despacho 100.2. Recurso conhecido e provido para correção do vício de \\nprocedimento. Anulado o indeferimento para retorno dos autos à Primeira Instância.# \\n48;Parecer recursal;Pedido com 6.21 seguido de 9.2 indeferido em primeiro exame. Existe \\nvício de procedimento?;Sim. Pedido deve retornar ao primeiro exame. Se for pedido \\ndividido considerar o caso de que a discussão do indeferimento já ter sido apresentada \\nno parecer do pedido principal, antes da divisão, neste caso não há vício de \\nprocedimento e é aceito o indeferimento em primeiro exame, porque houve a \\noportunidade ao contraditório quanto às razões de indeferimento.;[1];Despacho 100.2. \\nRecurso conhecido e provido para correção do vício de procedimento. Anulado o \\nindeferimento para retorno dos autos à Primeira Instância.# \\n49;Parecer recursal;É possível mudança de natureza na fase recursal?;Sim, mas apenas \\nna fase transitória, visto que passada a fase transitória aplica-se a regra geral da \\npreclusão e já não se aceita mais a possibilidade de mudanças de quadro reivindicatório \\nna fase recursal;[0];# \\n50;Parecer recursal;Pedido indeferido foi analisado na fase recursal e devolvido à primeira \\ninstância. No recurso o requerente pede a divisão do pedido. Este pedido poderá ser \\ndividido?;Sim, com o pedido na primeira instância ele volta a ter a possibilidade de \\ndivisão, algo que era vetado na fase recursal.;[0];# \\n51;Vício de julgamento;Pedido indeferido por violação de artigo 10. Indeferimento não faz \\nexame de atividade inventiva. No recurso o examinador de segunda instância conclui que \\no pedido atende ao artigo 10. Este pedido retorna a primeira instância?;Sim, pois não \\nhouve exame de atividade inventiva no indeferimento. A causa não está \\nmadura.;[2];Despacho 100.2. Recurso conhecido e provido por vício de julgamento. \\nAnulado indeferimento para retorno dos autos à 1ª Instância para a continuação do \\nexame técnico.#'),\n",
       " Document(metadata={'producer': 'Microsoft® Word para Microsoft 365', 'creator': 'Microsoft® Word para Microsoft 365', 'creationdate': '2025-04-14T11:22:55-03:00', 'author': 'Antonio Abrantes', 'moddate': '2025-04-14T11:22:55-03:00', 'source': 'output.pdf', 'total_pages': 14, 'page': 11, 'page_label': '12'}, page_content='52;Parecer recursal;Parecer de recurso deve apontar negligência da primeira instância no \\nexame?;Não, o parecer deve ater-se à discussão técnica de patenteabilidade da matéria \\nimpugnada. Termos como [despicienda, ilação, absurdo] devem ser evitados no \\nparecer.;[];# \\n53;Parecer recursal;O exame de recurso deve iniciar pelo QR apresentado no \\nrecurso?;Não, o foco do recurso deve ser o quadro reivindicatório do indeferimento. O QR \\nnovo apresentado no recurso tem caráter subsidiário. ;[];# \\n54;Parecer recursal;Constatado vício de procedimento o examinador recursal deve \\nprosseguir o exame e fazer o exame de julgamento das razões de indeferimento?;Não, \\nconstatado um vício de procedimento que impede prosseguimento de exame, por \\nexemplo, que o QR do indeferimento foi baseado na petição errada, o exame de recurso \\ndeve suspender e o pedido retornar à primeira instância. ;[1];Despacho 100.2. Recurso \\nconhecido e provido para correção do vício de procedimento. Anulado o indeferimento \\npara retorno dos autos à Primeira Instância.# \\n55;Parecer recursal;Pedido foi indeferido por falta de atividade inventiva. No recurso \\nrecorrente apresentou novo quadro reivindicatório em que restringe escopo de proteção. \\nNa avaliação do recurso ao indeferimento, o examinador da segunda instância entendeu \\nque houve vício de julgamento e que o quadro reivindicatório usado no indeferimento tem \\natividade inventiva. Neste caso o recurso deve ser provido com o quadro do \\nindeferimento?;Sim. Se o examinador concluir que o quadro reivindicatório do \\nindeferimento está em condições de deferimento, então é este quadro reivindicatório que \\ndeve ser escolhido, independente do novo quadro reivindicatório apresentado no recurso \\ntambém estar em condições de concessão. O quadro reivindicatório apresentado no \\nrecurso seria escolhido apenas se este corrigisse um problema já apontado na primeira \\ninstância. Neste caso descrito na pergunta, o recorrente restringiu o quadro \\nreivindicatório desnecessariamente porque a objeção do indeferimento foi indevida. \\n ;[3];Despacho 100.1. Recurso conhecido e provido por vício de julgamento. Reformada a \\ndecisão recorrida e deferido o pedido.# \\n56;Parecer recursal;Um pedido foi indeferido por falta de atividade inventiva. No recurso o \\nexaminador conclui que a reivindicação de método trata de método financeiro (artigo 10 \\nda LPI). Tal questão não foi tratada no parecer de indeferimento. O pedido volta para \\nprimeira instância?;Sim. Se o examinador entender que este quadro reivindicatório \\npudesse superar as questões de artigo 10 com uma nova redação, caberia o examinador \\nde segunda instância apontar vício de procedimento e explicar estas questões no seu \\nparecer, mas de qualquer forma o pedido deve retornar à primeira instância porque não \\nhouve propriamente um julgamento destas questões na primeira instância. Desta forma, \\nfica garantido o duplo grau de jurisdição, ou seja, a possibilidade do recorrente recorrer \\nnovamente desta decisão. Como o parecer de indeferimento em nenhum momento fez \\nqualquer objeção baseado no artigo 10 da LPI, então temos um vício de procedimento. \\nVício de julgamento seria se o parecer de indeferimento tivesse feito uma objeção do \\nartigo 10 da LPI. Neste caso, a mudança de entendimento do examinador de segunda \\ninstância é vista como tendo detectado um vício de julgamento da primeira instância. Se \\npor outro lado, o examinador consegue manter o indeferimento por outras razões, então \\nnão cabe retornar este pedido à primeira instância, mas manter o indeferimento com \\nbase nestas razões já contempladas no indeferimento. Toda a vez que o examinador de \\nsegunda instância entra objeções, já discutidas na primeira instância, e que podem'),\n",
       " Document(metadata={'producer': 'Microsoft® Word para Microsoft 365', 'creator': 'Microsoft® Word para Microsoft 365', 'creationdate': '2025-04-14T11:22:55-03:00', 'author': 'Antonio Abrantes', 'moddate': '2025-04-14T11:22:55-03:00', 'source': 'output.pdf', 'total_pages': 14, 'page': 12, 'page_label': '13'}, page_content='manter o indeferimento, ele deve prosseguir o exame e manter o indeferimento sem a \\nnecessidade do pedido voltar à primeira instância. Se o examinador encontrar algum \\ndocumento citado nas buscas de outros escritórios e que entenda ser relevante para o \\nexame de atividade inventiva, tal documento deve ser apontado em seu parecer para \\nsubsidiar o examinador de primeira instância quando do retorno deste pedido à primeira \\ninstância. Caso o examinador entendesse que o quadro reivindicatório poderia ser \\nemendado de forma a ser concedido, então caberia ao examinador de segunda instância \\nformular uma exigência sugerindo as correções devidas. Caso essas correções não sejam \\ncumpridas, então somente agora o examinador de segunda instância poderia emitir novo \\nparecer enviando o pedido para primeira instância com base na já apontada violação do \\nartigo 10 da LPI e as demais objeções encontradas no pedido.  ;[1];Despacho 100.2. \\nRecurso conhecido e provido para correção do Vício de procedimento. Anulado o \\nindeferimento para retorno dos autos à Primeira Instância.# \\n57;Parecer recursal;Um pedido foi indeferido por falta de atividade inventiva. No recurso o \\nexaminador detecta um erro de procedimento mas que pode ser resolvido por uma \\nexigência simples. Este pedido deve voltar para primeira instância?;Não. O examinador \\nnos casos de vício de procedimento o examinador de segunda instância deve interromper \\no exame e retornar o pedido à primeira instância apenas nos casos em que ele não tem \\ncomo prosseguir sem garantir o duplo grau de jurisdição em sua decisão. Quando for \\npossível contornar o problema com uma exigência simples ele deve fazer esta exigência. \\nO pedido só volta para primeira instância em situação mais grave, quando esta correção \\nsimples não é possível.  ;[1];Despacho 121. Exigência técnica.# \\n58;Parecer recursal;Um pedido foi indeferido por falta de atividade inventiva, mas não cita \\nnenhum documento do estado da técnica. Há vício de procedimento neste caso? ;Sim. \\nNesse sentido, a rejeição por falta de atividade inventiva apresenta-se sem \\nfundamentação, porque não aponta qual o documento do estado da técnica antecipa tais \\ncaracterísticas pleiteadas. Desta forma, o direito ao contraditório por parte do recorrente \\nficou prejudicado, pois seria necessário não somente apontar qual/quais o/os \\ndocumentos que destituem o presente pedido de atividade inventiva mas também \\napontar a respectiva comparação e análise técnica dos documentos para motivar tal \\ndecisão;[1];Despacho 100.2. Recurso conhecido e provido para correção do Vício de \\nprocedimento. Anulado o indeferimento para retorno dos autos à Primeira Instância.# \\n59;Parecer recursal;Se o examinador de segunda instância aponta um vício de \\nprocedimento no indeferimento, este pedido necessariamente deve retornar à primeira \\ninstância? ;Sim, o recurso deve ser dado como recurso provido e retornar à primeira \\ninstância. Se o examinador entender que essa questão não impede o segundo exame, ele \\nnão deve apontar qualquer vício de procedimento e prosseguir o exame avaliando se há \\nvício de julgamento no parecer de indeferimento.  ;[1];Despacho 100.2. Recurso \\nconhecido e provido para correção do Vício de procedimento. Anulado o indeferimento \\npara retorno dos autos à Primeira Instância.# \\n60;Parecer recursal;Se o pedido não tem vício de procedimento nem vício de julgamento \\nno parecer de indeferimento, então o examinado de segunda instância deve avaliar se é \\npossível uma forma de contornar as restrições para que pedido seja finalizado? ;Sim, é \\npossível a formulação de exigências técnicas na fase recursal sem a necessidade deste \\npedido retornar para a primeira instância. ;[1];Despacho 121. Exigência técnica.#'),\n",
       " Document(metadata={'producer': 'Microsoft® Word para Microsoft 365', 'creator': 'Microsoft® Word para Microsoft 365', 'creationdate': '2025-04-14T11:22:55-03:00', 'author': 'Antonio Abrantes', 'moddate': '2025-04-14T11:22:55-03:00', 'source': 'output.pdf', 'total_pages': 14, 'page': 13, 'page_label': '14'}, page_content='61;Parecer recursal;Uma exigência não cumprida cabe preclusão, mas e uma ciência de \\nparecer 7.1 sem manifestação, cabe preclusão também ? ;Não, neste caso cabe recurso \\npodendo a decisão de indeferimento ser revertida diante da manifestação do recorrente. \\nNo caso de uma exigência técnica (6.1) o INPi já indicou as correções necessárias no \\npedido para que pudesse ter sua patente concedida. se o requerente não apresentou \\nmanifestação a esta exigência técnica (6.1) cabe o arquivamento definitivo do pedido, \\nsem direito ao recurso, portanto. Nestes casos aplica-se a preclusão administrativa, ou \\nseja, da mesma forma uma eigência técnica não cumprida na primeira instância não \\npoderá ser cumprida na fase recursal. No caso de uma ciência de parecer a situação é \\ndiferente, pois neste caso o INPI entende que o pedido não tem correções possíveis que \\npossam tornar o pedido objeto de uma patente. Não há nenhuma exigência técnica meste \\ncaso, e portanto, não há preclusão, o recorrente pode voltar com toda a argumentação na \\nfase recursal. ;[1];Despacho 121. Exigência técnica.# \\n62;Parecer recursal;No caso do recorrente apresentar no recurso um novo quadro \\nreivindicatório que traga elementos do relatório descritivo não presente no quadro \\nreivindicatório do indeferimento, este quadro reivincatório novo pode ser aceito no \\nrecurso ? ;Sim, esta emenda é prevista ns restrições do item 6.4 da Resolução n° 10/2024 \\nonde há que se distinguir duas situações: i) quando esta emenda implica a mudança do \\nobjeto reivindicado e a necessidade de novas buscas, neste caso tal emenda nao é \\naceita, ii) a emenda ocorre para melhor esclarecer o texto mas ainda se encontra dentro \\ndo mesmo campo de busca original, ou seja, não setrata de nova invenção, neste caso tal \\nemenda pode ser aceita. As disposições transitórias do item 7 contudo, aceitam tais \\nemendas que tragam elementos do relatório descritivo não presentes no quadro \\nreivindicatório do indeferimento. Nestes casos, na fase transitória, em que a emenda \\nconduz a uma mudança de objeto e nova invenção, então automaticamente este pedido \\ndeve ser devolvido à primeira instância. ;[1];Despacho 121. Exigência técnica.# \\n63;Parecer recursal;Pedido teve indeferimento por não manifestação a uma ciência de \\nparecer. Na ciência de parecer foi apontada violação do artigo 10 da LPI mas no \\nindeferimento administrativo foram citados artigo 10 da LPI e também falta de atividade \\ninventiva (artigo 8 combinado com artigo 13 da LPI). A segunda instância concorda que, \\nde fato, existe uma violação do artigo 10 da LPI. Temos um vício de procedimento neste \\ncaso ?;Não. O Vício de procedimento somente deve ser apontado pela segunda instância \\nnos casos em que o examinador não consiga avançar em seu exame. O problema \\napontado não impede que o examinador de segunda instância mantenha o indeferimento \\npor violação de artigo 10 da LPI. Neste caso o examinador de segunda instância não deve \\napontar a presença de vício de procedimento, mas como um mero lapso do parecer de \\nindeferimento, pois este pedido não irá retornar à primeira instância. ;[1];Despacho 121. \\nExigência técnica.#')]"
      ]
     },
     "execution_count": 57,
     "metadata": {},
     "output_type": "execute_result"
    }
   ],
   "source": [
    "pages"
   ]
  },
  {
   "cell_type": "code",
   "execution_count": 58,
   "id": "63f65233-665e-44f5-a52d-6eeb7b341e10",
   "metadata": {},
   "outputs": [],
   "source": [
    "from langchain_text_splitters import RecursiveCharacterTextSplitter\n",
    "\n",
    "text_splitter = RecursiveCharacterTextSplitter(\n",
    "    chunk_size=512,\n",
    "    chunk_overlap=20,\n",
    "    length_function=len,\n",
    "    is_separator_regex=False,\n",
    "    separators=[\"#\"]  # \"\\n\\n\",\n",
    ")"
   ]
  },
  {
   "cell_type": "code",
   "execution_count": 59,
   "id": "d453f469-941b-401b-b3ae-5552ba57a8db",
   "metadata": {},
   "outputs": [
    {
     "data": {
      "text/plain": [
       "74"
      ]
     },
     "execution_count": 59,
     "metadata": {},
     "output_type": "execute_result"
    }
   ],
   "source": [
    "chunks = text_splitter.split_documents(pages)\n",
    "len(chunks)"
   ]
  },
  {
   "cell_type": "code",
   "execution_count": 60,
   "id": "f5ab18de-1d22-4453-aefc-549c67c8beee",
   "metadata": {},
   "outputs": [
    {
     "data": {
      "text/plain": [
       "Document(metadata={'producer': 'Microsoft® Word para Microsoft 365', 'creator': 'Microsoft® Word para Microsoft 365', 'creationdate': '2025-04-14T11:22:55-03:00', 'author': 'Antonio Abrantes', 'moddate': '2025-04-14T11:22:55-03:00', 'source': 'output.pdf', 'total_pages': 14, 'page': 0, 'page_label': '1'}, page_content='# \\n2;Regra de transição;Existe uma regra transitória para adoção dos novos procedimentos \\nde recurso de pedidos de patente que possibilite a aceitação de novas vias de quadro \\nreivindicatório na fase recursal?;Sim, a Portaria/INPI/Nº 10, de 08 de março de 2024, que \\naprova as Diretrizes de instrução de Recursos e Processos Administrativos de Nulidade \\nestabelece uma regra de transição. De acordo com esta Portaria/INPI/Nº 10 publicada na \\nRPI 2776, para os pedidos de patente nos quais o exame substantivo iniciou após 1º de \\nabril de 2024, emendas na segunda instância já não são aceitas. Para os pedidos mais \\nantigos é possível se aceitar novas vias de quadro reivindicatório na fase recursal durante \\nesta fase de transição. Segundo o item 7 da mesma Portaria, em conformidade com o que \\ndetermina o Despacho Decisório do Presidente do INPI publicado na RPI 2764, de 26 de \\ndezembro de 2023, as diretrizes aqui instituídas passam a vigorar a partir de 02 de abril de \\n2024. O recurso que tiver sido interposto até 01/04/2024 e não se adequar aos \\nbalizamentos previstos nas manifestações jurídicas constantes dos Pareceres \\nNormativos: PARECER n. 00016/2023/CGPI/PFE-INPI/PGF/AGU, PARECER n. \\n00017/2023/CGPI/PFE-INPI/PGF/AGU, PARECER n. 00018/2023/CGPI/PFE-INPI/PGF/AGU, \\nPARECER n. 00019/2023/CGPI/PFE/INPI/PGF/AGU e PARECER n. 00003/2024/CGPI/PFE-\\nINPI/PGF/AGU e, ainda, nos Despachos Decisórios do Presidente do INPI publicados nas \\nRPIs 2762 de 12/12/2023, 2764 de 26/12/2023 e 2773, de 27/02/2024, sofrerá exigência, a \\nqual poderá ser respondida dentro do prazo legalmente estabelecido pela Lei nº 9.279, de \\n14 de maio de 1996. Na ausência da petição de aditamento de que trata o Despacho \\nDecisório do Presidente do INPI, publicado na RPI 2764, de 26/12/2023, poderá ser \\nadmitido e provido o recurso oriundo de pedido de patente cujo primeiro despacho de \\nexigência (despacho 6.1) ou ciência (despacho 7.1) ocorrer até 1º de abril de 2024. Em tal \\ncaso, caberá ao recorrente, mediante cumprimento de exigência formulada pela \\nCoordenação Geral de Recursos e Nulidades Administrativas (CGREC), justificar e \\ncomprovar a impossibilidade técnica de adequação às presentes Diretrizes de Instrução \\nde Recursos e Processos Administrativos de Nulidade.;[0];')"
      ]
     },
     "execution_count": 60,
     "metadata": {},
     "output_type": "execute_result"
    }
   ],
   "source": [
    "chunks[1]"
   ]
  },
  {
   "cell_type": "code",
   "execution_count": 61,
   "id": "28d244b5-4e78-4f8d-883a-dc925e9a6524",
   "metadata": {},
   "outputs": [
    {
     "data": {
      "text/plain": [
       "'output.pdf'"
      ]
     },
     "execution_count": 61,
     "metadata": {},
     "output_type": "execute_result"
    }
   ],
   "source": [
    "chunks[1].metadata[\"source\"]"
   ]
  },
  {
   "cell_type": "code",
   "execution_count": 62,
   "id": "ff549675-e529-4802-b885-2eadfeb30f3b",
   "metadata": {},
   "outputs": [
    {
     "data": {
      "text/plain": [
       "'# \\n2;Regra de transição;Existe uma regra transitória para adoção dos novos procedimentos \\nde recurso de pedidos de patente que possibilite a aceitação de novas vias de quadro \\nreivindicatório na fase recursal?;Sim, a Portaria/INPI/Nº 10, de 08 de março de 2024, que \\naprova as Diretrizes de instrução de Recursos e Processos Administrativos de Nulidade \\nestabelece uma regra de transição. De acordo com esta Portaria/INPI/Nº 10 publicada na \\nRPI 2776, para os pedidos de patente nos quais o exame substantivo iniciou após 1º de \\nabril de 2024, emendas na segunda instância já não são aceitas. Para os pedidos mais \\nantigos é possível se aceitar novas vias de quadro reivindicatório na fase recursal durante \\nesta fase de transição. Segundo o item 7 da mesma Portaria, em conformidade com o que \\ndetermina o Despacho Decisório do Presidente do INPI publicado na RPI 2764, de 26 de \\ndezembro de 2023, as diretrizes aqui instituídas passam a vigorar a partir de 02 de abril de \\n2024. O recurso que tiver sido interposto até 01/04/2024 e não se adequar aos \\nbalizamentos previstos nas manifestações jurídicas constantes dos Pareceres \\nNormativos: PARECER n. 00016/2023/CGPI/PFE-INPI/PGF/AGU, PARECER n. \\n00017/2023/CGPI/PFE-INPI/PGF/AGU, PARECER n. 00018/2023/CGPI/PFE-INPI/PGF/AGU, \\nPARECER n. 00019/2023/CGPI/PFE/INPI/PGF/AGU e PARECER n. 00003/2024/CGPI/PFE-\\nINPI/PGF/AGU e, ainda, nos Despachos Decisórios do Presidente do INPI publicados nas \\nRPIs 2762 de 12/12/2023, 2764 de 26/12/2023 e 2773, de 27/02/2024, sofrerá exigência, a \\nqual poderá ser respondida dentro do prazo legalmente estabelecido pela Lei nº 9.279, de \\n14 de maio de 1996. Na ausência da petição de aditamento de que trata o Despacho \\nDecisório do Presidente do INPI, publicado na RPI 2764, de 26/12/2023, poderá ser \\nadmitido e provido o recurso oriundo de pedido de patente cujo primeiro despacho de \\nexigência (despacho 6.1) ou ciência (despacho 7.1) ocorrer até 1º de abril de 2024. Em tal \\ncaso, caberá ao recorrente, mediante cumprimento de exigência formulada pela \\nCoordenação Geral de Recursos e Nulidades Administrativas (CGREC), justificar e \\ncomprovar a impossibilidade técnica de adequação às presentes Diretrizes de Instrução \\nde Recursos e Processos Administrativos de Nulidade.;[0];'"
      ]
     },
     "execution_count": 62,
     "metadata": {},
     "output_type": "execute_result"
    }
   ],
   "source": [
    "chunks[1].page_content"
   ]
  },
  {
   "cell_type": "code",
   "execution_count": 63,
   "id": "3f24d956-615e-4f0c-9113-9b56356cf23d",
   "metadata": {},
   "outputs": [
    {
     "name": "stdout",
     "output_type": "stream",
     "text": [
      "C:\\Users\\otimi\\anaconda3\\envs\\chromadb\\lib\\site-packages\\fitz\\__init__.py\n"
     ]
    }
   ],
   "source": [
    "# pip install PyMuPDF\n",
    "import fitz  # Agora sim é do PyMuPDF\n",
    "#doc = fitz.open(\"output.pdf\")\n",
    "print(fitz.__file__)\n",
    "#!pip uninstall -y fitz\n",
    "#!pip install pymupdf"
   ]
  },
  {
   "cell_type": "code",
   "execution_count": 64,
   "id": "8cdcae99-7386-4278-9f03-5e5187fef474",
   "metadata": {},
   "outputs": [],
   "source": [
    "import fitz  # pip install PyMuPDF\n",
    "from pathlib import Path # crie diretório static\n",
    "from langchain.schema import Document\n",
    "\n",
    "def highlight_chunks_in_pdf(documents: list[Document]):\n",
    "    if not documents:\n",
    "        print(\"Nenhum documento entregue. Abortar.\")\n",
    "        return\n",
    "\n",
    "    pdf_path = documents[0].metadata.get(\"source\")\n",
    "    if not pdf_path:\n",
    "        print(\"Nenhuma 'source' presente nos metadados. Abortar.\")\n",
    "        return\n",
    "\n",
    "    pdf_file = Path(pdf_path)\n",
    "    output_path = pdf_file.stem + \"_highlighted\" + pdf_file.suffix\n",
    "\n",
    "    doc = fitz.open(pdf_path)\n",
    "\n",
    "    for document in documents:\n",
    "        page_number = document.metadata.get(\"page\", 0)\n",
    "        text_to_highlight = document.page_content\n",
    "\n",
    "        if page_number < 0 or page_number >= len(doc):\n",
    "            print(f\"A página {page_number} não existe no PDF. Pule esse pedaço.\")\n",
    "            continue\n",
    "\n",
    "        page = doc[page_number]\n",
    "        normalized_text = \" \".join(text_to_highlight.split())\n",
    "\n",
    "        matches = page.search_for(normalized_text)\n",
    "\n",
    "        for match in matches:\n",
    "            page.add_highlight_annot(match)\n",
    "    doc.save(output_path)\n",
    "    doc.close()\n",
    "\n",
    "    print(f\"Os destaques foram salvos em '{output_path}'.\")"
   ]
  },
  {
   "cell_type": "code",
   "execution_count": 65,
   "id": "fcd27224-bdac-44c5-aa4e-39d7ef659565",
   "metadata": {},
   "outputs": [
    {
     "name": "stdout",
     "output_type": "stream",
     "text": [
      "Os destaques foram salvos em 'output_highlighted.pdf'.\n"
     ]
    }
   ],
   "source": [
    "highlight_chunks_in_pdf(documents=chunks[0:2])"
   ]
  },
  {
   "cell_type": "code",
   "execution_count": 66,
   "id": "f045f818-fde4-4283-bf6b-059bbc3f4af8",
   "metadata": {},
   "outputs": [],
   "source": [
    "from langchain_openai import OpenAIEmbeddings, ChatOpenAI # pip install chromadb\n",
    "from langchain_community.vectorstores import Chroma\n",
    "from langchain import hub\n",
    "\n",
    "embedding_function = OpenAIEmbeddings(openai_api_key=openai_api_key)\n",
    "db = Chroma.from_documents(chunks, embedding_function, persist_directory=\"nova_pasta_temporaria\") \n",
    "retriever = db.as_retriever() \n"
   ]
  },
  {
   "cell_type": "code",
   "execution_count": 67,
   "id": "773daa06-390d-4abf-bd6d-16c9c44bfb1b",
   "metadata": {},
   "outputs": [],
   "source": [
    "prompt = hub.pull(\"rlm/rag-prompt\")\n",
    "\n",
    "llm = ChatOpenAI(model=\"gpt-4o-mini\")\n",
    "\n",
    "def format_docs(docs):\n",
    "    return \"\\n\\n\".join(doc.page_content for doc in docs)\n",
    "\n",
    "rag_chain = prompt | llm"
   ]
  },
  {
   "cell_type": "code",
   "execution_count": 68,
   "id": "a40e9764-71ae-4010-9078-0cdd93ddad74",
   "metadata": {},
   "outputs": [],
   "source": [
    "from typing import TypedDict\n",
    "from langchain_core.messages import BaseMessage, HumanMessage\n",
    "from langchain.schema import Document\n",
    "\n",
    "\n",
    "class AgentState(TypedDict):\n",
    "    messages: list[BaseMessage]\n",
    "    documents: list[Document]\n",
    "\n",
    "def retrieve(state):\n",
    "    question = state[\"messages\"][-1].content # Pega a última mensagem enviada pelo usuário (assumindo uma estrutura tipo ChatMessage).\n",
    "    documents = retriever.invoke(question)\n",
    "    state[\"documents\"] = documents\n",
    "    return state\n",
    "\n",
    "def generate_answer(state):\n",
    "    question = state[\"messages\"][-1].content\n",
    "    documents = state[\"documents\"]\n",
    "    generation = rag_chain.invoke({\"context\": documents, \"question\": question})\n",
    "    print(documents)\n",
    "    state[\"messages\"].append(generation)\n",
    "    return state\n",
    "\n",
    "# O parâmetro state é um dicionário que representa o estado atual do agente. Ele é passado automaticamente de um nó para outro no grafo do LangGraph.\n",
    "# Esse estado carrega informações compartilhadas entre as etapas do fluxo, como:\n",
    "# as mensagens trocadas até agora (state[\"messages\"])\n",
    "# os documentos recuperados (state[\"documents\"])\n",
    "\n",
    "# state tem uma estrutura assim:\n",
    "#{\n",
    "#    \"messages\": [\n",
    "#        {\"role\": \"user\", \"content\": \"Quem foi Júlio César?\"}\n",
    "#    ],\n",
    "#    \"documents\": [...]  # preenchido na etapa 'retrieve'\n",
    "#}"
   ]
  },
  {
   "cell_type": "code",
   "execution_count": 69,
   "id": "e9875412-96cc-4a84-b701-6cef2b1e1208",
   "metadata": {},
   "outputs": [],
   "source": [
    "from langgraph.graph import StateGraph, END # pip install langgraph\n",
    "\n",
    "workflow = StateGraph(AgentState)\n",
    "\n",
    "workflow.add_node(\"retrieve\", retrieve)\n",
    "workflow.add_node(\"generate_answer\", generate_answer)\n",
    "workflow.add_edge(\"retrieve\", \"generate_answer\")\n",
    "workflow.add_edge(\"generate_answer\", END)\n",
    "workflow.set_entry_point(\"retrieve\")\n",
    "graph = workflow.compile()"
   ]
  },
  {
   "cell_type": "code",
   "execution_count": 70,
   "id": "75785e7d-6dc3-47f4-bbae-a00314598298",
   "metadata": {},
   "outputs": [
    {
     "name": "stdout",
     "output_type": "stream",
     "text": [
      "[Document(metadata={'moddate': '2025-04-14T11:22:55-03:00', 'total_pages': 14, 'source': 'output.pdf', 'page_label': '6', 'author': 'Antonio Abrantes', 'creator': 'Microsoft® Word para Microsoft 365', 'page': 5, 'creationdate': '2025-04-14T11:22:55-03:00', 'producer': 'Microsoft® Word para Microsoft 365'}, page_content='# \\n21;Parecer recursal;Considere um parecer de indeferimento que não tenha vícios \\nformais, mas há vício de julgamento e este provocou prejuízo ao recorrente. O examinador \\nde recurso deve necessariamente devolver este pedido à primeira instância para que \\nprossiga o exame ou ele mesmo pode deferir este pedido se entender que o pedido \\natende aos demais critérios de patenteabilidade? ;O examinador pode dar provimento a \\neste recurso e aplicar o princípio da causa madura. Segundo Parecer 0016/2023 \\nCGPI/PFE-INPI/PGF/AGU publicado na RPI 2762 de 12/12/2023 item 52. É possível \\nvislumbrar a possibilidade de a petição ser imediatamente analisada pela segunda \\ninstância com fundamento da teoria da causa madura;[3];Despacho 100.1. Recurso \\nconhecido e provido por vício de julgamento. Reformada a decisão recorrida e deferido o \\npedido.'), Document(metadata={'page': 5, 'author': 'Antonio Abrantes', 'moddate': '2025-04-14T11:22:55-03:00', 'creationdate': '2025-04-14T11:22:55-03:00', 'page_label': '6', 'total_pages': 14, 'producer': 'Microsoft® Word para Microsoft 365', 'creator': 'Microsoft® Word para Microsoft 365', 'source': 'output.pdf'}, page_content='# \\n21;Parecer recursal;Considere um parecer de indeferimento que não tenha vícios \\nformais, mas há vício de julgamento e este provocou prejuízo ao recorrente. O examinador \\nde recurso deve necessariamente devolver este pedido à primeira instância para que \\nprossiga o exame ou ele mesmo pode deferir este pedido se entender que o pedido \\natende aos demais critérios de patenteabilidade? ;O examinador pode dar provimento a \\neste recurso e aplicar o princípio da causa madura. Segundo Parecer 0016/2023 \\nCGPI/PFE-INPI/PGF/AGU publicado na RPI 2762 de 12/12/2023 item 52. É possível \\nvislumbrar a possibilidade de a petição ser imediatamente analisada pela segunda \\ninstância com fundamento da teoria da causa madura;[3];Despacho 100.1. Recurso \\nconhecido e provido por vício de julgamento. Reformada a decisão recorrida e deferido o \\npedido.'), Document(metadata={'creator': 'Microsoft® Word para Microsoft 365', 'moddate': '2025-04-14T11:22:55-03:00', 'author': 'Antonio Abrantes', 'page': 6, 'total_pages': 14, 'source': 'output.pdf', 'producer': 'Microsoft® Word para Microsoft 365', 'page_label': '7', 'creationdate': '2025-04-14T11:22:55-03:00'}, page_content='# \\n24;Parecer recursal;No caso de indeferimento em QR1 (quadro reivindicatório) se no \\nrecurso o requerente apresenta QR2 e QR3 mais restritos, mas o recurso conclui que \\nhouve vício de julgamento e o QR1 está ok e é inventivo o examinador recursal deve \\nanalisar QR2 e QR3?;Não, pois o pedido com QR1 encontra-se em condições de \\npatenteabilidade e pelo princípio da causa madura não há questões adicionais a serem \\nconsideradas. ;[3];Despacho 100.1. Recurso conhecido e provido por vício de julgamento. \\nReformada a decisão recorrida e deferido o pedido.'), Document(metadata={'creationdate': '2025-04-14T11:22:55-03:00', 'creator': 'Microsoft® Word para Microsoft 365', 'page_label': '7', 'author': 'Antonio Abrantes', 'producer': 'Microsoft® Word para Microsoft 365', 'source': 'output.pdf', 'page': 6, 'total_pages': 14, 'moddate': '2025-04-14T11:22:55-03:00'}, page_content='# \\n24;Parecer recursal;No caso de indeferimento em QR1 (quadro reivindicatório) se no \\nrecurso o requerente apresenta QR2 e QR3 mais restritos, mas o recurso conclui que \\nhouve vício de julgamento e o QR1 está ok e é inventivo o examinador recursal deve \\nanalisar QR2 e QR3?;Não, pois o pedido com QR1 encontra-se em condições de \\npatenteabilidade e pelo princípio da causa madura não há questões adicionais a serem \\nconsideradas. ;[3];Despacho 100.1. Recurso conhecido e provido por vício de julgamento. \\nReformada a decisão recorrida e deferido o pedido.')]\n",
      "[HumanMessage(content='O que é causa madura?', additional_kwargs={}, response_metadata={}), AIMessage(content='Causa madura é um princípio que permite que um examinador deferir um pedido de recurso com base em que este já atende aos critérios de patenteabilidade, sem necessidade de devolução à primeira instância. Se a análise revela um vício de julgamento e a questão está clara e resolvida, o examinador pode decidir diretamente. Esse princípio é aplicado para evitar demoras e garantir decisões mais rápidas e eficazes.', additional_kwargs={'refusal': None}, response_metadata={'token_usage': {'completion_tokens': 84, 'prompt_tokens': 1264, 'total_tokens': 1348, 'completion_tokens_details': {'accepted_prediction_tokens': 0, 'audio_tokens': 0, 'reasoning_tokens': 0, 'rejected_prediction_tokens': 0}, 'prompt_tokens_details': {'audio_tokens': 0, 'cached_tokens': 0}}, 'model_name': 'gpt-4o-mini-2024-07-18', 'system_fingerprint': 'fp_44added55e', 'id': 'chatcmpl-BMIATEdIESrcLW23GH5EXSZ9jJ3oP', 'finish_reason': 'stop', 'logprobs': None}, id='run-000fa6dd-dce1-427c-a097-5f8b4f291c56-0', usage_metadata={'input_tokens': 1264, 'output_tokens': 84, 'total_tokens': 1348, 'input_token_details': {'audio': 0, 'cache_read': 0}, 'output_token_details': {'audio': 0, 'reasoning': 0}})]\n"
     ]
    }
   ],
   "source": [
    "result = graph.invoke(\n",
    "    input={\n",
    "        \"messages\": [HumanMessage(content=\"O que é causa madura?\")]\n",
    "    }\n",
    ")\n",
    "print(result[\"messages\"])"
   ]
  },
  {
   "cell_type": "code",
   "execution_count": 71,
   "id": "c50d14bc-71b4-4200-b9b9-57d4342468d3",
   "metadata": {},
   "outputs": [
    {
     "name": "stdout",
     "output_type": "stream",
     "text": [
      "Os destaques foram salvos em 'output_highlighted.pdf'.\n"
     ]
    }
   ],
   "source": [
    "highlight_chunks_in_pdf(result[\"documents\"])"
   ]
  },
  {
   "cell_type": "code",
   "execution_count": 72,
   "id": "e190c7b8-e608-459d-be1c-dc4fc101e584",
   "metadata": {},
   "outputs": [
    {
     "name": "stdout",
     "output_type": "stream",
     "text": [
      "Pergunta: O que é causa madura?\n"
     ]
    }
   ],
   "source": [
    "messages = result[\"messages\"]\n",
    "pergunta = messages[0].content\n",
    "print(\"Pergunta:\", pergunta)\n"
   ]
  },
  {
   "cell_type": "code",
   "execution_count": 73,
   "id": "bb9b5002-88cc-44af-bbae-41a4b024c73a",
   "metadata": {},
   "outputs": [
    {
     "name": "stdout",
     "output_type": "stream",
     "text": [
      "Resposta: Causa madura é um princípio que permite que um examinador deferir um pedido de recurso com base em que este já atende aos critérios de patenteabilidade, sem necessidade de devolução à primeira instância. Se a análise revela um vício de julgamento e a questão está clara e resolvida, o examinador pode decidir diretamente. Esse princípio é aplicado para evitar demoras e garantir decisões mais rápidas e eficazes.\n"
     ]
    }
   ],
   "source": [
    "# Extrair o conteúdo da AIMessage (resposta)\n",
    "resposta = messages[1].content\n",
    "print(\"Resposta:\", resposta)"
   ]
  },
  {
   "cell_type": "code",
   "execution_count": null,
   "id": "6b2c9141-4f52-45c6-9467-f84e1d8a2a91",
   "metadata": {},
   "outputs": [],
   "source": []
  }
 ],
 "metadata": {
  "kernelspec": {
   "display_name": "Python 3 (ipykernel)",
   "language": "python",
   "name": "python3"
  },
  "language_info": {
   "codemirror_mode": {
    "name": "ipython",
    "version": 3
   },
   "file_extension": ".py",
   "mimetype": "text/x-python",
   "name": "python",
   "nbconvert_exporter": "python",
   "pygments_lexer": "ipython3",
   "version": "3.10.16"
  }
 },
 "nbformat": 4,
 "nbformat_minor": 5
}

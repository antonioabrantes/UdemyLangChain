{
 "cells": [
  {
   "cell_type": "code",
   "execution_count": 1,
   "id": "9469f8aa-4375-4727-a84e-53c203a96d5c",
   "metadata": {},
   "outputs": [
    {
     "name": "stdout",
     "output_type": "stream",
     "text": [
      "Ola mundo\n"
     ]
    }
   ],
   "source": [
    "print(\"Ola mundo\")"
   ]
  },
  {
   "cell_type": "code",
   "execution_count": 2,
   "id": "6c9fc37c-87b1-4085-b79c-091da71e34e5",
   "metadata": {},
   "outputs": [],
   "source": [
    "x = 10"
   ]
  },
  {
   "cell_type": "code",
   "execution_count": 3,
   "id": "d721ab61-54cb-4c0c-9c11-465a31947f39",
   "metadata": {},
   "outputs": [
    {
     "name": "stdout",
     "output_type": "stream",
     "text": [
      "10\n"
     ]
    }
   ],
   "source": [
    "print(x)"
   ]
  },
  {
   "cell_type": "code",
   "execution_count": 4,
   "id": "ec09f001-8c7a-486f-8bb5-3dfbbcb2f6c2",
   "metadata": {},
   "outputs": [],
   "source": [
    "X = x + 1"
   ]
  },
  {
   "cell_type": "code",
   "execution_count": 5,
   "id": "f3ee1410-79ef-4dc7-b113-a25ea9474957",
   "metadata": {},
   "outputs": [
    {
     "name": "stdout",
     "output_type": "stream",
     "text": [
      "10\n"
     ]
    }
   ],
   "source": [
    "print(x)"
   ]
  },
  {
   "cell_type": "code",
   "execution_count": 6,
   "id": "c661e93c-0fd1-44e9-bdbd-231120f36a29",
   "metadata": {},
   "outputs": [
    {
     "name": "stdout",
     "output_type": "stream",
     "text": [
      "11\n"
     ]
    }
   ],
   "source": [
    "x = x + 1\n",
    "print(x)"
   ]
  },
  {
   "cell_type": "markdown",
   "id": "3dc53daf-d555-4d4f-bdd9-360f09bd5c9f",
   "metadata": {},
   "source": [
    "Novos comandos"
   ]
  },
  {
   "cell_type": "code",
   "execution_count": null,
   "id": "65a90452-4b32-48be-bf87-e87be00ae57d",
   "metadata": {},
   "outputs": [],
   "source": []
  }
 ],
 "metadata": {
  "kernelspec": {
   "display_name": "Python 3 (ipykernel)",
   "language": "python",
   "name": "python3"
  },
  "language_info": {
   "codemirror_mode": {
    "name": "ipython",
    "version": 3
   },
   "file_extension": ".py",
   "mimetype": "text/x-python",
   "name": "python",
   "nbconvert_exporter": "python",
   "pygments_lexer": "ipython3",
   "version": "3.12.4"
  }
 },
 "nbformat": 4,
 "nbformat_minor": 5
}

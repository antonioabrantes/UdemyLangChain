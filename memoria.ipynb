{
 "cells": [
  {
   "cell_type": "code",
   "execution_count": 1,
   "id": "90ce0944",
   "metadata": {},
   "outputs": [
    {
     "name": "stderr",
     "output_type": "stream",
     "text": [
      "C:\\Users\\otimi\\anaconda3\\envs\\python\\Lib\\site-packages\\tqdm\\auto.py:21: TqdmWarning: IProgress not found. Please update jupyter and ipywidgets. See https://ipywidgets.readthedocs.io/en/stable/user_install.html\n",
      "  from .autonotebook import tqdm as notebook_tqdm\n"
     ]
    }
   ],
   "source": [
    "from langchain_openai import ChatOpenAI\n",
    "from langchain_groq import ChatGroq\n",
    "from langchain_anthropic import ChatAnthropic\n",
    "from langchain_google_genai import ChatGoogleGenerativeAI\n",
    "\n",
    "import os\n",
    "from dotenv import load_dotenv\n",
    "\n",
    "# pip install transformers"
   ]
  },
  {
   "cell_type": "code",
   "execution_count": 2,
   "id": "0e8e5626-5e2e-4180-90e2-2b3d041e7646",
   "metadata": {},
   "outputs": [],
   "source": [
    "load_dotenv(dotenv_path='.env')\n",
    "\n",
    "# https://platform.openai.com/api-keys\n",
    "openai_api_key = os.getenv(\"OPENAI_API_KEY\")\n",
    "\n",
    "# https://console.groq.com/keys\n",
    "groq_api_key = os.getenv(\"GROQ_API_KEY\")\n",
    "\n",
    "# https://console.anthropic.com/dashboard\n",
    "anthropic_api_key = os.getenv(\"ANTHROPIC_API_KEY\")\n",
    "\n",
    "# https://aistudio.google.com/app/apikey\n",
    "gemini_api_key = os.getenv(\"GEMINI_API_KEY\")"
   ]
  },
  {
   "cell_type": "code",
   "execution_count": 3,
   "id": "10b4c109-7e46-4719-a7ac-de9c2ab7bcd1",
   "metadata": {},
   "outputs": [
    {
     "name": "stdout",
     "output_type": "stream",
     "text": [
      "A resposta é Brasília!\n"
     ]
    }
   ],
   "source": [
    "question = \"Qual a capital do Brasil?\"\n",
    "llm = ChatGroq(model=\"llama3-8b-8192\")\n",
    "messages=[{\"role\":\"user\", \"content\": question}]\n",
    "response = llm.invoke(messages)\n",
    "print(response.content)"
   ]
  },
  {
   "cell_type": "code",
   "execution_count": 4,
   "id": "93c78eea-6b70-4e51-aa77-754213ffa86b",
   "metadata": {},
   "outputs": [
    {
     "name": "stdout",
     "output_type": "stream",
     "text": [
      "Infelizmente, não tenho informação sobre qual país você está se referindo. Por favor, forneça o nome do país ou uma descrição para que eu possa fornecer a informação correta sobre a população do país em questão.\n"
     ]
    }
   ],
   "source": [
    "question = \"Qual a população deste país?\"\n",
    "messages=[{\"role\":\"user\", \"content\": question}]\n",
    "response = llm.invoke(messages)\n",
    "print(response.content)"
   ]
  },
  {
   "cell_type": "code",
   "execution_count": 5,
   "id": "a55d4d88-7b6d-4adb-99f9-d9d961ed3982",
   "metadata": {},
   "outputs": [
    {
     "name": "stdout",
     "output_type": "stream",
     "text": [
      "Por que o sorvete foi à terapia?\n",
      "\n",
      "Porque estava com um problema de \"melt-down\"!\n"
     ]
    }
   ],
   "source": [
    "# Memória\n",
    "\n",
    "from langchain.schema import HumanMessage\n",
    "from langchain.schema import AIMessage\n",
    "\n",
    "messages = [HumanMessage(content='diga-me uma piada sobre sorvete')]\n",
    "result = llm.invoke(messages)\n",
    "print(result.content)"
   ]
  },
  {
   "cell_type": "code",
   "execution_count": null,
   "id": "81e550e6-c2ae-4f5a-afb8-7c320b1eebe0",
   "metadata": {},
   "outputs": [],
   "source": []
  },
  {
   "cell_type": "code",
   "execution_count": 6,
   "id": "749d4985-f85d-4901-8640-88ff2b88b3f4",
   "metadata": {},
   "outputs": [
    {
     "data": {
      "text/plain": [
       "[HumanMessage(content='hi!', additional_kwargs={}, response_metadata={}),\n",
       " AIMessage(content='hello my friend!', additional_kwargs={}, response_metadata={})]"
      ]
     },
     "execution_count": 6,
     "metadata": {},
     "output_type": "execute_result"
    }
   ],
   "source": [
    "from langchain.schema import HumanMessage\n",
    "from langchain.schema import AIMessage\n",
    "\n",
    "messages = [\n",
    "    HumanMessage(content='diga-me uma piada sobre sorvete'),\n",
    "    HumanMessage(content='qual o sabor mais popular de sorvete?'),\n",
    "    HumanMessage(content='por que o sorvete derrete tão rápido?'),\n",
    "    AIMessage(content='hello my friend!')\n",
    "]\n",
    "\n",
    "from langchain.memory import ChatMessageHistory\n",
    "\n",
    "history = ChatMessageHistory()\n",
    "history.add_user_message(\"hi!\")\n",
    "history.add_ai_message(\"hello my friend!\")\n",
    "history.messages"
   ]
  },
  {
   "cell_type": "code",
   "execution_count": 7,
   "id": "c49e7aca-bca6-4e2b-a409-c9a48740ee07",
   "metadata": {},
   "outputs": [
    {
     "name": "stderr",
     "output_type": "stream",
     "text": [
      "C:\\Users\\otimi\\AppData\\Local\\Temp\\ipykernel_6748\\897849626.py:16: LangChainDeprecationWarning: The class `ConversationChain` was deprecated in LangChain 0.2.7 and will be removed in 1.0. Use RunnableWithMessageHistory: https://python.langchain.com/v0.2/api_reference/core/runnables/langchain_core.runnables.history.RunnableWithMessageHistory.html instead.\n",
      "  conversation_chain = ConversationChain(\n"
     ]
    },
    {
     "name": "stdout",
     "output_type": "stream",
     "text": [
      "{'input': 'Quem é o presidente deste país?', 'history': 'Human: Qual é a capital da França?\\nAI: A capital da França é Paris.', 'response': 'Segundo as informações mais recentes que tenho à disposição, a França é uma república presidencialista e atualmente o seu presidente é Emmanuel Macron. Ele é o 25º presidente da França e ocupou o cargo desde o dia 14 de maio de 2017.'}\n"
     ]
    }
   ],
   "source": [
    "from langchain.chains import ConversationChain\n",
    "from langchain.memory import ConversationBufferMemory, ChatMessageHistory\n",
    "from langchain.schema import HumanMessage, AIMessage\n",
    "\n",
    "# 1. conecta a llm\n",
    "\n",
    "# 2. Cria o histórico de mensagens com mensagens iniciais\n",
    "history = ChatMessageHistory()\n",
    "history.add_user_message(\"Qual é a capital da França?\")\n",
    "history.add_ai_message(\"A capital da França é Paris.\")\n",
    "\n",
    "# 3. Cria a memória de conversação e carrega o histórico inicial\n",
    "memory = ConversationBufferMemory(chat_memory=history)\n",
    "\n",
    "# 4. Cria a cadeia de conversação com o LLM e a memória carregada\n",
    "conversation_chain = ConversationChain(\n",
    "    llm=llm,\n",
    "    memory=memory,\n",
    "    verbose=False  # Exibe os detalhes da execução\n",
    ")\n",
    "\n",
    "# 5. Agora, você pode fazer novas perguntas, e o modelo se lembrará do histórico\n",
    "new_input = \"Quem é o presidente deste país?\"\n",
    "output = conversation_chain.invoke(new_input)\n",
    "\n",
    "# Exibe a resposta com base no histórico inicial carregado\n",
    "print(output)"
   ]
  },
  {
   "cell_type": "code",
   "execution_count": null,
   "id": "2a8a4010-76e1-45cf-a0be-8f0c3a984439",
   "metadata": {},
   "outputs": [],
   "source": [
    "print(history)"
   ]
  },
  {
   "cell_type": "code",
   "execution_count": null,
   "id": "8d50ce95-987b-4e6d-9754-875d3c90d2bb",
   "metadata": {},
   "outputs": [],
   "source": []
  },
  {
   "cell_type": "code",
   "execution_count": 8,
   "id": "52b277bd-3097-4f94-a25a-adcb3cfb4332",
   "metadata": {},
   "outputs": [
    {
     "data": {
      "text/plain": [
       "{'history': 'Human: hi!\\nAI: hello my friend!'}"
      ]
     },
     "execution_count": 8,
     "metadata": {},
     "output_type": "execute_result"
    }
   ],
   "source": [
    "from langchain.memory import ConversationBufferMemory\n",
    "\n",
    "#memory = ConversationBufferMemory(memory_key=\"chat_history\", return_messages=True)\n",
    "memory = ConversationBufferMemory()\n",
    "\n",
    "memory.chat_memory.add_user_message(\"hi!\")\n",
    "memory.chat_memory.add_ai_message(\"hello my friend!\")\n",
    "memory.load_memory_variables({})"
   ]
  },
  {
   "cell_type": "code",
   "execution_count": 9,
   "id": "8b1d6f61-c22b-4b7b-b3bb-268d61c239e6",
   "metadata": {},
   "outputs": [
    {
     "name": "stdout",
     "output_type": "stream",
     "text": [
      "Human: Qual a capital da França\n",
      "AI: A question about geography! The capital of France is Paris, which is located in the Île-de-France region in the north-central part of the country. Did you know that Paris is often referred to as the \"City of Light\" due to its rich history of art, literature, and philosophy? It's home to many famous landmarks like the Eiffel Tower, the Louvre Museum, and Notre-Dame Cathedral. In fact, Paris is the most visited city in the world, with over 23 million tourists per year.\n",
      "Human: Qual o presidente da França ?\n",
      "AI: Another question about French politics! As of now, the President of France is Emmanuel Macron, who has been in office since May 14, 2017. He is the 25th President of the French Fifth Republic and is a member of the En Marche! party. Prior to his presidency, Macron served as the Minister of Economy, Industry, and Digital Affairs from 2014 to 2016. He's known for his progressive policies and his efforts to reform the French economy. Interestingly, Macron is also the youngest President of France, having taken office at the age of 39.\n"
     ]
    }
   ],
   "source": [
    "from langchain.chains import ConversationChain\n",
    "from langchain_core.output_parsers import StrOutputParser\n",
    "\n",
    "model = ConversationChain(\n",
    "    llm=llm, verbose=False, memory=ConversationBufferMemory()\n",
    ")\n",
    "output_parser = StrOutputParser()\n",
    "chain = llm | output_parser\n",
    "resposta = model.invoke('Qual a capital da França')\n",
    "resposta = model.invoke('Qual o presidente da França ?')\n",
    "resposta = model.invoke('Qual a melhor comida deste país?')\n",
    "print(resposta['history'])"
   ]
  },
  {
   "cell_type": "code",
   "execution_count": 10,
   "id": "ddbdf855-07cd-4614-9b63-ac8ad7dd69a4",
   "metadata": {},
   "outputs": [
    {
     "name": "stdout",
     "output_type": "stream",
     "text": [
      "The question of food! French cuisine is renowned for its rich flavors, intricate preparations, and high-quality ingredients. It's difficult to pinpoint a single \"best\" dish, as the country is famous for its diverse regional specialties. However, some popular and iconic French dishes include Coq au Vin, Bouillabaisse, Ratatouille, and Cassoulet.\n",
      "\n",
      "If I had to recommend a classic French dish, I'd suggest trying a delicious Croque-Monsieur, which is a grilled ham and cheese sandwich that's been elevated to a new level by the addition of butter, cream, and a fried egg on top. Or, if you prefer something a bit more elegant, you could try a Bouillabaisse, a hearty fish soup originating from the port city of Marseille.\n",
      "\n",
      "French cuisine is also famous for its exquisite pastries and desserts, such as the iconic Macaron, made with ground almonds and filled with ganache or jam, or the decadent Crème Brûlée, a rich custard base topped with a caramelized sugar crust.\n",
      "\n",
      "Of course, no discussion of French food would be complete without mentioning the famous French cheese, wine, and bread. With over 400 types of cheese, France is a paradise for cheese lovers, and its wine regions, such as Bordeaux, Burgundy, and Champagne, are renowned for producing some of the world's finest wines. And let's not forget the bread – a staple in French cuisine, with varieties like Baguette, Croissant, and Pain de Campagne.\n",
      "\n",
      "So, which one of these delicious options sounds like the best to you?\n"
     ]
    }
   ],
   "source": [
    "print(resposta['response'])"
   ]
  },
  {
   "cell_type": "code",
   "execution_count": 11,
   "id": "6d513704-ebc6-45b1-afe7-90fb40d5b9a9",
   "metadata": {},
   "outputs": [
    {
     "name": "stdout",
     "output_type": "stream",
     "text": [
      "A capital da França é Paris!\n"
     ]
    }
   ],
   "source": [
    "resposta2 = chain.invoke('Qual a capital da França?')\n",
    "print(resposta2)"
   ]
  },
  {
   "cell_type": "code",
   "execution_count": 12,
   "id": "a0f42c84-2d26-4a99-ac8a-de4456c948b3",
   "metadata": {},
   "outputs": [
    {
     "name": "stdout",
     "output_type": "stream",
     "text": [
      "Infelizmente, não posso saber qual é o país que você está se referindo, pois você não o especificou. Por favor, forneça o nome do país e eu farei o meu melhor para fornecer a informação de população que você procura.\n"
     ]
    }
   ],
   "source": [
    "resposta2 = chain.invoke('Qual a população deste país?')\n",
    "print(resposta2)"
   ]
  },
  {
   "cell_type": "code",
   "execution_count": 13,
   "id": "4082bace-7d35-49ed-b3cb-718a743ab6e9",
   "metadata": {},
   "outputs": [
    {
     "name": "stdout",
     "output_type": "stream",
     "text": [
      "Human: Qual a capital da França\n",
      "AI: A question about geography! The capital of France is Paris, which is located in the Île-de-France region in the north-central part of the country. Did you know that Paris is often referred to as the \"City of Light\" due to its rich history of art, literature, and philosophy? It's home to many famous landmarks like the Eiffel Tower, the Louvre Museum, and Notre-Dame Cathedral. In fact, Paris is the most visited city in the world, with over 23 million tourists per year.\n",
      "Human: Qual o presidente da França ?\n",
      "AI: Another question about French politics! As of now, the President of France is Emmanuel Macron, who has been in office since May 14, 2017. He is the 25th President of the French Fifth Republic and is a member of the En Marche! party. Prior to his presidency, Macron served as the Minister of Economy, Industry, and Digital Affairs from 2014 to 2016. He's known for his progressive policies and his efforts to reform the French economy. Interestingly, Macron is also the youngest President of France, having taken office at the age of 39.\n",
      "Human: Qual a melhor comida deste país?\n",
      "AI: The question of food! French cuisine is renowned for its rich flavors, intricate preparations, and high-quality ingredients. It's difficult to pinpoint a single \"best\" dish, as the country is famous for its diverse regional specialties. However, some popular and iconic French dishes include Coq au Vin, Bouillabaisse, Ratatouille, and Cassoulet.\n",
      "\n",
      "If I had to recommend a classic French dish, I'd suggest trying a delicious Croque-Monsieur, which is a grilled ham and cheese sandwich that's been elevated to a new level by the addition of butter, cream, and a fried egg on top. Or, if you prefer something a bit more elegant, you could try a Bouillabaisse, a hearty fish soup originating from the port city of Marseille.\n",
      "\n",
      "French cuisine is also famous for its exquisite pastries and desserts, such as the iconic Macaron, made with ground almonds and filled with ganache or jam, or the decadent Crème Brûlée, a rich custard base topped with a caramelized sugar crust.\n",
      "\n",
      "Of course, no discussion of French food would be complete without mentioning the famous French cheese, wine, and bread. With over 400 types of cheese, France is a paradise for cheese lovers, and its wine regions, such as Bordeaux, Burgundy, and Champagne, are renowned for producing some of the world's finest wines. And let's not forget the bread – a staple in French cuisine, with varieties like Baguette, Croissant, and Pain de Campagne.\n",
      "\n",
      "So, which one of these delicious options sounds like the best to you?\n"
     ]
    }
   ],
   "source": [
    "resposta = model.invoke('Qual a população deste país?')\n",
    "print(resposta['history'])"
   ]
  },
  {
   "cell_type": "code",
   "execution_count": 14,
   "id": "9878e6e8-4f2c-49ab-933c-b79b252dfcc1",
   "metadata": {},
   "outputs": [
    {
     "name": "stdout",
     "output_type": "stream",
     "text": [
      "Another question about demographics! As of 2020, the estimated population of France is approximately 67.2 million people. France is the most populous country in the European Union, and its population is concentrated mainly in the northern and western regions, with the Île-de-France region being the most populous. The capital city, Paris, is home to around 2.1 million people, which is roughly 3% of the country's total population.\n",
      "\n",
      "Interestingly, France has a relatively high population density, with an average of 120 people per square kilometer. The country's population is also diverse, with around 20% of the population being foreign-born, and many different ethnic and linguistic groups represented.\n"
     ]
    }
   ],
   "source": [
    "print(resposta['response'])"
   ]
  },
  {
   "cell_type": "code",
   "execution_count": 15,
   "id": "2ddd9737-e4c3-4293-a4e5-3910d47b05dd",
   "metadata": {},
   "outputs": [
    {
     "name": "stdout",
     "output_type": "stream",
     "text": [
      "Por que o sorvete foi preso?\n",
      "\n",
      "Porque estava \"congelado\" no crime!\n"
     ]
    }
   ],
   "source": [
    "messages = [{'role':'user', 'content':'diga-me uma piada sobre sorvete'}]\n",
    "result = llm.invoke(messages)\n",
    "print(result.content)"
   ]
  },
  {
   "cell_type": "code",
   "execution_count": 16,
   "id": "20e4d6b2-2b3a-4a1e-963a-e7b7e7f9191d",
   "metadata": {},
   "outputs": [
    {
     "data": {
      "text/plain": [
       "[{'role': 'system',\n",
       "  'content': 'Você é um assistente que cria piadas bem humoradas'},\n",
       " {'role': 'user', 'content': 'Por que o sorvete foi ao psicólogo?'},\n",
       " {'role': 'assistant',\n",
       "  'content': 'porque ele estava sempre derretendo ideias'},\n",
       " {'role': 'user',\n",
       "  'content': 'Por que os gatos são péssimos em contar mentiras?'},\n",
       " {'role': 'system', 'content': 'Seja cordial'}]"
      ]
     },
     "execution_count": 16,
     "metadata": {},
     "output_type": "execute_result"
    }
   ],
   "source": [
    "messages=[\n",
    "    {\"role\": \"system\", \"content\": \"Você é um assistente que cria piadas bem humoradas\"},\n",
    "    {\"role\": \"user\", \"content\": \"Por que o sorvete foi ao psicólogo?\"},\n",
    "    {\"role\": \"assistant\", \"content\": \"porque ele estava sempre derretendo ideias\"},\n",
    "    {\"role\": \"user\", \"content\": \"Por que os gatos são péssimos em contar mentiras?\"}\n",
    "]\n",
    "messages.append({\"role\": \"system\", \"content\": \"Seja cordial\"})\n",
    "messages"
   ]
  },
  {
   "cell_type": "code",
   "execution_count": 17,
   "id": "c775837a-0ceb-4e24-9018-7905a8bfbaf4",
   "metadata": {},
   "outputs": [
    {
     "name": "stdout",
     "output_type": "stream",
     "text": [
      "Porque sempre estão pondo a patinha na história!\n"
     ]
    }
   ],
   "source": [
    "result = llm.invoke(messages)\n",
    "print(result.content)"
   ]
  },
  {
   "cell_type": "code",
   "execution_count": 18,
   "id": "02bfab26-6c8a-41ed-b9b9-2c696531bef3",
   "metadata": {},
   "outputs": [
    {
     "name": "stdout",
     "output_type": "stream",
     "text": [
      "A população da França é de aproximadamente 67,2 milhões de habitantes, segundo estimativas do Instituto Nacional de Estatística e dos Estudos Econômicos (INSEE) para o ano de 2020.\n"
     ]
    }
   ],
   "source": [
    "messages=[\n",
    "    {\"role\": \"user\", \"content\": \"Qual a capital da França?\"},\n",
    "    {\"role\": \"assistant\", \"content\": \"Paris\"},\n",
    "    {\"role\": \"user\", \"content\": \"Qual a população deste país?\"}\n",
    "]\n",
    "result = llm.invoke(messages)\n",
    "print(result.content)"
   ]
  },
  {
   "cell_type": "code",
   "execution_count": null,
   "id": "7ef916c6-bc5c-4d20-a1bc-c5f7ea370f12",
   "metadata": {},
   "outputs": [],
   "source": []
  }
 ],
 "metadata": {
  "kernelspec": {
   "display_name": "Python 3 (ipykernel)",
   "language": "python",
   "name": "python3"
  },
  "language_info": {
   "codemirror_mode": {
    "name": "ipython",
    "version": 3
   },
   "file_extension": ".py",
   "mimetype": "text/x-python",
   "name": "python",
   "nbconvert_exporter": "python",
   "pygments_lexer": "ipython3",
   "version": "3.12.4"
  }
 },
 "nbformat": 4,
 "nbformat_minor": 5
}

{
 "cells": [
  {
   "cell_type": "code",
   "execution_count": 28,
   "id": "f2b7d62c-b81e-4ca8-99ca-5d862871a488",
   "metadata": {},
   "outputs": [],
   "source": [
    "#!pip install python-dotenv\n",
    "from dotenv import load_dotenv\n",
    "import os"
   ]
  },
  {
   "cell_type": "code",
   "execution_count": 34,
   "id": "0f24f8dc-8564-47e1-b551-e9ed0d2db52f",
   "metadata": {},
   "outputs": [
    {
     "data": {
      "text/plain": [
       "True"
      ]
     },
     "execution_count": 34,
     "metadata": {},
     "output_type": "execute_result"
    }
   ],
   "source": [
    "load_dotenv(dotenv_path='.env')"
   ]
  },
  {
   "cell_type": "code",
   "execution_count": null,
   "id": "90d06785-9408-48cb-a9a3-4ea04e6d274b",
   "metadata": {},
   "outputs": [],
   "source": [
    "openai_api_key = os.getenv(\"OPENAI_API_KEY\")\n",
    "print(openai_api_key)"
   ]
  },
  {
   "cell_type": "code",
   "execution_count": 36,
   "id": "c858ad5a-1657-460f-9257-551388ef8d86",
   "metadata": {},
   "outputs": [
    {
     "name": "stdout",
     "output_type": "stream",
     "text": [
      "D:\\Users\\abrantes\\UdemyLangChain-main\n"
     ]
    }
   ],
   "source": [
    "current_dir = os.getcwd()\n",
    "print(current_dir)"
   ]
  },
  {
   "cell_type": "code",
   "execution_count": 11,
   "id": "79b1aa9b-a13a-4716-822e-af67ec790823",
   "metadata": {},
   "outputs": [
    {
     "name": "stdout",
     "output_type": "stream",
     "text": [
      "D:\\Users\\abrantes\\UdemyLangChain-main\\.env\n"
     ]
    }
   ],
   "source": [
    "app_dir=os.path.join(current_dir,\".env\")\n",
    "print(app_dir)"
   ]
  },
  {
   "cell_type": "code",
   "execution_count": 12,
   "id": "390cbd84-002a-477b-8d50-a6f24ecdfe3b",
   "metadata": {},
   "outputs": [
    {
     "data": {
      "text/plain": [
       "True"
      ]
     },
     "execution_count": 12,
     "metadata": {},
     "output_type": "execute_result"
    }
   ],
   "source": [
    "load_dotenv(dotenv_path=app_dir)"
   ]
  },
  {
   "cell_type": "code",
   "execution_count": null,
   "id": "2c6860f8-3f2a-4685-ac2c-a075cd25c226",
   "metadata": {},
   "outputs": [],
   "source": [
    "openai_api_key = os.getenv(\"OPENAI_API_KEY\")\n",
    "print(openai_api_key)"
   ]
  },
  {
   "cell_type": "code",
   "execution_count": 27,
   "id": "e4ae3968-7287-4c8c-809b-4a1ed8289806",
   "metadata": {},
   "outputs": [
    {
     "name": "stdout",
     "output_type": "stream",
     "text": [
      "OPENAI_API_KEY = sk-xxxxxxxxxxxxxxxxxxxxxxxxxxxxxxxxxxxxxxxx\n"
     ]
    }
   ],
   "source": [
    "for key, value in os.environ.items():\n",
    "    if \"OPENAI\" in key:\n",
    "        print(f\"{key} = {value}\")"
   ]
  },
  {
   "cell_type": "code",
   "execution_count": 31,
   "id": "716ef012-f829-4539-ade1-202578dc84b0",
   "metadata": {},
   "outputs": [
    {
     "name": "stdout",
     "output_type": "stream",
     "text": [
      "Arquivo .env carregado: True\n"
     ]
    }
   ],
   "source": [
    "loaded = load_dotenv(dotenv_path='.env', override=True)\n",
    "print(\"Arquivo .env carregado:\", loaded)"
   ]
  },
  {
   "cell_type": "code",
   "execution_count": null,
   "id": "f402a10e-95b4-4f2d-8b4c-fb7e268f3029",
   "metadata": {},
   "outputs": [],
   "source": [
    "with open(\".env\", \"r\") as f:\n",
    "    print(\"Conteúdo do .env:\")\n",
    "    print(f.read())"
   ]
  },
  {
   "cell_type": "code",
   "execution_count": null,
   "id": "9584a5f7-badc-460f-9035-fe7ea9d46fcc",
   "metadata": {},
   "outputs": [],
   "source": [
    "print(\"Valor da variável:\", os.getenv(\"OPENAI_API_KEY\"))"
   ]
  },
  {
   "cell_type": "code",
   "execution_count": null,
   "id": "ab1da62e-609f-40c5-bd52-f8998f404b1d",
   "metadata": {},
   "outputs": [],
   "source": []
  }
 ],
 "metadata": {
  "kernelspec": {
   "display_name": "Python 3 (ipykernel)",
   "language": "python",
   "name": "python3"
  },
  "language_info": {
   "codemirror_mode": {
    "name": "ipython",
    "version": 3
   },
   "file_extension": ".py",
   "mimetype": "text/x-python",
   "name": "python",
   "nbconvert_exporter": "python",
   "pygments_lexer": "ipython3",
   "version": "3.13.4"
  }
 },
 "nbformat": 4,
 "nbformat_minor": 5
}

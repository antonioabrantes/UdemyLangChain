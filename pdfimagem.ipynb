{
 "cells": [
  {
   "cell_type": "code",
   "execution_count": 1,
   "id": "ca8a88f2-f7f2-4e2d-9e74-d7dfdafef4a8",
   "metadata": {},
   "outputs": [],
   "source": [
    "import pytesseract\n",
    "import numpy as np\n",
    "import imshow as cv2_imshow\n",
    "import cv2 as cv\n",
    "\n",
    "# pip install pytesseract, pdf2image, opencv-python, imshow\n",
    "# instalação do tesseract: https://github.com/UB-Mannheim/tesseract/wiki\n"
   ]
  },
  {
   "cell_type": "code",
   "execution_count": 2,
   "id": "eb9d185b-cebe-4f7e-b2be-cd361dc033f8",
   "metadata": {},
   "outputs": [],
   "source": [
    "img = cv.imread('dados/teste01.jpg')\n",
    "cv.imshow('image',img)\n",
    "cv.waitKey(0)\n",
    "cv.destroyAllWindows()"
   ]
  },
  {
   "cell_type": "code",
   "execution_count": 3,
   "id": "54b17379-8482-4dc5-9d68-7e316cae1bef",
   "metadata": {},
   "outputs": [],
   "source": [
    "rgb = cv.cvtColor(img, cv.COLOR_BGR2RGB)\n",
    "cv.imshow('image',rgb)\n",
    "cv.waitKey(0)\n",
    "cv.destroyAllWindows()"
   ]
  },
  {
   "cell_type": "code",
   "execution_count": 6,
   "id": "b7677bfe-4c7b-484d-92bb-42a44459da9c",
   "metadata": {},
   "outputs": [
    {
     "name": "stdout",
     "output_type": "stream",
     "text": [
      "testando\n",
      "\n",
      "OCR\n",
      "\n"
     ]
    }
   ],
   "source": [
    "# execute o tesseract.exe obtido em https://github.com/UB-Mannheim/tesseract/wiki\n",
    "# pip install pytesseract\n",
    "pytesseract.pytesseract.tesseract_cmd = \"C:/Program Files/Tesseract-OCR/tesseract.exe\"\n",
    "pytesseract.pytesseract.tesseract_cmd = \"D:/Users/abrantes/AppData/Local/Programs/Tesseract-OCR/tesseract.exe\"\n",
    "texto = pytesseract.image_to_string(rgb)\n",
    "print(texto)"
   ]
  },
  {
   "cell_type": "code",
   "execution_count": 9,
   "id": "4c39854b-c1ef-4a33-b010-61ac1439ab15",
   "metadata": {},
   "outputs": [
    {
     "ename": "PDFPageCountError",
     "evalue": "Unable to get page count.\nI/O Error: Couldn't open file 'dados/PArecer_n_00016_2023_CGPI_proce_10705_2023_19.pdf': No error.\r\n",
     "output_type": "error",
     "traceback": [
      "\u001b[31m---------------------------------------------------------------------------\u001b[39m",
      "\u001b[31mValueError\u001b[39m                                Traceback (most recent call last)",
      "\u001b[36mFile \u001b[39m\u001b[32m~\\InstallAnaconda\\envs\\academia3_13\\Lib\\site-packages\\pdf2image\\pdf2image.py:602\u001b[39m, in \u001b[36mpdfinfo_from_path\u001b[39m\u001b[34m(pdf_path, userpw, ownerpw, poppler_path, rawdates, timeout, first_page, last_page)\u001b[39m\n\u001b[32m    601\u001b[39m \u001b[38;5;28;01mif\u001b[39;00m \u001b[33m\"\u001b[39m\u001b[33mPages\u001b[39m\u001b[33m\"\u001b[39m \u001b[38;5;129;01mnot\u001b[39;00m \u001b[38;5;129;01min\u001b[39;00m d:\n\u001b[32m--> \u001b[39m\u001b[32m602\u001b[39m     \u001b[38;5;28;01mraise\u001b[39;00m \u001b[38;5;167;01mValueError\u001b[39;00m\n\u001b[32m    604\u001b[39m \u001b[38;5;28;01mreturn\u001b[39;00m d\n",
      "\u001b[31mValueError\u001b[39m: ",
      "\nDuring handling of the above exception, another exception occurred:\n",
      "\u001b[31mPDFPageCountError\u001b[39m                         Traceback (most recent call last)",
      "\u001b[36mCell\u001b[39m\u001b[36m \u001b[39m\u001b[32mIn[9]\u001b[39m\u001b[32m, line 18\u001b[39m\n\u001b[32m     15\u001b[39m poppler_path = \u001b[33mr\u001b[39m\u001b[33m'\u001b[39m\u001b[33mD:\u001b[39m\u001b[33m\\\u001b[39m\u001b[33mUsers\u001b[39m\u001b[33m\\\u001b[39m\u001b[33mabrantes\u001b[39m\u001b[33m\\\u001b[39m\u001b[33mpoppler-24.08.0\u001b[39m\u001b[33m\\\u001b[39m\u001b[33mLibrary\u001b[39m\u001b[33m\\\u001b[39m\u001b[33mbin\u001b[39m\u001b[33m'\u001b[39m  \n\u001b[32m     17\u001b[39m \u001b[38;5;66;03m# Converter PDF em uma lista de imagens (cada página do PDF será uma imagem)\u001b[39;00m\n\u001b[32m---> \u001b[39m\u001b[32m18\u001b[39m pages = convert_from_path(pdf_path, \u001b[32m300\u001b[39m, poppler_path=poppler_path)  \u001b[38;5;66;03m# 300 DPI para qualidade de imagem\u001b[39;00m\n\u001b[32m     20\u001b[39m \u001b[38;5;66;03m# Percorrer cada página e extrair o texto\u001b[39;00m\n\u001b[32m     21\u001b[39m text = \u001b[33m\"\u001b[39m\u001b[33m\"\u001b[39m\n",
      "\u001b[36mFile \u001b[39m\u001b[32m~\\InstallAnaconda\\envs\\academia3_13\\Lib\\site-packages\\pdf2image\\pdf2image.py:127\u001b[39m, in \u001b[36mconvert_from_path\u001b[39m\u001b[34m(pdf_path, dpi, output_folder, first_page, last_page, fmt, jpegopt, thread_count, userpw, ownerpw, use_cropbox, strict, transparent, single_file, output_file, poppler_path, grayscale, size, paths_only, use_pdftocairo, timeout, hide_annotations)\u001b[39m\n\u001b[32m    124\u001b[39m \u001b[38;5;28;01mif\u001b[39;00m \u001b[38;5;28misinstance\u001b[39m(poppler_path, PurePath):\n\u001b[32m    125\u001b[39m     poppler_path = poppler_path.as_posix()\n\u001b[32m--> \u001b[39m\u001b[32m127\u001b[39m page_count = pdfinfo_from_path(\n\u001b[32m    128\u001b[39m     pdf_path, userpw, ownerpw, poppler_path=poppler_path\n\u001b[32m    129\u001b[39m )[\u001b[33m\"\u001b[39m\u001b[33mPages\u001b[39m\u001b[33m\"\u001b[39m]\n\u001b[32m    131\u001b[39m \u001b[38;5;66;03m# We start by getting the output format, the buffer processing function and if we need pdftocairo\u001b[39;00m\n\u001b[32m    132\u001b[39m parsed_fmt, final_extension, parse_buffer_func, use_pdfcairo_format = _parse_format(\n\u001b[32m    133\u001b[39m     fmt, grayscale\n\u001b[32m    134\u001b[39m )\n",
      "\u001b[36mFile \u001b[39m\u001b[32m~\\InstallAnaconda\\envs\\academia3_13\\Lib\\site-packages\\pdf2image\\pdf2image.py:611\u001b[39m, in \u001b[36mpdfinfo_from_path\u001b[39m\u001b[34m(pdf_path, userpw, ownerpw, poppler_path, rawdates, timeout, first_page, last_page)\u001b[39m\n\u001b[32m    607\u001b[39m     \u001b[38;5;28;01mraise\u001b[39;00m PDFInfoNotInstalledError(\n\u001b[32m    608\u001b[39m         \u001b[33m\"\u001b[39m\u001b[33mUnable to get page count. Is poppler installed and in PATH?\u001b[39m\u001b[33m\"\u001b[39m\n\u001b[32m    609\u001b[39m     )\n\u001b[32m    610\u001b[39m \u001b[38;5;28;01mexcept\u001b[39;00m \u001b[38;5;167;01mValueError\u001b[39;00m:\n\u001b[32m--> \u001b[39m\u001b[32m611\u001b[39m     \u001b[38;5;28;01mraise\u001b[39;00m PDFPageCountError(\n\u001b[32m    612\u001b[39m         \u001b[33mf\u001b[39m\u001b[33m\"\u001b[39m\u001b[33mUnable to get page count.\u001b[39m\u001b[38;5;130;01m\\n\u001b[39;00m\u001b[38;5;132;01m{\u001b[39;00merr.decode(\u001b[33m'\u001b[39m\u001b[33mutf8\u001b[39m\u001b[33m'\u001b[39m,\u001b[38;5;250m \u001b[39m\u001b[33m'\u001b[39m\u001b[33mignore\u001b[39m\u001b[33m'\u001b[39m)\u001b[38;5;132;01m}\u001b[39;00m\u001b[33m\"\u001b[39m\n\u001b[32m    613\u001b[39m     )\n",
      "\u001b[31mPDFPageCountError\u001b[39m: Unable to get page count.\nI/O Error: Couldn't open file 'dados/PArecer_n_00016_2023_CGPI_proce_10705_2023_19.pdf': No error.\r\n"
     ]
    }
   ],
   "source": [
    "# por.traineddata https://github.com/tesseract-ocr/tessdata/tree/main\n",
    "# salve este arquivo em D:/Users/abrantes/AppData/Local/Programs/Tesseract-OCR/tessdata\n",
    "\n",
    "import pytesseract\n",
    "from pdf2image import convert_from_path\n",
    "from PIL import Image\n",
    "\n",
    "# Definir o caminho do executável do Tesseract (necessário apenas no Windows)\n",
    "pytesseract.pytesseract.tesseract_cmd = \"C:/Program Files/Tesseract-OCR/tesseract.exe\"\n",
    "pytesseract.pytesseract.tesseract_cmd = \"D:/Users/abrantes/AppData/Local/Programs/Tesseract-OCR/tesseract.exe\"\n",
    "\n",
    "# Caminho para o arquivo PDF\n",
    "# instalação do poppler https://github.com/oschwartz10612/poppler-windows/releases\n",
    "pdf_path = 'dados/PArecer_n_00016_2023_CGPI_proce_10705_2023_19.pdf'\n",
    "poppler_path = r'D:\\Users\\abrantes\\poppler-24.08.0\\Library\\bin'  \n",
    "\n",
    "# Converter PDF em uma lista de imagens (cada página do PDF será uma imagem)\n",
    "pages = convert_from_path(pdf_path, 300, poppler_path=poppler_path)  # 300 DPI para qualidade de imagem\n",
    "\n",
    "# Percorrer cada página e extrair o texto\n",
    "text = \"\"\n",
    "for page in pages:\n",
    "    # Converter a imagem para texto usando o pytesseract (OCR)\n",
    "    text += pytesseract.image_to_string(page, lang='por')  # 'lang' define o idioma, 'por' para português\n",
    "\n",
    "# Exibir o texto extraído\n",
    "print(text)"
   ]
  },
  {
   "cell_type": "code",
   "execution_count": null,
   "id": "a19c5113-9810-4b54-9015-514aa67c5917",
   "metadata": {},
   "outputs": [],
   "source": [
    "# Se quiser salvar o texto em um arquivo:\n",
    "with open('texto_extraido.txt', 'w', encoding='utf-8') as f:\n",
    "    f.write(text)"
   ]
  },
  {
   "cell_type": "code",
   "execution_count": null,
   "id": "826c36f4-e3c9-4cef-86e8-b38213d219c6",
   "metadata": {},
   "outputs": [],
   "source": []
  }
 ],
 "metadata": {
  "kernelspec": {
   "display_name": "Python 3 (ipykernel)",
   "language": "python",
   "name": "python3"
  },
  "language_info": {
   "codemirror_mode": {
    "name": "ipython",
    "version": 3
   },
   "file_extension": ".py",
   "mimetype": "text/x-python",
   "name": "python",
   "nbconvert_exporter": "python",
   "pygments_lexer": "ipython3",
   "version": "3.13.4"
  }
 },
 "nbformat": 4,
 "nbformat_minor": 5
}

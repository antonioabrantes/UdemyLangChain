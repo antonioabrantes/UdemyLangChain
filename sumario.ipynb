{
 "cells": [
  {
   "cell_type": "code",
   "execution_count": 1,
   "id": "f36d3665",
   "metadata": {},
   "outputs": [],
   "source": [
    "from openai import OpenAI\n",
    "import os\n",
    "from dotenv import load_dotenv\n",
    "load_dotenv(dotenv_path='.env')\n",
    "\n",
    "openai_api_key = os.getenv(\"OPENAI_API_KEY\")\n",
    "\n",
    "client = OpenAI(\n",
    "    api_key=openai_api_key\n",
    ")\n"
   ]
  },
  {
   "cell_type": "code",
   "execution_count": 2,
   "id": "369486ae",
   "metadata": {},
   "outputs": [
    {
     "name": "stdout",
     "output_type": "stream",
     "text": [
      "{\n",
      "    \"topics\": [\"Justino Mártir\", \"apologética\", \"Cristianismo primitivo\", \"Judaísmo\", \"história de Jesus\"],\n",
      "    \"summary\": \"O documento analisa a figura de Justino Mártir, um apologista cristão do século I, que fez defesas da existência de Jesus Cristo e abordou a imoralidade e o ateísmo associados aos cristãos. Suas obras, como a 'Primeira Apologia' e o 'Diálogo com Trifão', são cruciais para entender as crenças dos primeiros cristãos e sua relação com a sociedade romana. No diálogo com Trifão, Justino utiliza argumentos filosóficos e referências ao Antigo Testamento para demonstrar que Jesus é o verdadeiro Deus. A crítica de Trifão à inexistência de Jesus levanta questões sobre a circulação de textos judaicos, como o Testemunho Flaviano, que Justino não menciona, sugerindo que ele não o conhecia ou não o considerava confiável. A impossibilidade de Justino ignorar Flávio Josefo, um autor importante de sua época, pode indicar a ausência de referências sobre Jesus em obras judaicas, desafiando a credibilidade de sua existência entre contemporâneos.\"\n",
      "}\n"
     ]
    }
   ],
   "source": [
    "document_path = 'document1.txt'\n",
    "with open(document_path, 'r', encoding=\"utf-8\") as file:\n",
    "    document = file.read()\n",
    "\n",
    "prompt = ''' Você é um documentarista. Sua função é analisar documentos,\n",
    "        extrair os tópicos principais e gerar um breve resumo.\n",
    "        Use um formato JSON para fornecer as informações, com a seguinte estrutura:\n",
    "        {\n",
    "            \"topics\": [\"esportes\", \"futebol\"],\n",
    "             \"summary\": \"O resumo do documento\"\n",
    "        } \n",
    "    '''\n",
    "\n",
    "response = client.chat.completions.create(\n",
    "    model=\"gpt-4o-mini\",\n",
    "    messages=[{\"role\": \"user\", \"content\": f'{prompt} Document: {document}'}],\n",
    "    response_format={\"type\": \"json_object\"})\n",
    "print(response.choices[0].message.content)"
   ]
  },
  {
   "cell_type": "code",
   "execution_count": 3,
   "id": "68b0294e",
   "metadata": {},
   "outputs": [],
   "source": [
    "from langchain_openai import ChatOpenAI\n",
    "from dotenv import load_dotenv\n",
    "import os\n",
    "\n",
    "load_dotenv(dotenv_path='.env')\n",
    "openai_api_key = os.getenv(\"OPENAI_API_KEY\")\n"
   ]
  },
  {
   "cell_type": "code",
   "execution_count": 4,
   "id": "09a267bb-9fa2-426b-a076-e5185f51f82d",
   "metadata": {},
   "outputs": [
    {
     "name": "stdout",
     "output_type": "stream",
     "text": [
      "{\n",
      "    \"topics\": [\"Justino Mártir\", \"Cristianismo primitivo\", \"apologética\", \"história de Jesus\", \"diálogo com Trifão\"],\n",
      "    \"summary\": \"O documento analisa a figura de Justino Mártir, um apologista cristão do século I, que defendeu a existência de Jesus Cristo em suas obras, como a 'Primeira Apologia' e o 'Diálogo com Trifão'. Justino argumenta contra acusações de ateísmo e imoralidade, utilizando referências à vida, crucificação e ressurreição de Jesus. O diálogo com Trifão, um sábio judeu, revela a resistência de alguns judeus em reconhecer Jesus como o Messias. A ausência de citações ao testemunho de Flávio Josefo levanta questões sobre a autenticidade e a circulação desse testemunho na época de Justino, sugerindo que ele pode não ter considerado essa evidência confiável ou acessível. O documento destaca a importância das obras de Justino para entender as crenças e defesas dos primeiros cristãos.\"\n",
      "}\n"
     ]
    }
   ],
   "source": [
    "document_path = 'document1.txt'\n",
    "with open(document_path, 'r', encoding=\"utf-8\") as file:\n",
    "    document = file.read()\n",
    "\n",
    "prompt = ''' Você é um documentarista. Sua função é analisar documentos,\n",
    "    extrair os tópicos principais e gerar um breve resumo.\n",
    "    Use um formato JSON para fornecer as informações, com a seguinte estrutura:\n",
    "    {\n",
    "        \"topics\": [\"esportes\", \"futebol\"],\n",
    "        \"summary\": \"O resumo do documento\"\n",
    "    } \n",
    "    '''\n",
    "llm = ChatOpenAI(temperature=0.0, model=\"gpt-4o-mini\", max_tokens=256, openai_api_key=openai_api_key)\n",
    "messages=[{\"role\": \"user\", \"content\": f'{prompt} Document: {document}'}]\n",
    "response_format={\"type\": \"json_object\"}\n",
    "response = llm.invoke(messages, response_format=response_format)\n",
    "print(response.content)"
   ]
  },
  {
   "cell_type": "code",
   "execution_count": null,
   "id": "418da109-d1c9-4fc3-acf7-e97f6ee55b47",
   "metadata": {},
   "outputs": [],
   "source": []
  }
 ],
 "metadata": {
  "kernelspec": {
   "display_name": "Python 3 (ipykernel)",
   "language": "python",
   "name": "python3"
  },
  "language_info": {
   "codemirror_mode": {
    "name": "ipython",
    "version": 3
   },
   "file_extension": ".py",
   "mimetype": "text/x-python",
   "name": "python",
   "nbconvert_exporter": "python",
   "pygments_lexer": "ipython3",
   "version": "3.12.4"
  }
 },
 "nbformat": 4,
 "nbformat_minor": 5
}

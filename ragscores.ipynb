{
 "cells": [
  {
   "cell_type": "code",
   "execution_count": 1,
   "id": "574b6113-1942-41d8-af8a-5485657b5114",
   "metadata": {},
   "outputs": [],
   "source": [
    "from langchain_openai import ChatOpenAI\n",
    "from langchain_groq import ChatGroq\n",
    "from langchain_anthropic import ChatAnthropic\n",
    "from langchain_google_genai import ChatGoogleGenerativeAI\n",
    "\n",
    "import os\n",
    "from dotenv import load_dotenv"
   ]
  },
  {
   "cell_type": "code",
   "execution_count": 2,
   "id": "2151cece-f52b-47b6-b0a3-1317934e8c35",
   "metadata": {},
   "outputs": [],
   "source": [
    "load_dotenv(dotenv_path='.env',override=True)\n",
    "\n",
    "# https://platform.openai.com/api-keys\n",
    "openai_api_key = os.getenv(\"OPENAI_API_KEY\")\n",
    "\n",
    "# https://console.groq.com/keys\n",
    "groq_api_key = os.getenv(\"GROQ_API_KEY\")\n",
    "\n",
    "# https://console.anthropic.com/dashboard\n",
    "anthropic_api_key = os.getenv(\"ANTHROPIC_API_KEY\")\n",
    "\n",
    "# https://aistudio.google.com/app/apikey\n",
    "gemini_api_key = os.getenv(\"GEMINI_API_KEY\")"
   ]
  },
  {
   "cell_type": "code",
   "execution_count": 3,
   "id": "3de88ecc-bb13-4bde-b0bc-d0db7535e307",
   "metadata": {},
   "outputs": [
    {
     "name": "stdout",
     "output_type": "stream",
     "text": [
      "49\n"
     ]
    }
   ],
   "source": [
    "#!pip install pypdf\n",
    "#!pip install faiss-cpu\n",
    "\n",
    "from langchain_community.document_loaders.pdf import PyPDFLoader\n",
    "loader = PyPDFLoader(\"dados/ExplorersGuide.pdf\")\n",
    "pages = loader.load_and_split()\n",
    "print(len(pages))\n",
    "\n",
    "#file_path = os.path.abspath(\"data/lei.pdf\")\n",
    "#if os.path.isfile(file_path):\n",
    "#    print(\"ok\")\n",
    "#else:\n",
    "#    print(\"erro\")\n",
    "#print(os.path.abspath(file_path))"
   ]
  },
  {
   "cell_type": "code",
   "execution_count": 4,
   "id": "819e346f-32ef-466d-9bbb-58cf95d51fde",
   "metadata": {},
   "outputs": [],
   "source": [
    "from langchain_openai import OpenAIEmbeddings\n",
    "embeddings = OpenAIEmbeddings(openai_api_key=openai_api_key)"
   ]
  },
  {
   "cell_type": "code",
   "execution_count": 8,
   "id": "a09104eb-d677-41d2-b76e-b43f91990653",
   "metadata": {},
   "outputs": [
    {
     "name": "stderr",
     "output_type": "stream",
     "text": [
      "Xet Storage is enabled for this repo, but the 'hf_xet' package is not installed. Falling back to regular HTTP download. For better performance, install the package with: `pip install huggingface_hub[hf_xet]` or `pip install hf_xet`\n"
     ]
    }
   ],
   "source": [
    "import os\n",
    "os.environ[\"TRANSFORMERS_VERBOSITY\"] = \"error\"\n",
    "os.environ[\"HF_HUB_DISABLE_SYMLINKS_WARNING\"] = \"1\"\n",
    "\n",
    "from langchain_huggingface import HuggingFaceEmbeddings\n",
    "embeddings = HuggingFaceEmbeddings(model_name='sentence-transformers/all-MiniLM-L6-v2')"
   ]
  },
  {
   "cell_type": "code",
   "execution_count": 9,
   "id": "2ac96cc8-661d-442b-acef-42fee3ce43de",
   "metadata": {},
   "outputs": [],
   "source": [
    "from langchain_community.vectorstores.faiss import FAISS \n",
    "db = FAISS.from_documents(pages, embeddings)"
   ]
  },
  {
   "cell_type": "code",
   "execution_count": 10,
   "id": "40df7433-5259-49e2-9be7-3b6d612651e2",
   "metadata": {},
   "outputs": [
    {
     "data": {
      "text/plain": [
       "4"
      ]
     },
     "execution_count": 10,
     "metadata": {},
     "output_type": "execute_result"
    }
   ],
   "source": [
    "question = \"Qual a cor da tunica tradicional do personagem Link?\"\n",
    "chunks = db.similarity_search(question)\n",
    "len(chunks)"
   ]
  },
  {
   "cell_type": "code",
   "execution_count": 11,
   "id": "0285138d-af84-4c1b-865d-8c9b5ae7b6a6",
   "metadata": {},
   "outputs": [
    {
     "data": {
      "text/plain": [
       "Document(id='ff32d792-a4ab-40a9-9f94-0bc0a73491b5', metadata={'producer': 'Adobe PDF library 17.00', 'creator': 'Adobe Illustrator 27.2 (Macintosh)', 'creationdate': '2023-01-23T16:00:31-08:00', 'creatorversion': '21.0.2', 'moddate': '2023-03-22T11:41:57-07:00', 'title': 'ZeldaBook_Cover_InsideCover_SC', 'source': 'dados/ExplorersGuide.pdf', 'total_pages': 50, 'page': 35, 'page_label': '36'}, page_content='While Link’s traditional green \\ntunic is certainly an iconic look, his \\nwardrobe has expanded quite a bit \\nin his latest adventure. How you \\ndress isn’t just an expression of \\npersonal style either. In addition \\nto upping your defense a bit, \\ndifferent outﬁts have different \\neffects that will prove useful \\ndepending on what you’re doing \\nand where you’re going. The Warm \\nDoublet, for example, is a fantastic \\nfusion of fashion and function. It \\nnot only looks rather spiffy, it also \\nprotects you from the cold, allow-\\ning you to explore snowy areas \\nwithout losing health along the \\nway. The Climber’s set ups your \\nclimbing speed, which means \\nyou’ll be able to climb farther than \\nyou normally would \\nbefore running out of \\nstamina. The Stealth set \\nincreases your stealth, \\nso it’s handy when \\nyou’re out hunting or \\ntrying to sneak up on \\nenemies. The Zora \\nArmor not only helps \\nyou swim faster, it also allows you \\nto swim up waterfalls. Wearing a \\ncomplete set with upgraded \\npieces can even provide a bonus \\neffect. So if you plan on using an \\narmor ability frequently, make it a \\npoint to ﬁnd all of the pieces in \\nthat set and upgrade them! In fact, \\ngiven the variety of looks and \\naffects out there, you’ll want to \\ncollect as many duds as you can \\nand change them frequently to get \\nthe most out of your adventure. You \\ncan even dye your outﬁts to the \\ncolor of your choice by taking the \\nright ingredients and some rupees \\nto the Kochi Dye Shop in Hateno \\nVillage, so don’t discount a useful \\nbit of clothing because you’re not \\nfond of the color! All that said, if \\nyou prefer to run around \\nHyrule in nothing but \\nyour skivvies...that’s a \\nperfectly valid choice as \\nwell. Just don’t expect \\nHyrule’s residents to \\ntake too kindly to that \\ndecision.\\n67 68\\nDress for Success')"
      ]
     },
     "execution_count": 11,
     "metadata": {},
     "output_type": "execute_result"
    }
   ],
   "source": [
    "chunks[0]"
   ]
  },
  {
   "cell_type": "code",
   "execution_count": 12,
   "id": "dc7518b3-fc60-4763-a7a6-9cceedf8d803",
   "metadata": {},
   "outputs": [
    {
     "data": {
      "text/plain": [
       "'While Link’s traditional green \\ntunic is certainly an iconic look, his \\nwardrobe has expanded quite a bit \\nin his latest adventure. How you \\ndress isn’t just an expression of \\npersonal style either. In addition \\nto upping your defense a bit, \\ndifferent outﬁts have different \\neffects that will prove useful \\ndepending on what you’re doing \\nand where you’re going. The Warm \\nDoublet, for example, is a fantastic \\nfusion of fashion and function. It \\nnot only looks rather spiffy, it also \\nprotects you from the cold, allow-\\ning you to explore snowy areas \\nwithout losing health along the \\nway. The Climber’s set ups your \\nclimbing speed, which means \\nyou’ll be able to climb farther than \\nyou normally would \\nbefore running out of \\nstamina. The Stealth set \\nincreases your stealth, \\nso it’s handy when \\nyou’re out hunting or \\ntrying to sneak up on \\nenemies. The Zora \\nArmor not only helps \\nyou swim faster, it also allows you \\nto swim up waterfalls. Wearing a \\ncomplete set with upgraded \\npieces can even provide a bonus \\neffect. So if you plan on using an \\narmor ability frequently, make it a \\npoint to ﬁnd all of the pieces in \\nthat set and upgrade them! In fact, \\ngiven the variety of looks and \\naffects out there, you’ll want to \\ncollect as many duds as you can \\nand change them frequently to get \\nthe most out of your adventure. You \\ncan even dye your outﬁts to the \\ncolor of your choice by taking the \\nright ingredients and some rupees \\nto the Kochi Dye Shop in Hateno \\nVillage, so don’t discount a useful \\nbit of clothing because you’re not \\nfond of the color! All that said, if \\nyou prefer to run around \\nHyrule in nothing but \\nyour skivvies...that’s a \\nperfectly valid choice as \\nwell. Just don’t expect \\nHyrule’s residents to \\ntake too kindly to that \\ndecision.\\n67 68\\nDress for Success'"
      ]
     },
     "execution_count": 12,
     "metadata": {},
     "output_type": "execute_result"
    }
   ],
   "source": [
    "chunks[0].page_content"
   ]
  },
  {
   "cell_type": "code",
   "execution_count": 13,
   "id": "363417f9-98c5-45ee-9678-4bfef582b0c3",
   "metadata": {},
   "outputs": [
    {
     "name": "stdout",
     "output_type": "stream",
     "text": [
      "Documento: While Link’s traditional green \n",
      "tunic is certainly an iconic look, his \n",
      "wardrobe has expanded quite a bit \n",
      "in his latest adventure. How you \n",
      "dress isn’t just an expression of \n",
      "personal style either. In addition \n",
      "to upping your defense a bit, \n",
      "different outﬁts have different \n",
      "effects that will prove useful \n",
      "depending on what you’re doing \n",
      "and where you’re going. The Warm \n",
      "Doublet, for example, is a fantastic \n",
      "fusion of fashion and function. It \n",
      "not only looks rather spiffy, it also \n",
      "protects you from the cold, allow-\n",
      "ing you to explore snowy areas \n",
      "without losing health along the \n",
      "way. The Climber’s set ups your \n",
      "climbing speed, which means \n",
      "you’ll be able to climb farther than \n",
      "you normally would \n",
      "before running out of \n",
      "stamina. The Stealth set \n",
      "increases your stealth, \n",
      "so it’s handy when \n",
      "you’re out hunting or \n",
      "trying to sneak up on \n",
      "enemies. The Zora \n",
      "Armor not only helps \n",
      "you swim faster, it also allows you \n",
      "to swim up waterfalls. Wearing a \n",
      "complete set with upgraded \n",
      "pieces can even provide a bonus \n",
      "effect. So if you plan on using an \n",
      "armor ability frequently, make it a \n",
      "point to ﬁnd all of the pieces in \n",
      "that set and upgrade them! In fact, \n",
      "given the variety of looks and \n",
      "affects out there, you’ll want to \n",
      "collect as many duds as you can \n",
      "and change them frequently to get \n",
      "the most out of your adventure. You \n",
      "can even dye your outﬁts to the \n",
      "color of your choice by taking the \n",
      "right ingredients and some rupees \n",
      "to the Kochi Dye Shop in Hateno \n",
      "Village, so don’t discount a useful \n",
      "bit of clothing because you’re not \n",
      "fond of the color! All that said, if \n",
      "you prefer to run around \n",
      "Hyrule in nothing but \n",
      "your skivvies...that’s a \n",
      "perfectly valid choice as \n",
      "well. Just don’t expect \n",
      "Hyrule’s residents to \n",
      "take too kindly to that \n",
      "decision.\n",
      "67 68\n",
      "Dress for Success\n",
      "Relevância: 1.3824868202209473\n",
      "Metadata: {'producer': 'Adobe PDF library 17.00', 'creator': 'Adobe Illustrator 27.2 (Macintosh)', 'creationdate': '2023-01-23T16:00:31-08:00', 'creatorversion': '21.0.2', 'moddate': '2023-03-22T11:41:57-07:00', 'title': 'ZeldaBook_Cover_InsideCover_SC', 'source': 'dados/ExplorersGuide.pdf', 'total_pages': 50, 'page': 35, 'page_label': '36'}\n",
      "\n",
      "\n",
      "Documento: While it makes sense that Breath of the \n",
      "Wild series amiibo have a lot to offer to the \n",
      "experience, they’re not the only amiibo \n",
      "that can join the party. If you have other \n",
      "Zelda series amiibo, such as those \n",
      "from The Legend of Zelda 30th \n",
      "Anniversary series, bust them out and \n",
      "scan them to your heart’s content. \n",
      "From Ocarina of Time to The Wind \n",
      "Waker to the original Legend of Zelda \n",
      "and more, there are all kinds of \n",
      "Zelda-related amiibo out there just \n",
      "waiting to be scanned. The best part is \n",
      "that doing so can earn you some useful \n",
      "ingredients and materials...and \n",
      "potentially some special items and \n",
      "clothing as well! This includes pieces of \n",
      "armor and equipment that honor the \n",
      "history of this legendary franchise \n",
      "(such as different versions of a certain \n",
      "green tunic our Hylian hero is often \n",
      "known to wear). From classic clothing \n",
      "Link has worn in his past adventures to \n",
      "familiar weapons and shields, collecting \n",
      "treasure from the various Legend of \n",
      "Zelda amiibo is a great way to celebrate \n",
      "Link’s rich legacy while scoring some \n",
      "rare gear. Certain amiibo may even \n",
      "have the power to summon a beloved \n",
      "equine companion from Link’s past...\n",
      "11 12\n",
      "Link\n",
      "(The Legend of Zelda)\n",
      "Link\n",
      "(Ocarina of Time)\n",
      "Link\n",
      "(Majora’s Mask)\n",
      "Link\n",
      "(Skyward Sword)\n",
      "Link\n",
      "(Twilight Princess)\n",
      "Toon Link\n",
      "(Wind Waker)\n",
      "Zelda\n",
      "(Wind Waker)\n",
      "Fun with Legend of Zeldaseries amiibo\n",
      "Relevância: 1.4191925525665283\n",
      "Metadata: {'producer': 'Adobe PDF library 17.00', 'creator': 'Adobe Illustrator 27.2 (Macintosh)', 'creationdate': '2023-01-23T16:00:31-08:00', 'creatorversion': '21.0.2', 'moddate': '2023-03-22T11:41:57-07:00', 'title': 'ZeldaBook_Cover_InsideCover_SC', 'source': 'dados/ExplorersGuide.pdf', 'total_pages': 50, 'page': 7, 'page_label': '8'}\n",
      "\n",
      "\n",
      "Documento: Good ol’ Link... His name isn’t in \n",
      "the series title, but that doesn’t \n",
      "stop him from leaving his comfy \n",
      "bed and rescuing the kingdom of \n",
      "Hyrule from the clutches of Ganon \n",
      "on a regular basis. While our brave \n",
      "hero starts out with little more to \n",
      "his name than the clothes on his \n",
      "back (or lack thereof), his coura-\n",
      "geous spirit eventually allows him \n",
      "to overcome impossible odds by \n",
      "acquiring the tools and abilities he \n",
      "needs to save Hyrule from a terrible \n",
      "fate. Among all the cool relics and \n",
      "gadgets Link ﬁnds himself in \n",
      "possession of, the one that truly \n",
      "deﬁnes him is his trusty companion \n",
      "in the ﬁght against evil...the fabled Master \n",
      "Sword! It’s a long road from Link’s quiet home \n",
      "to the resting place of his mighty blade, but if \n",
      "anyone can manage the challenge, it’s Link. \n",
      "After all, you don’t earn the nickname “Hero of \n",
      "Time” by shying away from a challenge!\n",
      "The courageous hero Link... The wise \n",
      "princess Zelda... The powerful demon \n",
      "king Ganon... These ﬁgures embody \n",
      "the three parts of the Triforce, a holy relic with \n",
      "incredible power. Their struggles and triumphs \n",
      "have taken many forms across time, but their \n",
      "most epic adventure yet is at your ﬁngertips.\n",
      "The Legend of Link!\n",
      "3 4 \n",
      "1998\n",
      "1987\n",
      "Master Sword\n",
      "2006\n",
      "2003\n",
      "Relevância: 1.5118765830993652\n",
      "Metadata: {'producer': 'Adobe PDF library 17.00', 'creator': 'Adobe Illustrator 27.2 (Macintosh)', 'creationdate': '2023-01-23T16:00:31-08:00', 'creatorversion': '21.0.2', 'moddate': '2023-03-22T11:41:57-07:00', 'title': 'ZeldaBook_Cover_InsideCover_SC', 'source': 'dados/ExplorersGuide.pdf', 'total_pages': 50, 'page': 3, 'page_label': '4'}\n",
      "\n",
      "\n"
     ]
    }
   ],
   "source": [
    "question = \"Qual a cor da tunica tradicional do personagem Link?\"\n",
    "db = FAISS.from_documents(pages, embeddings)\n",
    "result = db.similarity_search_with_score(question, k=3)\n",
    "for doc, score in result:\n",
    "    print(f\"Documento: {doc.page_content}\\nRelevância: {score}\\nMetadata: {doc.metadata}\\n\\n\")\n"
   ]
  },
  {
   "cell_type": "code",
   "execution_count": 14,
   "id": "cfaa2029-8f25-4038-9231-440986f253c8",
   "metadata": {},
   "outputs": [],
   "source": [
    "contexto = chunks[0].page_content + chunks[1].page_content + chunks[2].page_content"
   ]
  },
  {
   "cell_type": "code",
   "execution_count": 15,
   "id": "4c08534f-f735-4851-bf6f-e5f3e6e81d99",
   "metadata": {},
   "outputs": [
    {
     "name": "stdout",
     "output_type": "stream",
     "text": [
      "A cor da túnica tradicional do personagem Link é verde.\n"
     ]
    }
   ],
   "source": [
    "template = \"\"\"\n",
    "Responda a pergunta {question} com base neste contexto: {context}\n",
    "\"\"\"\n",
    "from langchain.prompts.prompt import PromptTemplate\n",
    "prompt = PromptTemplate(input_variables=['question','context'],template=template)\n",
    "llm = ChatOpenAI(model=\"gpt-4o-mini\", openai_api_key=openai_api_key)\n",
    "chain = prompt | llm\n",
    "response = chain.invoke({\"question\":question, \"context\":chunks[0].page_content})\n",
    "print(response.content)\n"
   ]
  },
  {
   "cell_type": "code",
   "execution_count": null,
   "id": "84075305-5533-4abb-9dc3-713b75f07e56",
   "metadata": {},
   "outputs": [],
   "source": []
  }
 ],
 "metadata": {
  "kernelspec": {
   "display_name": "Python 3 (ipykernel)",
   "language": "python",
   "name": "python3"
  },
  "language_info": {
   "codemirror_mode": {
    "name": "ipython",
    "version": 3
   },
   "file_extension": ".py",
   "mimetype": "text/x-python",
   "name": "python",
   "nbconvert_exporter": "python",
   "pygments_lexer": "ipython3",
   "version": "3.13.4"
  }
 },
 "nbformat": 4,
 "nbformat_minor": 5
}

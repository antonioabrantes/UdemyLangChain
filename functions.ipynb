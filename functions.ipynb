{
 "cells": [
  {
   "cell_type": "markdown",
   "metadata": {},
   "source": [
    "### OpenAI Function Calling\n",
    "\n",
    "A funcionalidade de chamada de função OpenAI permite definir funções que serão passadas para o LLM. O LLM identificará a função correta para a solicitação e fornecerá parâmetros para a chamada de função."
   ]
  },
  {
   "cell_type": "code",
   "execution_count": 1,
   "metadata": {},
   "outputs": [
    {
     "data": {
      "text/plain": [
       "True"
      ]
     },
     "execution_count": 1,
     "metadata": {},
     "output_type": "execute_result"
    }
   ],
   "source": [
    "from dotenv import load_dotenv, find_dotenv\n",
    "load_dotenv(find_dotenv(), override=True) # lê as chaves do arquivo .env e já cria variáveis de ambiente de mesmo nome"
   ]
  },
  {
   "cell_type": "code",
   "execution_count": 2,
   "metadata": {},
   "outputs": [],
   "source": [
    "import openai\n",
    "\n",
    "def chat(query):\n",
    "    response = openai.chat.completions.create(\n",
    "        model=\"gpt-4o-mini\",\n",
    "        messages=[{\"role\": \"user\", \"content\": query}],\n",
    "    )\n",
    "    message = response.choices[0].message.content\n",
    "    return message"
   ]
  },
  {
   "cell_type": "code",
   "execution_count": 3,
   "metadata": {},
   "outputs": [
    {
     "data": {
      "text/plain": [
       "'O preço de um livro de aventuras pode variar bastante dependendo de vários fatores, como o autor, a edição (capa dura ou brochura), a editora e se é um livro novo ou usado. Em geral, você pode encontrar livros de aventuras em lojas físicas ou online com preços que variam de cerca de R$ 20,00 a R$ 100,00 ou mais. Edições especiais ou de colecionador podem custar ainda mais. Para obter um preço específico, é melhor verificar em livrarias locais ou sites de vendas online.'"
      ]
     },
     "execution_count": 3,
     "metadata": {},
     "output_type": "execute_result"
    }
   ],
   "source": [
    "query = \"Quanto custa um livro de aventuras ?\"\n",
    "message = chat(query)\n",
    "message"
   ]
  },
  {
   "cell_type": "code",
   "execution_count": 4,
   "metadata": {},
   "outputs": [],
   "source": [
    "import json\n",
    "\n",
    "def get_book_info(book_name: str):\n",
    "    book_info = {\n",
    "        \"name\": book_name,\n",
    "        \"price\": \"30.00\",\n",
    "    }\n",
    "    return json.dumps(book_info)"
   ]
  },
  {
   "cell_type": "code",
   "execution_count": 5,
   "metadata": {},
   "outputs": [],
   "source": [
    "functions = [\n",
    "    {\n",
    "        \"name\": \"get_book_info\",\n",
    "        \"description\": \"Obtenha o gênero e o preço de um livro\",\n",
    "        \"parameters\": {\n",
    "            \"type\": \"object\",\n",
    "            \"properties\": {\n",
    "                \"book_name\": {\n",
    "                    \"type\": \"string\",\n",
    "                    \"description\": \"Gênero do livro \",\n",
    "                },\n",
    "            },\n",
    "            \"required\": [\"book_name\"],\n",
    "        },\n",
    "    }\n",
    "]"
   ]
  },
  {
   "cell_type": "code",
   "execution_count": 6,
   "metadata": {},
   "outputs": [],
   "source": [
    "def chat(query):\n",
    "    response = openai.chat.completions.create(\n",
    "        model=\"gpt-4o-mini\",\n",
    "        messages=[{\"role\": \"user\", \"content\": query}],\n",
    "        functions=functions, \n",
    "    )\n",
    "    message = response.choices[0].message\n",
    "    return message"
   ]
  },
  {
   "cell_type": "code",
   "execution_count": 7,
   "metadata": {},
   "outputs": [
    {
     "name": "stdout",
     "output_type": "stream",
     "text": [
      "A capital da Itália é Roma.\n"
     ]
    }
   ],
   "source": [
    "response = chat(\"Qual a capital da Itália?\")\n",
    "print(response.content)"
   ]
  },
  {
   "cell_type": "code",
   "execution_count": 8,
   "metadata": {},
   "outputs": [
    {
     "name": "stdout",
     "output_type": "stream",
     "text": [
      "ChatCompletionMessage(content=None, refusal=None, role='assistant', annotations=[], audio=None, function_call=FunctionCall(arguments='{\"book_name\":\"aventura\"}', name='get_book_info'), tool_calls=None)\n"
     ]
    }
   ],
   "source": [
    "query = \"Quanto custa um livro de aventuras?\"\n",
    "message = chat(query)\n",
    "print(message)"
   ]
  },
  {
   "cell_type": "code",
   "execution_count": 9,
   "metadata": {},
   "outputs": [
    {
     "name": "stdout",
     "output_type": "stream",
     "text": [
      "aventura\n",
      "{\"name\": \"aventura\", \"price\": \"30.00\"}\n"
     ]
    }
   ],
   "source": [
    "if message.function_call:\n",
    "    book_name = json.loads(message.function_call.arguments).get(\"book_name\")\n",
    "    print(book_name)\n",
    "    function_response = get_book_info(\n",
    "        book_name=book_name\n",
    "    )\n",
    "    print(function_response)"
   ]
  },
  {
   "cell_type": "code",
   "execution_count": 10,
   "metadata": {},
   "outputs": [
    {
     "data": {
      "text/plain": [
       "ChatCompletion(id='chatcmpl-BhfSVsnP2rkeafXepz0gr0IvuNpSM', choices=[Choice(finish_reason='stop', index=0, logprobs=None, message=ChatCompletionMessage(content='Um livro de aventuras custa aproximadamente R$ 30,00.', refusal=None, role='assistant', annotations=[], audio=None, function_call=None, tool_calls=None))], created=1749747171, model='gpt-4o-mini-2024-07-18', object='chat.completion', service_tier='default', system_fingerprint='fp_34a54ae93c', usage=CompletionUsage(completion_tokens=13, prompt_tokens=55, total_tokens=68, completion_tokens_details=CompletionTokensDetails(accepted_prediction_tokens=0, audio_tokens=0, reasoning_tokens=0, rejected_prediction_tokens=0), prompt_tokens_details=PromptTokensDetails(audio_tokens=0, cached_tokens=0)))"
      ]
     },
     "execution_count": 10,
     "metadata": {},
     "output_type": "execute_result"
    }
   ],
   "source": [
    "second_response = openai.chat.completions.create(\n",
    "    model=\"gpt-4o-mini\",\n",
    "    messages=[\n",
    "        {\"role\": \"user\", \"content\": query},\n",
    "        message,\n",
    "        {\n",
    "            \"role\": \"function\",\n",
    "            \"name\": \"get_book_info\",\n",
    "            \"content\": function_response,\n",
    "        },\n",
    "    ],\n",
    ")\n",
    "second_response"
   ]
  },
  {
   "cell_type": "code",
   "execution_count": 11,
   "metadata": {},
   "outputs": [
    {
     "data": {
      "text/plain": [
       "'Um livro de aventuras custa aproximadamente R$ 30,00.'"
      ]
     },
     "execution_count": 11,
     "metadata": {},
     "output_type": "execute_result"
    }
   ],
   "source": [
    "second_response.choices[0].message.content"
   ]
  },
  {
   "cell_type": "markdown",
   "metadata": {},
   "source": [
    "O mesmo pode ser feito com LangChain"
   ]
  },
  {
   "cell_type": "code",
   "execution_count": 12,
   "metadata": {},
   "outputs": [],
   "source": [
    "from langchain_openai import ChatOpenAI\n",
    "from langchain_groq import ChatGroq\n",
    "\n",
    "from langchain.prompts.prompt import PromptTemplate\n",
    "from langchain.chains.openai_functions import create_openai_fn_chain"
   ]
  },
  {
   "cell_type": "code",
   "execution_count": 13,
   "metadata": {},
   "outputs": [
    {
     "name": "stderr",
     "output_type": "stream",
     "text": [
      "D:\\Users\\abrantes\\AppData\\Local\\Temp\\ipykernel_11632\\502016012.py:10: LangChainDeprecationWarning: The function `create_openai_fn_chain` was deprecated in LangChain 0.1.1 and will be removed in 1.0. Use :meth:`~create_openai_fn_runnable` instead.\n",
      "  chain = create_openai_fn_chain(functions, llm, prompt, verbose=False)\n"
     ]
    }
   ],
   "source": [
    "#llm = ChatOpenAI(model=\"gpt-4o-mini\", temperature=0)\n",
    "llm = ChatGroq(model=\"llama3-8b-8192\")\n",
    "\n",
    "template = \"\"\"Você é um assistente de chatbot conversando com humanos.\n",
    "\n",
    "Human: {human_input}\n",
    "AI: \"\"\"\n",
    "prompt = PromptTemplate(input_variables=[\"human_input\"], template=template)\n",
    "\n",
    "chain = create_openai_fn_chain(functions, llm, prompt, verbose=False)"
   ]
  },
  {
   "cell_type": "code",
   "execution_count": 14,
   "metadata": {},
   "outputs": [
    {
     "name": "stdout",
     "output_type": "stream",
     "text": [
      "{'human_input': 'Quanto custa um livro de aventura?', 'function': {'book_name': 'livro de aventura'}}\n"
     ]
    }
   ],
   "source": [
    "message = chain.invoke(\"Quanto custa um livro de aventura?\")\n",
    "print(message)"
   ]
  },
  {
   "cell_type": "code",
   "execution_count": 15,
   "metadata": {},
   "outputs": [
    {
     "name": "stdout",
     "output_type": "stream",
     "text": [
      "livro de aventura\n"
     ]
    }
   ],
   "source": [
    "print(message[\"function\"][\"book_name\"])"
   ]
  },
  {
   "cell_type": "code",
   "execution_count": 16,
   "metadata": {},
   "outputs": [
    {
     "name": "stdout",
     "output_type": "stream",
     "text": [
      "{\"name\": \"livro de aventura\", \"price\": \"30.00\"}\n"
     ]
    }
   ],
   "source": [
    "book_name = message[\"function\"][\"book_name\"]\n",
    "function_response = get_book_info(\n",
    "        book_name=book_name\n",
    ")\n",
    "print(function_response)"
   ]
  },
  {
   "cell_type": "markdown",
   "metadata": {},
   "source": [
    "podemos usar Pydantic Classes ao inves de JSON Schemas"
   ]
  },
  {
   "cell_type": "code",
   "execution_count": 17,
   "metadata": {},
   "outputs": [],
   "source": [
    "from pydantic import BaseModel, Field\n",
    "\n",
    "class GetBookInfo(BaseModel):\n",
    "    \"\"\"Obtenha o gênero e o preço do livro.\"\"\"\n",
    "\n",
    "    book_name: str = Field(..., description=\"O gênero do livro, p.ex. aventura\")\n",
    "\n",
    "pydantic_classes = [GetBookInfo]"
   ]
  },
  {
   "cell_type": "code",
   "execution_count": 18,
   "metadata": {},
   "outputs": [],
   "source": [
    "chain = create_openai_fn_chain(pydantic_classes, llm, prompt, verbose=False)"
   ]
  },
  {
   "cell_type": "code",
   "execution_count": 19,
   "metadata": {},
   "outputs": [
    {
     "data": {
      "text/plain": [
       "{'human_input': 'Quanto custa um livro de aventura?',\n",
       " 'function': GetBookInfo(book_name='aventura')}"
      ]
     },
     "execution_count": 19,
     "metadata": {},
     "output_type": "execute_result"
    }
   ],
   "source": [
    "chain.invoke(\"Quanto custa um livro de aventura?\")"
   ]
  },
  {
   "cell_type": "markdown",
   "metadata": {},
   "source": [
    "Também podemos passar Functions diretamente. Para passar uma função Python diretamente, queremos ter certeza de que nossos parâmetros têm dicas de tipo, temos uma docstring e usamos docstrings no estilo Google Python para descrever os parâmetros."
   ]
  },
  {
   "cell_type": "code",
   "execution_count": 20,
   "metadata": {},
   "outputs": [],
   "source": [
    "def get_book_info(book_name: str) -> dict[str, str]:\n",
    "    \"\"\"\n",
    "    Obtenha o gênero e preço de um livro.\n",
    "\n",
    "    Args:\n",
    "        book_name: O Gênero do livro, p.ex. aventura.\n",
    "\n",
    "    Returns:\n",
    "        Dict[str, str]: A dicionário contendo o gênero book_name e preço do livro.\n",
    "    \"\"\"\n",
    "    book_info = {\n",
    "        \"name\": book_name,\n",
    "        \"price\": \"30.00\",\n",
    "    }\n",
    "    return book_info"
   ]
  },
  {
   "cell_type": "code",
   "execution_count": 21,
   "metadata": {},
   "outputs": [],
   "source": [
    "chain = create_openai_fn_chain([get_book_info], llm, prompt, verbose=True)"
   ]
  },
  {
   "cell_type": "code",
   "execution_count": 22,
   "metadata": {},
   "outputs": [
    {
     "name": "stderr",
     "output_type": "stream",
     "text": [
      "D:\\Users\\abrantes\\AppData\\Local\\Temp\\ipykernel_11632\\4257101381.py:1: LangChainDeprecationWarning: The method `Chain.run` was deprecated in langchain 0.1.0 and will be removed in 1.0. Use :meth:`~invoke` instead.\n",
      "  resposta = chain.run(\"Quanto custa um livro de aventuras?\")\n"
     ]
    },
    {
     "name": "stdout",
     "output_type": "stream",
     "text": [
      "\n",
      "\n",
      "\u001b[1m> Entering new LLMChain chain...\u001b[0m\n",
      "Prompt after formatting:\n",
      "\u001b[32;1m\u001b[1;3mVocê é um assistente de chatbot conversando com humanos.\n",
      "\n",
      "Human: Quanto custa um livro de aventuras?\n",
      "AI: \u001b[0m\n",
      "\n",
      "\u001b[1m> Finished chain.\u001b[0m\n",
      "{'book_name': 'livro de aventuras'}\n"
     ]
    }
   ],
   "source": [
    "resposta = chain.run(\"Quanto custa um livro de aventuras?\")\n",
    "print(resposta)"
   ]
  },
  {
   "cell_type": "code",
   "execution_count": 23,
   "metadata": {},
   "outputs": [
    {
     "name": "stdout",
     "output_type": "stream",
     "text": [
      "\n",
      "\n",
      "\u001b[1m> Entering new LLMChain chain...\u001b[0m\n",
      "Prompt after formatting:\n",
      "\u001b[32;1m\u001b[1;3mVocê é um assistente de chatbot conversando com humanos.\n",
      "\n",
      "Human: Qual capital da França?\n",
      "AI: \u001b[0m\n",
      "\n",
      "\u001b[1m> Finished chain.\u001b[0m\n",
      "{'book_name': 'Paris'}\n"
     ]
    }
   ],
   "source": [
    "resposta = chain.run(\"Qual capital da França?\")\n",
    "print(resposta)"
   ]
  },
  {
   "cell_type": "code",
   "execution_count": 24,
   "metadata": {},
   "outputs": [],
   "source": [
    "from langchain_openai import ChatOpenAI\n",
    "from langchain.prompts import PromptTemplate\n",
    "from langchain.chains.openai_functions import create_openai_fn_chain\n",
    "from dotenv import load_dotenv, find_dotenv\n",
    "\n",
    "load_dotenv(find_dotenv())\n",
    "\n",
    "database = [\n",
    "    {\"name\": \"aventura\", \"price\": 32.00},\n",
    "    {\"name\": \"drama\", \"price\": 40.00},\n",
    "    {\"name\": \"história\", \"price\": 90.00},\n",
    "    {\"name\": \"filosofia\", \"price\": 60.00}\n",
    "]\n",
    "\n",
    "def get_book_info(book_name: str) -> dict:\n",
    "    \"\"\"\n",
    "    Obtenha o gênero e preço de um livro.\n",
    "\n",
    "    Args:\n",
    "        book_name: Gênero de livro\n",
    "\n",
    "    Returns:\n",
    "        dict: Um dicionário contendo o gênero e preço do livro e retornando caso gênero não encontrado.\n",
    "    \"\"\"\n",
    "    for book in database:\n",
    "        if book[\"name\"] == book_name:\n",
    "            return book\n",
    "    return {\"message\": f\"Não foi encontrado livro deste gênero {book_name}.\"}\n",
    "\n",
    "\n",
    "def add_book(book_name: str, price: float) -> dict:\n",
    "    \"\"\"\n",
    "    Adicione um novo gênero book_name ao banco de dados.\n",
    "\n",
    "    Args:\n",
    "        book_name: Novo Gênero de livro a ser adicionado.\n",
    "        price: preço do novo gênero de livro adicionado.\n",
    "\n",
    "    Returns:\n",
    "        dict: uma mensagems que informa resultado da adição.\n",
    "    \"\"\"\n",
    "    for book in database:\n",
    "        if book[\"name\"] == book_name:\n",
    "            return {\"message\": f\"Gênero de Livro {book_name} já existe no banco de dados.\"}\n",
    "\n",
    "    database.append({\"name\": book_name, \"price\": price})\n",
    "    \n",
    "    return {\"message\": f\"Gênero de livro {book_name} adicionado com sucesso!\"}\n"
   ]
  },
  {
   "cell_type": "code",
   "execution_count": 25,
   "metadata": {},
   "outputs": [],
   "source": [
    "llm = ChatOpenAI(model=\"gpt-4o-mini\", temperature=0)\n",
    "\n",
    "template = \"\"\"Você é um assistente tendo uma conversa com humanos\n",
    "\n",
    "Human: {human_input}\n",
    "AI: \"\"\"\n",
    "prompt = PromptTemplate(input_variables=[\"human_input\"], template=template)\n",
    "\n",
    "chain = create_openai_fn_chain([get_book_info,add_book], llm, prompt, verbose=False)\n"
   ]
  },
  {
   "cell_type": "code",
   "execution_count": 26,
   "metadata": {},
   "outputs": [
    {
     "name": "stdout",
     "output_type": "stream",
     "text": [
      "{'arguments': {'book_name': 'aventuras'}, 'name': 'get_book_info'}\n"
     ]
    }
   ],
   "source": [
    "resposta = chain.run(\"Quanto custa um livro de aventuras?\")\n",
    "print(resposta)"
   ]
  },
  {
   "cell_type": "code",
   "execution_count": 27,
   "metadata": {},
   "outputs": [
    {
     "name": "stdout",
     "output_type": "stream",
     "text": [
      "{'arguments': {'book_name': 'artes', 'price': 100.8}, 'name': 'add_book'}\n"
     ]
    }
   ],
   "source": [
    "resposta = chain.run(\"Eu quero adicionar gênero de livro de artes por 100.80 \")\n",
    "print(resposta)\n",
    "resposta_save = resposta"
   ]
  },
  {
   "cell_type": "code",
   "execution_count": 28,
   "metadata": {},
   "outputs": [
    {
     "name": "stdout",
     "output_type": "stream",
     "text": [
      "Could not parse function call: 'function_call'\n",
      "For troubleshooting, visit: https://python.langchain.com/docs/troubleshooting/errors/OUTPUT_PARSING_FAILURE \n"
     ]
    }
   ],
   "source": [
    "try:\n",
    "    result2 = chain.run(\"Qual a capital da Itália?\")\n",
    "    print(result2)\n",
    "except Exception as e:\n",
    "    print(e)"
   ]
  },
  {
   "cell_type": "code",
   "execution_count": 29,
   "metadata": {},
   "outputs": [
    {
     "name": "stdout",
     "output_type": "stream",
     "text": [
      "{'arguments': {'book_name': 'artes'}, 'name': 'get_book_info'}\n"
     ]
    }
   ],
   "source": [
    "resposta = chain.run(\"Quanto custa um livro de artes?\")\n",
    "print(resposta)"
   ]
  },
  {
   "cell_type": "code",
   "execution_count": 30,
   "metadata": {},
   "outputs": [
    {
     "name": "stdout",
     "output_type": "stream",
     "text": [
      "{'name': 'história', 'price': 90.0}\n"
     ]
    }
   ],
   "source": [
    "print(get_book_info('história'))"
   ]
  },
  {
   "cell_type": "code",
   "execution_count": 31,
   "metadata": {},
   "outputs": [
    {
     "name": "stdout",
     "output_type": "stream",
     "text": [
      "{'message': 'Não foi encontrado livro deste gênero artes.'}\n"
     ]
    }
   ],
   "source": [
    "print(get_book_info('artes'))"
   ]
  },
  {
   "cell_type": "code",
   "execution_count": 32,
   "metadata": {},
   "outputs": [
    {
     "name": "stdout",
     "output_type": "stream",
     "text": [
      "{'arguments': {'book_name': 'artes', 'price': 100.8}, 'name': 'add_book'}\n",
      "{'message': 'Gênero de livro artes adicionado com sucesso!'}\n"
     ]
    }
   ],
   "source": [
    "print(resposta_save)\n",
    "if resposta_save[\"name\"]=='add_book':\n",
    "    book_name = resposta_save[\"arguments\"][\"book_name\"]\n",
    "    price = resposta_save[\"arguments\"][\"price\"]\n",
    "    resultado = add_book(book_name, price) \n",
    "    print(resultado)\n"
   ]
  },
  {
   "cell_type": "code",
   "execution_count": 33,
   "metadata": {},
   "outputs": [
    {
     "name": "stdout",
     "output_type": "stream",
     "text": [
      "{'name': 'artes', 'price': 100.8}\n"
     ]
    }
   ],
   "source": [
    "print(get_book_info('artes'))"
   ]
  },
  {
   "cell_type": "code",
   "execution_count": 34,
   "metadata": {},
   "outputs": [
    {
     "data": {
      "text/plain": [
       "[{'name': 'aventura', 'price': 32.0},\n",
       " {'name': 'drama', 'price': 40.0},\n",
       " {'name': 'história', 'price': 90.0},\n",
       " {'name': 'filosofia', 'price': 60.0},\n",
       " {'name': 'artes', 'price': 100.8}]"
      ]
     },
     "execution_count": 34,
     "metadata": {},
     "output_type": "execute_result"
    }
   ],
   "source": [
    "database"
   ]
  },
  {
   "cell_type": "code",
   "execution_count": null,
   "metadata": {},
   "outputs": [],
   "source": []
  }
 ],
 "metadata": {
  "kernelspec": {
   "display_name": "Python 3 (ipykernel)",
   "language": "python",
   "name": "python3"
  },
  "language_info": {
   "codemirror_mode": {
    "name": "ipython",
    "version": 3
   },
   "file_extension": ".py",
   "mimetype": "text/x-python",
   "name": "python",
   "nbconvert_exporter": "python",
   "pygments_lexer": "ipython3",
   "version": "3.13.4"
  }
 },
 "nbformat": 4,
 "nbformat_minor": 4
}

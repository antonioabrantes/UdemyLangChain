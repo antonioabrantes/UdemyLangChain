{
 "cells": [
  {
   "cell_type": "code",
   "execution_count": 1,
   "metadata": {},
   "outputs": [],
   "source": [
    "import os\n",
    "from dotenv import load_dotenv\n",
    "load_dotenv(dotenv_path='.env')\n",
    "\n",
    "# https://platform.openai.com/api-keys\n",
    "openai_api_key = os.getenv(\"OPENAI_API_KEY\")"
   ]
  },
  {
   "cell_type": "code",
   "execution_count": 2,
   "metadata": {},
   "outputs": [],
   "source": [
    "from langchain_community.document_loaders.pdf import PyPDFLoader\n",
    "loader = PyPDFLoader(\"./dados/ExplorersGuide.pdf\")\n",
    "pages = loader.load_and_split()"
   ]
  },
  {
   "cell_type": "code",
   "execution_count": null,
   "metadata": {},
   "outputs": [],
   "source": [
    "#!pip install pypdf\n",
    "#!pip install tiktoken\n",
    "#!pip install faiss-cpu"
   ]
  },
  {
   "cell_type": "code",
   "execution_count": 3,
   "metadata": {},
   "outputs": [],
   "source": [
    "from langchain_openai import OpenAIEmbeddings\n",
    "embeddings = OpenAIEmbeddings(openai_api_key=openai_api_key)\n"
   ]
  },
  {
   "cell_type": "code",
   "execution_count": 4,
   "metadata": {},
   "outputs": [],
   "source": [
    "from langchain_community.vectorstores.faiss import FAISS # banco de dados vetorial FAISS\n",
    "db = FAISS.from_documents(pages, embeddings)\n"
   ]
  },
  {
   "cell_type": "code",
   "execution_count": null,
   "metadata": {},
   "outputs": [],
   "source": [
    "question = \"Qual a cor tradicional da túnica de Link ?\"\n",
    "db.similarity_search(question)[0] # ele acessa o texto e localiza página 36 (primeira é zero)\n"
   ]
  },
  {
   "cell_type": "code",
   "execution_count": 6,
   "metadata": {},
   "outputs": [
    {
     "name": "stderr",
     "output_type": "stream",
     "text": [
      "C:\\Users\\otimi\\AppData\\Local\\Temp\\ipykernel_21160\\2526503213.py:7: LangChainDeprecationWarning: The method `Chain.__call__` was deprecated in langchain 0.1.0 and will be removed in 1.0. Use invoke instead.\n",
      "  response = chain(question, return_only_outputs=True)\n"
     ]
    },
    {
     "name": "stdout",
     "output_type": "stream",
     "text": [
      "{'result': 'A cor tradicional da túnica de Link é verde.'}\n"
     ]
    }
   ],
   "source": [
    "from langchain_openai import ChatOpenAI\n",
    "from langchain.chains.retrieval_qa.base import RetrievalQA\n",
    "from langchain_openai import OpenAI\n",
    "llm = ChatOpenAI(model=\"gpt-4o-mini\", openai_api_key=openai_api_key)\n",
    "chain = RetrievalQA.from_llm(llm=llm, retriever=db.as_retriever())\n",
    "question = \"Qual a cor tradicional da túnica de Link ?\"\n",
    "response = chain(question, return_only_outputs=True)\n",
    "print(response)\n"
   ]
  },
  {
   "cell_type": "code",
   "execution_count": 7,
   "metadata": {},
   "outputs": [],
   "source": [
    "# Lendo documentos com o chatGPT\n",
    "# https://www.youtube.com/watch?v=5tKJjxXr8LQ\n",
    "# https://github.com/Argonalyst/langchain-exemplos-simples/blob/main/Exemplo%202.ipynb\n",
    "\n",
    "import os\n",
    "from langchain.document_loaders import PyPDFLoader\n",
    "from langchain.text_splitter import RecursiveCharacterTextSplitter\n",
    "from langchain_openai import OpenAIEmbeddings\n",
    "from langchain.vectorstores import FAISS\n",
    "from langchain.chains.question_answering import load_qa_chain\n",
    "from langchain_openai import ChatOpenAI\n",
    "import tiktoken"
   ]
  },
  {
   "cell_type": "code",
   "execution_count": 8,
   "metadata": {},
   "outputs": [],
   "source": [
    "#!pip install textract\n",
    "\n",
    "import PyPDF2\n",
    "\n",
    "# Abrir o arquivo PDF\n",
    "with open(\"dados/bitcoin.pdf\", \"rb\") as file:\n",
    "    reader = PyPDF2.PdfReader(file)\n",
    "    num_pages = len(reader.pages)\n",
    "    \n",
    "    all_text = \"\"\n",
    "    \n",
    "    for page_num in range(num_pages):\n",
    "        page = reader.pages[page_num]\n",
    "        text = page.extract_text()\n",
    "        if text:\n",
    "            all_text += text\n",
    "    \n",
    "    # Salvar todo o texto em um arquivo\n",
    "    with open(\"dados/bitcoin.txt\", \"w\", encoding=\"utf-8\") as output_file:\n",
    "        output_file.write(all_text)\n"
   ]
  },
  {
   "cell_type": "code",
   "execution_count": 9,
   "metadata": {},
   "outputs": [],
   "source": [
    "#import textract \n",
    "#doc = textract.process(\"bitcoin.pdf\") # deu erro !\n",
    "\n",
    "#with open('bitcoin.txt', 'w', encoding=\"utf-8\") as f:\n",
    "#    f.write(doc.decode('utf-8'))\n",
    "\n",
    "import os\n",
    "os.environ['CURL_CA_BUNDLE'] = ''\n",
    "\n",
    "with open('bitcoin.txt', 'r', encoding=\"utf-8\") as f:\n",
    "    text = f.read()\n",
    "    \n",
    "#tokenizer = GPT2TokenizerFast.from_pretrained(\"gpt2\", use_ssl=False) \n",
    "tokenizer = tiktoken.get_encoding(\"cl100k_base\")\n",
    "\n",
    "def count_tokens(text: str) -> int:\n",
    "    return len(tokenizer.encode(text))\n",
    "\n",
    "text_splitter = RecursiveCharacterTextSplitter( # divide o PDF em blocos/chunks de 512 tokens\n",
    "    chunk_size = 512,\n",
    "    chunk_overlap  = 24,\n",
    "    length_function = count_tokens,\n",
    ")\n",
    "\n",
    "chunks = text_splitter.create_documents([text])"
   ]
  },
  {
   "cell_type": "code",
   "execution_count": 10,
   "metadata": {},
   "outputs": [],
   "source": [
    "# https://platform.openai.com/docs/guides/embeddings/embedding-model\n",
    "embeddings = OpenAIEmbeddings(openai_api_key=openai_api_key, model=\"text-embedding-3-small\")\n",
    "db = FAISS.from_documents(chunks, embeddings)"
   ]
  },
  {
   "cell_type": "code",
   "execution_count": 11,
   "metadata": {},
   "outputs": [
    {
     "data": {
      "text/plain": [
       "4"
      ]
     },
     "execution_count": 11,
     "metadata": {},
     "output_type": "execute_result"
    }
   ],
   "source": [
    "query = \"O que é uma moeda eletrônica?\"\n",
    "docs = db.similarity_search(query)\n",
    "len(docs)"
   ]
  },
  {
   "cell_type": "code",
   "execution_count": 12,
   "metadata": {},
   "outputs": [
    {
     "data": {
      "text/plain": [
       "'Bitcoin: Um Sistema de Dinheiro Eletrônico Peer-to-Peer\\nSatoshi Nakamoto\\nsatoshin@gmx.com\\nwww.bitcoin.org\\nTraduzido para Português de bitcoin.org/bitcoin.pdf\\npor Rodrigo Silva Pinto - http://linkedin.com/in/rodrigosilvap\\nResumo. Uma versão puramente peer-to-peer de dinheiro eletrônico permitiria que\\npagamentos  on-line  fossem enviados  diretamente  de uma parte  para  outra,  sem\\npassar por uma instituição financeira. As assinaturas digitais fornecem parte da\\nsolução, mas os principais benefícios são perdidos se um terceiro confiável ainda é\\nnecessário para evitar o gasto duplo. Nós propomos uma solução para o problema de\\ngasto duplo usando uma rede peer-to-peer. A rede insere data e hora nas transações\\natravés de um hash em uma cadeia contínua de prova-de-trabalho à base de hash,\\nformando um registro que não pode ser alterado sem refazer a prova-de-trabalho. A\\ncadeia mais longa não só serve como prova da seqüência de eventos testemunhados,\\nmas prova de que ela veio do maior pool de CPUs. Enquanto a maioria do poder das\\nCPUs é controlado por nós que não estão cooperando para atacar a rede, eles irão\\ngerar a cadeia mais longa e superar os atacantes. A própria rede requer estrutura\\nmínima. As mensagens são espalhadas em regime de melhor esforço, e nós podem\\nsair  e  regressar  a  rede  à  vontade,  aceitando  a  cadeia  mais  longa  de  prova-de-\\ntrabalho, como prova do que aconteceu enquanto eles estavam fora.\\n1.    Introdução \\nO comércio na Internet tem dependido quase exclusivamente de instituições financeiras que\\nservem como terceiros confiáveis para processar pagamentos eletrônicos. Enquanto o sistema\\nfunciona bem para a maioria das operações, ainda sofre com as deficiências inerentes ao modelo'"
      ]
     },
     "execution_count": 12,
     "metadata": {},
     "output_type": "execute_result"
    }
   ],
   "source": [
    "docs[0].page_content"
   ]
  },
  {
   "cell_type": "code",
   "execution_count": 13,
   "metadata": {},
   "outputs": [
    {
     "data": {
      "text/plain": [
       "'grupo cooperado de nós atacantes.\\n2.    Transações\\nNós definimos uma moeda eletrônica como uma cadeia de assinaturas digitais. Cada proprietário\\ntransfere a moeda para o seguinte por uma assinatura digital de hash da operação anterior e a\\n1chave pública do dono da próxima e adicionando-os ao fim da moeda. Um sacador pode verificar\\nas assinaturas para verificar a cadeia de propriedade.\\nO problema, claro, é o sacador não poder confirmar se um dos pagadores não fez gasto duplo\\nda moeda. Uma solução comum é a introdução de uma autoridade central confiável, ou casa da\\nmoeda, que verifique o gasto duplo para todas as transações. Depois de cada transação, a moeda\\ndeve ser devolvida à casa da moeda para a emissão de uma nova, e apenas moedas emitidas\\ndiretamente da casa da moeda são confiáveis de não ser gastas duplamente. O problema desta\\nsolução é que o destino de todo o sistema monetário depende da empresa que gerencia a casa da\\nmoeda, com todas as transações tendo de passar por ela, assim como um banco.\\nNós precisamos de uma maneira que o sacador possa saber se os proprietários anteriores não\\nassinaram quaisquer transações anteriores. Para nossos propósitos, a transação mais antiga é a\\nque conta, por isso, nós não nos preocupamos com as tentativas posteriores de gasto duplo. A\\núnica maneira de confirmar a ausência de uma transação é estar ciente de todas as transações. No\\nmodelo baseado em casa da moeda, a mesma está ciente de todas as transações e decide qual\\nchegou primeiro. Para alcançar este objetivo sem uma parte confiável, as transações devem ser\\nanunciadas publicamente [1], e precisamos de um sistema para que os participantes concordem\\nem um histórico único a ordem em que foram recebidas. O sacador precisa da prova que, no'"
      ]
     },
     "execution_count": 13,
     "metadata": {},
     "output_type": "execute_result"
    }
   ],
   "source": [
    "docs[1].page_content"
   ]
  },
  {
   "cell_type": "code",
   "execution_count": 14,
   "metadata": {},
   "outputs": [
    {
     "data": {
      "text/plain": [
       "'baseado em confiança. Transações completamente não-reversíveis não são possíveis, uma vez\\nque as instituições financeiras não podem evitar a mediação de conflitos. O custo da mediação\\naumenta os custos de transação, o que limita o tamanho mínimo prático da transação e elimina a\\npossibilidade  de  pequenas  transações  ocasionais,  e  há  um  custo  mais  amplo  na  perda  da\\ncapacidade  de  fazer  pagamentos  não  reversível  para  serviços  não  reversíveis.  Com  a\\npossibilidade  de  reversão,  a  necessidade  de  confiança  se  espalha.  Comerciantes  devem  ser\\ncautelosos com os seus clientes, incomodando-os para obter mais informações do que seria de\\noutra forma necessária. Uma certa percentagem de fraude é aceita como inevitável. Estes custos e\\nincertezas  de  pagamento  podem ser  evitados  ao  vivo  usando  moeda  física,  mas  não  existe\\nnenhum mecanismo para fazer pagamentos ao longo de um canal de comunicação sem uma parte\\nconfiável.\\nO que é necessário é um sistema de pagamento eletrônico baseado em prova criptográfica em\\nvez de confiança, permitindo a quaisquer duas partes dispostas a transacionar diretamente uma\\ncom a outra sem a necessidade de um terceiro confiável. Transações que são computacionalmente\\nimpraticáveis  de reverter protegeriam os vendedores  de fraudes  e mecanismos  rotineiros  de\\ndisputa poderiam ser facilmente implementados para proteger os compradores. Neste artigo, nós\\npropomos uma solução para o problema de gasto duplo usando um servidor de horas distribuído\\npeer-to-peer para gerar prova computacional da ordem cronológica das operações. O sistema é\\nseguro desde que nós honestos controlem coletivamente mais poder de CPU do que qualquer\\ngrupo cooperado de nós atacantes.\\n2.    Transações'"
      ]
     },
     "execution_count": 14,
     "metadata": {},
     "output_type": "execute_result"
    }
   ],
   "source": [
    "docs[2].page_content"
   ]
  },
  {
   "cell_type": "code",
   "execution_count": 16,
   "metadata": {},
   "outputs": [
    {
     "data": {
      "text/plain": [
       "'#include <math.h>double AttackerSuccessProbability(double q, int z){    double p = 1.0 - q;    double lambda = z * (q / p);    double sum = 1.0;    int i, k;    for (k = 0; k <= z; k++)    {        double poisson = exp(-lambda);        for (i = 1; i <= k; i++)            poisson *= lambda / i;        sum -= poisson * (1 - pow(q / p, z - k));    }    return sum;}Resolvendo para P menor que 0,1%...\\n12.    Conclusão\\nPropusemos um sistema de transações eletrônicas, sem depender de confiança. Começamos com\\no framework habitual de moedas feitas de assinaturas digitais, que fornece um forte controle de\\npropriedade, mas é incompleto sem uma maneira de evitar o gasto duplo. Para resolver isso,\\npropusemos uma rede peer-to-peer usando prova de trabalho para gravar um histórico público de\\ntransações que rapidamente se torna computacionalmente impraticável para um atacante para\\nmudar se nós honestos  controlarem a maioria do poder de CPU. A rede é robusta em sua\\nsimplicidade não estruturada. Os nós trabalham todos de uma vez, com pouca coordenação. Eles\\nnão precisam ser identificados, uma vez que as mensagens não são roteadas para qualquer lugar\\nparticular e só precisam ser apresentadas em regime de melhor esforço. Os nós podem sair e\\nvoltar a rede à vontade, aceitando a cadeia de prova de trabalho, como prova do que aconteceu\\nenquanto eles estavam fora. Eles votam com seu poder de CPU, expressando a aceitação de\\nblocos válidos, trabalhando em estendê-los e rejeitando blocos inválidos, recusando-se a trabalhar\\ncom eles. Todas as regras e incentivos necessários podem ser aplicados com este mecanismo de\\nconsenso.'"
      ]
     },
     "execution_count": 16,
     "metadata": {},
     "output_type": "execute_result"
    }
   ],
   "source": [
    "docs[3].page_content"
   ]
  },
  {
   "cell_type": "code",
   "execution_count": 17,
   "metadata": {},
   "outputs": [
    {
     "name": "stderr",
     "output_type": "stream",
     "text": [
      "C:\\Users\\otimi\\AppData\\Local\\Temp\\ipykernel_21160\\3252312837.py:2: LangChainDeprecationWarning: This class is deprecated. See the following migration guides for replacements based on `chain_type`:\n",
      "stuff: https://python.langchain.com/v0.2/docs/versions/migrating_chains/stuff_docs_chain\n",
      "map_reduce: https://python.langchain.com/v0.2/docs/versions/migrating_chains/map_reduce_chain\n",
      "refine: https://python.langchain.com/v0.2/docs/versions/migrating_chains/refine_chain\n",
      "map_rerank: https://python.langchain.com/v0.2/docs/versions/migrating_chains/map_rerank_docs_chain\n",
      "\n",
      "See also guides on retrieval and question-answering here: https://python.langchain.com/v0.2/docs/how_to/#qa-with-rag\n",
      "  chain = load_qa_chain(llm, chain_type=\"stuff\")\n",
      "C:\\Users\\otimi\\AppData\\Local\\Temp\\ipykernel_21160\\3252312837.py:3: LangChainDeprecationWarning: The method `Chain.run` was deprecated in langchain 0.1.0 and will be removed in 1.0. Use invoke instead.\n",
      "  chain.run(input_documents=docs, question=query)\n"
     ]
    },
    {
     "data": {
      "text/plain": [
       "'Uma moeda eletrônica é definida como uma cadeia de assinaturas digitais. Cada proprietário transfere a moeda para o próximo por meio de uma assinatura digital do hash da operação anterior e da chave pública do próximo proprietário, adicionando essas informações ao final da moeda. A moeda eletrônica permite que pagamentos online sejam enviados diretamente de uma parte para outra sem a necessidade de uma instituição financeira como terceiro confiável.'"
      ]
     },
     "execution_count": 17,
     "metadata": {},
     "output_type": "execute_result"
    }
   ],
   "source": [
    "llm = ChatOpenAI(model=\"gpt-4o-mini\", openai_api_key=openai_api_key)\n",
    "chain = load_qa_chain(llm, chain_type=\"stuff\")\n",
    "chain.run(input_documents=docs, question=query)"
   ]
  },
  {
   "cell_type": "code",
   "execution_count": null,
   "metadata": {},
   "outputs": [],
   "source": []
  }
 ],
 "metadata": {
  "kernelspec": {
   "display_name": "Python 3 (ipykernel)",
   "language": "python",
   "name": "python3"
  },
  "language_info": {
   "codemirror_mode": {
    "name": "ipython",
    "version": 3
   },
   "file_extension": ".py",
   "mimetype": "text/x-python",
   "name": "python",
   "nbconvert_exporter": "python",
   "pygments_lexer": "ipython3",
   "version": "3.12.4"
  }
 },
 "nbformat": 4,
 "nbformat_minor": 4
}

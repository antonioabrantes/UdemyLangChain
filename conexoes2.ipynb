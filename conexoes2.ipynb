{
 "cells": [
  {
   "cell_type": "code",
   "execution_count": 9,
   "id": "ad259fce-27ea-432b-b3ab-8ea80d8645cc",
   "metadata": {},
   "outputs": [],
   "source": [
    "from dotenv import load_dotenv\n",
    "import os\n",
    "\n",
    "from langchain_openai import ChatOpenAI\n",
    "from langchain_groq import ChatGroq\n",
    "from langchain_anthropic import ChatAnthropic\n",
    "from langchain_google_genai import ChatGoogleGenerativeAI\n",
    "\n",
    "# pip install langchain\n",
    "# pip install langchain-community\n",
    "# pip install langchain-openai\n",
    "# pip install langchain-groq\n",
    "# pip install -U langchain-anthropic\n",
    "# pip install -U langchain-google-genai\n",
    "\n",
    "# https://platform.openai.com/settings/organization/limits\n",
    "# https://console.groq.com/settings/limits\n",
    "# https://python.langchain.com/docs/integrations/platforms/\n",
    "# https://python.langchain.com/docs/integrations/platforms/anthropic/"
   ]
  },
  {
   "cell_type": "code",
   "execution_count": 10,
   "id": "e9c63c75-8b45-49f1-a83c-b4763d36b132",
   "metadata": {},
   "outputs": [],
   "source": [
    "load_dotenv(dotenv_path='.env', override=True)\n",
    "\n",
    "# https://platform.openai.com/api-keys\n",
    "openai_api_key = os.getenv(\"OPENAI_API_KEY\")\n",
    "\n",
    "# https://console.groq.com/keys\n",
    "groq_api_key = os.getenv(\"GROQ_API_KEY\")\n",
    "\n",
    "# https://console.anthropic.com/dashboard\n",
    "anthropic_api_key = os.getenv(\"ANTHROPIC_API_KEY\")\n",
    "\n",
    "# https://aistudio.google.com/app/apikey\n",
    "gemini_api_key = os.getenv(\"GEMINI_API_KEY\")\n"
   ]
  },
  {
   "cell_type": "code",
   "execution_count": 11,
   "id": "cc19e07f-27aa-47a5-9b01-d3a1af2c863d",
   "metadata": {},
   "outputs": [
    {
     "name": "stdout",
     "output_type": "stream",
     "text": [
      "A capital do Brasil é Brasília. Foi inaugurada em 21 de abril de 1960 e projetada pelo arquiteto Oscar Niemeyer e pelo urbanista Lúcio Costa. Brasília foi construída com o objetivo de promover o desenvolvimento do interior do país e para ser a nova capital do Brasil, substituindo o Rio de Janeiro.\n"
     ]
    }
   ],
   "source": [
    "question = \"Qual a capital do Brasil?\"\n",
    "llm = ChatOpenAI(model=\"gpt-4o-mini\", openai_api_key=openai_api_key)\n",
    "messages=[{\"role\":\"user\", \"content\": question}]\n",
    "response = llm.invoke(messages)\n",
    "print(response.content)"
   ]
  },
  {
   "cell_type": "code",
   "execution_count": 12,
   "id": "bc7ee8ca-82f3-4a2a-8011-bfc6863bcd8b",
   "metadata": {},
   "outputs": [
    {
     "name": "stdout",
     "output_type": "stream",
     "text": [
      "A capital do Brasil é **Brasília**.\n"
     ]
    }
   ],
   "source": [
    "question = \"Qual a capital do Brasil?\"\n",
    "#llm = ChatGroq(model=\"llama3-8b-8192\")\n",
    "llm = ChatGroq(model=\"openai/gpt-oss-20b\")\n",
    "messages=[{\"role\":\"user\", \"content\": question}]\n",
    "response = llm.invoke(messages)\n",
    "print(response.content)"
   ]
  },
  {
   "cell_type": "code",
   "execution_count": null,
   "id": "a1272cc3-54a8-40af-a88d-5387a2ef2d8f",
   "metadata": {},
   "outputs": [],
   "source": [
    "question = \"Qual a capital do Brasil?\"\n",
    "llm = ChatAnthropic(model='claude-3-opus-20240229',anthropic_api_key=anthropic_api_key)\n",
    "messages=[{\"role\":\"user\", \"content\": question}]\n",
    "response = llm.invoke(messages)\n",
    "print(response.content)"
   ]
  },
  {
   "cell_type": "code",
   "execution_count": null,
   "id": "88c62ac2-0ab6-496a-af6a-26139c32197f",
   "metadata": {},
   "outputs": [],
   "source": [
    "# não existe conta gratuita\n",
    "question = \"Qual a capital do Brasil?\"\n",
    "llm = ChatGoogleGenerativeAI(model=\"gemini-pro\", google_api_key=gemini_api_key)\n",
    "messages=[{\"role\":\"user\", \"content\": question}]\n",
    "response = llm.invoke(messages)\n",
    "print(response.content)"
   ]
  },
  {
   "cell_type": "code",
   "execution_count": null,
   "id": "22060933-84ce-41c8-b982-92da5ed69bea",
   "metadata": {},
   "outputs": [],
   "source": [
    "import nltk\n",
    "from nltk.tokenize import word_tokenize"
   ]
  },
  {
   "cell_type": "code",
   "execution_count": 3,
   "id": "1dc60025-6f54-4ca1-be00-46ea8795e6d9",
   "metadata": {},
   "outputs": [
    {
     "name": "stdout",
     "output_type": "stream",
     "text": [
      "6\n"
     ]
    }
   ],
   "source": [
    "question = \"Qual a capital do Brasil?\"\n",
    "tokens = word_tokenize(question)\n",
    "print(len(tokens))"
   ]
  },
  {
   "cell_type": "code",
   "execution_count": 4,
   "id": "789db9b5-bf5a-491f-acc8-a392985d8475",
   "metadata": {},
   "outputs": [
    {
     "data": {
      "text/plain": [
       "['Qual', 'a', 'capital', 'do', 'Brasil', '?']"
      ]
     },
     "execution_count": 4,
     "metadata": {},
     "output_type": "execute_result"
    }
   ],
   "source": [
    "tokens"
   ]
  },
  {
   "cell_type": "code",
   "execution_count": 18,
   "id": "6cb4df1f-ea1c-4f69-81e4-3124a41c5b6f",
   "metadata": {},
   "outputs": [],
   "source": [
    "from dotenv import load_dotenv\n",
    "import os\n",
    "from langchain_groq import ChatGroq\n",
    "load_dotenv(dotenv_path='.env', override=True)\n",
    "groq_api_key = os.getenv(\"GROQ_API_KEY\")\n"
   ]
  },
  {
   "cell_type": "code",
   "execution_count": 19,
   "id": "ac452f42-d791-4b27-a0b9-85ad31a13011",
   "metadata": {},
   "outputs": [
    {
     "name": "stdout",
     "output_type": "stream",
     "text": [
      "A capital do Brasil é Brasília.\n"
     ]
    }
   ],
   "source": [
    "# https://console.groq.com/playground\n",
    "\n",
    "question = \"Qual a capital do Brasil?\"\n",
    "#llm = ChatGroq(model=\"llama3-8b-8192\")\n",
    "llm = ChatGroq(model=\"openai/gpt-oss-20b\", groq_api_key=groq_api_key)\n",
    "messages=[{\"role\":\"user\", \"content\": question}]\n",
    "response = llm.invoke(messages)\n",
    "print(response.content)"
   ]
  },
  {
   "cell_type": "code",
   "execution_count": 23,
   "id": "6f4688f7-45cd-412f-9141-e8c1bb34593c",
   "metadata": {},
   "outputs": [
    {
     "name": "stdout",
     "output_type": "stream",
     "text": [
      "A descoberta europeia do Brasil é atribuída ao navegador português **Pedro Álvares Cabral**, que chegou à costa em 22 de abril de 1500.  \n",
      "\n",
      "> *\"Pela primeira vez, os europeus registraram a presença de um grande povo indígena numa terra desconhecida, que mais tarde seria chamada de Terra da Vera Cruz.\"*  \n",
      "> — *Cabral, 1500*\n",
      "\n",
      "No entanto, é importante lembrar que o território já era habitado há milhares de anos por diversas etnias indígenas, como os Tupinambá, Tupi‑Guarani, Yanomami, entre muitos outros. Assim, a “descoberta” que Cabral fez é entendida no contexto da navegação e da expansão colonial europeia, não no sentido de “primeira presença humana”."
     ]
    }
   ],
   "source": [
    "from groq import Groq\n",
    "\n",
    "client = Groq(api_key=groq_api_key)\n",
    "completion = client.chat.completions.create(\n",
    "    model=\"openai/gpt-oss-20b\",\n",
    "    messages=[\n",
    "      {\n",
    "        \"role\": \"user\",\n",
    "        \"content\": \"quem descobriu o brasil ?\"\n",
    "      },\n",
    "    ],\n",
    "    temperature=1,\n",
    "    max_tokens=8192,  \n",
    "    top_p=1,\n",
    "    stream=True,\n",
    "    stop=None\n",
    ")\n",
    "\n",
    "for chunk in completion:\n",
    "    print(chunk.choices[0].delta.content or \"\", end=\"\")\n"
   ]
  },
  {
   "cell_type": "code",
   "execution_count": null,
   "id": "9b7fadb6-9a83-4cba-8927-e7750abc31cf",
   "metadata": {},
   "outputs": [],
   "source": []
  }
 ],
 "metadata": {
  "kernelspec": {
   "display_name": "Python 3 (ipykernel)",
   "language": "python",
   "name": "python3"
  },
  "language_info": {
   "codemirror_mode": {
    "name": "ipython",
    "version": 3
   },
   "file_extension": ".py",
   "mimetype": "text/x-python",
   "name": "python",
   "nbconvert_exporter": "python",
   "pygments_lexer": "ipython3",
   "version": "3.10.14"
  }
 },
 "nbformat": 4,
 "nbformat_minor": 5
}

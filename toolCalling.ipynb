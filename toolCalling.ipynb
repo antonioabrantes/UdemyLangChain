{
 "cells": [
  {
   "cell_type": "code",
   "execution_count": 1,
   "metadata": {},
   "outputs": [],
   "source": [
    "from dotenv import load_dotenv\n",
    "import os\n",
    "\n",
    "load_dotenv(dotenv_path='.env')\n",
    "openai_api_key = os.getenv(\"OPENAI_API_KEY\")\n",
    "weather_api_key=os.getenv(\"WEATHER_API_KEY\")\n"
   ]
  },
  {
   "cell_type": "code",
   "execution_count": 2,
   "metadata": {},
   "outputs": [],
   "source": [
    "from langchain_openai import ChatOpenAI\n",
    "\n",
    "llm = ChatOpenAI(openai_api_key=openai_api_key,model=\"gpt-4o-mini\",temperature=0)"
   ]
  },
  {
   "cell_type": "code",
   "execution_count": 3,
   "metadata": {},
   "outputs": [
    {
     "name": "stdout",
     "output_type": "stream",
     "text": [
      "Desculpe, mas não consigo fornecer informações em tempo real, como a previsão do tempo. Recomendo que você verifique um site de meteorologia ou um aplicativo de clima para obter as informações mais atualizadas sobre o tempo em Munique.\n"
     ]
    }
   ],
   "source": [
    "response = llm.invoke(\"Como estará o tempo em Munich hoje?\")\n",
    "print(response.content)"
   ]
  },
  {
   "cell_type": "code",
   "execution_count": 4,
   "metadata": {},
   "outputs": [],
   "source": [
    "from langchain_core.tools import tool\n",
    "\n",
    "\n",
    "@tool\n",
    "def fake_weather_api(city: str) -> str:\n",
    "    \"\"\"\n",
    "    Check the weather in a specified city.\n",
    "\n",
    "    Args:\n",
    "        city (str): The name of the city where you want to check the weather.\n",
    "\n",
    "    Returns:\n",
    "        str: A description of the current weather in the specified city.\n",
    "    \"\"\"\n",
    "    return \"Sunny, 22°C\"\n",
    "\n",
    "\n",
    "@tool\n",
    "def outdoor_seating_availability(city: str) -> str:\n",
    "    \"\"\"\n",
    "    Check if outdoor seating is available at a specified restaurant in a given city.\n",
    "\n",
    "    Args:\n",
    "        city (str): The name of the city where you want to check for outdoor seating availability.\n",
    "\n",
    "    Returns:\n",
    "        str: A message stating whether outdoor seating is available or not.\n",
    "    \"\"\"\n",
    "    return \"Outdoor seating is available.\"\n",
    "\n",
    "\n",
    "tools = [fake_weather_api, outdoor_seating_availability]"
   ]
  },
  {
   "cell_type": "code",
   "execution_count": 5,
   "metadata": {},
   "outputs": [],
   "source": [
    "llm_with_tools = llm.bind_tools(tools)"
   ]
  },
  {
   "cell_type": "code",
   "execution_count": 9,
   "metadata": {},
   "outputs": [
    {
     "data": {
      "text/plain": [
       "AIMessage(content='', additional_kwargs={'tool_calls': [{'id': 'call_YI22d4LCH9OJhuNFuN5ugLyC', 'function': {'arguments': '{\"city\":\"Munich\"}', 'name': 'fake_weather_api'}, 'type': 'function'}], 'refusal': None}, response_metadata={'token_usage': {'completion_tokens': 16, 'prompt_tokens': 156, 'total_tokens': 172, 'completion_tokens_details': {'reasoning_tokens': 0}, 'prompt_tokens_details': {'cached_tokens': 0}}, 'model_name': 'gpt-4o-mini-2024-07-18', 'system_fingerprint': 'fp_0ba0d124f1', 'finish_reason': 'tool_calls', 'logprobs': None}, id='run-3cda44d8-742f-467d-98e5-2f40f2e68b84-0', tool_calls=[{'name': 'fake_weather_api', 'args': {'city': 'Munich'}, 'id': 'call_YI22d4LCH9OJhuNFuN5ugLyC', 'type': 'tool_call'}], usage_metadata={'input_tokens': 156, 'output_tokens': 16, 'total_tokens': 172})"
      ]
     },
     "execution_count": 9,
     "metadata": {},
     "output_type": "execute_result"
    }
   ],
   "source": [
    "result = llm_with_tools.invoke(\"Como estará o tempo em Munich hoje?\")\n",
    "result"
   ]
  },
  {
   "cell_type": "code",
   "execution_count": 11,
   "metadata": {},
   "outputs": [
    {
     "data": {
      "text/plain": [
       "[{'name': 'fake_weather_api',\n",
       "  'args': {'city': 'Munich'},\n",
       "  'id': 'call_YI22d4LCH9OJhuNFuN5ugLyC',\n",
       "  'type': 'tool_call'}]"
      ]
     },
     "execution_count": 11,
     "metadata": {},
     "output_type": "execute_result"
    }
   ],
   "source": [
    "result.tool_calls"
   ]
  },
  {
   "cell_type": "code",
   "execution_count": 7,
   "metadata": {},
   "outputs": [
    {
     "data": {
      "text/plain": [
       "AIMessage(content='O Brasil foi \"descoberto\" por Pedro Álvares Cabral, um navegador português, em 22 de abril de 1500. No entanto, é importante lembrar que o território já era habitado por diversas populações indígenas muito antes da chegada dos europeus.', additional_kwargs={'refusal': None}, response_metadata={'token_usage': {'completion_tokens': 57, 'prompt_tokens': 154, 'total_tokens': 211, 'completion_tokens_details': {'reasoning_tokens': 0}, 'prompt_tokens_details': {'cached_tokens': 0}}, 'model_name': 'gpt-4o-mini-2024-07-18', 'system_fingerprint': 'fp_0ba0d124f1', 'finish_reason': 'stop', 'logprobs': None}, id='run-93ed2ce9-c09e-40e9-a2ca-660ebb1df4ab-0', usage_metadata={'input_tokens': 154, 'output_tokens': 57, 'total_tokens': 211})"
      ]
     },
     "execution_count": 7,
     "metadata": {},
     "output_type": "execute_result"
    }
   ],
   "source": [
    "result = llm_with_tools.invoke(\"quem descobriu o Brasil?\")\n",
    "result"
   ]
  },
  {
   "cell_type": "code",
   "execution_count": 8,
   "metadata": {},
   "outputs": [
    {
     "data": {
      "text/plain": [
       "[]"
      ]
     },
     "execution_count": 8,
     "metadata": {},
     "output_type": "execute_result"
    }
   ],
   "source": [
    "result.tool_calls"
   ]
  },
  {
   "cell_type": "code",
   "execution_count": 12,
   "metadata": {},
   "outputs": [
    {
     "data": {
      "text/plain": [
       "AIMessage(content='', additional_kwargs={'tool_calls': [{'id': 'call_cBhWt9SlyaZZGsgVOXRK71b0', 'function': {'arguments': '{\"city\": \"Munich\"}', 'name': 'fake_weather_api'}, 'type': 'function'}, {'id': 'call_uy8hRWAv9yrKONgoU38o1M0H', 'function': {'arguments': '{\"city\": \"Munich\"}', 'name': 'outdoor_seating_availability'}, 'type': 'function'}], 'refusal': None}, response_metadata={'token_usage': {'completion_tokens': 51, 'prompt_tokens': 163, 'total_tokens': 214, 'completion_tokens_details': {'reasoning_tokens': 0}, 'prompt_tokens_details': {'cached_tokens': 0}}, 'model_name': 'gpt-4o-mini-2024-07-18', 'system_fingerprint': 'fp_0ba0d124f1', 'finish_reason': 'tool_calls', 'logprobs': None}, id='run-863b6368-b018-4032-a873-2ae250c1f0ad-0', tool_calls=[{'name': 'fake_weather_api', 'args': {'city': 'Munich'}, 'id': 'call_cBhWt9SlyaZZGsgVOXRK71b0', 'type': 'tool_call'}, {'name': 'outdoor_seating_availability', 'args': {'city': 'Munich'}, 'id': 'call_uy8hRWAv9yrKONgoU38o1M0H', 'type': 'tool_call'}], usage_metadata={'input_tokens': 163, 'output_tokens': 51, 'total_tokens': 214})"
      ]
     },
     "execution_count": 12,
     "metadata": {},
     "output_type": "execute_result"
    }
   ],
   "source": [
    "result = llm_with_tools.invoke(\"Como estará o tempo em Munich hoje ? Existem assentos disponíveis no restaurante?\")\n",
    "result"
   ]
  },
  {
   "cell_type": "code",
   "execution_count": 13,
   "metadata": {},
   "outputs": [
    {
     "data": {
      "text/plain": [
       "[{'name': 'fake_weather_api',\n",
       "  'args': {'city': 'Munich'},\n",
       "  'id': 'call_cBhWt9SlyaZZGsgVOXRK71b0',\n",
       "  'type': 'tool_call'},\n",
       " {'name': 'outdoor_seating_availability',\n",
       "  'args': {'city': 'Munich'},\n",
       "  'id': 'call_uy8hRWAv9yrKONgoU38o1M0H',\n",
       "  'type': 'tool_call'}]"
      ]
     },
     "execution_count": 13,
     "metadata": {},
     "output_type": "execute_result"
    }
   ],
   "source": [
    "result.tool_calls"
   ]
  },
  {
   "cell_type": "code",
   "execution_count": 16,
   "metadata": {},
   "outputs": [],
   "source": [
    "from langchain_core.messages import HumanMessage, ToolMessage\n",
    "\n",
    "messages = [\n",
    "    HumanMessage(\n",
    "        \"Como estará o tempo em Munich hoje? Eu gostaria de comer fora, se possível\"\n",
    "    )\n",
    "]\n",
    "llm_output = llm_with_tools.invoke(messages)\n",
    "messages.append(llm_output)"
   ]
  },
  {
   "cell_type": "code",
   "execution_count": 15,
   "metadata": {},
   "outputs": [
    {
     "data": {
      "text/plain": [
       "AIMessage(content='', additional_kwargs={'tool_calls': [{'id': 'call_LuXHn33NhT7osGSwHqLwjPvc', 'function': {'arguments': '{\"city\": \"Munich\"}', 'name': 'fake_weather_api'}, 'type': 'function'}, {'id': 'call_ZYbYFkhSgh22iW1EvjHw7jph', 'function': {'arguments': '{\"city\": \"Munich\"}', 'name': 'outdoor_seating_availability'}, 'type': 'function'}], 'refusal': None}, response_metadata={'token_usage': {'completion_tokens': 51, 'prompt_tokens': 164, 'total_tokens': 215, 'completion_tokens_details': {'reasoning_tokens': 0}, 'prompt_tokens_details': {'cached_tokens': 0}}, 'model_name': 'gpt-4o-mini-2024-07-18', 'system_fingerprint': 'fp_0ba0d124f1', 'finish_reason': 'tool_calls', 'logprobs': None}, id='run-0204ddc1-027f-492c-9bae-00c761c92efe-0', tool_calls=[{'name': 'fake_weather_api', 'args': {'city': 'Munich'}, 'id': 'call_LuXHn33NhT7osGSwHqLwjPvc', 'type': 'tool_call'}, {'name': 'outdoor_seating_availability', 'args': {'city': 'Munich'}, 'id': 'call_ZYbYFkhSgh22iW1EvjHw7jph', 'type': 'tool_call'}], usage_metadata={'input_tokens': 164, 'output_tokens': 51, 'total_tokens': 215})"
      ]
     },
     "execution_count": 15,
     "metadata": {},
     "output_type": "execute_result"
    }
   ],
   "source": [
    "llm_output"
   ]
  },
  {
   "cell_type": "code",
   "execution_count": 17,
   "metadata": {},
   "outputs": [
    {
     "data": {
      "text/plain": [
       "[HumanMessage(content='Como estará o tempo em Munich hoje? Eu gostaria de comer fora, se possível', additional_kwargs={}, response_metadata={}),\n",
       " AIMessage(content='', additional_kwargs={'tool_calls': [{'id': 'call_EQCTaOKxV075hefZqSikk0b6', 'function': {'arguments': '{\"city\": \"Munich\"}', 'name': 'fake_weather_api'}, 'type': 'function'}, {'id': 'call_dMtaMMnj960P4W2s4dd3TzNL', 'function': {'arguments': '{\"city\": \"Munich\"}', 'name': 'outdoor_seating_availability'}, 'type': 'function'}], 'refusal': None}, response_metadata={'token_usage': {'completion_tokens': 51, 'prompt_tokens': 164, 'total_tokens': 215, 'completion_tokens_details': {'reasoning_tokens': 0}, 'prompt_tokens_details': {'cached_tokens': 0}}, 'model_name': 'gpt-4o-mini-2024-07-18', 'system_fingerprint': 'fp_0ba0d124f1', 'finish_reason': 'tool_calls', 'logprobs': None}, id='run-d138322b-94fc-4286-a5bf-220375710d62-0', tool_calls=[{'name': 'fake_weather_api', 'args': {'city': 'Munich'}, 'id': 'call_EQCTaOKxV075hefZqSikk0b6', 'type': 'tool_call'}, {'name': 'outdoor_seating_availability', 'args': {'city': 'Munich'}, 'id': 'call_dMtaMMnj960P4W2s4dd3TzNL', 'type': 'tool_call'}], usage_metadata={'input_tokens': 164, 'output_tokens': 51, 'total_tokens': 215})]"
      ]
     },
     "execution_count": 17,
     "metadata": {},
     "output_type": "execute_result"
    }
   ],
   "source": [
    "messages"
   ]
  },
  {
   "cell_type": "code",
   "execution_count": 19,
   "metadata": {},
   "outputs": [],
   "source": [
    "tool_mapping = {\n",
    "    \"fake_weather_api\": fake_weather_api,\n",
    "    \"outdoor_seating_availability\": outdoor_seating_availability,\n",
    "}"
   ]
  },
  {
   "cell_type": "code",
   "execution_count": 20,
   "metadata": {},
   "outputs": [],
   "source": [
    "for tool_call in llm_output.tool_calls:\n",
    "    tool = tool_mapping[tool_call[\"name\"].lower()]\n",
    "    tool_output = tool.invoke(tool_call[\"args\"])\n",
    "    messages.append(ToolMessage(tool_output, tool_call_id=tool_call[\"id\"]))"
   ]
  },
  {
   "cell_type": "code",
   "execution_count": 22,
   "metadata": {},
   "outputs": [
    {
     "data": {
      "text/plain": [
       "[HumanMessage(content='Como estará o tempo em Munich hoje? Eu gostaria de comer fora, se possível', additional_kwargs={}, response_metadata={}),\n",
       " AIMessage(content='', additional_kwargs={'tool_calls': [{'id': 'call_EQCTaOKxV075hefZqSikk0b6', 'function': {'arguments': '{\"city\": \"Munich\"}', 'name': 'fake_weather_api'}, 'type': 'function'}, {'id': 'call_dMtaMMnj960P4W2s4dd3TzNL', 'function': {'arguments': '{\"city\": \"Munich\"}', 'name': 'outdoor_seating_availability'}, 'type': 'function'}], 'refusal': None}, response_metadata={'token_usage': {'completion_tokens': 51, 'prompt_tokens': 164, 'total_tokens': 215, 'completion_tokens_details': {'reasoning_tokens': 0}, 'prompt_tokens_details': {'cached_tokens': 0}}, 'model_name': 'gpt-4o-mini-2024-07-18', 'system_fingerprint': 'fp_0ba0d124f1', 'finish_reason': 'tool_calls', 'logprobs': None}, id='run-d138322b-94fc-4286-a5bf-220375710d62-0', tool_calls=[{'name': 'fake_weather_api', 'args': {'city': 'Munich'}, 'id': 'call_EQCTaOKxV075hefZqSikk0b6', 'type': 'tool_call'}, {'name': 'outdoor_seating_availability', 'args': {'city': 'Munich'}, 'id': 'call_dMtaMMnj960P4W2s4dd3TzNL', 'type': 'tool_call'}], usage_metadata={'input_tokens': 164, 'output_tokens': 51, 'total_tokens': 215}),\n",
       " ToolMessage(content='Sunny, 22°C', tool_call_id='call_EQCTaOKxV075hefZqSikk0b6'),\n",
       " ToolMessage(content='Outdoor seating is available.', tool_call_id='call_dMtaMMnj960P4W2s4dd3TzNL')]"
      ]
     },
     "execution_count": 22,
     "metadata": {},
     "output_type": "execute_result"
    }
   ],
   "source": [
    "messages"
   ]
  },
  {
   "cell_type": "code",
   "execution_count": 23,
   "metadata": {},
   "outputs": [
    {
     "name": "stdout",
     "output_type": "stream",
     "text": [
      "Hoje em Munique, o tempo está ensolarado, com uma temperatura de 22°C. Além disso, há disponibilidade de assentos ao ar livre, então você pode aproveitar sua refeição fora!\n"
     ]
    }
   ],
   "source": [
    "response = llm_with_tools.invoke(messages)\n",
    "print(response.content)"
   ]
  },
  {
   "cell_type": "markdown",
   "metadata": {},
   "source": [
    "### Real third party API Call"
   ]
  },
  {
   "cell_type": "code",
   "execution_count": 26,
   "metadata": {},
   "outputs": [],
   "source": [
    "# https://www.weatherapi.com/docs/ \n",
    "from langchain_core.tools import tool\n",
    "import httpx\n",
    "\n",
    "\n",
    "@tool\n",
    "def fake_weather_api(city: str) -> str:\n",
    "    \"\"\"Check the weather in a specified city \"\"\"\n",
    "    #city = 'Rio'\n",
    "    response = httpx.get(f\"https://api.weatherapi.com/v1/current.json?key={weather_api_key}&q={city}&aqi=no\")\n",
    "\n",
    "    if response.status_code == 200:\n",
    "        return response.json().get(\"current\", \"Weather information not available\")\n",
    "    else:\n",
    "        return \"Failed to get weather information\"\n",
    "\n",
    "\n",
    "@tool\n",
    "def outdoor_seating_availability(city: str) -> str:\n",
    "    \"\"\"Check if outdoor seating is available in a specified city \"\"\"\n",
    "    return \"Outdoor seating information is available\"\n",
    "\n",
    "api_tools = [fake_weather_api, outdoor_seating_availability]\n",
    "tool_mapping = {\n",
    "    \"fake_weather_api\": fake_weather_api,\n",
    "    \"outdoor_seating_availability\": outdoor_seating_availability,\n",
    "}"
   ]
  },
  {
   "cell_type": "code",
   "execution_count": 27,
   "metadata": {},
   "outputs": [],
   "source": [
    "from langchain_openai import ChatOpenAI\n",
    "\n",
    "\n",
    "def interact_with_llm_and_tools(human_message: str):\n",
    "\n",
    "    llm = ChatOpenAI(openai_api_key=openai_api_key,model='gpt-4o-mini', temperature=0)\n",
    "    llm_with_tools_new = llm.bind_tools(api_tools)\n",
    "\n",
    "    messages = [HumanMessage(content=human_message)]\n",
    "\n",
    "    llm_output = llm_with_tools_new.invoke(messages)\n",
    "    messages.append(llm_output)\n",
    "\n",
    "    if llm_output.tool_calls:\n",
    "        print(\"TOOL_CALLS:\", llm_output.tool_calls)\n",
    "    else:\n",
    "        print(\"TOOL_CALLS: None\")\n",
    "\n",
    "    for tool_call in llm_output.tool_calls:\n",
    "        tool_name = tool_call[\"name\"].lower()\n",
    "        tool = tool_mapping.get(tool_name)\n",
    "\n",
    "        if tool:\n",
    "            tool_output = tool.invoke(tool_call[\"args\"])\n",
    "            print(\"TOOL OUTPUT:\", tool_output)\n",
    "            messages.append(ToolMessage(tool_output, tool_call_id=tool_call[\"id\"]))\n",
    "\n",
    "    final_response = llm_with_tools_new.invoke(messages)\n",
    "    return final_response"
   ]
  },
  {
   "cell_type": "code",
   "execution_count": 28,
   "metadata": {},
   "outputs": [
    {
     "name": "stdout",
     "output_type": "stream",
     "text": [
      "TOOL_CALLS: [{'name': 'fake_weather_api', 'args': {'city': 'Rio de Janeiro'}, 'id': 'call_n7RToy16LKedSgMPUAWgEgSD', 'type': 'tool_call'}, {'name': 'outdoor_seating_availability', 'args': {'city': 'Rio de Janeiro'}, 'id': 'call_zkjqhaPamTeXIDPEXWhKKpeM', 'type': 'tool_call'}]\n",
      "TOOL OUTPUT: {'last_updated_epoch': 1730426400, 'last_updated': '2024-10-31 23:00', 'temp_c': 22.3, 'temp_f': 72.1, 'is_day': 0, 'condition': {'text': 'Partly cloudy', 'icon': '//cdn.weatherapi.com/weather/64x64/night/116.png', 'code': 1003}, 'wind_mph': 4.7, 'wind_kph': 7.6, 'wind_degree': 64, 'wind_dir': 'ENE', 'pressure_mb': 1017.0, 'pressure_in': 30.03, 'precip_mm': 0.0, 'precip_in': 0.0, 'humidity': 94, 'cloud': 50, 'feelslike_c': 24.7, 'feelslike_f': 76.5, 'windchill_c': 21.1, 'windchill_f': 70.0, 'heatindex_c': 24.2, 'heatindex_f': 75.5, 'dewpoint_c': 19.8, 'dewpoint_f': 67.6, 'vis_km': 10.0, 'vis_miles': 6.0, 'uv': 1.0, 'gust_mph': 7.1, 'gust_kph': 11.5}\n",
      "TOOL OUTPUT: Outdoor seating information is available\n"
     ]
    }
   ],
   "source": [
    "response = interact_with_llm_and_tools(\n",
    "    \"Como está o tempo no Rio hoje? Eu gostaria de comer fora se possível\"\n",
    ")"
   ]
  },
  {
   "cell_type": "code",
   "execution_count": 29,
   "metadata": {},
   "outputs": [
    {
     "name": "stdout",
     "output_type": "stream",
     "text": [
      "Hoje no Rio de Janeiro, a temperatura está em torno de 22,3°C, com condições de céu parcialmente nublado. A umidade está alta, em 94%, e a sensação térmica é de aproximadamente 24,7°C. O vento está soprando a 4,7 mph (cerca de 7,6 km/h).\n",
      "\n",
      "Além disso, há disponibilidade de assentos ao ar livre, então você pode aproveitar uma refeição fora!\n"
     ]
    }
   ],
   "source": [
    "print(response.content)"
   ]
  },
  {
   "cell_type": "code",
   "execution_count": 30,
   "metadata": {},
   "outputs": [
    {
     "name": "stdout",
     "output_type": "stream",
     "text": [
      "TOOL_CALLS: [{'name': 'fake_weather_api', 'args': {'city': 'São Paulo'}, 'id': 'call_4lVn0Ik6pB1JcZmpkYCb3Wlv', 'type': 'tool_call'}, {'name': 'outdoor_seating_availability', 'args': {'city': 'São Paulo'}, 'id': 'call_IpY2sZ5d9zHfAO5NwAQa8oPO', 'type': 'tool_call'}]\n",
      "TOOL OUTPUT: {'last_updated_epoch': 1730427300, 'last_updated': '2024-10-31 23:15', 'temp_c': 18.2, 'temp_f': 64.8, 'is_day': 0, 'condition': {'text': 'Partly cloudy', 'icon': '//cdn.weatherapi.com/weather/64x64/night/116.png', 'code': 1003}, 'wind_mph': 8.7, 'wind_kph': 14.0, 'wind_degree': 107, 'wind_dir': 'ESE', 'pressure_mb': 1019.0, 'pressure_in': 30.09, 'precip_mm': 0.0, 'precip_in': 0.0, 'humidity': 77, 'cloud': 75, 'feelslike_c': 18.2, 'feelslike_f': 64.8, 'windchill_c': 18.2, 'windchill_f': 64.7, 'heatindex_c': 18.2, 'heatindex_f': 64.7, 'dewpoint_c': 15.3, 'dewpoint_f': 59.5, 'vis_km': 10.0, 'vis_miles': 6.0, 'uv': 1.0, 'gust_mph': 10.0, 'gust_kph': 16.2}\n",
      "TOOL OUTPUT: Outdoor seating information is available\n"
     ]
    }
   ],
   "source": [
    "response = interact_with_llm_and_tools(\n",
    "    \"Como estará o tempo em São Paulo hoje? Eu gostaria de comer fora, se possível\"\n",
    ")"
   ]
  },
  {
   "cell_type": "code",
   "execution_count": 31,
   "metadata": {},
   "outputs": [
    {
     "name": "stdout",
     "output_type": "stream",
     "text": [
      "Hoje em São Paulo, a temperatura está em torno de 18,2°C e o clima é parcialmente nublado. A umidade está em 77%, e a sensação térmica é a mesma da temperatura. O vento está soprando a 8,7 mph (cerca de 14 km/h) na direção leste-sudeste.\n",
      "\n",
      "Além disso, há disponibilidade de assentos ao ar livre, então você pode aproveitar uma refeição fora!\n"
     ]
    }
   ],
   "source": [
    "print(response.content)"
   ]
  },
  {
   "cell_type": "code",
   "execution_count": 32,
   "metadata": {},
   "outputs": [
    {
     "name": "stdout",
     "output_type": "stream",
     "text": [
      "TOOL_CALLS: [{'name': 'fake_weather_api', 'args': {'city': 'Munich'}, 'id': 'call_5hhPnIzzgnTAm8PND0kaYzIq', 'type': 'tool_call'}]\n",
      "TOOL OUTPUT: {'last_updated_epoch': 1730427300, 'last_updated': '2024-11-01 03:15', 'temp_c': 8.3, 'temp_f': 46.9, 'is_day': 0, 'condition': {'text': 'Mist', 'icon': '//cdn.weatherapi.com/weather/64x64/night/143.png', 'code': 1030}, 'wind_mph': 2.7, 'wind_kph': 4.3, 'wind_degree': 212, 'wind_dir': 'SSW', 'pressure_mb': 1026.0, 'pressure_in': 30.3, 'precip_mm': 0.0, 'precip_in': 0.0, 'humidity': 100, 'cloud': 100, 'feelslike_c': 8.1, 'feelslike_f': 46.5, 'windchill_c': 7.0, 'windchill_f': 44.6, 'heatindex_c': 7.4, 'heatindex_f': 45.2, 'dewpoint_c': 6.8, 'dewpoint_f': 44.2, 'vis_km': 3.0, 'vis_miles': 1.0, 'uv': 1.0, 'gust_mph': 5.6, 'gust_kph': 9.1}\n"
     ]
    }
   ],
   "source": [
    "response = interact_with_llm_and_tools(\n",
    "    \"Como está o tempo em Munich hoje ?\"\n",
    ")"
   ]
  },
  {
   "cell_type": "code",
   "execution_count": 33,
   "metadata": {},
   "outputs": [
    {
     "name": "stdout",
     "output_type": "stream",
     "text": [
      "Hoje em Munique, a temperatura está em torno de 8,3°C. O clima é de neblina, com 100% de umidade e visibilidade de 3 km. A velocidade do vento é de 2,7 mph (aproximadamente 4,3 km/h) vindo do sul-sudoeste. Não há precipitação registrada.\n"
     ]
    }
   ],
   "source": [
    "print(response.content)"
   ]
  },
  {
   "cell_type": "code",
   "execution_count": 34,
   "metadata": {},
   "outputs": [
    {
     "name": "stdout",
     "output_type": "stream",
     "text": [
      "TOOL_CALLS: None\n"
     ]
    },
    {
     "data": {
      "text/plain": [
       "AIMessage(content='O nome do pai da família Simpsons é Homer Simpson.', additional_kwargs={'refusal': None}, response_metadata={'token_usage': {'completion_tokens': 12, 'prompt_tokens': 98, 'total_tokens': 110, 'completion_tokens_details': {'reasoning_tokens': 0}, 'prompt_tokens_details': {'cached_tokens': 0}}, 'model_name': 'gpt-4o-mini-2024-07-18', 'system_fingerprint': 'fp_f59a81427f', 'finish_reason': 'stop', 'logprobs': None}, id='run-58eb6218-3cb2-47be-a358-91cfd291c3e9-0', usage_metadata={'input_tokens': 98, 'output_tokens': 12, 'total_tokens': 110})"
      ]
     },
     "execution_count": 34,
     "metadata": {},
     "output_type": "execute_result"
    }
   ],
   "source": [
    "interact_with_llm_and_tools(\"Qual o nome do pai da família Simpsons?\")"
   ]
  },
  {
   "cell_type": "code",
   "execution_count": 35,
   "metadata": {},
   "outputs": [
    {
     "name": "stdout",
     "output_type": "stream",
     "text": [
      "Hoje em Munique, a temperatura está em torno de 8,3°C. O clima é de neblina, com 100% de umidade e visibilidade de 3 km. A velocidade do vento é de 2,7 mph (aproximadamente 4,3 km/h) vindo do sul-sudoeste. Não há precipitação registrada.\n"
     ]
    }
   ],
   "source": [
    "print(response.content)"
   ]
  },
  {
   "cell_type": "code",
   "execution_count": 36,
   "metadata": {},
   "outputs": [
    {
     "name": "stdout",
     "output_type": "stream",
     "text": [
      "TOOL_CALLS: [{'name': 'fake_weather_api', 'args': {'city': 'São Paulo'}, 'id': 'call_FCFl6g3SZBNGyNdEsGeSjw6E', 'type': 'tool_call'}]\n",
      "TOOL OUTPUT: {'last_updated_epoch': 1730427300, 'last_updated': '2024-10-31 23:15', 'temp_c': 18.2, 'temp_f': 64.8, 'is_day': 0, 'condition': {'text': 'Partly cloudy', 'icon': '//cdn.weatherapi.com/weather/64x64/night/116.png', 'code': 1003}, 'wind_mph': 8.7, 'wind_kph': 14.0, 'wind_degree': 107, 'wind_dir': 'ESE', 'pressure_mb': 1019.0, 'pressure_in': 30.09, 'precip_mm': 0.0, 'precip_in': 0.0, 'humidity': 77, 'cloud': 75, 'feelslike_c': 18.2, 'feelslike_f': 64.8, 'windchill_c': 18.2, 'windchill_f': 64.7, 'heatindex_c': 18.2, 'heatindex_f': 64.7, 'dewpoint_c': 15.3, 'dewpoint_f': 59.5, 'vis_km': 10.0, 'vis_miles': 6.0, 'uv': 1.0, 'gust_mph': 10.0, 'gust_kph': 16.2}\n"
     ]
    }
   ],
   "source": [
    "response = interact_with_llm_and_tools(\n",
    "    \"Eu gosto do tempo no Rio mas como está o tempo em São Paulo?\"\n",
    ")"
   ]
  },
  {
   "cell_type": "code",
   "execution_count": 37,
   "metadata": {},
   "outputs": [
    {
     "name": "stdout",
     "output_type": "stream",
     "text": [
      "O tempo em São Paulo está parcialmente nublado, com uma temperatura de 18,2°C. A umidade está em 77%, e não há previsão de precipitação. O vento está soprando a 14 km/h vindo do leste-sudeste.\n"
     ]
    }
   ],
   "source": [
    "print(response.content)"
   ]
  },
  {
   "cell_type": "code",
   "execution_count": null,
   "metadata": {},
   "outputs": [],
   "source": []
  }
 ],
 "metadata": {
  "kernelspec": {
   "display_name": "Python 3 (ipykernel)",
   "language": "python",
   "name": "python3"
  },
  "language_info": {
   "codemirror_mode": {
    "name": "ipython",
    "version": 3
   },
   "file_extension": ".py",
   "mimetype": "text/x-python",
   "name": "python",
   "nbconvert_exporter": "python",
   "pygments_lexer": "ipython3",
   "version": "3.12.4"
  }
 },
 "nbformat": 4,
 "nbformat_minor": 4
}

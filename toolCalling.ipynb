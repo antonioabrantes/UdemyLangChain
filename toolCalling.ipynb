{
 "cells": [
  {
   "cell_type": "code",
   "execution_count": 30,
   "metadata": {},
   "outputs": [],
   "source": [
    "from dotenv import load_dotenv\n",
    "import os\n",
    "\n",
    "load_dotenv(dotenv_path='.env',override=True)\n",
    "openai_api_key = os.getenv(\"OPENAI_API_KEY\")\n",
    "weather_api_key=os.getenv(\"WEATHER_API_KEY\")\n"
   ]
  },
  {
   "cell_type": "code",
   "execution_count": 31,
   "metadata": {},
   "outputs": [],
   "source": [
    "from langchain_openai import ChatOpenAI\n",
    "\n",
    "llm = ChatOpenAI(openai_api_key=openai_api_key,model=\"gpt-4o-mini\",temperature=0)"
   ]
  },
  {
   "cell_type": "code",
   "execution_count": 32,
   "metadata": {},
   "outputs": [
    {
     "name": "stdout",
     "output_type": "stream",
     "text": [
      "Desculpe, mas não consigo fornecer informações em tempo real, como a previsão do tempo. Recomendo que você verifique um site de meteorologia ou um aplicativo de clima para obter as informações mais atualizadas sobre o tempo em Munique.\n"
     ]
    }
   ],
   "source": [
    "response = llm.invoke(\"Como estará o tempo em Munich hoje?\")\n",
    "print(response.content)"
   ]
  },
  {
   "cell_type": "code",
   "execution_count": 33,
   "metadata": {},
   "outputs": [],
   "source": [
    "from langchain_core.tools import tool\n",
    "\n",
    "\n",
    "@tool\n",
    "def fake_weather_api(city: str) -> str:\n",
    "    \"\"\"\n",
    "    Check the weather in a specified city.\n",
    "\n",
    "    Args:\n",
    "        city (str): The name of the city where you want to check the weather.\n",
    "\n",
    "    Returns:\n",
    "        str: A description of the current weather in the specified city.\n",
    "    \"\"\"\n",
    "    return \"Sunny, 22°C\"\n",
    "\n",
    "\n",
    "@tool\n",
    "def outdoor_seating_availability(city: str) -> str:\n",
    "    \"\"\"\n",
    "    Check if outdoor seating is available at a specified restaurant in a given city.\n",
    "\n",
    "    Args:\n",
    "        city (str): The name of the city where you want to check for outdoor seating availability.\n",
    "\n",
    "    Returns:\n",
    "        str: A message stating whether outdoor seating is available or not.\n",
    "    \"\"\"\n",
    "    return \"Outdoor seating is available.\"\n",
    "\n",
    "\n",
    "tools = [fake_weather_api, outdoor_seating_availability]"
   ]
  },
  {
   "cell_type": "code",
   "execution_count": 34,
   "metadata": {},
   "outputs": [],
   "source": [
    "llm_with_tools = llm.bind_tools(tools)"
   ]
  },
  {
   "cell_type": "code",
   "execution_count": 35,
   "metadata": {},
   "outputs": [
    {
     "data": {
      "text/plain": [
       "AIMessage(content='', additional_kwargs={'tool_calls': [{'id': 'call_0T8MatJzGnZUACEwgObQuzlL', 'function': {'arguments': '{\"city\":\"Munich\"}', 'name': 'fake_weather_api'}, 'type': 'function'}], 'refusal': None}, response_metadata={'token_usage': {'completion_tokens': 16, 'prompt_tokens': 156, 'total_tokens': 172, 'completion_tokens_details': {'accepted_prediction_tokens': 0, 'audio_tokens': 0, 'reasoning_tokens': 0, 'rejected_prediction_tokens': 0}, 'prompt_tokens_details': {'audio_tokens': 0, 'cached_tokens': 0}}, 'model_name': 'gpt-4o-mini-2024-07-18', 'system_fingerprint': 'fp_34a54ae93c', 'id': 'chatcmpl-Bhiu8Yc8ZHJ70hthGaForKAUoHUsG', 'service_tier': 'default', 'finish_reason': 'tool_calls', 'logprobs': None}, id='run--daf3867d-2c44-4ff9-8fdf-f186904d964c-0', tool_calls=[{'name': 'fake_weather_api', 'args': {'city': 'Munich'}, 'id': 'call_0T8MatJzGnZUACEwgObQuzlL', 'type': 'tool_call'}], usage_metadata={'input_tokens': 156, 'output_tokens': 16, 'total_tokens': 172, 'input_token_details': {'audio': 0, 'cache_read': 0}, 'output_token_details': {'audio': 0, 'reasoning': 0}})"
      ]
     },
     "execution_count": 35,
     "metadata": {},
     "output_type": "execute_result"
    }
   ],
   "source": [
    "result = llm_with_tools.invoke(\"Como estará o tempo em Munich hoje?\")\n",
    "result"
   ]
  },
  {
   "cell_type": "code",
   "execution_count": 36,
   "metadata": {},
   "outputs": [
    {
     "data": {
      "text/plain": [
       "[{'name': 'fake_weather_api',\n",
       "  'args': {'city': 'Munich'},\n",
       "  'id': 'call_0T8MatJzGnZUACEwgObQuzlL',\n",
       "  'type': 'tool_call'}]"
      ]
     },
     "execution_count": 36,
     "metadata": {},
     "output_type": "execute_result"
    }
   ],
   "source": [
    "result.tool_calls"
   ]
  },
  {
   "cell_type": "code",
   "execution_count": 37,
   "metadata": {},
   "outputs": [
    {
     "data": {
      "text/plain": [
       "AIMessage(content='O Brasil foi \"descoberto\" em 22 de abril de 1500 pelo navegador português Pedro Álvares Cabral. Ele chegou ao território brasileiro durante uma expedição que tinha como destino as Índias. A chegada de Cabral marcou o início do processo de colonização portuguesa no Brasil.', additional_kwargs={'refusal': None}, response_metadata={'token_usage': {'completion_tokens': 63, 'prompt_tokens': 154, 'total_tokens': 217, 'completion_tokens_details': {'accepted_prediction_tokens': 0, 'audio_tokens': 0, 'reasoning_tokens': 0, 'rejected_prediction_tokens': 0}, 'prompt_tokens_details': {'audio_tokens': 0, 'cached_tokens': 0}}, 'model_name': 'gpt-4o-mini-2024-07-18', 'system_fingerprint': 'fp_34a54ae93c', 'id': 'chatcmpl-BhiuPI5OIxEwOY2UNtvLncELAbYtq', 'service_tier': 'default', 'finish_reason': 'stop', 'logprobs': None}, id='run--4bb4f92b-24c3-4942-8c90-d1f20ca63f87-0', usage_metadata={'input_tokens': 154, 'output_tokens': 63, 'total_tokens': 217, 'input_token_details': {'audio': 0, 'cache_read': 0}, 'output_token_details': {'audio': 0, 'reasoning': 0}})"
      ]
     },
     "execution_count": 37,
     "metadata": {},
     "output_type": "execute_result"
    }
   ],
   "source": [
    "result = llm_with_tools.invoke(\"quem descobriu o Brasil?\")\n",
    "result"
   ]
  },
  {
   "cell_type": "code",
   "execution_count": 38,
   "metadata": {},
   "outputs": [
    {
     "data": {
      "text/plain": [
       "[]"
      ]
     },
     "execution_count": 38,
     "metadata": {},
     "output_type": "execute_result"
    }
   ],
   "source": [
    "result.tool_calls"
   ]
  },
  {
   "cell_type": "code",
   "execution_count": 39,
   "metadata": {},
   "outputs": [
    {
     "data": {
      "text/plain": [
       "AIMessage(content='', additional_kwargs={'tool_calls': [{'id': 'call_FjSrOJFIF6hBxjPduITZRVmJ', 'function': {'arguments': '{\"city\": \"Munich\"}', 'name': 'fake_weather_api'}, 'type': 'function'}, {'id': 'call_huM8SKr5SU5JpRg2LmQuwbsq', 'function': {'arguments': '{\"city\": \"Munich\"}', 'name': 'outdoor_seating_availability'}, 'type': 'function'}], 'refusal': None}, response_metadata={'token_usage': {'completion_tokens': 51, 'prompt_tokens': 163, 'total_tokens': 214, 'completion_tokens_details': {'accepted_prediction_tokens': 0, 'audio_tokens': 0, 'reasoning_tokens': 0, 'rejected_prediction_tokens': 0}, 'prompt_tokens_details': {'audio_tokens': 0, 'cached_tokens': 0}}, 'model_name': 'gpt-4o-mini-2024-07-18', 'system_fingerprint': 'fp_34a54ae93c', 'id': 'chatcmpl-BhiuSpvaizslDojvlVtLyV8Xcl0ns', 'service_tier': 'default', 'finish_reason': 'tool_calls', 'logprobs': None}, id='run--5cf32ac4-49cc-4c8a-a2bf-fcc802f20d8b-0', tool_calls=[{'name': 'fake_weather_api', 'args': {'city': 'Munich'}, 'id': 'call_FjSrOJFIF6hBxjPduITZRVmJ', 'type': 'tool_call'}, {'name': 'outdoor_seating_availability', 'args': {'city': 'Munich'}, 'id': 'call_huM8SKr5SU5JpRg2LmQuwbsq', 'type': 'tool_call'}], usage_metadata={'input_tokens': 163, 'output_tokens': 51, 'total_tokens': 214, 'input_token_details': {'audio': 0, 'cache_read': 0}, 'output_token_details': {'audio': 0, 'reasoning': 0}})"
      ]
     },
     "execution_count": 39,
     "metadata": {},
     "output_type": "execute_result"
    }
   ],
   "source": [
    "result = llm_with_tools.invoke(\"Como estará o tempo em Munich hoje ? Existem assentos disponíveis no restaurante?\")\n",
    "result"
   ]
  },
  {
   "cell_type": "code",
   "execution_count": 40,
   "metadata": {},
   "outputs": [
    {
     "data": {
      "text/plain": [
       "[{'name': 'fake_weather_api',\n",
       "  'args': {'city': 'Munich'},\n",
       "  'id': 'call_FjSrOJFIF6hBxjPduITZRVmJ',\n",
       "  'type': 'tool_call'},\n",
       " {'name': 'outdoor_seating_availability',\n",
       "  'args': {'city': 'Munich'},\n",
       "  'id': 'call_huM8SKr5SU5JpRg2LmQuwbsq',\n",
       "  'type': 'tool_call'}]"
      ]
     },
     "execution_count": 40,
     "metadata": {},
     "output_type": "execute_result"
    }
   ],
   "source": [
    "result.tool_calls"
   ]
  },
  {
   "cell_type": "code",
   "execution_count": 41,
   "metadata": {},
   "outputs": [],
   "source": [
    "from langchain_core.messages import HumanMessage, ToolMessage\n",
    "\n",
    "messages = [\n",
    "    HumanMessage(\n",
    "        \"Como estará o tempo em Munich hoje? Eu gostaria de comer fora, se possível\"\n",
    "    )\n",
    "]\n",
    "llm_output = llm_with_tools.invoke(messages)\n",
    "messages.append(llm_output)"
   ]
  },
  {
   "cell_type": "code",
   "execution_count": 42,
   "metadata": {},
   "outputs": [
    {
     "data": {
      "text/plain": [
       "AIMessage(content='', additional_kwargs={'tool_calls': [{'id': 'call_tsstxbcfaLN6pB4z0M7z1GMt', 'function': {'arguments': '{\"city\": \"Munich\"}', 'name': 'fake_weather_api'}, 'type': 'function'}, {'id': 'call_x9e95BMAhWRpFBG5ZzTM0z8h', 'function': {'arguments': '{\"city\": \"Munich\"}', 'name': 'outdoor_seating_availability'}, 'type': 'function'}], 'refusal': None}, response_metadata={'token_usage': {'completion_tokens': 51, 'prompt_tokens': 164, 'total_tokens': 215, 'completion_tokens_details': {'accepted_prediction_tokens': 0, 'audio_tokens': 0, 'reasoning_tokens': 0, 'rejected_prediction_tokens': 0}, 'prompt_tokens_details': {'audio_tokens': 0, 'cached_tokens': 0}}, 'model_name': 'gpt-4o-mini-2024-07-18', 'system_fingerprint': 'fp_34a54ae93c', 'id': 'chatcmpl-Bhiuf9WS1MZCtH4ZUXQGKX5GEcESc', 'service_tier': 'default', 'finish_reason': 'tool_calls', 'logprobs': None}, id='run--cf6db73d-c37c-49d2-8760-8b7cffbb14c9-0', tool_calls=[{'name': 'fake_weather_api', 'args': {'city': 'Munich'}, 'id': 'call_tsstxbcfaLN6pB4z0M7z1GMt', 'type': 'tool_call'}, {'name': 'outdoor_seating_availability', 'args': {'city': 'Munich'}, 'id': 'call_x9e95BMAhWRpFBG5ZzTM0z8h', 'type': 'tool_call'}], usage_metadata={'input_tokens': 164, 'output_tokens': 51, 'total_tokens': 215, 'input_token_details': {'audio': 0, 'cache_read': 0}, 'output_token_details': {'audio': 0, 'reasoning': 0}})"
      ]
     },
     "execution_count": 42,
     "metadata": {},
     "output_type": "execute_result"
    }
   ],
   "source": [
    "llm_output"
   ]
  },
  {
   "cell_type": "code",
   "execution_count": 43,
   "metadata": {},
   "outputs": [
    {
     "data": {
      "text/plain": [
       "[HumanMessage(content='Como estará o tempo em Munich hoje? Eu gostaria de comer fora, se possível', additional_kwargs={}, response_metadata={}),\n",
       " AIMessage(content='', additional_kwargs={'tool_calls': [{'id': 'call_tsstxbcfaLN6pB4z0M7z1GMt', 'function': {'arguments': '{\"city\": \"Munich\"}', 'name': 'fake_weather_api'}, 'type': 'function'}, {'id': 'call_x9e95BMAhWRpFBG5ZzTM0z8h', 'function': {'arguments': '{\"city\": \"Munich\"}', 'name': 'outdoor_seating_availability'}, 'type': 'function'}], 'refusal': None}, response_metadata={'token_usage': {'completion_tokens': 51, 'prompt_tokens': 164, 'total_tokens': 215, 'completion_tokens_details': {'accepted_prediction_tokens': 0, 'audio_tokens': 0, 'reasoning_tokens': 0, 'rejected_prediction_tokens': 0}, 'prompt_tokens_details': {'audio_tokens': 0, 'cached_tokens': 0}}, 'model_name': 'gpt-4o-mini-2024-07-18', 'system_fingerprint': 'fp_34a54ae93c', 'id': 'chatcmpl-Bhiuf9WS1MZCtH4ZUXQGKX5GEcESc', 'service_tier': 'default', 'finish_reason': 'tool_calls', 'logprobs': None}, id='run--cf6db73d-c37c-49d2-8760-8b7cffbb14c9-0', tool_calls=[{'name': 'fake_weather_api', 'args': {'city': 'Munich'}, 'id': 'call_tsstxbcfaLN6pB4z0M7z1GMt', 'type': 'tool_call'}, {'name': 'outdoor_seating_availability', 'args': {'city': 'Munich'}, 'id': 'call_x9e95BMAhWRpFBG5ZzTM0z8h', 'type': 'tool_call'}], usage_metadata={'input_tokens': 164, 'output_tokens': 51, 'total_tokens': 215, 'input_token_details': {'audio': 0, 'cache_read': 0}, 'output_token_details': {'audio': 0, 'reasoning': 0}})]"
      ]
     },
     "execution_count": 43,
     "metadata": {},
     "output_type": "execute_result"
    }
   ],
   "source": [
    "messages"
   ]
  },
  {
   "cell_type": "code",
   "execution_count": 44,
   "metadata": {},
   "outputs": [],
   "source": [
    "tool_mapping = {\n",
    "    \"fake_weather_api\": fake_weather_api,\n",
    "    \"outdoor_seating_availability\": outdoor_seating_availability,\n",
    "}"
   ]
  },
  {
   "cell_type": "code",
   "execution_count": 45,
   "metadata": {},
   "outputs": [],
   "source": [
    "for tool_call in llm_output.tool_calls:\n",
    "    tool = tool_mapping[tool_call[\"name\"].lower()]\n",
    "    tool_output = tool.invoke(tool_call[\"args\"])\n",
    "    messages.append(ToolMessage(tool_output, tool_call_id=tool_call[\"id\"]))"
   ]
  },
  {
   "cell_type": "code",
   "execution_count": 46,
   "metadata": {},
   "outputs": [
    {
     "data": {
      "text/plain": [
       "[HumanMessage(content='Como estará o tempo em Munich hoje? Eu gostaria de comer fora, se possível', additional_kwargs={}, response_metadata={}),\n",
       " AIMessage(content='', additional_kwargs={'tool_calls': [{'id': 'call_tsstxbcfaLN6pB4z0M7z1GMt', 'function': {'arguments': '{\"city\": \"Munich\"}', 'name': 'fake_weather_api'}, 'type': 'function'}, {'id': 'call_x9e95BMAhWRpFBG5ZzTM0z8h', 'function': {'arguments': '{\"city\": \"Munich\"}', 'name': 'outdoor_seating_availability'}, 'type': 'function'}], 'refusal': None}, response_metadata={'token_usage': {'completion_tokens': 51, 'prompt_tokens': 164, 'total_tokens': 215, 'completion_tokens_details': {'accepted_prediction_tokens': 0, 'audio_tokens': 0, 'reasoning_tokens': 0, 'rejected_prediction_tokens': 0}, 'prompt_tokens_details': {'audio_tokens': 0, 'cached_tokens': 0}}, 'model_name': 'gpt-4o-mini-2024-07-18', 'system_fingerprint': 'fp_34a54ae93c', 'id': 'chatcmpl-Bhiuf9WS1MZCtH4ZUXQGKX5GEcESc', 'service_tier': 'default', 'finish_reason': 'tool_calls', 'logprobs': None}, id='run--cf6db73d-c37c-49d2-8760-8b7cffbb14c9-0', tool_calls=[{'name': 'fake_weather_api', 'args': {'city': 'Munich'}, 'id': 'call_tsstxbcfaLN6pB4z0M7z1GMt', 'type': 'tool_call'}, {'name': 'outdoor_seating_availability', 'args': {'city': 'Munich'}, 'id': 'call_x9e95BMAhWRpFBG5ZzTM0z8h', 'type': 'tool_call'}], usage_metadata={'input_tokens': 164, 'output_tokens': 51, 'total_tokens': 215, 'input_token_details': {'audio': 0, 'cache_read': 0}, 'output_token_details': {'audio': 0, 'reasoning': 0}}),\n",
       " ToolMessage(content='Sunny, 22°C', tool_call_id='call_tsstxbcfaLN6pB4z0M7z1GMt'),\n",
       " ToolMessage(content='Outdoor seating is available.', tool_call_id='call_x9e95BMAhWRpFBG5ZzTM0z8h')]"
      ]
     },
     "execution_count": 46,
     "metadata": {},
     "output_type": "execute_result"
    }
   ],
   "source": [
    "messages"
   ]
  },
  {
   "cell_type": "code",
   "execution_count": 47,
   "metadata": {},
   "outputs": [
    {
     "name": "stdout",
     "output_type": "stream",
     "text": [
      "Hoje em Munique, o tempo estará ensolarado, com uma temperatura de 22°C. Além disso, há disponibilidade de assentos ao ar livre, então você pode aproveitar sua refeição fora!\n"
     ]
    }
   ],
   "source": [
    "response = llm_with_tools.invoke(messages)\n",
    "print(response.content)"
   ]
  },
  {
   "cell_type": "markdown",
   "metadata": {},
   "source": [
    "### Real third party API Call"
   ]
  },
  {
   "cell_type": "code",
   "execution_count": 51,
   "metadata": {},
   "outputs": [],
   "source": [
    "# https://www.weatherapi.com/docs/ \n",
    "from langchain_core.tools import tool\n",
    "import httpx\n",
    "\n",
    "\n",
    "@tool\n",
    "def fake_weather_api(city: str) -> str:\n",
    "    \"\"\"Check the weather in a specified city \"\"\"\n",
    "    #city = 'Rio'\n",
    "    response = httpx.get(f\"https://api.weatherapi.com/v1/current.json?key={weather_api_key}&q={city}&aqi=no\",verify=False)\n",
    "    #print(f\"https://api.weatherapi.com/v1/current.json?key={weather_api_key}&q={city}&aqi=no\")\n",
    "\n",
    "    if response.status_code == 200:\n",
    "        return response.json().get(\"current\", \"Weather information not available\")\n",
    "    else:\n",
    "        return \"Failed to get weather information\"\n",
    "\n",
    "\n",
    "@tool\n",
    "def outdoor_seating_availability(city: str) -> str:\n",
    "    \"\"\"Check if outdoor seating is available in a specified city \"\"\"\n",
    "    return \"Outdoor seating information is available\"\n",
    "\n",
    "api_tools = [fake_weather_api, outdoor_seating_availability]\n",
    "tool_mapping = {\n",
    "    \"fake_weather_api\": fake_weather_api,\n",
    "    \"outdoor_seating_availability\": outdoor_seating_availability,\n",
    "}"
   ]
  },
  {
   "cell_type": "code",
   "execution_count": 52,
   "metadata": {},
   "outputs": [],
   "source": [
    "from langchain_openai import ChatOpenAI\n",
    "\n",
    "\n",
    "def interact_with_llm_and_tools(human_message: str):\n",
    "\n",
    "    llm = ChatOpenAI(openai_api_key=openai_api_key,model='gpt-4o-mini', temperature=0)\n",
    "    llm_with_tools_new = llm.bind_tools(api_tools)\n",
    "\n",
    "    messages = [HumanMessage(content=human_message)]\n",
    "\n",
    "    llm_output = llm_with_tools_new.invoke(messages)\n",
    "    messages.append(llm_output)\n",
    "\n",
    "    if llm_output.tool_calls:\n",
    "        print(\"TOOL_CALLS:\", llm_output.tool_calls)\n",
    "    else:\n",
    "        print(\"TOOL_CALLS: None\")\n",
    "\n",
    "    for tool_call in llm_output.tool_calls:\n",
    "        tool_name = tool_call[\"name\"].lower()\n",
    "        tool = tool_mapping.get(tool_name)\n",
    "\n",
    "        if tool:\n",
    "            tool_output = tool.invoke(tool_call[\"args\"])\n",
    "            print(\"TOOL OUTPUT:\", tool_output)\n",
    "            messages.append(ToolMessage(tool_output, tool_call_id=tool_call[\"id\"]))\n",
    "\n",
    "    final_response = llm_with_tools_new.invoke(messages)\n",
    "    return final_response"
   ]
  },
  {
   "cell_type": "code",
   "execution_count": 53,
   "metadata": {},
   "outputs": [
    {
     "name": "stdout",
     "output_type": "stream",
     "text": [
      "TOOL_CALLS: [{'name': 'fake_weather_api', 'args': {'city': 'Rio de Janeiro'}, 'id': 'call_eswzx1bFDYkUHMutIEU5lrD3', 'type': 'tool_call'}, {'name': 'outdoor_seating_availability', 'args': {'city': 'Rio de Janeiro'}, 'id': 'call_GVwLpVhApsvZL1IXdNvBFzTW', 'type': 'tool_call'}]\n",
      "TOOL OUTPUT: {'last_updated_epoch': 1749760200, 'last_updated': '2025-06-12 17:30', 'temp_c': 18.1, 'temp_f': 64.6, 'is_day': 0, 'condition': {'text': 'Partly cloudy', 'icon': '//cdn.weatherapi.com/weather/64x64/night/116.png', 'code': 1003}, 'wind_mph': 2.2, 'wind_kph': 3.6, 'wind_degree': 76, 'wind_dir': 'ENE', 'pressure_mb': 1022.0, 'pressure_in': 30.18, 'precip_mm': 0.06, 'precip_in': 0.0, 'humidity': 83, 'cloud': 75, 'feelslike_c': 18.1, 'feelslike_f': 64.6, 'windchill_c': 16.9, 'windchill_f': 62.4, 'heatindex_c': 16.9, 'heatindex_f': 62.4, 'dewpoint_c': 12.5, 'dewpoint_f': 54.6, 'vis_km': 10.0, 'vis_miles': 6.0, 'uv': 0.0, 'gust_mph': 3.8, 'gust_kph': 6.2}\n",
      "TOOL OUTPUT: Outdoor seating information is available\n"
     ]
    }
   ],
   "source": [
    "response = interact_with_llm_and_tools(\n",
    "    \"Como está o tempo no Rio hoje? Eu gostaria de comer fora se possível\"\n",
    ")"
   ]
  },
  {
   "cell_type": "code",
   "execution_count": 54,
   "metadata": {},
   "outputs": [
    {
     "name": "stdout",
     "output_type": "stream",
     "text": [
      "Hoje no Rio de Janeiro, a temperatura está em torno de 18,1°C e o clima está parcialmente nublado. A umidade é de 83%, e a sensação térmica é a mesma da temperatura. O vento está soprando a 3,6 km/h.\n",
      "\n",
      "Além disso, há disponibilidade de assentos ao ar livre, então você pode aproveitar uma refeição fora!\n"
     ]
    }
   ],
   "source": [
    "print(response.content)"
   ]
  },
  {
   "cell_type": "code",
   "execution_count": 55,
   "metadata": {},
   "outputs": [
    {
     "name": "stdout",
     "output_type": "stream",
     "text": [
      "TOOL_CALLS: [{'name': 'fake_weather_api', 'args': {'city': 'São Paulo'}, 'id': 'call_vbGMA6HgCM0l1Owf8qsmdA0v', 'type': 'tool_call'}, {'name': 'outdoor_seating_availability', 'args': {'city': 'São Paulo'}, 'id': 'call_m13DldLnE6UvK6ScfoQd0cr3', 'type': 'tool_call'}]\n",
      "TOOL OUTPUT: {'last_updated_epoch': 1749760200, 'last_updated': '2025-06-12 17:30', 'temp_c': 14.0, 'temp_f': 57.2, 'is_day': 0, 'condition': {'text': 'Partly cloudy', 'icon': '//cdn.weatherapi.com/weather/64x64/night/116.png', 'code': 1003}, 'wind_mph': 9.2, 'wind_kph': 14.8, 'wind_degree': 135, 'wind_dir': 'SE', 'pressure_mb': 1023.0, 'pressure_in': 30.21, 'precip_mm': 0.0, 'precip_in': 0.0, 'humidity': 72, 'cloud': 75, 'feelslike_c': 12.9, 'feelslike_f': 55.2, 'windchill_c': 11.5, 'windchill_f': 52.6, 'heatindex_c': 12.8, 'heatindex_f': 55.1, 'dewpoint_c': 8.7, 'dewpoint_f': 47.6, 'vis_km': 10.0, 'vis_miles': 6.0, 'uv': 0.0, 'gust_mph': 11.1, 'gust_kph': 17.9}\n",
      "TOOL OUTPUT: Outdoor seating information is available\n"
     ]
    }
   ],
   "source": [
    "response = interact_with_llm_and_tools(\n",
    "    \"Como estará o tempo em São Paulo hoje? Eu gostaria de comer fora, se possível\"\n",
    ")"
   ]
  },
  {
   "cell_type": "code",
   "execution_count": 56,
   "metadata": {},
   "outputs": [
    {
     "name": "stdout",
     "output_type": "stream",
     "text": [
      "Hoje em São Paulo, o tempo está parcialmente nublado, com uma temperatura de aproximadamente 14°C. A umidade está em 72%, e a sensação térmica é de cerca de 12.9°C. O vento está soprando a 9.2 mph (cerca de 14.8 km/h) vindo do sudeste.\n",
      "\n",
      "Além disso, há disponibilidade de assentos ao ar livre, então você pode aproveitar uma refeição fora!\n"
     ]
    }
   ],
   "source": [
    "print(response.content)"
   ]
  },
  {
   "cell_type": "code",
   "execution_count": 57,
   "metadata": {},
   "outputs": [
    {
     "name": "stdout",
     "output_type": "stream",
     "text": [
      "TOOL_CALLS: [{'name': 'fake_weather_api', 'args': {'city': 'Munich'}, 'id': 'call_5SFYYWBPA7ItfXKPJE0nuQmt', 'type': 'tool_call'}]\n",
      "TOOL OUTPUT: {'last_updated_epoch': 1749760200, 'last_updated': '2025-06-12 22:30', 'temp_c': 17.0, 'temp_f': 62.6, 'is_day': 0, 'condition': {'text': 'Clear', 'icon': '//cdn.weatherapi.com/weather/64x64/night/113.png', 'code': 1000}, 'wind_mph': 6.5, 'wind_kph': 10.4, 'wind_degree': 94, 'wind_dir': 'E', 'pressure_mb': 1021.0, 'pressure_in': 30.15, 'precip_mm': 0.0, 'precip_in': 0.0, 'humidity': 63, 'cloud': 0, 'feelslike_c': 17.0, 'feelslike_f': 62.6, 'windchill_c': 14.3, 'windchill_f': 57.7, 'heatindex_c': 14.8, 'heatindex_f': 58.6, 'dewpoint_c': 12.5, 'dewpoint_f': 54.5, 'vis_km': 10.0, 'vis_miles': 6.0, 'uv': 0.0, 'gust_mph': 13.6, 'gust_kph': 21.9}\n"
     ]
    }
   ],
   "source": [
    "response = interact_with_llm_and_tools(\n",
    "    \"Como está o tempo em Munich hoje ?\"\n",
    ")"
   ]
  },
  {
   "cell_type": "code",
   "execution_count": 58,
   "metadata": {},
   "outputs": [
    {
     "name": "stdout",
     "output_type": "stream",
     "text": [
      "Hoje em Munique, o tempo está claro, com uma temperatura de 17°C. A umidade está em 63%, e não há precipitação. O vento está soprando a 10,4 km/h vindo do leste. A visibilidade é boa, com 10 km.\n"
     ]
    }
   ],
   "source": [
    "print(response.content)"
   ]
  },
  {
   "cell_type": "code",
   "execution_count": 61,
   "metadata": {},
   "outputs": [
    {
     "name": "stdout",
     "output_type": "stream",
     "text": [
      "TOOL_CALLS: None\n"
     ]
    }
   ],
   "source": [
    "response=interact_with_llm_and_tools(\"Qual o nome do pai da família Simpsons?\")"
   ]
  },
  {
   "cell_type": "code",
   "execution_count": 62,
   "metadata": {},
   "outputs": [
    {
     "name": "stdout",
     "output_type": "stream",
     "text": [
      "O nome do pai da família Simpsons é Homer Simpson.\n"
     ]
    }
   ],
   "source": [
    "print(response.content)"
   ]
  },
  {
   "cell_type": "code",
   "execution_count": 63,
   "metadata": {},
   "outputs": [
    {
     "name": "stdout",
     "output_type": "stream",
     "text": [
      "TOOL_CALLS: [{'name': 'fake_weather_api', 'args': {'city': 'São Paulo'}, 'id': 'call_n9ls9wEOl9N18ElmkMbDqva3', 'type': 'tool_call'}]\n",
      "TOOL OUTPUT: {'last_updated_epoch': 1749760200, 'last_updated': '2025-06-12 17:30', 'temp_c': 14.0, 'temp_f': 57.2, 'is_day': 0, 'condition': {'text': 'Partly cloudy', 'icon': '//cdn.weatherapi.com/weather/64x64/night/116.png', 'code': 1003}, 'wind_mph': 9.2, 'wind_kph': 14.8, 'wind_degree': 135, 'wind_dir': 'SE', 'pressure_mb': 1023.0, 'pressure_in': 30.21, 'precip_mm': 0.0, 'precip_in': 0.0, 'humidity': 72, 'cloud': 75, 'feelslike_c': 12.9, 'feelslike_f': 55.2, 'windchill_c': 11.5, 'windchill_f': 52.6, 'heatindex_c': 12.8, 'heatindex_f': 55.1, 'dewpoint_c': 8.7, 'dewpoint_f': 47.6, 'vis_km': 10.0, 'vis_miles': 6.0, 'uv': 0.0, 'gust_mph': 11.1, 'gust_kph': 17.9}\n"
     ]
    }
   ],
   "source": [
    "response = interact_with_llm_and_tools(\n",
    "    \"Eu gosto do tempo no Rio mas como está o tempo em São Paulo?\"\n",
    ")"
   ]
  },
  {
   "cell_type": "code",
   "execution_count": 64,
   "metadata": {},
   "outputs": [
    {
     "name": "stdout",
     "output_type": "stream",
     "text": [
      "O tempo em São Paulo está parcialmente nublado, com uma temperatura de 14°C. A umidade está em 72%, e não há precipitação no momento. A velocidade do vento é de aproximadamente 9,2 mph (14,8 km/h) vindo do sudeste. \n",
      "\n",
      "Se precisar de mais informações, é só avisar!\n"
     ]
    }
   ],
   "source": [
    "print(response.content)"
   ]
  },
  {
   "cell_type": "code",
   "execution_count": null,
   "metadata": {},
   "outputs": [],
   "source": []
  }
 ],
 "metadata": {
  "kernelspec": {
   "display_name": "Python 3 (ipykernel)",
   "language": "python",
   "name": "python3"
  },
  "language_info": {
   "codemirror_mode": {
    "name": "ipython",
    "version": 3
   },
   "file_extension": ".py",
   "mimetype": "text/x-python",
   "name": "python",
   "nbconvert_exporter": "python",
   "pygments_lexer": "ipython3",
   "version": "3.13.4"
  }
 },
 "nbformat": 4,
 "nbformat_minor": 4
}

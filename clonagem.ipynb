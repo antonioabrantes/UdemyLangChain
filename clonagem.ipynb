{
 "cells": [
  {
   "cell_type": "code",
   "execution_count": 1,
   "id": "7667f73b-eb73-4630-8acd-3b3a1f2cfa73",
   "metadata": {},
   "outputs": [],
   "source": [
    "x = 1\n",
    "y = 2\n"
   ]
  },
  {
   "cell_type": "code",
   "execution_count": 2,
   "id": "eb87da60-bbef-43f0-9376-99f4582aa253",
   "metadata": {},
   "outputs": [
    {
     "name": "stdout",
     "output_type": "stream",
     "text": [
      "1\n"
     ]
    }
   ],
   "source": [
    "y = x\n",
    "print(y)"
   ]
  },
  {
   "cell_type": "code",
   "execution_count": 3,
   "id": "4be0542a-dec1-46ab-916f-a5b59f6861f6",
   "metadata": {},
   "outputs": [],
   "source": [
    "x = 5"
   ]
  },
  {
   "cell_type": "code",
   "execution_count": 4,
   "id": "e7e536aa-6643-419b-82e6-3c0f9576d734",
   "metadata": {},
   "outputs": [
    {
     "name": "stdout",
     "output_type": "stream",
     "text": [
      "1\n"
     ]
    }
   ],
   "source": [
    "print(y)"
   ]
  },
  {
   "cell_type": "code",
   "execution_count": 5,
   "id": "a8bf97c7-ebbc-4cd1-b895-c0527cb38d1b",
   "metadata": {},
   "outputs": [],
   "source": [
    "x = [\"banana\", 2, 3]"
   ]
  },
  {
   "cell_type": "code",
   "execution_count": 6,
   "id": "6f7414d1-d7bc-4ec0-8039-f2963c899462",
   "metadata": {},
   "outputs": [],
   "source": [
    "y = x"
   ]
  },
  {
   "cell_type": "code",
   "execution_count": 7,
   "id": "75a18cc3-44ca-4244-a4de-ee7c9fc06165",
   "metadata": {},
   "outputs": [],
   "source": [
    "x[0]=\"pera\""
   ]
  },
  {
   "cell_type": "code",
   "execution_count": 8,
   "id": "98d8fe9a-0b1a-4e58-9311-509854f2ed2c",
   "metadata": {},
   "outputs": [
    {
     "name": "stdout",
     "output_type": "stream",
     "text": [
      "['pera', 2, 3]\n"
     ]
    }
   ],
   "source": [
    "print(x)"
   ]
  },
  {
   "cell_type": "code",
   "execution_count": 9,
   "id": "ecaf574f-a689-47d7-865f-945b200cd80b",
   "metadata": {},
   "outputs": [
    {
     "name": "stdout",
     "output_type": "stream",
     "text": [
      "['pera', 2, 3]\n"
     ]
    }
   ],
   "source": [
    "print(y)"
   ]
  },
  {
   "cell_type": "code",
   "execution_count": 10,
   "id": "1fcd03f2-88ef-4f58-b0fc-61f8124fd515",
   "metadata": {},
   "outputs": [],
   "source": [
    "y = x[:]"
   ]
  },
  {
   "cell_type": "code",
   "execution_count": 11,
   "id": "a3f62945-a33d-43a4-a1ac-05d525498bc3",
   "metadata": {},
   "outputs": [
    {
     "name": "stdout",
     "output_type": "stream",
     "text": [
      "['pera', 2, 3]\n"
     ]
    }
   ],
   "source": [
    "print(x)"
   ]
  },
  {
   "cell_type": "code",
   "execution_count": 12,
   "id": "be57b0a5-1bad-4071-9174-159a1389b96d",
   "metadata": {},
   "outputs": [
    {
     "name": "stdout",
     "output_type": "stream",
     "text": [
      "['pera', 2, 3]\n"
     ]
    }
   ],
   "source": [
    "print(y)"
   ]
  },
  {
   "cell_type": "code",
   "execution_count": 13,
   "id": "c8cd58ec-0e6b-4255-a56a-e8db4e3ba260",
   "metadata": {},
   "outputs": [],
   "source": [
    "x[0]=\"uva\""
   ]
  },
  {
   "cell_type": "code",
   "execution_count": 14,
   "id": "7afbc8b6-85ee-49a4-a6dc-9d3ab77ee2fe",
   "metadata": {},
   "outputs": [
    {
     "name": "stdout",
     "output_type": "stream",
     "text": [
      "['uva', 2, 3]\n"
     ]
    }
   ],
   "source": [
    "print(x)"
   ]
  },
  {
   "cell_type": "code",
   "execution_count": 15,
   "id": "b71ce450-fae7-48a0-8ad4-21408768cd51",
   "metadata": {},
   "outputs": [
    {
     "name": "stdout",
     "output_type": "stream",
     "text": [
      "['pera', 2, 3]\n"
     ]
    }
   ],
   "source": [
    "print(y)"
   ]
  },
  {
   "cell_type": "code",
   "execution_count": 17,
   "id": "b9dc7a3b-2377-4159-8135-11b2fe1b3fb9",
   "metadata": {},
   "outputs": [],
   "source": [
    "dic = {\"jan\":1, \"fev\":2, \"mar\":3}"
   ]
  },
  {
   "cell_type": "code",
   "execution_count": 18,
   "id": "5ea0c6f7-358e-4312-8547-8f1ffad07073",
   "metadata": {},
   "outputs": [
    {
     "data": {
      "text/plain": [
       "1"
      ]
     },
     "execution_count": 18,
     "metadata": {},
     "output_type": "execute_result"
    }
   ],
   "source": [
    "dic[\"jan\"]"
   ]
  },
  {
   "cell_type": "code",
   "execution_count": 19,
   "id": "07f9c948-4366-4b06-9d8a-fd12983a285c",
   "metadata": {},
   "outputs": [
    {
     "data": {
      "text/plain": [
       "dict_keys(['jan', 'fev', 'mar'])"
      ]
     },
     "execution_count": 19,
     "metadata": {},
     "output_type": "execute_result"
    }
   ],
   "source": [
    "dic.keys()"
   ]
  },
  {
   "cell_type": "code",
   "execution_count": 20,
   "id": "511f2b1b-f4db-49fc-80ab-a14b920b05ad",
   "metadata": {},
   "outputs": [
    {
     "data": {
      "text/plain": [
       "dict_values([1, 2, 3])"
      ]
     },
     "execution_count": 20,
     "metadata": {},
     "output_type": "execute_result"
    }
   ],
   "source": [
    "dic.values()"
   ]
  },
  {
   "cell_type": "code",
   "execution_count": 21,
   "id": "4097b8c6-058c-418b-b655-b4e20cbaf333",
   "metadata": {},
   "outputs": [],
   "source": [
    "dic['abr']=4"
   ]
  },
  {
   "cell_type": "code",
   "execution_count": 22,
   "id": "814cecc8-8cc1-4d07-bf11-da229848f881",
   "metadata": {},
   "outputs": [
    {
     "data": {
      "text/plain": [
       "{'jan': 1, 'fev': 2, 'mar': 3, 'abr': 4}"
      ]
     },
     "execution_count": 22,
     "metadata": {},
     "output_type": "execute_result"
    }
   ],
   "source": [
    "dic"
   ]
  },
  {
   "cell_type": "code",
   "execution_count": 23,
   "id": "b6affe47-50a8-4090-a5b1-18b51a4fc843",
   "metadata": {},
   "outputs": [],
   "source": [
    "del(dic['mar'])"
   ]
  },
  {
   "cell_type": "code",
   "execution_count": 24,
   "id": "a13716dc-c4f7-4f65-8cef-2ac26caa6a4f",
   "metadata": {},
   "outputs": [
    {
     "data": {
      "text/plain": [
       "{'jan': 1, 'fev': 2, 'abr': 4}"
      ]
     },
     "execution_count": 24,
     "metadata": {},
     "output_type": "execute_result"
    }
   ],
   "source": [
    "dic"
   ]
  },
  {
   "cell_type": "code",
   "execution_count": 25,
   "id": "be94713c-bc9e-4f7f-ad86-3e7bd79c8a8c",
   "metadata": {},
   "outputs": [
    {
     "data": {
      "text/plain": [
       "{'jan': 1, 'fev': 2, 'abr': 4}"
      ]
     },
     "execution_count": 25,
     "metadata": {},
     "output_type": "execute_result"
    }
   ],
   "source": [
    "dic\n"
   ]
  },
  {
   "cell_type": "code",
   "execution_count": 26,
   "id": "624cbc1f-e8cc-4554-ade6-8c708f38446f",
   "metadata": {},
   "outputs": [],
   "source": [
    "x = 'mar' in dic"
   ]
  },
  {
   "cell_type": "code",
   "execution_count": 27,
   "id": "01369e43-5696-4bb9-b510-4c8354bc4bbd",
   "metadata": {},
   "outputs": [
    {
     "name": "stdout",
     "output_type": "stream",
     "text": [
      "False\n"
     ]
    }
   ],
   "source": [
    "print(x)"
   ]
  },
  {
   "cell_type": "code",
   "execution_count": 28,
   "id": "070019a5-2236-4b56-8c85-132afe8f11f5",
   "metadata": {},
   "outputs": [
    {
     "name": "stdout",
     "output_type": "stream",
     "text": [
      "True\n"
     ]
    }
   ],
   "source": [
    "x = 'jan' in dic\n",
    "print(x)"
   ]
  },
  {
   "cell_type": "code",
   "execution_count": null,
   "id": "80da0cc8-f968-4e87-aca0-2feb849c8f93",
   "metadata": {},
   "outputs": [],
   "source": []
  }
 ],
 "metadata": {
  "kernelspec": {
   "display_name": "Python 3 (ipykernel)",
   "language": "python",
   "name": "python3"
  },
  "language_info": {
   "codemirror_mode": {
    "name": "ipython",
    "version": 3
   },
   "file_extension": ".py",
   "mimetype": "text/x-python",
   "name": "python",
   "nbconvert_exporter": "python",
   "pygments_lexer": "ipython3",
   "version": "3.12.4"
  }
 },
 "nbformat": 4,
 "nbformat_minor": 5
}

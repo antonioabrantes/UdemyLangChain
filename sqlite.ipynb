{
 "cells": [
  {
   "cell_type": "code",
   "execution_count": 7,
   "id": "5fe26225-e890-41bb-a59b-8c4dfd12dce8",
   "metadata": {},
   "outputs": [],
   "source": [
    "from dotenv import load_dotenv\n",
    "import os\n",
    "\n",
    "from langchain_openai import ChatOpenAI\n",
    "from langchain_groq import ChatGroq\n",
    "from langchain_anthropic import ChatAnthropic\n",
    "from langchain_google_genai import ChatGoogleGenerativeAI"
   ]
  },
  {
   "cell_type": "code",
   "execution_count": 8,
   "id": "4551e030-49fc-435d-974d-b4ca339cbd1d",
   "metadata": {},
   "outputs": [],
   "source": [
    "load_dotenv(dotenv_path='.env')\n",
    "\n",
    "# https://platform.openai.com/api-keys\n",
    "openai_api_key = os.getenv(\"OPENAI_API_KEY\")\n",
    "\n",
    "# https://console.groq.com/keys\n",
    "groq_api_key = os.getenv(\"GROQ_API_KEY\")\n",
    "\n",
    "# https://console.anthropic.com/dashboard\n",
    "anthropic_api_key = os.getenv(\"ANTHROPIC_API_KEY\")\n",
    "\n",
    "# https://aistudio.google.com/app/apikey\n",
    "gemini_api_key = os.getenv(\"GEMINI_API_KEY\")\n"
   ]
  },
  {
   "cell_type": "code",
   "execution_count": 9,
   "id": "5e8e297e-b15d-4b69-b2a8-3aa08d66a3b1",
   "metadata": {},
   "outputs": [],
   "source": [
    "import sqlite3\n",
    "conn = sqlite3.connect('loja.db')\n",
    "cursor = conn.cursor()"
   ]
  },
  {
   "cell_type": "code",
   "execution_count": 11,
   "id": "ce700af8-7251-467a-a82f-1776663c3390",
   "metadata": {},
   "outputs": [],
   "source": [
    "cursor.execute(\"\"\"\n",
    "    CREATE TABLE IF NOT EXISTS products (\n",
    "        id INTEGER PRIMARY KEY AUTOINCREMENT,\n",
    "        name TEXT NOT NULL,\n",
    "        color TEXT NOT NULL,\n",
    "        price REAL NOT NULL\n",
    "    )\n",
    "\"\"\")\n",
    "cursor.execute(\"INSERT INTO products (name, color, price) VALUES ('caneta','marrom',1.0)\")\n",
    "cursor.execute(\"INSERT INTO products (name, color, price) VALUES ('caneta','preta',1.5)\")\n",
    "cursor.execute(\"INSERT INTO products (name, color, price) VALUES ('caneta','amarela',3.0)\")\n",
    "cursor.execute(\"INSERT INTO products (name, color, price) VALUES ('caneta','verde',4.0)\")\n",
    "conn.commit()"
   ]
  },
  {
   "cell_type": "code",
   "execution_count": 12,
   "id": "6fcbec16-5383-4495-9382-1768855868ee",
   "metadata": {},
   "outputs": [
    {
     "name": "stdout",
     "output_type": "stream",
     "text": [
      "(4, 'caneta', 'verde', 4.0)\n",
      "(8, 'caneta', 'verde', 4.0)\n"
     ]
    }
   ],
   "source": [
    "sql = \"SELECT id, name, color, price FROM products WHERE name='caneta' and color='verde'\"\n",
    "cursor.execute(sql)\n",
    "resultados = cursor.fetchall()\n",
    "for linha in resultados:\n",
    "    print(linha)"
   ]
  },
  {
   "cell_type": "code",
   "execution_count": 13,
   "id": "6ef74ff2-145b-4184-88bb-68c6b3224b79",
   "metadata": {},
   "outputs": [
    {
     "name": "stdout",
     "output_type": "stream",
     "text": [
      "(1, 'caneta', 'marrom', 1.0)\n",
      "(2, 'caneta', 'preta', 1.5)\n",
      "(3, 'caneta', 'amarela', 3.0)\n",
      "(4, 'caneta', 'verde', 4.0)\n",
      "(5, 'caneta', 'marrom', 1.0)\n",
      "(6, 'caneta', 'preta', 1.5)\n",
      "(7, 'caneta', 'amarela', 3.0)\n",
      "(8, 'caneta', 'verde', 4.0)\n"
     ]
    }
   ],
   "source": [
    "sql = \"SELECT * FROM products\"\n",
    "cursor.execute(sql)\n",
    "resultados = cursor.fetchall()\n",
    "for linha in resultados:\n",
    "    print(linha)"
   ]
  },
  {
   "cell_type": "code",
   "execution_count": 14,
   "id": "cfc8510e-da61-4eba-ab3b-fcf287f4a58c",
   "metadata": {},
   "outputs": [],
   "source": [
    "cursor.close()\n",
    "conn.close()"
   ]
  },
  {
   "cell_type": "code",
   "execution_count": 15,
   "id": "12b7ffc5-925c-407e-962b-f83ba19c9445",
   "metadata": {},
   "outputs": [
    {
     "name": "stdout",
     "output_type": "stream",
     "text": [
      "(4, 'caneta', 'verde', 4.0)\n",
      "(8, 'caneta', 'verde', 4.0)\n"
     ]
    }
   ],
   "source": [
    "conn = sqlite3.connect('loja.db')\n",
    "cursor = conn.cursor()\n",
    "sql = \"SELECT id, name, color, price FROM products WHERE name='caneta' and color='verde'\"\n",
    "cursor.execute(sql)\n",
    "resultados = cursor.fetchall()\n",
    "for linha in resultados:\n",
    "    print(linha)\n",
    "cursor.close()\n",
    "conn.close()"
   ]
  },
  {
   "cell_type": "code",
   "execution_count": 18,
   "id": "d89ffa89-f95f-4154-a667-d90f637ad5e8",
   "metadata": {},
   "outputs": [],
   "source": [
    "def find_product(sql_query):\n",
    "    conn = sqlite3.connect('loja.db')  # abrir no SQLiteStudio  https://sqlitestudio.pl/\n",
    "    cursor = conn.cursor()\n",
    "    conn.row_factory = sqlite3.Row\n",
    "    cursor = conn.cursor()\n",
    "    cursor.execute(sql_query)\n",
    "    resultados = cursor.fetchall()\n",
    "    results = [{\"name\": linha['name'], \"color\": linha['color'], \"price\": linha['price']} for linha in resultados]\n",
    "    cursor.close()\n",
    "    conn.close()\n",
    "    return results\n"
   ]
  },
  {
   "cell_type": "code",
   "execution_count": 19,
   "id": "6bf900e1-4c9a-4458-9438-53c27642d5b8",
   "metadata": {},
   "outputs": [
    {
     "name": "stdout",
     "output_type": "stream",
     "text": [
      "[{'name': 'caneta', 'color': 'preta', 'price': 1.5}, {'name': 'caneta', 'color': 'preta', 'price': 1.5}]\n"
     ]
    }
   ],
   "source": [
    "sql = \"SELECT id, name, color, price FROM products WHERE name='caneta' and color='preta'\"\n",
    "resultados = find_product(sql)\n",
    "print(resultados)"
   ]
  },
  {
   "cell_type": "code",
   "execution_count": 20,
   "id": "321e7af4-5140-44c9-9bec-8aac240f27de",
   "metadata": {},
   "outputs": [
    {
     "data": {
      "text/plain": [
       "{'name': 'caneta', 'color': 'preta', 'price': 1.5}"
      ]
     },
     "execution_count": 20,
     "metadata": {},
     "output_type": "execute_result"
    }
   ],
   "source": [
    "resultados[0]"
   ]
  },
  {
   "cell_type": "code",
   "execution_count": 21,
   "id": "c4532774-2aec-41ab-bd00-191c75842bb6",
   "metadata": {},
   "outputs": [
    {
     "data": {
      "text/plain": [
       "'caneta'"
      ]
     },
     "execution_count": 21,
     "metadata": {},
     "output_type": "execute_result"
    }
   ],
   "source": [
    "resultados[0]['name']"
   ]
  },
  {
   "cell_type": "code",
   "execution_count": 22,
   "id": "d18efcf6-54cb-4f10-8261-aba115af21d7",
   "metadata": {},
   "outputs": [
    {
     "data": {
      "text/plain": [
       "1.5"
      ]
     },
     "execution_count": 22,
     "metadata": {},
     "output_type": "execute_result"
    }
   ],
   "source": [
    "resultados[1]['price']"
   ]
  },
  {
   "cell_type": "code",
   "execution_count": 23,
   "id": "e561ad88-0658-460a-9665-1b0dc3d39905",
   "metadata": {},
   "outputs": [
    {
     "name": "stdout",
     "output_type": "stream",
     "text": [
      "\n",
      "CREATE TABLE products (\n",
      "\tid INTEGER, \n",
      "\tname TEXT NOT NULL, \n",
      "\tcolor TEXT NOT NULL, \n",
      "\tprice REAL NOT NULL, \n",
      "\tPRIMARY KEY (id)\n",
      ")\n"
     ]
    }
   ],
   "source": [
    "# Obtendo o schema da base de dados\n",
    "\n",
    "from langchain_community.utilities import SQLDatabase\n",
    "from pathlib import Path\n",
    "\n",
    "db_string = f\"sqlite:///loja.db\"\n",
    "db = SQLDatabase.from_uri(db_string, sample_rows_in_table_info=0)\n",
    "\n",
    "def get_schema(_):\n",
    "    return db.get_table_info()\n",
    "\n",
    "print(get_schema(_))"
   ]
  },
  {
   "cell_type": "code",
   "execution_count": 24,
   "id": "52b07926-55d3-471d-8ae5-335daf680f87",
   "metadata": {},
   "outputs": [
    {
     "name": "stdout",
     "output_type": "stream",
     "text": [
      "CREATE TABLE products (\n",
      "\tid INTEGER, \n",
      "\tname TEXT NOT NULL, \n",
      "\tcolor TEXT NOT NULL, \n",
      "\tprice REAL NOT NULL, \n",
      "\tPRIMARY KEY (id)\n",
      ")\n"
     ]
    }
   ],
   "source": [
    "# Obtenção do schema por outra forma\n",
    "\n",
    "def get_schema(_):\n",
    "    schemas = ''\n",
    "    for table in db.get_usable_table_names():\n",
    "        schemas += db.get_table_info([table]).split('/*')[0].strip()\n",
    "\n",
    "    return schemas\n",
    "\n",
    "print(get_schema(_))"
   ]
  },
  {
   "cell_type": "code",
   "execution_count": null,
   "id": "fded3e31-2648-4afd-8934-cb44004f09a6",
   "metadata": {},
   "outputs": [],
   "source": []
  }
 ],
 "metadata": {
  "kernelspec": {
   "display_name": "Python 3 (ipykernel)",
   "language": "python",
   "name": "python3"
  },
  "language_info": {
   "codemirror_mode": {
    "name": "ipython",
    "version": 3
   },
   "file_extension": ".py",
   "mimetype": "text/x-python",
   "name": "python",
   "nbconvert_exporter": "python",
   "pygments_lexer": "ipython3",
   "version": "3.12.4"
  }
 },
 "nbformat": 4,
 "nbformat_minor": 5
}

{
 "cells": [
  {
   "cell_type": "code",
   "execution_count": 1,
   "id": "741b75f9-7d49-40c2-9d76-ca6da858f1fb",
   "metadata": {},
   "outputs": [],
   "source": [
    "# https://blog.gopenai.com/advanced-rag-for-database-without-exposing-db-data-text-to-sql-a0e71f00e010\n",
    "# https://github.com/paras55/advanced-chat-with-db\n",
    "# Licença MIT\n",
    "\n",
    "from langchain_openai import ChatOpenAI\n",
    "from dotenv import load_dotenv\n",
    "from langchain import OpenAI, LLMChain\n",
    "from langchain.prompts import PromptTemplate\n",
    "from langchain.utilities import SQLDatabase\n",
    "from sqlalchemy import create_engine, MetaData, Table, Column, inspect\n",
    "from langchain_experimental.sql import SQLDatabaseChain\n",
    "import os\n",
    "\n",
    "load_dotenv(dotenv_path='.env', override=True)\n",
    "openai_api_key = os.getenv(\"OPENAI_API_KEY\")\n",
    "\n",
    "llm = ChatOpenAI(temperature=0, openai_api_key=openai_api_key, model='gpt-4o-mini')"
   ]
  },
  {
   "cell_type": "code",
   "execution_count": 2,
   "id": "38f46be5-2907-4c3e-bbb9-8702b0689b15",
   "metadata": {},
   "outputs": [],
   "source": [
    "def extract_schema(db_url):\n",
    "    engine = create_engine(db_url)\n",
    "    inspector = inspect(engine)\n",
    "    schema_info = []\n",
    "    for table_name in inspector.get_table_names():\n",
    "        columns = inspector.get_columns(table_name)\n",
    "        schema_info.append(f\"Table: {table_name}\")\n",
    "        for column in columns:\n",
    "            schema_info.append(f\"  - {column['name']} ({column['type']})\")\n",
    "    return \"\\n\".join(schema_info)"
   ]
  },
  {
   "cell_type": "code",
   "execution_count": 3,
   "id": "b40b0177-34a2-459e-a8d3-e8ffcfad4057",
   "metadata": {},
   "outputs": [],
   "source": [
    "prompt_template = \"\"\"\n",
    "Você é um assistente de IA que gera consultas SQL com base em solicitações de usuários.\n",
    "Você tem acesso ao seguinte esquema de banco de dados:\n",
    "{schema}\n",
    "Com base neste esquema, gere uma consulta SQL para responder à seguinte pergunta:\n",
    "{question}\n",
    "SQL Query:\n",
    "\"\"\"\n",
    "prompt = PromptTemplate(\n",
    "    input_variables=[\"schema\", \"question\"],\n",
    "    template=prompt_template,\n",
    ")"
   ]
  },
  {
   "cell_type": "code",
   "execution_count": 4,
   "id": "77eb22af-4c20-4533-a134-3a270551990d",
   "metadata": {},
   "outputs": [],
   "source": [
    "chain = prompt | llm\n",
    "\n",
    "def generate_sql_query(question):\n",
    "    return chain.invoke({\"schema\":schema, \"question\":question})"
   ]
  },
  {
   "cell_type": "code",
   "execution_count": 5,
   "id": "07f73a00-54f2-43e7-8d85-52abfeb49e23",
   "metadata": {},
   "outputs": [
    {
     "name": "stdout",
     "output_type": "stream",
     "text": [
      "Table: Comments\n",
      "  - CommentID (INTEGER)\n",
      "  - PostID (INTEGER)\n",
      "  - UserID (INTEGER)\n",
      "  - Content (TEXT)\n",
      "  - CreatedAt (DATETIME)\n",
      "Table: EventRegistrations\n",
      "  - RegistrationID (INTEGER)\n",
      "  - EventID (INTEGER)\n",
      "  - UserID (INTEGER)\n",
      "  - RegisteredAt (DATETIME)\n",
      "Table: Events\n",
      "  - EventID (INTEGER)\n",
      "  - GroupID (INTEGER)\n",
      "  - EventName (TEXT)\n",
      "  - EventDate (DATETIME)\n",
      "Table: GroupMemberships\n",
      "  - MembershipID (INTEGER)\n",
      "  - GroupID (INTEGER)\n",
      "  - UserID (INTEGER)\n",
      "  - JoinedAt (DATETIME)\n",
      "Table: Groups\n",
      "  - GroupID (INTEGER)\n",
      "  - GroupName (TEXT)\n",
      "  - Description (TEXT)\n",
      "Table: Likes\n",
      "  - LikeID (INTEGER)\n",
      "  - PostID (INTEGER)\n",
      "  - UserID (INTEGER)\n",
      "Table: Messages\n",
      "  - MessageID (INTEGER)\n",
      "  - SenderID (INTEGER)\n",
      "  - ReceiverID (INTEGER)\n",
      "  - Content (TEXT)\n",
      "  - SentAt (DATETIME)\n",
      "Table: Posts\n",
      "  - PostID (INTEGER)\n",
      "  - UserID (INTEGER)\n",
      "  - Content (TEXT)\n",
      "  - CreatedAt (DATETIME)\n",
      "Table: Profiles\n",
      "  - ProfileID (INTEGER)\n",
      "  - UserID (INTEGER)\n",
      "  - FullName (TEXT)\n",
      "  - Bio (TEXT)\n",
      "Table: Users\n",
      "  - UserID (INTEGER)\n",
      "  - Username (TEXT)\n",
      "  - Email (TEXT)\n"
     ]
    }
   ],
   "source": [
    "db_url = f\"sqlite:///{'new.db'}\"\n",
    "schema = extract_schema(db_url)\n",
    "print(schema)"
   ]
  },
  {
   "cell_type": "code",
   "execution_count": 6,
   "id": "65925131-bf7b-4e83-be68-5a158ac9c1d0",
   "metadata": {},
   "outputs": [
    {
     "name": "stdout",
     "output_type": "stream",
     "text": [
      "Generated SQL Query: Para encontrar o `RegistrationID` do hackathon, precisamos primeiro identificar o `EventID` correspondente ao hackathon na tabela `Events`. Em seguida, podemos buscar o `RegistrationID` na tabela `EventRegistrations` que corresponde a esse `EventID`. \n",
      "\n",
      "Aqui está a consulta SQL que faz isso:\n",
      "\n",
      "```sql\n",
      "SELECT er.RegistrationID\n",
      "FROM EventRegistrations er\n",
      "JOIN Events e ON er.EventID = e.EventID\n",
      "WHERE e.EventName = 'hackathon';\n",
      "```\n",
      "\n",
      "Essa consulta faz um `JOIN` entre as tabelas `EventRegistrations` e `Events` para obter o `RegistrationID` do evento chamado \"hackathon\".\n"
     ]
    }
   ],
   "source": [
    "user_question = \"Find me the registration id of the hackathon\"\n",
    "sql_query = generate_sql_query(user_question)\n",
    "print(f\"Generated SQL Query: {sql_query.content}\")"
   ]
  },
  {
   "cell_type": "code",
   "execution_count": 9,
   "id": "5f838734-51a5-48af-a011-1f87900ec98e",
   "metadata": {},
   "outputs": [],
   "source": [
    "import re\n",
    "def extract_sql_query(text: str) -> str:\n",
    "    \"\"\"\n",
    "    Extrai a consulta SQL delimitada por ```sql ... ``` de uma string.\n",
    "    \"\"\"\n",
    "    pattern = r\"```sql\\s*(.*?)\\s*```\"\n",
    "    match = re.search(pattern, text, re.DOTALL | re.IGNORECASE)\n",
    "    if match:\n",
    "        return match.group(1).strip()\n",
    "    else:\n",
    "        return \"\"\n"
   ]
  },
  {
   "cell_type": "code",
   "execution_count": 10,
   "id": "6ce2e121-58fd-4364-a09d-baa62ba11a09",
   "metadata": {},
   "outputs": [
    {
     "name": "stdout",
     "output_type": "stream",
     "text": [
      "SELECT er.RegistrationID\n",
      "FROM EventRegistrations er\n",
      "JOIN Events e ON er.EventID = e.EventID\n",
      "WHERE e.EventName = 'hackathon';\n"
     ]
    }
   ],
   "source": [
    "print(extract_sql_query(sql_query.content))"
   ]
  },
  {
   "cell_type": "code",
   "execution_count": null,
   "id": "f3b3632e-9329-4b2e-a3f4-94978281b9c6",
   "metadata": {},
   "outputs": [],
   "source": []
  }
 ],
 "metadata": {
  "kernelspec": {
   "display_name": "Python 3 (ipykernel)",
   "language": "python",
   "name": "python3"
  },
  "language_info": {
   "codemirror_mode": {
    "name": "ipython",
    "version": 3
   },
   "file_extension": ".py",
   "mimetype": "text/x-python",
   "name": "python",
   "nbconvert_exporter": "python",
   "pygments_lexer": "ipython3",
   "version": "3.13.4"
  }
 },
 "nbformat": 4,
 "nbformat_minor": 5
}

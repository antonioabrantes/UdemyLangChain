{
 "cells": [
  {
   "cell_type": "code",
   "execution_count": 1,
   "id": "426d744a-b9e8-4b5b-a388-c3be8412de41",
   "metadata": {},
   "outputs": [],
   "source": [
    "import os, requests\n",
    "from dotenv import load_dotenv\n",
    "\n",
    "load_dotenv(dotenv_path='.env')\n",
    "openai_api_key = os.getenv(\"OPENAI_API_KEY\")\n",
    "\n",
    "# Defina a chave de API e o endpoint\n",
    "api_key = openai_api_key  # Substitua pela sua chave de API\n",
    "url = \"https://api.openai.com/v1/chat/completions\"\n",
    "\n",
    "# Defina o prompt e os parâmetros da solicitação\n",
    "query = \"quem descobriu o Brasil?\"\n",
    "\n",
    "headers = {\n",
    "    \"Authorization\": f\"Bearer {api_key}\",\n",
    "    \"Content-Type\": \"application/json\"\n",
    "}\n",
    "\n",
    "data = {\n",
    "    \"model\": \"gpt-4o-mini\",  # Use o modelo desejado, como 'gpt-4'\n",
    "    \"messages\": [\n",
    "        {\"role\": \"user\", \"content\": query}\n",
    "    ]\n",
    "}\n"
   ]
  },
  {
   "cell_type": "code",
   "execution_count": 5,
   "id": "bc18659e-796e-47a2-a5bc-6e8ed8a422c1",
   "metadata": {},
   "outputs": [
    {
     "name": "stdout",
     "output_type": "stream",
     "text": [
      "O Brasil foi oficialmente \"descoberto\" pelos europeus em 22 de abril de 1500, quando uma expedição portuguesa comandada por Pedro Álvares Cabral chegou ao litoral brasileiro. No entanto, é importante lembrar que a terra já era habitada por diversos grupos indígenas muito antes da chegada dos europeus.\n"
     ]
    }
   ],
   "source": [
    "# Faça a solicitação POST para a API\n",
    "response = requests.post(url, headers=headers, json=data, verify=True)\n",
    "\n",
    "# Verifique se a solicitação foi bem-sucedida\n",
    "if response.status_code == 200:\n",
    "    # Exiba o conteúdo da resposta\n",
    "    resposta = response.json()\n",
    "    print(resposta['choices'][0]['message']['content'])\n",
    "else:\n",
    "    # Exiba o erro\n",
    "    print(f\"Erro {response.status_code}: {response.text}\")\n"
   ]
  },
  {
   "cell_type": "code",
   "execution_count": 3,
   "id": "693b9651-2fad-4600-b18f-6f2941cc7411",
   "metadata": {},
   "outputs": [
    {
     "name": "stdout",
     "output_type": "stream",
     "text": [
      "<Response [200]>\n"
     ]
    }
   ],
   "source": [
    "print(response)"
   ]
  },
  {
   "cell_type": "code",
   "execution_count": 4,
   "id": "b1aac620-9951-46ac-9560-b401afe36ed8",
   "metadata": {},
   "outputs": [
    {
     "name": "stdout",
     "output_type": "stream",
     "text": [
      "{'id': 'chatcmpl-ANpot7QcwtSOxuQPyLe4s6SsVWfez', 'object': 'chat.completion', 'created': 1730244103, 'model': 'gpt-4o-mini-2024-07-18', 'choices': [{'index': 0, 'message': {'role': 'assistant', 'content': 'O Brasil foi oficialmente \"descoberto\" por Pedro Álvares Cabral, um navegador português, em 22 de abril de 1500. No entanto, é importante mencionar que povos indígenas habitavam a região muito antes da chegada dos europeus. A história da descoberta do Brasil é complexa e envolve vários povos e culturas que já estavam presentes na terra.', 'refusal': None}, 'logprobs': None, 'finish_reason': 'stop'}], 'usage': {'prompt_tokens': 13, 'completion_tokens': 74, 'total_tokens': 87, 'prompt_tokens_details': {'cached_tokens': 0}, 'completion_tokens_details': {'reasoning_tokens': 0}}, 'system_fingerprint': 'fp_f59a81427f'}\n"
     ]
    }
   ],
   "source": [
    "print(resposta)"
   ]
  },
  {
   "cell_type": "code",
   "execution_count": null,
   "id": "96a3badb-24a9-49d5-b9a0-11be5343925c",
   "metadata": {},
   "outputs": [],
   "source": []
  }
 ],
 "metadata": {
  "kernelspec": {
   "display_name": "Python 3 (ipykernel)",
   "language": "python",
   "name": "python3"
  },
  "language_info": {
   "codemirror_mode": {
    "name": "ipython",
    "version": 3
   },
   "file_extension": ".py",
   "mimetype": "text/x-python",
   "name": "python",
   "nbconvert_exporter": "python",
   "pygments_lexer": "ipython3",
   "version": "3.12.4"
  }
 },
 "nbformat": 4,
 "nbformat_minor": 5
}

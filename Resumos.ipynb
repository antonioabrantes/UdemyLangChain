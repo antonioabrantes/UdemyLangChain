{
 "cells": [
  {
   "cell_type": "code",
   "execution_count": 1,
   "id": "2db597c3-ab05-4d64-bb81-cf4fb5fce0c4",
   "metadata": {
    "scrolled": true
   },
   "outputs": [],
   "source": [
    "import re\n",
    "import datetime\n",
    "import pandas as pd\n",
    "import requests \n",
    "import os"
   ]
  },
  {
   "cell_type": "code",
   "execution_count": 3,
   "id": "c29e9f4a",
   "metadata": {},
   "outputs": [],
   "source": [
    "#pip install mysql-connector-python\n",
    "# pip install python-dotenv\n",
    "import mysql.connector\n",
    "conexao = mysql.connector.connect(host='localhost',user='root',password='',database='producao')\n",
    "cursor = conexao.cursor()"
   ]
  },
  {
   "cell_type": "code",
   "execution_count": 4,
   "id": "df68c0f0",
   "metadata": {},
   "outputs": [],
   "source": [
    "from dotenv import load_dotenv\n",
    "import os\n",
    "from openai import OpenAI\n",
    "from langchain_openai import ChatOpenAI\n",
    "\n",
    "# pip install openai\n",
    "# pip install langchain-openai\n",
    "# saldo disponível\n",
    "# https://platform.openai.com/settings/organization/billing/overview\n",
    "# chaves API-KEY\n",
    "# https://platform.openai.com/api-keys"
   ]
  },
  {
   "cell_type": "code",
   "execution_count": 5,
   "id": "adc5ad70",
   "metadata": {},
   "outputs": [
    {
     "data": {
      "text/plain": [
       "True"
      ]
     },
     "execution_count": 5,
     "metadata": {},
     "output_type": "execute_result"
    }
   ],
   "source": [
    "load_dotenv(dotenv_path='.env', override=True)"
   ]
  },
  {
   "cell_type": "code",
   "execution_count": 6,
   "id": "36fad89e",
   "metadata": {},
   "outputs": [],
   "source": [
    "openai_api_key = os.getenv(\"OPENAI_API_KEY\")"
   ]
  },
  {
   "cell_type": "code",
   "execution_count": 7,
   "id": "71b6698b",
   "metadata": {},
   "outputs": [
    {
     "name": "stdout",
     "output_type": "stream",
     "text": [
      "A capital do Brasil é Brasília.\n"
     ]
    }
   ],
   "source": [
    "question = \"Qual a capital do Brasil?\"\n",
    "llm = ChatOpenAI(model=\"gpt-4o-mini\", openai_api_key = openai_api_key, temperature=0.7,max_tokens=256)\n",
    "messages=[{\"role\":\"user\", \"content\": question}]\n",
    "response = llm.invoke(messages)\n",
    "print(response.content)"
   ]
  },
  {
   "cell_type": "code",
   "execution_count": 8,
   "id": "66d5bc84",
   "metadata": {},
   "outputs": [
    {
     "name": "stdout",
     "output_type": "stream",
     "text": [
      "|       0 | 1             | 2         | 3          | 4     |   5 |   6 |\n",
      "|--------:|:--------------|:----------|:-----------|:------|----:|----:|\n",
      "| 1011532 | 1.1           | PI0808715 | 2011-08-09 | dialp |   0 |   0 |\n",
      "| 1475660 | 1.3           | PI0808715 | 2014-08-12 | dialp |   0 |   0 |\n",
      "| 1501853 | 6.6           | PI0808715 | 2014-09-16 | dialp |   0 |   0 |\n",
      "| 2788968 | 7.1           | PI0808715 | 2017-04-18 | dialp |   0 |   1 |\n",
      "| 2790019 | 15.11         | PI0808715 | 2017-04-18 | dialp |   0 |   0 |\n",
      "| 2956330 | 9.2           | PI0808715 | 2017-09-19 | dialp |   0 |   2 |\n",
      "| 3015281 | 12.2          | PI0808715 | 2017-12-19 | dialp |   0 |   0 |\n",
      "| 4414189 | PR - Recursos | PI0808715 | 2022-01-04 | dialp |   0 |   0 |\n",
      "| 4551344 | PR - Recursos | PI0808715 | 2022-08-16 |       |   0 |   0 |\n"
     ]
    }
   ],
   "source": [
    "# pip install tabulate\n",
    "numero = \"PI0808715\"\n",
    "# atualiza no localhost as tres tabelas: carga, anterioridades e anterioridades_desc\n",
    "comando = f\"SELECT * FROM arquivados WHERE numero='{numero}'\"\n",
    "cursor.execute(comando)\n",
    "resultado = cursor.fetchall()\n",
    "df = pd.DataFrame(resultado)\n",
    "print(df.to_markdown(index=False)) "
   ]
  },
  {
   "cell_type": "code",
   "execution_count": 9,
   "id": "62c8fe85-ff08-4a92-9897-a0d0236a6c72",
   "metadata": {},
   "outputs": [
    {
     "data": {
      "text/html": [
       "<div>\n",
       "<style scoped>\n",
       "    .dataframe tbody tr th:only-of-type {\n",
       "        vertical-align: middle;\n",
       "    }\n",
       "\n",
       "    .dataframe tbody tr th {\n",
       "        vertical-align: top;\n",
       "    }\n",
       "\n",
       "    .dataframe thead th {\n",
       "        text-align: right;\n",
       "    }\n",
       "</style>\n",
       "<table border=\"1\" class=\"dataframe\">\n",
       "  <thead>\n",
       "    <tr style=\"text-align: right;\">\n",
       "      <th></th>\n",
       "      <th>0</th>\n",
       "      <th>1</th>\n",
       "      <th>2</th>\n",
       "      <th>3</th>\n",
       "      <th>4</th>\n",
       "      <th>5</th>\n",
       "      <th>6</th>\n",
       "    </tr>\n",
       "  </thead>\n",
       "  <tbody>\n",
       "    <tr>\n",
       "      <th>0</th>\n",
       "      <td>1011532</td>\n",
       "      <td>1.1</td>\n",
       "      <td>PI0808715</td>\n",
       "      <td>2011-08-09</td>\n",
       "      <td>dialp</td>\n",
       "      <td>0</td>\n",
       "      <td>0</td>\n",
       "    </tr>\n",
       "    <tr>\n",
       "      <th>1</th>\n",
       "      <td>1475660</td>\n",
       "      <td>1.3</td>\n",
       "      <td>PI0808715</td>\n",
       "      <td>2014-08-12</td>\n",
       "      <td>dialp</td>\n",
       "      <td>0</td>\n",
       "      <td>0</td>\n",
       "    </tr>\n",
       "    <tr>\n",
       "      <th>2</th>\n",
       "      <td>1501853</td>\n",
       "      <td>6.6</td>\n",
       "      <td>PI0808715</td>\n",
       "      <td>2014-09-16</td>\n",
       "      <td>dialp</td>\n",
       "      <td>0</td>\n",
       "      <td>0</td>\n",
       "    </tr>\n",
       "    <tr>\n",
       "      <th>3</th>\n",
       "      <td>2788968</td>\n",
       "      <td>7.1</td>\n",
       "      <td>PI0808715</td>\n",
       "      <td>2017-04-18</td>\n",
       "      <td>dialp</td>\n",
       "      <td>0</td>\n",
       "      <td>1</td>\n",
       "    </tr>\n",
       "    <tr>\n",
       "      <th>4</th>\n",
       "      <td>2790019</td>\n",
       "      <td>15.11</td>\n",
       "      <td>PI0808715</td>\n",
       "      <td>2017-04-18</td>\n",
       "      <td>dialp</td>\n",
       "      <td>0</td>\n",
       "      <td>0</td>\n",
       "    </tr>\n",
       "    <tr>\n",
       "      <th>5</th>\n",
       "      <td>2956330</td>\n",
       "      <td>9.2</td>\n",
       "      <td>PI0808715</td>\n",
       "      <td>2017-09-19</td>\n",
       "      <td>dialp</td>\n",
       "      <td>0</td>\n",
       "      <td>2</td>\n",
       "    </tr>\n",
       "    <tr>\n",
       "      <th>6</th>\n",
       "      <td>3015281</td>\n",
       "      <td>12.2</td>\n",
       "      <td>PI0808715</td>\n",
       "      <td>2017-12-19</td>\n",
       "      <td>dialp</td>\n",
       "      <td>0</td>\n",
       "      <td>0</td>\n",
       "    </tr>\n",
       "    <tr>\n",
       "      <th>7</th>\n",
       "      <td>4414189</td>\n",
       "      <td>PR - Recursos</td>\n",
       "      <td>PI0808715</td>\n",
       "      <td>2022-01-04</td>\n",
       "      <td>dialp</td>\n",
       "      <td>0</td>\n",
       "      <td>0</td>\n",
       "    </tr>\n",
       "    <tr>\n",
       "      <th>8</th>\n",
       "      <td>4551344</td>\n",
       "      <td>PR - Recursos</td>\n",
       "      <td>PI0808715</td>\n",
       "      <td>2022-08-16</td>\n",
       "      <td></td>\n",
       "      <td>0</td>\n",
       "      <td>0</td>\n",
       "    </tr>\n",
       "  </tbody>\n",
       "</table>\n",
       "</div>"
      ],
      "text/plain": [
       "         0              1          2           3      4  5  6\n",
       "0  1011532            1.1  PI0808715  2011-08-09  dialp  0  0\n",
       "1  1475660            1.3  PI0808715  2014-08-12  dialp  0  0\n",
       "2  1501853            6.6  PI0808715  2014-09-16  dialp  0  0\n",
       "3  2788968            7.1  PI0808715  2017-04-18  dialp  0  1\n",
       "4  2790019          15.11  PI0808715  2017-04-18  dialp  0  0\n",
       "5  2956330            9.2  PI0808715  2017-09-19  dialp  0  2\n",
       "6  3015281           12.2  PI0808715  2017-12-19  dialp  0  0\n",
       "7  4414189  PR - Recursos  PI0808715  2022-01-04  dialp  0  0\n",
       "8  4551344  PR - Recursos  PI0808715  2022-08-16         0  0"
      ]
     },
     "execution_count": 9,
     "metadata": {},
     "output_type": "execute_result"
    }
   ],
   "source": [
    "df"
   ]
  },
  {
   "cell_type": "code",
   "execution_count": 10,
   "id": "3a41e0fe-1b85-4ae7-ae8d-660d63530917",
   "metadata": {},
   "outputs": [
    {
     "name": "stdout",
     "output_type": "stream",
     "text": [
      "Número: 1011532 | Despacho: 1.1\n",
      "Número: 1475660 | Despacho: 1.3\n",
      "Número: 1501853 | Despacho: 6.6\n",
      "Número: 2788968 | Despacho: 7.1\n",
      "Número: 2790019 | Despacho: 15.11\n",
      "Número: 2956330 | Despacho: 9.2\n",
      "Número: 3015281 | Despacho: 12.2\n",
      "Número: 4414189 | Despacho: PR - Recursos\n",
      "Número: 4551344 | Despacho: PR - Recursos\n"
     ]
    }
   ],
   "source": [
    "for item in resultado:\n",
    "    numero = item[0]\n",
    "    despacho = item[1]\n",
    "    print(f\"Número: {numero} | Despacho: {despacho}\")"
   ]
  },
  {
   "cell_type": "code",
   "execution_count": 14,
   "id": "772845e6-4c5d-404d-aa5e-db08c1e085d1",
   "metadata": {},
   "outputs": [
    {
     "name": "stdout",
     "output_type": "stream",
     "text": [
      "update titulo set resumo_cepit='A presente invenção refere-se a um artigo que está revestido com um revestimento que tem uma cor escura. Em uma modalidade preferida, o revestimento compreende uma camada de revestimento de base de níquel ou polímero, e uma primeira camada de cor compreendida de oxicarburetos metálicos refratários ricos em oxigênio, uma segunda camada de cor que compreende de oxicarburetos metálicos refratários ricos em oxigênio e uma camada de topo de óxidos metálicos refratários.' where numero='102014005512';\n",
      "update titulo set resumo_cepit='Disclosed are non-woven gauze product and system for manufacturing the same. A non-woven cloth having rectangular holes in an array layout is formed by water jetting the fiber-web at the second spunlace machine. A non-woven cloth can be a substitute for the current gauze. Com a presente invenção, um tecido não tecido semelhante a gaze é alcançado utilizando o processo de fabricação de tecido não tecido de spunlace aqui divulgado, e o método de fabricação correspondente tem vantagens de curto período de produção e baixo custo, o que reduz o custo de tal produto de gaze não tecido.' where numero='102015001325';\n",
      "update titulo set resumo_cepit='A invenção descreve composições imunoterapêuticas à base de levedura compreendendo antígenos de Brachyury, e métodos para a prevenção e/ou tratamento de cânceres caracterizados pela expressão ou superexpressão de Brachyury.' where numero='112013023456';\n",
      "update titulo set resumo_cepit='A invenção refere-se a um sistema para transmitir potência de um eixo de acionamento para um eixo de medidor de sementes de um semeador. O sistema compreende uma primeira transmissão que conecta a um do eixo de acionamento e do eixo de medidor de sementes. A primeira transmissão que conecta a um conjunto de embreagem. O conjunto de embreagem conecta a um conjunto de eixo de acionamento flexível, e o conjunto de eixo de acionamento flexível conecta a uma segunda transmissão. A segunda transmissão conecta no outro do eixo de acionamento e do eixo de medidor de sementes. O conjunto de embreagem é destacável da primeira transmissão e do conjunto de eixo de acionamento flexível e o conjunto de eixo de acionamento flexível é diretamente conectável na primeira transmissão.' where numero='112013026413';\n",
      "update titulo set resumo_cepit='Um tarugo fundido contendo C: inferior a 0,02 % em massa e consistindo de um metal à base de Fe de um componente transformador a-? é submetido a laminação a quente a uma temperatura de um ponto A3 ou acima e é submetido a laminação de região a uma temperatura de 300 oC ou acima e abaixo do ponto A3, e dessa forma é fabricada uma chapa com base em metal contendo uma {100} textura em uma porção da camada de superfície. Então, pela execução de um tratamento sob condições predeterminadas, é obtida uma chapa metálica à base de Fe na qual o valor Z é não inferior a 2,0 nem superior a 200 quando proporções de intensidade de direções respectivas {001}<470>, {116}<6 12 1>, e {223}<692> em um plano de chapa por difração de raios-X são ajustadas para A, B, e C respectivamente e Z = (A + 0,97B)/0,98C é satisfeita.' where numero='112013027490';\n",
      "update titulo set resumo_cepit='São divulgados métodos de nanotransportadores sintéticos, e composições relacionadas, compreendendo células B e/ou epítopos restritos a MHC de Classe II e imunossupressores de modo a gerar respostas imunes tolerogênicas, tais como a geração de células B reguladoras específicas de antigênio.' where numero='112013027517';\n",
      "update titulo set resumo_cepit='Nanotransportadores sintéticos tolerogênicos A presente invenção se destina, pelo menos em parte, a composições compreendendo nanotransportadores sintéticos e imunossupressores que resultam em efeitos imunitários supressores. Tais composições também podem compreender o antigênio e fornecer respostas imunitárias tolerogênicas específicas do antigênio.' where numero='112013027541';\n",
      "update titulo set resumo_cepit='MÉTODO E SISTEMA PARA TRANSMISSÀO E RECEPÇÃO DE SINAIS E MÉTODOS DE SINALIZAÇÃO RELATIVO. A presente invenção refere-se a uma estação de base (por exemplo, um Nodo B desenvolvido) (300) que determina se o canal de transmissão físico (PBCH), os sinais de referência (SCH) e os sinais de referência comuns (CRS) são transmitidos (ou aguardando transmissão) sobre uma portadora de componente secundária (Scell) dentro da célula (506). As informações de determinação são transmitidas para um equipamento de usuário (UE) (110) para informar ao UE que as transmissões de Scell não incluem PBCH/SCH/CRS (508). Como um resultado, os elementos de recursos (REs) normalmente utilizados para carregar as informações de sistema no PBCH/SCH/CRS podem ser dinamicamente designados (ou redesignados) para o canal de dados. Deste modo, a largura de banda de canal compartilhado de downlink físico (PDSCH) pode ser aumentada utilizando aqueles elementos de recursos que são normalmente reservados/designados para o PBCH/SCH/CRS.' where numero='112013027660';\n",
      "update titulo set resumo_cepit='Cartucho de grampo que compreende grampos posicionados em uma porção compressível do mesmo. A presente invenção refere-se a um cartucho de prendedores que pode compreender uma porção de suporte, um compensador de espessura de tecido posicionado em relação à porção de suporte, e uma pluralidade de prendedores posicionados na porção de suporte e/ou o compensador de espessura de tecido que pode ser utilizado para prender tecido. Em uso, o cartucho de prendedores pode ser posicionado em uma primeira garra de um dispositivo de fixação cirúrgica, sendo que uma segunda garra, ou bigorna, pode ser posicionada de maneira oposta à primeira garra. Para dispensar os prendedores, um elemento que dispensa grampos é avançado através do cartucho de prendedores para mover os prendedores em direção à bigorna. À medida que os prendedores são dispensados, os prendedores podem capturar pelo menos uma porção do compensador de espessura de tecido ali juntamente com pelo menos uma porção do tecido sendo preso.' where numero='112013027794';\n",
      "update titulo set resumo_cepit='A presente invenção refere-se a um cartucho de prendedores que pode compreender uma porção de suporte, um compensador de espessura de tecido posicionado em relação à porção de suporte, e uma pluralidade de prendedores posicionados na porção de suporte e/ou o compensador de espessura de tecido que pode ser utilizado para prender tecido. Em uso, o cartucho de prendedores pode ser posicionado em uma primeira garra de um dispositivo de fixação cirúrgica, sendo que uma segunda garra, ou bigorna, pode ser posicionada de maneira oposta à primeira garra. Para dispensar os prendedores, um elemento que dispensa grampos é avançado através do cartucho de prendedores para mover os prendedores em direção à bigorna. À medida que os prendedores são dispensados, os prendedores podem capturar pelo menos uma porção do compensador de espessura de tecido ali juntamente com pelo menos uma porção do tecido sendo preso.' where numero='112013027874';\n"
     ]
    }
   ],
   "source": [
    "comando = f\"SELECT * FROM titulo WHERE titulo_cepit<>'' and resumo_cepit like '%Abstract%'\"\n",
    "cursor.execute(comando)\n",
    "resultado = cursor.fetchall()\n",
    "df = pd.DataFrame(resultado)\n",
    "total = 0\n",
    "\n",
    "for item in resultado:\n",
    "    total = total + 1\n",
    "    if (total>10):\n",
    "        break\n",
    "    numero = item[1]\n",
    "    titulo_cepit = item[5]\n",
    "    resumo_cepit = item[6]\n",
    "    #print(f\"Título: {titulo_cepit}\")\n",
    "    #print(f\"Resumo: {resumo_cepit}\\n\")\n",
    "\n",
    "    question = f\"\"\"Elimine os trechos em inglês. Converta para minúsculas mantendo a primeira letra de cada frase em maiúsculo.\n",
    "        Elimine os termos 'Resumo' e 'Patente de invenção' no início. Siglas devem ser mantidas na forma original, por exemplo \n",
    "        PBCH. Mostre como resposta apenas o texto em português. Se todo o texto estiver em inglês não mostre nada: O texto a analisar é o seguinte: {resumo_cepit}\"\"\"\n",
    "    messages=[{\"role\":\"user\", \"content\": question}]\n",
    "    response = llm.invoke(messages)\n",
    "    #print(\"\\033[34m\" + response.content + \"\\033[0m\")\n",
    "    resumo = response.content\n",
    "    resumo = resumo.replace('\"', '')\n",
    "    resumo = resumo.replace(\"'\", '')\n",
    "    cmd = f\"update titulo set resumo_cepit='{resumo}' where numero='{numero}'\"\n",
    "    print(cmd + ';')\n",
    "    #print('#################')"
   ]
  },
  {
   "cell_type": "code",
   "execution_count": null,
   "id": "1420d063-b3e2-4ddc-92ff-5ac896af4a11",
   "metadata": {},
   "outputs": [],
   "source": []
  }
 ],
 "metadata": {
  "kernelspec": {
   "display_name": "Python 3 (ipykernel)",
   "language": "python",
   "name": "python3"
  },
  "language_info": {
   "codemirror_mode": {
    "name": "ipython",
    "version": 3
   },
   "file_extension": ".py",
   "mimetype": "text/x-python",
   "name": "python",
   "nbconvert_exporter": "python",
   "pygments_lexer": "ipython3",
   "version": "3.10.9"
  }
 },
 "nbformat": 4,
 "nbformat_minor": 5
}

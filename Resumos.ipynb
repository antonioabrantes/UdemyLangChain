{
 "cells": [
  {
   "cell_type": "code",
   "execution_count": 1,
   "id": "2db597c3-ab05-4d64-bb81-cf4fb5fce0c4",
   "metadata": {
    "scrolled": true
   },
   "outputs": [],
   "source": [
    "import re\n",
    "import datetime\n",
    "import pandas as pd\n",
    "import requests \n",
    "import os"
   ]
  },
  {
   "cell_type": "code",
   "execution_count": 2,
   "id": "c29e9f4a",
   "metadata": {},
   "outputs": [],
   "source": [
    "#pip install mysql-connector-python\n",
    "# pip install python-dotenv\n",
    "import mysql.connector\n",
    "conexao = mysql.connector.connect(host='localhost',user='root',password='',database='producao')\n",
    "cursor = conexao.cursor()"
   ]
  },
  {
   "cell_type": "code",
   "execution_count": 3,
   "id": "df68c0f0",
   "metadata": {},
   "outputs": [],
   "source": [
    "from dotenv import load_dotenv\n",
    "import os\n",
    "from openai import OpenAI\n",
    "from langchain_openai import ChatOpenAI\n",
    "\n",
    "# pip install openai\n",
    "# pip install langchain-openai\n",
    "# saldo disponível\n",
    "# https://platform.openai.com/settings/organization/billing/overview\n",
    "# chaves API-KEY\n",
    "# https://platform.openai.com/api-keys"
   ]
  },
  {
   "cell_type": "code",
   "execution_count": 4,
   "id": "adc5ad70",
   "metadata": {},
   "outputs": [
    {
     "data": {
      "text/plain": [
       "True"
      ]
     },
     "execution_count": 4,
     "metadata": {},
     "output_type": "execute_result"
    }
   ],
   "source": [
    "load_dotenv(dotenv_path='.env', override=True)"
   ]
  },
  {
   "cell_type": "code",
   "execution_count": 5,
   "id": "36fad89e",
   "metadata": {},
   "outputs": [],
   "source": [
    "openai_api_key = os.getenv(\"OPENAI_API_KEY\")"
   ]
  },
  {
   "cell_type": "code",
   "execution_count": 6,
   "id": "71b6698b",
   "metadata": {},
   "outputs": [
    {
     "name": "stdout",
     "output_type": "stream",
     "text": [
      "A capital do Brasil é Brasília. Foi inaugurada em 21 de abril de 1960 e foi planejada para ser a nova capital do país, com o objetivo de promover o desenvolvimento do interior do Brasil.\n"
     ]
    }
   ],
   "source": [
    "question = \"Qual a capital do Brasil?\"\n",
    "llm = ChatOpenAI(model=\"gpt-4o-mini\", openai_api_key = openai_api_key, temperature=0.7,max_tokens=256)\n",
    "messages=[{\"role\":\"user\", \"content\": question}]\n",
    "response = llm.invoke(messages)\n",
    "print(response.content)"
   ]
  },
  {
   "cell_type": "code",
   "execution_count": 7,
   "id": "66d5bc84",
   "metadata": {},
   "outputs": [
    {
     "name": "stdout",
     "output_type": "stream",
     "text": [
      "|       0 | 1             | 2         | 3          | 4     |   5 |   6 |\n",
      "|--------:|:--------------|:----------|:-----------|:------|----:|----:|\n",
      "| 1011532 | 1.1           | PI0808715 | 2011-08-09 | dialp |   0 |   0 |\n",
      "| 1475660 | 1.3           | PI0808715 | 2014-08-12 | dialp |   0 |   0 |\n",
      "| 1501853 | 6.6           | PI0808715 | 2014-09-16 | dialp |   0 |   0 |\n",
      "| 2788968 | 7.1           | PI0808715 | 2017-04-18 | dialp |   0 |   1 |\n",
      "| 2790019 | 15.11         | PI0808715 | 2017-04-18 | dialp |   0 |   0 |\n",
      "| 2956330 | 9.2           | PI0808715 | 2017-09-19 | dialp |   0 |   2 |\n",
      "| 3015281 | 12.2          | PI0808715 | 2017-12-19 | dialp |   0 |   0 |\n",
      "| 4414189 | PR - Recursos | PI0808715 | 2022-01-04 | dialp |   0 |   0 |\n",
      "| 4551344 | PR - Recursos | PI0808715 | 2022-08-16 |       |   0 |   0 |\n"
     ]
    }
   ],
   "source": [
    "# pip install tabulate\n",
    "numero = \"PI0808715\"\n",
    "# atualiza no localhost as tres tabelas: carga, anterioridades e anterioridades_desc\n",
    "comando = f\"SELECT * FROM arquivados WHERE numero='{numero}'\"\n",
    "cursor.execute(comando)\n",
    "resultado = cursor.fetchall()\n",
    "df = pd.DataFrame(resultado)\n",
    "print(df.to_markdown(index=False)) "
   ]
  },
  {
   "cell_type": "code",
   "execution_count": 8,
   "id": "62c8fe85-ff08-4a92-9897-a0d0236a6c72",
   "metadata": {},
   "outputs": [
    {
     "data": {
      "text/html": [
       "<div>\n",
       "<style scoped>\n",
       "    .dataframe tbody tr th:only-of-type {\n",
       "        vertical-align: middle;\n",
       "    }\n",
       "\n",
       "    .dataframe tbody tr th {\n",
       "        vertical-align: top;\n",
       "    }\n",
       "\n",
       "    .dataframe thead th {\n",
       "        text-align: right;\n",
       "    }\n",
       "</style>\n",
       "<table border=\"1\" class=\"dataframe\">\n",
       "  <thead>\n",
       "    <tr style=\"text-align: right;\">\n",
       "      <th></th>\n",
       "      <th>0</th>\n",
       "      <th>1</th>\n",
       "      <th>2</th>\n",
       "      <th>3</th>\n",
       "      <th>4</th>\n",
       "      <th>5</th>\n",
       "      <th>6</th>\n",
       "    </tr>\n",
       "  </thead>\n",
       "  <tbody>\n",
       "    <tr>\n",
       "      <th>0</th>\n",
       "      <td>1011532</td>\n",
       "      <td>1.1</td>\n",
       "      <td>PI0808715</td>\n",
       "      <td>2011-08-09</td>\n",
       "      <td>dialp</td>\n",
       "      <td>0</td>\n",
       "      <td>0</td>\n",
       "    </tr>\n",
       "    <tr>\n",
       "      <th>1</th>\n",
       "      <td>1475660</td>\n",
       "      <td>1.3</td>\n",
       "      <td>PI0808715</td>\n",
       "      <td>2014-08-12</td>\n",
       "      <td>dialp</td>\n",
       "      <td>0</td>\n",
       "      <td>0</td>\n",
       "    </tr>\n",
       "    <tr>\n",
       "      <th>2</th>\n",
       "      <td>1501853</td>\n",
       "      <td>6.6</td>\n",
       "      <td>PI0808715</td>\n",
       "      <td>2014-09-16</td>\n",
       "      <td>dialp</td>\n",
       "      <td>0</td>\n",
       "      <td>0</td>\n",
       "    </tr>\n",
       "    <tr>\n",
       "      <th>3</th>\n",
       "      <td>2788968</td>\n",
       "      <td>7.1</td>\n",
       "      <td>PI0808715</td>\n",
       "      <td>2017-04-18</td>\n",
       "      <td>dialp</td>\n",
       "      <td>0</td>\n",
       "      <td>1</td>\n",
       "    </tr>\n",
       "    <tr>\n",
       "      <th>4</th>\n",
       "      <td>2790019</td>\n",
       "      <td>15.11</td>\n",
       "      <td>PI0808715</td>\n",
       "      <td>2017-04-18</td>\n",
       "      <td>dialp</td>\n",
       "      <td>0</td>\n",
       "      <td>0</td>\n",
       "    </tr>\n",
       "    <tr>\n",
       "      <th>5</th>\n",
       "      <td>2956330</td>\n",
       "      <td>9.2</td>\n",
       "      <td>PI0808715</td>\n",
       "      <td>2017-09-19</td>\n",
       "      <td>dialp</td>\n",
       "      <td>0</td>\n",
       "      <td>2</td>\n",
       "    </tr>\n",
       "    <tr>\n",
       "      <th>6</th>\n",
       "      <td>3015281</td>\n",
       "      <td>12.2</td>\n",
       "      <td>PI0808715</td>\n",
       "      <td>2017-12-19</td>\n",
       "      <td>dialp</td>\n",
       "      <td>0</td>\n",
       "      <td>0</td>\n",
       "    </tr>\n",
       "    <tr>\n",
       "      <th>7</th>\n",
       "      <td>4414189</td>\n",
       "      <td>PR - Recursos</td>\n",
       "      <td>PI0808715</td>\n",
       "      <td>2022-01-04</td>\n",
       "      <td>dialp</td>\n",
       "      <td>0</td>\n",
       "      <td>0</td>\n",
       "    </tr>\n",
       "    <tr>\n",
       "      <th>8</th>\n",
       "      <td>4551344</td>\n",
       "      <td>PR - Recursos</td>\n",
       "      <td>PI0808715</td>\n",
       "      <td>2022-08-16</td>\n",
       "      <td></td>\n",
       "      <td>0</td>\n",
       "      <td>0</td>\n",
       "    </tr>\n",
       "  </tbody>\n",
       "</table>\n",
       "</div>"
      ],
      "text/plain": [
       "         0              1          2           3      4  5  6\n",
       "0  1011532            1.1  PI0808715  2011-08-09  dialp  0  0\n",
       "1  1475660            1.3  PI0808715  2014-08-12  dialp  0  0\n",
       "2  1501853            6.6  PI0808715  2014-09-16  dialp  0  0\n",
       "3  2788968            7.1  PI0808715  2017-04-18  dialp  0  1\n",
       "4  2790019          15.11  PI0808715  2017-04-18  dialp  0  0\n",
       "5  2956330            9.2  PI0808715  2017-09-19  dialp  0  2\n",
       "6  3015281           12.2  PI0808715  2017-12-19  dialp  0  0\n",
       "7  4414189  PR - Recursos  PI0808715  2022-01-04  dialp  0  0\n",
       "8  4551344  PR - Recursos  PI0808715  2022-08-16         0  0"
      ]
     },
     "execution_count": 8,
     "metadata": {},
     "output_type": "execute_result"
    }
   ],
   "source": [
    "df"
   ]
  },
  {
   "cell_type": "code",
   "execution_count": 10,
   "id": "3a41e0fe-1b85-4ae7-ae8d-660d63530917",
   "metadata": {},
   "outputs": [
    {
     "name": "stdout",
     "output_type": "stream",
     "text": [
      "Número: PI0808715 | Despacho: 1.1\n",
      "Número: PI0808715 | Despacho: 1.3\n",
      "Número: PI0808715 | Despacho: 6.6\n",
      "Número: PI0808715 | Despacho: 7.1\n",
      "Número: PI0808715 | Despacho: 15.11\n",
      "Número: PI0808715 | Despacho: 9.2\n",
      "Número: PI0808715 | Despacho: 12.2\n",
      "Número: PI0808715 | Despacho: PR - Recursos\n",
      "Número: PI0808715 | Despacho: PR - Recursos\n"
     ]
    }
   ],
   "source": [
    "for item in resultado:\n",
    "    numero = item[2]\n",
    "    despacho = item[1]\n",
    "    print(f\"Número: {numero} | Despacho: {despacho}\")"
   ]
  },
  {
   "cell_type": "code",
   "execution_count": 42,
   "id": "772845e6-4c5d-404d-aa5e-db08c1e085d1",
   "metadata": {},
   "outputs": [
    {
     "name": "stdout",
     "output_type": "stream",
     "text": [
      "Título: ARTIGO REVESTIDO COM COR ESCURA\n",
      "Resumo: Abstract An article is coated with a coating having a dark color, in a preferred embodiment, the coating comprises a nickel or polymer basecoat layer, and a first color layer comprised of oxygen-rich refractory metal oxycarbides, a second color layer comprising oxygen-rich refractory metal oxycarbides and a top layer of refractory metal oxides. A presente invenção refere-se a um artigo que está revestido com um revestimento que tem uma cor escura. Em uma modalidade preferida, o revestimento compreende uma camada de revestimento de base de níquel ou polímero, e uma primeira camada de cor compreendida de oxicarburetos metálicos refratários ricos em oxigênio, uma segunda camada de cor que compreende de oxicarburetos metálicos refratários ricos em oxigênio e uma camada de topo de óxidos metálicos refratários\n",
      "\n",
      "\u001b[34mA presente invenção refere-se a um artigo que está revestido com um revestimento que tem uma cor escura. Em uma modalidade preferida, o revestimento compreende uma camada de revestimento de base de níquel ou polímero, e uma primeira camada de cor compreendida de oxicarburetos metálicos refratários ricos em oxigênio, uma segunda camada de cor que compreende de oxicarburetos metálicos refratários ricos em oxigênio e uma camada de topo de óxidos metálicos refratários.\u001b[0m\n",
      "#################\n",
      "Título: PRODUTO DE GAZE NÃO TECIDO E SISTEMA PARA FABRICAR O MESMO\n",
      "Resumo: Abstract Disclosed are non-woven gauze product and system for manufacturing the same. The spunlace device includes a second spunlace machine having a shaping layer on the surface, the shaping layer is provided thereon with pointed projections having tapered tops disposed in a matrix arrangement, each pointed projection has a bottom of rectangular cross-section, the bottom size of each pointed projection is larger than the bottom distance between two adjacent pointed projections. A non-woven cloth having rectangular holes in an array layout is formed by water jetting the fiber-web at the second spunlace machine. The rectangular holes in an array layout are presented in a flat structure having warp and weft, and the dimension of each rectangular hole is larger than the line width of warp and weft. The structure and features of such non-woven cloth are similar to those of gauze, so the non-woven cloth can be a substitute for the current gauze. With this invention, a gauze-like non-woven cloth is achieved by utilizing the disclosed manufacturing process of spunlace non-woven cloth herein, and the corresponding manufacturing method has advantages of short production period and low cost, which reduces the cost of such non-woven gauze product\n",
      "\n",
      "\u001b[34mDesculpe, mas não há texto em português para ser exibido.\u001b[0m\n",
      "#################\n",
      "Título: COMPOSIÇÕES IMUNOTERAPÊUTICAS DE LEVEDURA BRACHYURY, E SEUS USOS\n",
      "Resumo: Abstract[00219] Disclosed are yeast-based immunotherapeutic compositions comprising Brachyury antigens, and methods for the prevention and/or treatment of cancers characterized by the expression or overexpression of Brachyury.---------------------------------------------------------------------------------------------------------------------------------------------------------------------------------------------TRADUÇàO DO RESUMORESUMOPatente de Invenção: COMPOSIÇÕES IMUNOTERAPÊUTICAS DE LE-VEDURA BRACHYURYA invenção descreve composições imunoterapêuticas à base de levedura compreendendo antígenos de Brachyury, e métodos para a pre-venção e/ou tratamento de cânceres caracterizados pela expressão ou su-perexpressão de Brachyury\n",
      "\n",
      "\u001b[34mA invenção descreve composições imunoterapêuticas à base de levedura compreendendo antígenos de brachyury, e métodos para a prevenção e/ou tratamento de cânceres caracterizados pela expressão ou superexpressão de brachyury.\u001b[0m\n",
      "#################\n",
      "Título: SISTEMA DE ACIONAMENTO DE DISPOSITIVO DE MEDIÇÃO DE SEMENTES\n",
      "Resumo: Abstract A system for transmitting power from a drive shaft to a seed meter shaft of a seeder is disclosed. The system comprises a first transmission that connects to one of the drive shaft and the seed meter shaft. The first transmission also connects to a clutch assembly. The clutch assembly connects to a flexible drive shaft assembly, and the flexible drive shaft assembly connects to a second transmission. The second transmission connects to the other of the drive shaft and the seed meter shaft. The clutch assembly is detachable from the first transmission and the flexible drive shaft assembly and the flexible drive shaft assembly is directly connectable to the first transmission.***************************************TRADUÇàO DO RESUMORESUMOPatente de Invenção:  A invenção refere-se a um sistema para transmitir potência de um eixo de acionamento para um eixo de medidor de sementes de um semeador. O sistema compreende uma primeira transmissão que conecta a um do eixo de acionamento e do eixo de medidor de sementes. A primeira transmissão que conecta a um conjunto de embreagem. O conjunto de embreagem conecta a um conjunto de eixo de acionamento flexível, e o conjunto de eixo de acionamento flexível conecta a uma segunda transmissão. A segunda transmissão conecta no outro do eixo de acionamento e do eixo de medidor de sementes. O conjunto de embreagem é destacável da primeira transmissão e do conjunto de eixo de acionamento flexível e o conjunto de eixo de acionamento flexível é diretamente conectável na primeira transmissão\n",
      "\n",
      "\u001b[34mA invenção refere-se a um sistema para transmitir potência de um eixo de acionamento para um eixo de medidor de sementes de um semeador. O sistema compreende uma primeira transmissão que conecta a um do eixo de acionamento e do eixo de medidor de sementes. A primeira transmissão que conecta a um conjunto de embreagem. O conjunto de embreagem conecta a um conjunto de eixo de acionamento flexível, e o conjunto de eixo de acionamento flexível conecta a uma segunda transmissão. A segunda transmissão conecta no outro do eixo de acionamento e do eixo de medidor de sementes. O conjunto de embreagem é destacável da primeira transmissão e do conjunto de eixo de acionamento flexível e o conjunto de eixo de acionamento flexível é diretamente conectável na primeira transmissão.\u001b[0m\n",
      "#################\n",
      "Título: CHAPA METÁLICA Ã BASE DE FE E MÉTODO PARA FABRICAÇÃO DA MESMA\n",
      "Resumo: Abstract A cast slab containing C: less than 0.02 mass% and made of an Fe-based metal of an a-? transforming component is subjected to hot rolling at a temperature of an A3 point or higher and is subjected to a-region rolling at a temperature of 300? or higher and lower than the A3 point, and thereby a base metal sheet having a {100} texture in a surface layer portion is fabricated. Then, by performing a heat treatment under predetermined conditions, an Fe-based metal sheet is obtained in which a Z value is not less than 2.0 nor more than 200 when intensity ratios of respective {001}<470>, {116}<6 12 1>, and {223}<692> directions in a sheet plane by X-ray diffraction are set to A, B, and C respectively and Z = (A + 0.97B)/0.98C is satisfied.TraduçãoRESUMOPatente de Invenção: CHAPA METÁLICA À BASE DE Fe E MÉTODO PARA SUA PREPARAÇàO. Um tarugo fundido contendo C: inferior a 0,02 % em massa e consistindo de um metal à base de Fe de um componente transformador a-? é submetido a laminação a quente a uma temperatura de um ponto A3 ou acima e é submetido a laminação de região a a uma temperatura de 300 oC ou acima e abaixo do ponto A3, e dessa forma é fabricada uma chapa com base em metal contendo uma {100} textura em uma porção da camada de superfície. Então, pela execução de um tratamento sob condições predeterminadas, é obtida uma chapa metálica à base de Fe na qual o valor Z é não inferior a 2,0 nem superior a 200 quando proporções de intensidade de direções respectivas {001}<470>, {116}<6 12 1>, e {223}<692> em um plano de chapa por difração de raios-X são ajustadas para A, B, e C respectivamente e Z = (A + 0,97B)/0,98C é satisfeita\n",
      "\n",
      "\u001b[34mUm tarugo fundido contendo C: inferior a 0,02 % em massa e consistindo de um metal à base de Fe de um componente transformador a-? é submetido a laminação a quente a uma temperatura de um ponto A3 ou acima e é submetido a laminação de região a uma temperatura de 300 oC ou acima e abaixo do ponto A3, e dessa forma é fabricada uma chapa com base em metal contendo uma {100} textura em uma porção da camada de superfície. Então, pela execução de um tratamento sob condições predeterminadas, é obtida uma chapa metálica à base de Fe na qual o valor Z é não inferior a 2,0 nem superior a 200 quando proporções de intensidade de direções respectivas {001}<470>, {116}<6 12 1>, e {223}<692> em um plano de chapa por difração de raios-X são ajustadas para A, B, e C respectivamente e Z = (A + 0,97B)/0,98C é satisfeita.\u001b[0m\n",
      "#################\n",
      "Título: NANOTRANSPORTADORES SINTÉTICOS TOLEROGÊNICOS PARA INDUÇÃO DE CÉLULAS B REGULADORAS\n",
      "Resumo: Abstract Disclosed are synthetic nanocarrier methods, and related compositions, comprising B cell and/or MHC Class II-restricted epitopes and immunosuppressants in order to generate tolerogenic immune responses, such as the generation of antigen-specific regulatory B cells.TRADUÇàO DO RESUMORESUMOPatente de Invenção:  São divulgados métodos de nanotransportadores sintéticos, e composições relacionadas, compreendendo células B e/ou epítopos restritos a MHC de Classe II e imunossupressores de modo a gerar respostas imunes tolerogênicas, tais como a geração de células B reguladoras específicas de antigênio\n",
      "\n",
      "\u001b[34mSão divulgados métodos de nanotransportadores sintéticos, e composições relacionadas, compreendendo células B e/ou epítopos restritos a MHC de Classe II e imunossupressores de modo a gerar respostas imunes tolerogênicas, tais como a geração de células B reguladoras específicas de antigênio.\u001b[0m\n",
      "#################\n",
      "Título: COMPOSIÇÃO COMPREENDENDO NANOTRANSPORTADORES SINTÉTICOS TOLEROGÊNICOS\n",
      "Resumo: Abstract This invention relates, at least in part, to compositions comprising synthetic nanocarriers and immunosuppressants that result in immune suppressive effects. Such compositions can further comprise antigen and provide antigen-specific tolerogenic immune responses.______________________________________________________________________ABAIXO RESUMO TRADUZIDORESUMONANOTRANSPORTADORES SINTÉTICOS TOLEROGÊNICOS A presente invenção se destina, pelo menos em parte, a composições compreendendo nanotransportadores sintéticos e imunossupressores que resultam em efeitos imunitários supressores. Tais composições também podem compreender o antigênio e fornecer respostas imunitárias tolerogênicas específicas do antigênio\n",
      "\n",
      "\u001b[34mNanotransportadores sintéticos tolerogênicos a presente invenção se destina, pelo menos em parte, a composições compreendendo nanotransportadores sintéticos e imunossupressores que resultam em efeitos imunitários supressores. tais composições também podem compreender o antigênio e fornecer respostas imunitárias tolerogênicas específicas do antigênio.\u001b[0m\n",
      "#################\n",
      "Título: MÉTODO PARA SINALIZAR INFORMAÇÕES PARA UM DISPOSITIVO DE COMUNICAÇÕES SEM FIO, E ESTAÇÃO BASE\n",
      "Resumo: Abstract A base station (e.g., an evolved Node B) (300) determines whether the physical broadcast channel (PBCH), reference signals (SCH) and common reference signals (CRS) are transmitted (or awaiting transmission) on a secondary component carrier (Scell) with the cell (506). The determination information is transmitted to a user equipment (UE) (110) to inform the UE that the Scell transmissions do not include PBCH/SCH/CRS (508). As a result, the resource elements (REs) normally used to carry system information in the PBCH/SCH/CRS can be dynamically assigned (or reassigned) to the data channel. In this manner, the physical downlink shared channel (PBSCH) bandwidth can be increased by utilizing those resource elements that are normally reserved/assigned to the PBCH/SCH/CRS.*********************************************Tradução do ResumoRESUMOPatente de Invenção: MÉTODO E SISTEMA PARA TRANSMISSàO E RECEPÇàO DE SINAIS E MÉTODOS DE SINALIZAÇàO RELATIVO. A presente invenção refere-se a uma estação de base (por exemplo, um Nodo B desenvolvido) (300) que determina se o canal de transmissão físico (PBCH), os sinais de referência (SCH) e os sinais de referência comuns (CRS) são transmitidos (ou aguardando transmissão) sobre uma portadora de componente secundária (Scell) dentro da célula (506). As informações de determinação são transmitidas para um equipamento de usuário (UE) (110) para informar ao UE que as transmissões de Scell não incluem PBCH/SCH/CRS (508). Como um resultado, os elementos de recursos (REs) normalmente utilizados para carregar as informações de sistema no PBCH/SCH/CRS podem ser dinamicamente designados (ou redesignados) para o canal de dados. Deste modo, a largura de banda de canal compartilhado de downlink físico (PDSCH) pode ser aumentada utilizando aqueles elementos de recursos que são normalmente reservados/designados para o PBCH/SCH/CRS\n",
      "\n",
      "\u001b[34mMÉTODO E SISTEMA PARA TRANSMISSÀO E RECEPÇÀO DE SINAIS E MÉTODOS DE SINALIZAÇÀO RELATIVO. A presente invenção refere-se a uma estação de base (por exemplo, um Nodo B desenvolvido) (300) que determina se o canal de transmissão físico (PBCH), os sinais de referência (SCH) e os sinais de referência comuns (CRS) são transmitidos (ou aguardando transmissão) sobre uma portadora de componente secundária (Scell) dentro da célula (506). As informações de determinação são transmitidas para um equipamento de usuário (UE) (110) para informar ao UE que as transmissões de Scell não incluem PBCH/SCH/CRS (508). Como um resultado, os elementos de recursos (REs) normalmente utilizados para carregar as informações de sistema no PBCH/SCH/CRS podem ser dinamicamente designados (ou redesignados) para o canal de dados. Deste modo, a largura de banda de canal compartilhado de downlink físico (PDSCH) pode ser aumentada utilizando aqueles elementos de recursos que são normalmente reservados/designados para o PBCH/SCH/CRS.\u001b[0m\n",
      "#################\n",
      "Título: CONJUNTO DE CARTUCHO DE GRAMPOS\n",
      "Resumo: AbstractTITLE STAPLE CARTRIDGE COMPRISING STAPLES POSITIONED WITHIN A COMPRESSIBLE PORTION THEREOF A fastener cartridge can comprise a support portion, a tissue thickness compensator positioned relative to the support portion, and a plurality of fasteners positioned within the support portion and/or the tissue thickness compensator which can be utilized to fasten tissue. In use, the fastener cartridge can be positioned in a first jaw of a surgical fastening device, wherein a second jaw, or anvil, can be positioned opposite the first jaw. To deploy the fasteners, a staple-deploying member is advanced through the fastener cartridge to move the fasteners toward the anvil. As the fasteners are deployed, the fasteners can capture at least a portion of the tissue thickness compensator therein along with at least a portion of the tissue being fastened.\u001f\u001f________________________________________________________________________tradução resumoRESUMOPatente de Invenção CARTUCHO DE GRAMPO QUE COMPREENDE GRAMPOS POSICIONADOS EM UMA PORÇàO COMPRESSÍVEL DO MESMO. A presente invenção refere-se a um cartucho de prendedores que pode compreender uma porção de suporte, um compensador de espessura de tecido posicionado em relação à porção de suporte, e uma pluralidade de prendedores posicionados na porção de suporte e/ou o compensador de espessura de tecido que pode ser utilizado para prender tecido. Em uso, o cartucho de prendedores pode ser posicionado em uma primeira garra de um dispositivo de fixação cirúrgica, sendo que uma segunda garra, ou bigorna, pode ser posicionada de maneira oposta à primeira garra. Para dispensar os prendedores, um elemento que dispensa grampos é avançado através do cartucho de prendedores para mover os prendedores em direção à bigorna. À medida que os prendedores são dispensados, os prendedores podem capturar pelo menos uma porção do compensador de espessura de tecido ali juntamente com pelo menos uma porção do tecido sendo preso\n",
      "\n",
      "\u001b[34mCARTUCHO DE GRAMPO QUE COMPREENDE GRAMPOS POSICIONADOS EM UMA PORÇÃO COMPRESSÍVEL DO MESMO. A presente invenção refere-se a um cartucho de prendedores que pode compreender uma porção de suporte, um compensador de espessura de tecido posicionado em relação à porção de suporte, e uma pluralidade de prendedores posicionados na porção de suporte e/ou o compensador de espessura de tecido que pode ser utilizado para prender tecido. Em uso, o cartucho de prendedores pode ser posicionado em uma primeira garra de um dispositivo de fixação cirúrgica, sendo que uma segunda garra, ou bigorna, pode ser posicionada de maneira oposta à primeira garra. Para dispensar os prendedores, um elemento que dispensa grampos é avançado através do cartucho de prendedores para mover os prendedores em direção à bigorna. À medida que os prendedores são dispensados, os prendedores podem capturar pelo menos uma porção do compensador de espessura de tecido ali juntamente com pelo menos uma porção do tecido sendo preso.\u001b[0m\n",
      "#################\n",
      "Título: CARTUCHO DE GRAMPOS PARA USO COM UM GRAMPEADOR CIRÚRGICO\n",
      "Resumo: Abstract A fastener cartridge can comprise a support portion, a tissue thickness compensator positioned relative to the support portion, and a plurality of fasteners positioned within the support portion and/or the tissue thickness compensator which can be utilized to fasten tissue. In use, the fastener cartridge can be positioned in a first jaw of a surgical fastening device, wherein a second jaw, or anvil, can be positioned opposite the first jaw. To deploy the fasteners, a staple-deploying member is advanced through the fastener cartridge to move the fasteners toward the anvil. As the fasteners are deployed, the fasteners can capture at least a portion of the tissue thickness compensator therein along with at least a portion of the tissue being fastened.Tradução do ResumoRESUMOPatente de Invenção: COMPENSADOR DE ESPESSURA DE TECIDO QUE COMPREENDE PORÇÕES QUE TÊM PROPRIEDADES DIFERENTES.A presente invenção refere-se a um cartucho de prendedores que pode compreender uma porção de suporte, um compensador de espessura de tecido posicionado em relação à porção de suporte, e uma pluralidade de prendedores posicionados na porção de suporte e/ou o compensador de espessura de tecido que pode ser utilizado para prender tecido. Em uso, o cartucho de prendedores pode ser posicionado em uma primeira garra de um dispositivo de fixação cirúrgica, sendo que uma segunda garra, ou bigorna, pode ser posicionada de maneira oposta à primeira garra. Para dispensar os prendedores, um elemento que dispensa grampos é avançado através do cartucho de prendedores para mover os prendedores em direção à bigorna. À medida que os prendedores são dispensados, os prendedores podem capturar pelo menos uma porção do compensador de espessura de tecido ali juntamente com pelo menos uma porção do tecido sendo preso\n",
      "\n",
      "\u001b[34mA presente invenção refere-se a um cartucho de prendedores que pode compreender uma porção de suporte, um compensador de espessura de tecido posicionado em relação à porção de suporte, e uma pluralidade de prendedores posicionados na porção de suporte e/ou o compensador de espessura de tecido que pode ser utilizado para prender tecido. Em uso, o cartucho de prendedores pode ser posicionado em uma primeira garra de um dispositivo de fixação cirúrgica, sendo que uma segunda garra, ou bigorna, pode ser posicionada de maneira oposta à primeira garra. Para dispensar os prendedores, um elemento que dispensa grampos é avançado através do cartucho de prendedores para mover os prendedores em direção à bigorna. À medida que os prendedores são dispensados, os prendedores podem capturar pelo menos uma porção do compensador de espessura de tecido ali juntamente com pelo menos uma porção do tecido sendo preso.\u001b[0m\n",
      "#################\n"
     ]
    }
   ],
   "source": [
    "comando = f\"SELECT * FROM titulo WHERE titulo_cepit<>'' and resumo_cepit like '%Abstract%'\"\n",
    "cursor.execute(comando)\n",
    "resultado = cursor.fetchall()\n",
    "df = pd.DataFrame(resultado)\n",
    "total = 0\n",
    "\n",
    "for item in resultado:\n",
    "    total = total + 1\n",
    "    if (total>10):\n",
    "        break\n",
    "    numero = item[1]\n",
    "    titulo_cepit = item[5]\n",
    "    resumo_cepit = item[6]\n",
    "    print(f\"Título: {titulo_cepit}\")\n",
    "    print(f\"Resumo: {resumo_cepit}\\n\")\n",
    "\n",
    "    question = f\"\"\"Elimine os trechos em inglês. Converta para minúsculas mantendo a primeira letra de cada frase em maiúsculo.\n",
    "        Elimine os termos 'Resumo' e 'Patente de invenção' no início. Se todo o texto estiver em inglês não mostre nada. \n",
    "        Siglas devem ser mantidas na forma original, por exemplo PBCH: {resumo_cepit}\"\"\"\n",
    "    messages=[{\"role\":\"user\", \"content\": question}]\n",
    "    response = llm.invoke(messages)\n",
    "    print(\"\\033[34m\" + response.content + \"\\033[0m\")\n",
    "    print('#################')"
   ]
  },
  {
   "cell_type": "code",
   "execution_count": null,
   "id": "1420d063-b3e2-4ddc-92ff-5ac896af4a11",
   "metadata": {},
   "outputs": [],
   "source": []
  }
 ],
 "metadata": {
  "kernelspec": {
   "display_name": "Python 3 (ipykernel)",
   "language": "python",
   "name": "python3"
  },
  "language_info": {
   "codemirror_mode": {
    "name": "ipython",
    "version": 3
   },
   "file_extension": ".py",
   "mimetype": "text/x-python",
   "name": "python",
   "nbconvert_exporter": "python",
   "pygments_lexer": "ipython3",
   "version": "3.12.4"
  }
 },
 "nbformat": 4,
 "nbformat_minor": 5
}

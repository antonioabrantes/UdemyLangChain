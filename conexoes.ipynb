{
 "cells": [
  {
   "cell_type": "code",
   "execution_count": 13,
   "id": "94f30ee6-caf0-43da-88b2-86e75f994f47",
   "metadata": {},
   "outputs": [],
   "source": [
    "from dotenv import load_dotenv\n",
    "import os\n",
    "from openai import OpenAI\n",
    "from langchain_openai import ChatOpenAI\n",
    "\n",
    "# pip install openai\n",
    "# pip install langchain-openai\n",
    "# saldo disponível\n",
    "# https://platform.openai.com/settings/organization/billing/overview\n",
    "# chaves API-KEY\n",
    "# https://platform.openai.com/api-keys"
   ]
  },
  {
   "cell_type": "code",
   "execution_count": 16,
   "id": "554b89a1-d6a8-451d-8c07-7baf9c16e83b",
   "metadata": {},
   "outputs": [
    {
     "data": {
      "text/plain": [
       "True"
      ]
     },
     "execution_count": 16,
     "metadata": {},
     "output_type": "execute_result"
    }
   ],
   "source": [
    "load_dotenv(dotenv_path='.env', override=True)"
   ]
  },
  {
   "cell_type": "code",
   "execution_count": 18,
   "id": "58e7f51e-30b6-4467-b605-d16ff81d739e",
   "metadata": {},
   "outputs": [],
   "source": [
    "openai_api_key = os.getenv(\"OPENAI_API_KEY\")\n",
    "#print(openai_api_key)"
   ]
  },
  {
   "cell_type": "code",
   "execution_count": 19,
   "id": "e93e3a91-601a-4759-bff0-73864b9d6ba4",
   "metadata": {},
   "outputs": [],
   "source": [
    "# Acesso direto a Open sem usar LangChain\n",
    "client = OpenAI(api_key = openai_api_key)"
   ]
  },
  {
   "cell_type": "code",
   "execution_count": null,
   "id": "dee6589d-6e04-4ae2-a18e-b028a3b1e78c",
   "metadata": {},
   "outputs": [],
   "source": [
    "question = \"Qual a capital do Brasil?\"\n",
    "response = client.chat.completions.create(\n",
    "    model=\"gpt-4o-mini\",\n",
    "    messages=[{\"role\":\"user\", \"content\": question}])\n",
    "print(response)"
   ]
  },
  {
   "cell_type": "code",
   "execution_count": 21,
   "id": "64361ccf-c279-4c51-8cfb-2d1909cd2273",
   "metadata": {},
   "outputs": [
    {
     "name": "stdout",
     "output_type": "stream",
     "text": [
      "A capital do Brasil é Brasília.\n"
     ]
    }
   ],
   "source": [
    "print(response.choices[0].message.content.strip())"
   ]
  },
  {
   "cell_type": "code",
   "execution_count": null,
   "id": "d14b37fa-c44f-442c-ba40-6898aa6cc4c2",
   "metadata": {},
   "outputs": [],
   "source": [
    "question = \"Qual a capital do Brasil?\"\n",
    "llm = ChatOpenAI(model=\"gpt-4o-mini\", openai_api_key = openai_api_key)\n",
    "messages=[{\"role\":\"user\", \"content\": question}]\n",
    "response = llm.invoke(messages)\n",
    "print(response)"
   ]
  },
  {
   "cell_type": "code",
   "execution_count": 23,
   "id": "b4a4a8f3-58b1-4dc3-8b80-3e7ce966a306",
   "metadata": {},
   "outputs": [
    {
     "name": "stdout",
     "output_type": "stream",
     "text": [
      "A capital do Brasil é Brasília. Ela foi oficialmente inaugurada em 21 de abril de 1960, com o objetivo de promover o desenvolvimento do interior do país e reduzir a concentração de população e atividades econômicas nas cidades costeiras.\n"
     ]
    }
   ],
   "source": [
    "print(response.content)"
   ]
  },
  {
   "cell_type": "code",
   "execution_count": 24,
   "id": "e305f9af-fd56-4673-b461-f95a13bf036f",
   "metadata": {},
   "outputs": [
    {
     "name": "stdout",
     "output_type": "stream",
     "text": [
      "A capital do Brasil é Brasília. Foi inaugurada em 21 de abril de 1960 e planejada para ser a nova capital do país, com o objetivo de promover a interiorização do desenvolvimento.\n"
     ]
    }
   ],
   "source": [
    "question = \"Qual a capital do Brasil?\"\n",
    "llm = ChatOpenAI(model=\"gpt-4o-mini\", openai_api_key = openai_api_key, temperature=0.7,max_tokens=256,frequency_penalty=1)\n",
    "messages=[{\"role\":\"user\", \"content\": question}]\n",
    "response = llm.invoke(messages)\n",
    "print(response.content)"
   ]
  },
  {
   "cell_type": "code",
   "execution_count": 25,
   "id": "dd7a4327-7bd2-4c89-86bc-dafc578cc9ae",
   "metadata": {},
   "outputs": [
    {
     "name": "stdout",
     "output_type": "stream",
     "text": [
      "A capital do Brasil é Brasília.\n"
     ]
    }
   ],
   "source": [
    "question = \"Qual a capital do Brasil?\"\n",
    "llm = ChatOpenAI(model=\"gpt-4o-mini\", openai_api_key = openai_api_key, temperature=0.7,max_tokens=256,frequency_penalty=1)\n",
    "messages = [\n",
    "    {\"role\":\"system\", \"content\":\"Você deve responder objetivamente perguntas de geografia em uma única frase\"},\n",
    "    {\"role\":\"user\", \"content\": question}\n",
    "]\n",
    "response = llm.invoke(messages)\n",
    "print(response.content)"
   ]
  },
  {
   "cell_type": "code",
   "execution_count": null,
   "id": "d56078bf-3d8b-4a9c-ad5b-acd18b60a175",
   "metadata": {},
   "outputs": [],
   "source": []
  }
 ],
 "metadata": {
  "kernelspec": {
   "display_name": "Python 3 (ipykernel)",
   "language": "python",
   "name": "python3"
  },
  "language_info": {
   "codemirror_mode": {
    "name": "ipython",
    "version": 3
   },
   "file_extension": ".py",
   "mimetype": "text/x-python",
   "name": "python",
   "nbconvert_exporter": "python",
   "pygments_lexer": "ipython3",
   "version": "3.13.4"
  }
 },
 "nbformat": 4,
 "nbformat_minor": 5
}

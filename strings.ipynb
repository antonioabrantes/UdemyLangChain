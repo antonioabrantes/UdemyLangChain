{
 "cells": [
  {
   "cell_type": "markdown",
   "id": "bde0e2d0-40ba-472a-8bc9-bdb12154e0ef",
   "metadata": {},
   "source": [
    "# Strings"
   ]
  },
  {
   "cell_type": "code",
   "execution_count": 1,
   "id": "7726a1b0-2acf-43ef-b739-45b688735fc4",
   "metadata": {},
   "outputs": [
    {
     "name": "stdout",
     "output_type": "stream",
     "text": [
      "Curso Python\n"
     ]
    }
   ],
   "source": [
    "x = \"Curso Python\"\n",
    "print(x)\n"
   ]
  },
  {
   "cell_type": "code",
   "execution_count": 5,
   "id": "92fb8f3a-b82d-485a-bda0-f0febda132f6",
   "metadata": {},
   "outputs": [
    {
     "name": "stdout",
     "output_type": "stream",
     "text": [
      "o\n"
     ]
    }
   ],
   "source": [
    "print(x[-2])"
   ]
  },
  {
   "cell_type": "code",
   "execution_count": 6,
   "id": "2c9ae7ff-ced8-4f30-8e7a-b05e4d601777",
   "metadata": {},
   "outputs": [
    {
     "data": {
      "text/plain": [
       "12"
      ]
     },
     "execution_count": 6,
     "metadata": {},
     "output_type": "execute_result"
    }
   ],
   "source": [
    "len(x)"
   ]
  },
  {
   "cell_type": "code",
   "execution_count": 7,
   "id": "d61ffb05-a1e3-4c25-8e3a-fcd4d2fdaefd",
   "metadata": {},
   "outputs": [
    {
     "data": {
      "text/plain": [
       "'Curs'"
      ]
     },
     "execution_count": 7,
     "metadata": {},
     "output_type": "execute_result"
    }
   ],
   "source": [
    "x[0:4]"
   ]
  },
  {
   "cell_type": "code",
   "execution_count": 8,
   "id": "d3fab309-94af-4c8c-9ae7-1279679cb927",
   "metadata": {},
   "outputs": [
    {
     "data": {
      "text/plain": [
       "'urs'"
      ]
     },
     "execution_count": 8,
     "metadata": {},
     "output_type": "execute_result"
    }
   ],
   "source": [
    "x[1:4]"
   ]
  },
  {
   "cell_type": "code",
   "execution_count": 9,
   "id": "410c3fe3-d0c0-4969-9ea6-6a7ec41df616",
   "metadata": {},
   "outputs": [
    {
     "data": {
      "text/plain": [
       "'Curso Python'"
      ]
     },
     "execution_count": 9,
     "metadata": {},
     "output_type": "execute_result"
    }
   ],
   "source": [
    "x"
   ]
  },
  {
   "cell_type": "code",
   "execution_count": 10,
   "id": "4acf9add-d66f-40a7-bb24-171d297dd65a",
   "metadata": {},
   "outputs": [],
   "source": [
    "y = \"2024\""
   ]
  },
  {
   "cell_type": "code",
   "execution_count": 11,
   "id": "c9f8eaa9-0c1c-4a2c-b817-cc19e0245846",
   "metadata": {},
   "outputs": [
    {
     "name": "stdout",
     "output_type": "stream",
     "text": [
      "Curso Python\n"
     ]
    }
   ],
   "source": [
    "print(x)"
   ]
  },
  {
   "cell_type": "code",
   "execution_count": 12,
   "id": "abaf0f02-8995-4834-9b41-d94bd82f86b1",
   "metadata": {},
   "outputs": [
    {
     "name": "stdout",
     "output_type": "stream",
     "text": [
      "2024\n"
     ]
    }
   ],
   "source": [
    "print(y)"
   ]
  },
  {
   "cell_type": "code",
   "execution_count": 13,
   "id": "a42ced33-8885-437f-8293-4f09d49ca689",
   "metadata": {},
   "outputs": [
    {
     "name": "stdout",
     "output_type": "stream",
     "text": [
      "Curso Python2024\n"
     ]
    }
   ],
   "source": [
    "z = x + y\n",
    "print(z)\n"
   ]
  },
  {
   "cell_type": "code",
   "execution_count": 14,
   "id": "799c583d-3a14-42a0-9cb3-358475fd8329",
   "metadata": {},
   "outputs": [
    {
     "name": "stdout",
     "output_type": "stream",
     "text": [
      "Curso Python 2024\n"
     ]
    }
   ],
   "source": [
    "print(x + \" \" + y)"
   ]
  },
  {
   "cell_type": "code",
   "execution_count": 15,
   "id": "53615351-f727-4e2d-97f5-e36d567e18ee",
   "metadata": {},
   "outputs": [
    {
     "name": "stdout",
     "output_type": "stream",
     "text": [
      "Curso Python\n",
      "2024\n"
     ]
    }
   ],
   "source": [
    "print(x + \"\\n\" + y)"
   ]
  },
  {
   "cell_type": "code",
   "execution_count": 17,
   "id": "92b32e42-3335-446a-9339-cc59e710a1bd",
   "metadata": {},
   "outputs": [
    {
     "name": "stdout",
     "output_type": "stream",
     "text": [
      "Curso Python \\ 2024\n"
     ]
    }
   ],
   "source": [
    "print(x + \" \\\\ \" + y)"
   ]
  },
  {
   "cell_type": "code",
   "execution_count": 18,
   "id": "c776dc1e-6177-4f07-a1ee-aa26a0c39b00",
   "metadata": {},
   "outputs": [
    {
     "name": "stdout",
     "output_type": "stream",
     "text": [
      "CURSO PYTHON\n"
     ]
    }
   ],
   "source": [
    "u = x.upper()\n",
    "print(u)"
   ]
  },
  {
   "cell_type": "code",
   "execution_count": 19,
   "id": "460c1bdc-d967-4515-9fdb-d351cd3b6292",
   "metadata": {},
   "outputs": [
    {
     "name": "stdout",
     "output_type": "stream",
     "text": [
      "CURSO PYTHON \\ 2024\n"
     ]
    }
   ],
   "source": [
    "print(u + \" \\\\ \" + y)"
   ]
  },
  {
   "cell_type": "code",
   "execution_count": 20,
   "id": "ff11e134-e7be-4a31-9c45-25c7a0acfbaf",
   "metadata": {},
   "outputs": [
    {
     "name": "stdout",
     "output_type": "stream",
     "text": [
      "CURSO\n"
     ]
    }
   ],
   "source": [
    "k = \"CURSO\"\n",
    "print(k)"
   ]
  },
  {
   "cell_type": "code",
   "execution_count": 21,
   "id": "818fe1fd-dde6-4e26-8653-7bf92e901d9e",
   "metadata": {},
   "outputs": [
    {
     "name": "stdout",
     "output_type": "stream",
     "text": [
      "curso\n"
     ]
    }
   ],
   "source": [
    "print(k.lower())"
   ]
  },
  {
   "cell_type": "code",
   "execution_count": 22,
   "id": "4db40d05-9493-46ed-95b5-f245b8e64730",
   "metadata": {},
   "outputs": [
    {
     "name": "stdout",
     "output_type": "stream",
     "text": [
      "CURZO\n"
     ]
    }
   ],
   "source": [
    "t = k.replace(\"S\",\"Z\")\n",
    "print(t)"
   ]
  },
  {
   "cell_type": "code",
   "execution_count": 23,
   "id": "f1f2a5f5-4bc0-4dad-a2d9-b35400862a1f",
   "metadata": {},
   "outputs": [
    {
     "name": "stdout",
     "output_type": "stream",
     "text": [
      "CURZE\n"
     ]
    }
   ],
   "source": [
    "t = k.replace(\"SO\",\"ZE\")\n",
    "print(t)"
   ]
  },
  {
   "cell_type": "code",
   "execution_count": 24,
   "id": "6bb475c3-261d-4cb1-b6df-54dee4e7718b",
   "metadata": {},
   "outputs": [
    {
     "name": "stdout",
     "output_type": "stream",
     "text": [
      "[6, 2, 3]\n"
     ]
    }
   ],
   "source": [
    "my_list = [1, 2, 3]\n",
    "my_list[0] = 6\n",
    "print(my_list)"
   ]
  },
  {
   "cell_type": "code",
   "execution_count": 25,
   "id": "e3158712-332e-4120-ad80-638f4fac7846",
   "metadata": {},
   "outputs": [],
   "source": [
    "my_list.append(10)"
   ]
  },
  {
   "cell_type": "code",
   "execution_count": 26,
   "id": "018f239d-e134-41ca-b26b-5c6ed0f2590c",
   "metadata": {},
   "outputs": [
    {
     "name": "stdout",
     "output_type": "stream",
     "text": [
      "[6, 2, 3, 10]\n"
     ]
    }
   ],
   "source": [
    "print(my_list)"
   ]
  },
  {
   "cell_type": "code",
   "execution_count": 27,
   "id": "92fa39a3-cd38-418d-b550-7948f928081e",
   "metadata": {},
   "outputs": [],
   "source": [
    "my_list.append(6)"
   ]
  },
  {
   "cell_type": "code",
   "execution_count": 28,
   "id": "85b459b6-7f1a-4c44-a352-eaac65942a65",
   "metadata": {},
   "outputs": [
    {
     "name": "stdout",
     "output_type": "stream",
     "text": [
      "[6, 2, 3, 10, 6]\n"
     ]
    }
   ],
   "source": [
    "print(my_list)"
   ]
  },
  {
   "cell_type": "code",
   "execution_count": 29,
   "id": "3d5c267b-fdb8-41f1-885e-a6c1fbe112d4",
   "metadata": {},
   "outputs": [
    {
     "name": "stdout",
     "output_type": "stream",
     "text": [
      "(1, 2, 3)\n"
     ]
    }
   ],
   "source": [
    "my_tuple = (1,2,3)\n",
    "print(my_tuple)"
   ]
  },
  {
   "cell_type": "code",
   "execution_count": 30,
   "id": "5dae0230-9573-4a36-889f-cb7571ea7d81",
   "metadata": {},
   "outputs": [
    {
     "ename": "TypeError",
     "evalue": "'tuple' object does not support item assignment",
     "output_type": "error",
     "traceback": [
      "\u001b[1;31m---------------------------------------------------------------------------\u001b[0m",
      "\u001b[1;31mTypeError\u001b[0m                                 Traceback (most recent call last)",
      "Cell \u001b[1;32mIn[30], line 1\u001b[0m\n\u001b[1;32m----> 1\u001b[0m my_tuple[\u001b[38;5;241m0\u001b[39m]\u001b[38;5;241m=\u001b[39m\u001b[38;5;241m4\u001b[39m\n",
      "\u001b[1;31mTypeError\u001b[0m: 'tuple' object does not support item assignment"
     ]
    }
   ],
   "source": [
    "my_tuple[0]=4"
   ]
  },
  {
   "cell_type": "code",
   "execution_count": 31,
   "id": "da1da53f-ecb8-443a-aa83-3eac769fa6b8",
   "metadata": {},
   "outputs": [
    {
     "name": "stdout",
     "output_type": "stream",
     "text": [
      "(1, 2, 3, 1)\n"
     ]
    }
   ],
   "source": [
    "my_tuple=(1,2,3,1)\n",
    "print(my_tuple)"
   ]
  },
  {
   "cell_type": "code",
   "execution_count": 33,
   "id": "a8521f01-7dd7-4e50-a21d-6f7224e701b1",
   "metadata": {},
   "outputs": [
    {
     "name": "stdout",
     "output_type": "stream",
     "text": [
      "{1, 2, 3, 4}\n"
     ]
    }
   ],
   "source": [
    "my_set={1,2,3}\n",
    "my_set.add(4)\n",
    "print(my_set)"
   ]
  },
  {
   "cell_type": "code",
   "execution_count": 34,
   "id": "69d2e829-f52f-4ba9-804b-0c0c39ee38da",
   "metadata": {},
   "outputs": [
    {
     "name": "stdout",
     "output_type": "stream",
     "text": [
      "{1, 3, 4}\n"
     ]
    }
   ],
   "source": [
    "my_set.remove(2)\n",
    "print(my_set)"
   ]
  },
  {
   "cell_type": "code",
   "execution_count": 35,
   "id": "b06d83ba-81b6-4b2f-b66f-bb19bc4c7590",
   "metadata": {},
   "outputs": [
    {
     "name": "stdout",
     "output_type": "stream",
     "text": [
      "{1, 3, 4}\n"
     ]
    }
   ],
   "source": [
    "my_set.add(1)\n",
    "print(my_set)"
   ]
  },
  {
   "cell_type": "code",
   "execution_count": null,
   "id": "7756b022-8f7b-441f-af8f-3ac25e690dc4",
   "metadata": {},
   "outputs": [],
   "source": []
  }
 ],
 "metadata": {
  "kernelspec": {
   "display_name": "Python 3 (ipykernel)",
   "language": "python",
   "name": "python3"
  },
  "language_info": {
   "codemirror_mode": {
    "name": "ipython",
    "version": 3
   },
   "file_extension": ".py",
   "mimetype": "text/x-python",
   "name": "python",
   "nbconvert_exporter": "python",
   "pygments_lexer": "ipython3",
   "version": "3.12.4"
  }
 },
 "nbformat": 4,
 "nbformat_minor": 5
}

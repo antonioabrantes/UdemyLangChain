{
 "cells": [
  {
   "cell_type": "code",
   "execution_count": 71,
   "id": "b8c5504a-908f-47ee-beea-538489d7812d",
   "metadata": {},
   "outputs": [],
   "source": [
    "# AI Agents and Workflows Crash Course: A Practical Guide to Real-World Automation (English Edition)\n",
    "# Greg Lin\n",
    "# https://www.amazon.com.br/Agents-Workflows-Crash-Course-Real-World-ebook/dp/B0FM3RLZNM/ref=sr_1_1\n",
    "\n",
    "from openai import OpenAI\n",
    "from dotenv import load_dotenv\n",
    "import os"
   ]
  },
  {
   "cell_type": "code",
   "execution_count": 72,
   "id": "95610664-a149-466d-a1ac-ffc97418ff45",
   "metadata": {},
   "outputs": [],
   "source": [
    "#load_dotenv()\n",
    "load_dotenv(dotenv_path='../.env')\n",
    "openai_api_key = os.getenv(\"OPENAI_API_KEY\")\n",
    "stability_key = os.getenv(\"STABILITY_KEY\")\n",
    "client = OpenAI(api_key = openai_api_key)\n"
   ]
  },
  {
   "cell_type": "code",
   "execution_count": 74,
   "id": "77a4539d-14d9-4b35-b14f-bde45407e0d7",
   "metadata": {},
   "outputs": [
    {
     "name": "stdin",
     "output_type": "stream",
     "text": [
      "What text do you want to summarize?  Sim, Plínio, o Jovem era governador (legatus Augusti pro praetore) da Bitínia e Ponto (111 e 113), uma província imperial  no norte da Ásia Menor (atual Turquia), quando escreveu sua famosa carta ao imperador Trajano sobre os cristãos, por volta do ano 112 d.C.  Essa carta faz parte da correspondência oficial entre Plínio e Trajano e está registrada nos \"Epistulae\" (Cartas), especificamente  Livro 10, Carta 96 (Epistula X.96). Ele foi nomeado legatus Augusti pro praetore — uma espécie de governador imperial com poderes consulares — e sua missão incluía não só tarefas administrativas e jurídicas, mas também investigar possíveis casos de corrupção e reorganizar  a administração local da província, que enfrentava problemas financeiros e políticos.  Na carta, Plínio consulta Trajano sobre como  lidar com os cristãos, uma vez que ele encontrava um número crescente deles na província e não havia precedente jurídico claro.  Antes ele havia sido Praetor – juiz e magistrado superior em Roma. Ele relata que costumava interrogar os acusados de serem cristãos, oferecendo-lhes a chance de renunciar à fé e adorar os deuses romanos. Se persistissem, ele os punia, até com a morte, em certos casos.  Trajano respondeu com a Carta 97 (Epistula X.97), orientando que os cristãos não deveriam ser perseguidos anonimamente, mas se  formalmente acusados e se recusassem a renunciar, deveriam ser punidos. No entanto, quem renunciasse à fé deveria ser perdoado.  Essa troca de cartas é uma das mais antigas evidências extra-bíblicas da presença e perseguição de cristãos no Império Romano\n"
     ]
    },
    {
     "name": "stdout",
     "output_type": "stream",
     "text": [
      "🔍 Summary:\n",
      " Plínio, o Jovem foi governador da Bitínia e Ponto em 112 d.C. e escreveu ao imperador Trajano sobre como lidar com a crescente população cristã. Ele interrogava os acusados, oferecendo-lhes a chance de renunciar, mas punia os que persistiam na fé. Trajano respondeu orientando que perseguições só ocorressem com denúncias formais. Essa correspondência é uma das primeiras evidências da perseguição aos cristãos no Império Romano. #História #Cristianismo\n"
     ]
    }
   ],
   "source": [
    "def summarize_text(text: str) -> str:\n",
    "    prompt = f\"\"\"\n",
    "        You are a helpful assistant that summarizes text into a tweet. \n",
    "        Please summarize the following:\n",
    "        <text>\n",
    "        {text}\n",
    "        </text>\n",
    "    \"\"\"\n",
    "\n",
    "    #response = client.responses.create(\n",
    "    #    model=\"gpt-4o-mini\",\n",
    "    #    input = prompt\n",
    "    #)\n",
    "    #return response.output_text\n",
    "\n",
    "    response = client.chat.completions.create(\n",
    "        model=\"gpt-4o-mini\",\n",
    "        messages=[{\"role\":\"user\", \"content\": prompt}])\n",
    "    return response.choices[0].message.content.strip()\n",
    "\n",
    "\n",
    "if __name__ == \"__main__\":\n",
    "    usr_input = input(\"What text do you want to summarize? \")\n",
    "    summary = summarize_text(usr_input)\n",
    "    print(\"🔍 Summary:\\n\", summary)"
   ]
  },
  {
   "cell_type": "code",
   "execution_count": null,
   "id": "c269002a-193f-4d82-b262-a77a6692bfd3",
   "metadata": {},
   "outputs": [],
   "source": [
    "# curl https://api.openai.com/v1/responses \\ -H \"Content-Type: application/json\" \\ -H \"Authorization: Bearer $OPENAI_API_KEY\" \\ -d '{ \"model\": \"gpt-4o.mini\", \"input\": \"Write a one-sentence bedtime story about a unicorn.\" }'\n"
   ]
  },
  {
   "cell_type": "code",
   "execution_count": 75,
   "id": "4d72b37d-a667-4d3d-b232-ad2b5ddfe017",
   "metadata": {},
   "outputs": [
    {
     "name": "stdout",
     "output_type": "stream",
     "text": [
      "Em 112 d.C., Plínio, o Jovem, governador da Bitínia e Ponto, escreveu ao imperador Trajano sobre como lidar com o crescente número de cristãos. Ele interroga os acusados e pune os que se recusam a renunciar à sua fé. Trajano responde que cristãos não devem ser perseguidos anonimamente, mas punidos se formalmente acusados. Essa correspondência é uma das primeiras evidências da presença de cristãos no Império Romano. #História #Cristianismo\n"
     ]
    }
   ],
   "source": [
    "import requests \n",
    "def summarize_text(text: str) -> str:\n",
    "    prompt = f\"\"\" You are a helpful assistant that summarizes text into a tweet. \n",
    "    Please summarize the following: <text> {text} </text> \"\"\"\n",
    "    payload = {\"model\": \"gpt-4o-mini\", \"input\": prompt}\n",
    "    response = requests.post( \"https://api.openai.com/v1/responses\", \n",
    "                             json=payload, \n",
    "                             headers={ \"Content-Type\": \"application/json\", \"Authorization\": \n",
    "                                      f\"Bearer {openai_api_key}\",\n",
    "                                     }\n",
    "                            )\n",
    "    response_text = response.json()[\"output\"][0][\"content\"][0][\"text\"]\n",
    "    return response_text\n",
    "\n",
    "text = \"\"\"Sim, Plínio, o Jovem era governador (legatus Augusti pro praetore) da Bitínia e Ponto (111 e 113), uma província imperial \n",
    "no norte da Ásia Menor (atual Turquia), quando escreveu sua famosa carta ao imperador Trajano sobre os cristãos, por volta do ano 112 d.C. \n",
    "Essa carta faz parte da correspondência oficial entre Plínio e Trajano e está registrada nos \"Epistulae\" (Cartas), especificamente \n",
    "Livro 10, Carta 96 (Epistula X.96). Ele foi nomeado legatus Augusti pro praetore — uma espécie de governador imperial com poderes consulares\n",
    "— e sua missão incluía não só tarefas administrativas e jurídicas, mas também investigar possíveis casos de corrupção e reorganizar \n",
    "a administração local da província, que enfrentava problemas financeiros e políticos.  Na carta, Plínio consulta Trajano sobre como \n",
    "lidar com os cristãos, uma vez que ele encontrava um número crescente deles na província e não havia precedente jurídico claro. \n",
    "Antes ele havia sido Praetor – juiz e magistrado superior em Roma. Ele relata que costumava interrogar os acusados de serem cristãos,\n",
    "oferecendo-lhes a chance de renunciar à fé e adorar os deuses romanos. Se persistissem, ele os punia, até com a morte, em certos casos. \n",
    "Trajano respondeu com a Carta 97 (Epistula X.97), orientando que os cristãos não deveriam ser perseguidos anonimamente, mas se \n",
    "formalmente acusados e se recusassem a renunciar, deveriam ser punidos. No entanto, quem renunciasse à fé deveria ser perdoado. \n",
    "Essa troca de cartas é uma das mais antigas evidências extra-bíblicas da presença e perseguição de cristãos no Império Romano.\"\"\"\n",
    "print(summarize_text(text))\n",
    "    \n",
    "    "
   ]
  },
  {
   "cell_type": "code",
   "execution_count": 76,
   "id": "aed3fb99-4489-42b2-8ac0-019263cfe204",
   "metadata": {},
   "outputs": [],
   "source": [
    "import base64\n",
    "def encode_image(image_path):\n",
    "    with open(image_path,\"rb\") as image_file:\n",
    "        return base64.b64encode(image_file.read()).decode(\"utf-8\")\n",
    "\n",
    "image_path = \"copo.jpg\"\n",
    "base64_image = encode_image(image_path)\n"
   ]
  },
  {
   "cell_type": "code",
   "execution_count": 77,
   "id": "c35c6a3f-7a69-438f-b1f8-25cadb35b91c",
   "metadata": {},
   "outputs": [
    {
     "name": "stdout",
     "output_type": "stream",
     "text": [
      "The image shows a clear glass tumbler or cup. It is upright and appears to be a simple, classic design without any decorations.\n"
     ]
    }
   ],
   "source": [
    "response = client.chat.completions.create(\n",
    "    model=\"gpt-4o-mini\",\n",
    "    messages=[{\n",
    "           \"role\":\"user\", \n",
    "           \"content\": [\n",
    "                {\"type\":\"text\", \"text\":\"What's in this image?\"},\n",
    "                {\n",
    "                    \"type\":\"image_url\",\n",
    "                    \"image_url\": {\n",
    "                       \"url\" : f\"data:image/jpeg;base64,{base64_image}\",\n",
    "                    }\n",
    "                },\n",
    "            ]\n",
    "           }])\n",
    "print(response.choices[0].message.content.strip())"
   ]
  },
  {
   "cell_type": "code",
   "execution_count": null,
   "id": "9f4fd028-f188-496f-81d2-b612fc0397a5",
   "metadata": {},
   "outputs": [],
   "source": [
    "# AttributeError: module 'stability_sdk.client' has no attribute 'responses' \n",
    "response = client.responses.create(\n",
    "    model=\"gpt-4.1-mini\",\n",
    "    input=\"Generate an image of gray tabby cat hugging an otter with an orange scarf\",\n",
    "    tools=[{\"type\": \"image_generation\"}],\n",
    ")"
   ]
  },
  {
   "cell_type": "code",
   "execution_count": 78,
   "id": "76022dec-5f5a-4791-a597-7b2279057ba4",
   "metadata": {},
   "outputs": [],
   "source": [
    "response = client.chat.completions.create(\n",
    "    model=\"gpt-4o-mini\",\n",
    "    messages=[\n",
    "        {\"role\": \"user\", \"content\": \"Generate an image prompt of a gray tabby cat hugging another cat with an blue scarf\"}\n",
    "    ]\n",
    ")\n",
    "\n",
    "#response = client.images.generate(\n",
    "#    model=\"gpt-4o-mini\",\n",
    "#    prompt=\"A gray tabby cat hugging an otter with an orange scarf\",\n",
    "#    size=\"1024x1024\"\n",
    "#)"
   ]
  },
  {
   "cell_type": "code",
   "execution_count": 79,
   "id": "c2f06b55-e172-4dbe-9e86-911a9826a3c6",
   "metadata": {},
   "outputs": [
    {
     "name": "stdout",
     "output_type": "stream",
     "text": [
      "Create an image of a gray tabby cat gently hugging another cat that is draped in a cozy blue scarf. The gray tabby has a soft, playful expression, while the other cat looks content and relaxed. They are seated in a warm, inviting setting, perhaps with a few soft cushions and a blanket around them. The lighting is soft and warm, creating a snug atmosphere that emphasizes their bond.\n"
     ]
    }
   ],
   "source": [
    "print(response.choices[0].message.content)\n",
    "prompt_text = response.choices[0].message.content"
   ]
  },
  {
   "cell_type": "code",
   "execution_count": null,
   "id": "ecd675b0-577c-4575-ade5-bb1deee54ff4",
   "metadata": {},
   "outputs": [],
   "source": [
    "response"
   ]
  },
  {
   "cell_type": "code",
   "execution_count": null,
   "id": "9f2be527-ba69-499e-b0de-cf9228413f67",
   "metadata": {},
   "outputs": [],
   "source": [
    "# AttributeError: 'ChatCompletion' object has no attribute 'output'\n",
    "image_data = [\n",
    "    output.result\n",
    "    for output in response.output\n",
    "    if output.type == \"image_generation_call\"\n",
    "]"
   ]
  },
  {
   "cell_type": "code",
   "execution_count": null,
   "id": "7197d286-0aea-4e7b-8a3e-167cf6f9168a",
   "metadata": {},
   "outputs": [],
   "source": [
    "# NameError: name 'image_data' is not defined\n",
    "if image_data:\n",
    "    image_base64 = image_data[0]\n",
    "    with open(\"cat_and_otter.png\", \"wb\") as f:\n",
    "        f.write(base64.b64decode(image_base64))"
   ]
  },
  {
   "cell_type": "code",
   "execution_count": null,
   "id": "34b97601-0bcd-40b1-ad1c-838b50f45482",
   "metadata": {},
   "outputs": [],
   "source": [
    "# PermissionDeniedError: Error code: 403 - {'error': {'message': 'Your organization must be verified to use the model `gpt-image-1`. \n",
    "# Please go to: https://platform.openai.com/settings/organization/general and click on Verify Organization. \n",
    "# If you just verified, it can take up to 15 minutes for access to propagate.', 'type': 'invalid_request_error', 'param': None, 'code': None}}\n",
    "\n",
    "image_response = client.images.generate(\n",
    "    model=\"gpt-image-1\",\n",
    "    prompt=prompt_text,\n",
    "    size=\"1024x1024\"\n",
    ")\n",
    "\n",
    "image_url = image_response.data[0].url\n",
    "print(\"URL da imagem:\", image_url)\n",
    "\n",
    "# 3. Baixar e salvar a imagem no disco\n",
    "img_data = requests.get(image_url).content\n",
    "with open(\"cat_otter.png\", \"wb\") as f:\n",
    "    f.write(img_data)\n",
    "\n",
    "print(\"Imagem salva como cat_otter.png\")"
   ]
  },
  {
   "cell_type": "code",
   "execution_count": 80,
   "id": "2ce0b57a-f590-46bc-b948-13452cadccb3",
   "metadata": {},
   "outputs": [],
   "source": [
    "# pip install stability-sdk\n",
    "# https://platform.stability.ai/account/keys\n",
    "\n",
    "from openai import OpenAI\n",
    "import io\n",
    "import os\n",
    "import requests\n",
    "from stability_sdk import client\n",
    "import stability_sdk.interfaces.gooseai.generation.generation_pb2 as generation\n",
    "from PIL import Image"
   ]
  },
  {
   "cell_type": "code",
   "execution_count": 81,
   "id": "35c2a362-485d-482e-8e7b-6a549573b180",
   "metadata": {},
   "outputs": [],
   "source": [
    "openai_client = OpenAI(api_key = openai_api_key)\n",
    "\n",
    "response = openai_client.chat.completions.create(\n",
    "    model=\"gpt-4o-mini\",\n",
    "    messages=[\n",
    "        {\"role\": \"user\", \"content\": \"Generate an image prompt of a gray tabby cat hugging another cat with an blue scarf\"}\n",
    "    ]\n",
    ")"
   ]
  },
  {
   "cell_type": "code",
   "execution_count": 82,
   "id": "872b1b26-2b36-4ba1-b8ec-bee508fcdf47",
   "metadata": {},
   "outputs": [
    {
     "name": "stdout",
     "output_type": "stream",
     "text": [
      "Prompt gerado: **Image Prompt:** A cozy scene featuring a gray tabby cat gently hugging a fluffy white cat adorned with a bright blue scarf. The tabby cat has soft, striped fur, with bright green eyes that radiate warmth and affection. The white cat, with its long fur and soft features, looks content and snug in the tabby's embrace. The background is a softly lit room with a few plants and a comfy blanket, enhancing the heartwarming atmosphere of friendship. Natural sunlight filters through a window, casting a gentle glow on the two cats, highlighting their bond.\n"
     ]
    }
   ],
   "source": [
    "prompt_text = response.choices[0].message.content\n",
    "print(\"Prompt gerado:\", prompt_text)"
   ]
  },
  {
   "cell_type": "code",
   "execution_count": 83,
   "id": "9aed89a8-2bc1-4f6b-9b5e-c33aa6d9ac33",
   "metadata": {},
   "outputs": [],
   "source": [
    "stability_api = client.StabilityInference(\n",
    "    key=os.environ[\"STABILITY_KEY\"],  # sua API key aqui\n",
    "    verbose=True,\n",
    "    engine=\"stable-diffusion-xl-1024-v1-0\",   # pode trocar por outro modelo ex: \"stable-diffusion-xl-beta-v2-2-2\"\n",
    ")"
   ]
  },
  {
   "cell_type": "code",
   "execution_count": 84,
   "id": "db819197-886e-4518-9d0d-f863888c3ec0",
   "metadata": {},
   "outputs": [],
   "source": [
    "answers = stability_api.generate(\n",
    "    prompt=prompt_text,\n",
    "    width=512,\n",
    "    height=512,\n",
    "    steps=30,\n",
    "    cfg_scale=8.0,\n",
    "    samples=1,\n",
    ")"
   ]
  },
  {
   "cell_type": "code",
   "execution_count": 85,
   "id": "f17aa1f2-eddb-4b28-88ff-fbe99f6e92c0",
   "metadata": {},
   "outputs": [
    {
     "name": "stdout",
     "output_type": "stream",
     "text": [
      "Imagem salva como saida.png\n"
     ]
    }
   ],
   "source": [
    "for resp in answers:\n",
    "    for artifact in resp.artifacts:\n",
    "        if artifact.type == generation.ARTIFACT_IMAGE:\n",
    "            img = Image.open(io.BytesIO(artifact.binary))\n",
    "            img.save(\"saida.png\")\n",
    "            print(\"Imagem salva como saida.png\")"
   ]
  },
  {
   "cell_type": "code",
   "execution_count": null,
   "id": "5c287000-5c12-4134-9e07-af5c150b50b5",
   "metadata": {},
   "outputs": [],
   "source": []
  }
 ],
 "metadata": {
  "kernelspec": {
   "display_name": "Python 3 (ipykernel)",
   "language": "python",
   "name": "python3"
  },
  "language_info": {
   "codemirror_mode": {
    "name": "ipython",
    "version": 3
   },
   "file_extension": ".py",
   "mimetype": "text/x-python",
   "name": "python",
   "nbconvert_exporter": "python",
   "pygments_lexer": "ipython3",
   "version": "3.12.4"
  }
 },
 "nbformat": 4,
 "nbformat_minor": 5
}

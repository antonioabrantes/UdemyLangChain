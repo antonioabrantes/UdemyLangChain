{
 "cells": [
  {
   "cell_type": "code",
   "execution_count": 8,
   "id": "b7e067fd-cbb7-47ae-a58d-56b173a6637d",
   "metadata": {},
   "outputs": [
    {
     "name": "stdout",
     "output_type": "stream",
     "text": [
      "Este é um texto exemplo\n",
      "de múltiplas linhas\n",
      "esta é a última\n",
      "novo texto\n"
     ]
    }
   ],
   "source": [
    "texto = \"\"\"Este é um texto exemplo\n",
    "de múltiplas linhas\n",
    "esta é a última\n",
    "novo texto\"\"\"\n",
    "print(texto)"
   ]
  },
  {
   "cell_type": "code",
   "execution_count": 9,
   "id": "a979033f-f7d8-4d23-8548-06e7ef7f96f2",
   "metadata": {},
   "outputs": [],
   "source": [
    "f = open(\"teste.txt\", \"w\", encoding=\"utf-8\")\n",
    "f.write(texto)\n",
    "f.close()"
   ]
  },
  {
   "cell_type": "code",
   "execution_count": 3,
   "id": "dfc0ee61-a93b-46ad-811f-97dcdcb1904f",
   "metadata": {},
   "outputs": [],
   "source": [
    "with open(\"teste2.txt\", \"w\", encoding=\"utf-8\") as f:\n",
    "    f.write(texto)"
   ]
  },
  {
   "cell_type": "code",
   "execution_count": 4,
   "id": "29925d5a-6179-4da7-ae67-1a6b337bb2f1",
   "metadata": {},
   "outputs": [
    {
     "name": "stdout",
     "output_type": "stream",
     "text": [
      "Este é um texto exemplo\n",
      "de múltiplas linhas\n",
      "esta é a última\n"
     ]
    }
   ],
   "source": [
    "with open(\"teste.txt\", \"r\", encoding=\"utf-8\") as f:\n",
    "    print(f.read())"
   ]
  },
  {
   "cell_type": "code",
   "execution_count": 6,
   "id": "f9675f6b-a172-4c42-ae2f-8db4376925b6",
   "metadata": {},
   "outputs": [
    {
     "name": "stdout",
     "output_type": "stream",
     "text": [
      "Este é um texto exemplo\n",
      "\n",
      "de múltiplas linhas\n",
      "\n",
      "esta é a última\n"
     ]
    }
   ],
   "source": [
    "with open(\"teste.txt\", \"r\", encoding=\"utf-8\") as f:\n",
    "    for x in f:\n",
    "        print(x)"
   ]
  },
  {
   "cell_type": "code",
   "execution_count": 7,
   "id": "484e9ccd-d35c-40b5-9160-1ce2e8010b08",
   "metadata": {},
   "outputs": [
    {
     "name": "stdin",
     "output_type": "stream",
     "text": [
      "Digite palavra: linhas\n"
     ]
    },
    {
     "name": "stdout",
     "output_type": "stream",
     "text": [
      "Ocorrencias = 1\n"
     ]
    }
   ],
   "source": [
    "with open(\"teste.txt\", \"r\", encoding=\"utf-8\") as f:\n",
    "    texto = f.read()\n",
    "    word = input(\"Digite palavra:\")\n",
    "    if word in texto:\n",
    "        ocorrencias = texto.count(word)\n",
    "        print(f\"Ocorrencias = {ocorrencias}\")"
   ]
  },
  {
   "cell_type": "code",
   "execution_count": null,
   "id": "54aa97ac-d155-4887-a81a-d5fddfb98baf",
   "metadata": {},
   "outputs": [],
   "source": []
  }
 ],
 "metadata": {
  "kernelspec": {
   "display_name": "Python 3 (ipykernel)",
   "language": "python",
   "name": "python3"
  },
  "language_info": {
   "codemirror_mode": {
    "name": "ipython",
    "version": 3
   },
   "file_extension": ".py",
   "mimetype": "text/x-python",
   "name": "python",
   "nbconvert_exporter": "python",
   "pygments_lexer": "ipython3",
   "version": "3.12.4"
  }
 },
 "nbformat": 4,
 "nbformat_minor": 5
}

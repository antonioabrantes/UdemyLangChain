{
 "cells": [
  {
   "cell_type": "code",
   "execution_count": 1,
   "id": "4af2ac4b-991e-4816-9b5b-4e025962d004",
   "metadata": {},
   "outputs": [],
   "source": [
    "import streamlit as st\n",
    "from langchain.vectorstores import FAISS\n",
    "from langchain.embeddings.openai import OpenAIEmbeddings\n",
    "from langchain. prompts import PromptTemplate\n",
    "from langchain. chains import LLMChain\n",
    "from langchain_community.document_loaders import CSVLoader\n",
    "\n",
    "# "
   ]
  },
  {
   "cell_type": "code",
   "execution_count": 2,
   "id": "493bde5a-1c12-475d-82f6-97d5e212ec50",
   "metadata": {},
   "outputs": [
    {
     "name": "stderr",
     "output_type": "stream",
     "text": [
      "C:\\Users\\otimi\\anaconda3\\envs\\python\\Lib\\site-packages\\tqdm\\auto.py:21: TqdmWarning: IProgress not found. Please update jupyter and ipywidgets. See https://ipywidgets.readthedocs.io/en/stable/user_install.html\n",
      "  from .autonotebook import tqdm as notebook_tqdm\n"
     ]
    }
   ],
   "source": [
    "from langchain_openai import ChatOpenAI\n",
    "from langchain_groq import ChatGroq\n",
    "from langchain_anthropic import ChatAnthropic\n",
    "from langchain_google_genai import ChatGoogleGenerativeAI\n",
    "\n",
    "import os\n",
    "from dotenv import load_dotenv\n"
   ]
  },
  {
   "cell_type": "code",
   "execution_count": 3,
   "id": "e425df05-6dc8-403a-a293-5cd5102e044d",
   "metadata": {},
   "outputs": [],
   "source": [
    "load_dotenv(dotenv_path='.env')\n",
    "\n",
    "# https://platform.openai.com/api-keys\n",
    "openai_api_key = os.getenv(\"OPENAI_API_KEY\")\n",
    "\n",
    "# https://console.groq.com/keys\n",
    "groq_api_key = os.getenv(\"GROQ_API_KEY\")\n",
    "\n",
    "# https://console.anthropic.com/dashboard\n",
    "anthropic_api_key = os.getenv(\"ANTHROPIC_API_KEY\")\n",
    "\n",
    "# https://aistudio.google.com/app/apikey\n",
    "gemini_api_key = os.getenv(\"GEMINI_API_KEY\")\n"
   ]
  },
  {
   "cell_type": "code",
   "execution_count": null,
   "id": "fdae477c-c8df-4684-acca-0032efb5a7b6",
   "metadata": {},
   "outputs": [],
   "source": [
    "# Não execute\n",
    "loader = CSVLoader(file_path=\"lei.txt\", encoding='utf-8')\n",
    "documents = loader.load()\n",
    "documents"
   ]
  },
  {
   "cell_type": "code",
   "execution_count": null,
   "id": "c8a7e58d-9ec2-492b-a1e3-4e2c97e09890",
   "metadata": {},
   "outputs": [],
   "source": [
    "# Não execute\n",
    "from langchain_openai import OpenAIEmbeddings\n",
    "from langchain.vectorstores import FAISS\n",
    "\n",
    "embeddings = OpenAIEmbeddings(openai_api_key=openai_api_key)\n",
    "db = FAISS.from_documents(documents, embeddings)"
   ]
  },
  {
   "cell_type": "code",
   "execution_count": null,
   "id": "2c26b881-2ca7-4c95-a704-be5499e2400f",
   "metadata": {},
   "outputs": [],
   "source": [
    "# Não execute\n",
    "question = \"Onde é o domicílio da pessoa natural ?\"\n",
    "similar_response = db.similarity_search(question,k=3)\n",
    "best_practice = [doc.page_content for doc in similar_response]\n",
    "best_practice"
   ]
  },
  {
   "cell_type": "code",
   "execution_count": 4,
   "id": "3194554b-4a7a-4496-91ea-cde23d5356d2",
   "metadata": {},
   "outputs": [],
   "source": [
    "template = \"\"\"\n",
    "Você é um assistente virtual de um escritório de advocacia.\n",
    "Sua função será responder e-mails que recebemos de clientes respondendo perguntas sobre a lei do Novo Código Civil\n",
    "O novo Código Civil é estabelecido pela LEI Nº 10.406, de 10 de janeiro de 2002.\n",
    "\n",
    "Siga todas as regras abaixo de acordo com contexto {context} lavando em conta o histórico {chat_history}:\n",
    "1. Você deve buscar se comportar de maneira cordial e solícita.\n",
    "2. Suas respostas devem ser bem similares ou até identicas aos termos da lei.\n",
    "3. Alguns dos e-mails podem conter links e informações irrelevantes. Preste atenção apenas no conteúdo útil da mensagem.\n",
    "Aqui está uma mensagem da dúvida recebida de um cliente.\n",
    "{question}\n",
    "\n",
    "Escreva a melhor resposta que eu deveria enviar para solucionar a dúvida apresentada pela pergunta deste cliente.\n",
    "Encerre com a seguinte assinatura:\n",
    "\n",
    "Equipe Fale Conosco \n",
    "email de contato: faleconosco@email.com.br\n",
    "\"\"\""
   ]
  },
  {
   "cell_type": "code",
   "execution_count": 5,
   "id": "4961bb55-d0a3-4d9f-adba-c09b00477fb3",
   "metadata": {},
   "outputs": [],
   "source": [
    "from langchain.prompts.prompt import PromptTemplate\n",
    "prompt = PromptTemplate(input_variables=['question','context','chat_history'],template=template)"
   ]
  },
  {
   "cell_type": "code",
   "execution_count": null,
   "id": "9b637b3a-af3f-4b9a-b300-ff15e6a01b5f",
   "metadata": {},
   "outputs": [],
   "source": [
    "# Não execute\n",
    "llm = ChatOpenAI(model=\"gpt-4o-mini\", openai_api_key=openai_api_key)\n",
    "chain = prompt | llm\n",
    "response = chain.invoke({\"message\":question,\"best_practice\":best_practice})\n",
    "print(response.content)"
   ]
  },
  {
   "cell_type": "code",
   "execution_count": 6,
   "id": "6a97eaae-387e-47cd-a08f-3ae85ee1e7d9",
   "metadata": {},
   "outputs": [],
   "source": [
    "from langchain.document_loaders import PyPDFLoader ,TextLoader\n",
    "\n",
    "def load_doc(document_path):\n",
    "    loader = PyPDFLoader(document_path)\n",
    "    documents = loader.load()\n",
    "    # Split document in chunks\n",
    "    text_splitter = CharacterTextSplitter(chunk_size=1000, chunk_overlap=30, separator=\"\\n\")\n",
    "    docs = text_splitter.split_documents(documents=documents)\n",
    "    embeddings = HuggingFaceEmbeddings(model_name='sentence-transformers/all-MiniLM-L6-v2')\n",
    "    # Create vectors\n",
    "    vectorstore = FAISS.from_documents(docs, embeddings)\n",
    "    # Persist the vectors locally on disk\n",
    "    vectorstore.save_local(\"faiss_index_datamodel\")\n",
    "\n",
    "    # Load from local storage\n",
    "    persisted_vectorstore = FAISS.load_local(\"faiss_index_datamodel\", embeddings, allow_dangerous_deserialization=True)\n",
    "    return persisted_vectorstore"
   ]
  },
  {
   "cell_type": "code",
   "execution_count": 8,
   "id": "7cafbd6d-a506-4a43-9558-6129f83a9a77",
   "metadata": {},
   "outputs": [
    {
     "name": "stderr",
     "output_type": "stream",
     "text": [
      "C:\\Users\\otimi\\anaconda3\\envs\\python\\Lib\\site-packages\\transformers\\tokenization_utils_base.py:1601: FutureWarning: `clean_up_tokenization_spaces` was not set. It will be set to `True` by default. This behavior will be depracted in transformers v4.45, and will be then set to `False` by default. For more details check this issue: https://github.com/huggingface/transformers/issues/31884\n",
      "  warnings.warn(\n"
     ]
    },
    {
     "name": "stdout",
     "output_type": "stream",
     "text": [
      "Prezado(a) Senhor(a),\n",
      "\n",
      "O domicílio da pessoa natural, segundo o Novo Código Civil, é o lugar onde a pessoa estabelece a sua residência com ânimo definitivo. De acordo com o artigo 70 do referido código, \"a lei presume como domicílio do empresário o lugar onde ele exerce sua atividade, e, na falta de estabelecimento, o domicílio onde reside\".\n",
      "\n",
      "Portanto, o domicílio é o local que a pessoa considera sua residência habitual, sendo importante ressaltar que a intenção de permanecer no local é fundamental para a caracterização do domicílio.\n",
      "\n",
      "Caso tenha mais dúvidas ou precise de esclarecimentos adicionais, estamos à disposição para ajudar.\n",
      "\n",
      "Atenciosamente,\n",
      "\n",
      "Equipe Fale Conosco  \n",
      "email de contato: faleconosco@email.com.br\n"
     ]
    }
   ],
   "source": [
    "from langchain.chains import RetrievalQA\n",
    "from langchain.chains import ConversationalRetrievalChain\n",
    "from langchain.text_splitter import CharacterTextSplitter\n",
    "#from langchain.embeddings import HuggingFaceEmbeddings\n",
    "from langchain_huggingface import HuggingFaceEmbeddings\n",
    "\n",
    "llm = ChatOpenAI(model=\"gpt-4o-mini\", openai_api_key=openai_api_key)\n",
    "# chain = prompt | llm\n",
    "chain = ConversationalRetrievalChain.from_llm(\n",
    "    llm=llm,\n",
    "    retriever=load_doc(\"./dados/lei.pdf\").as_retriever(),\n",
    "    combine_docs_chain_kwargs={'prompt': prompt},\n",
    "    chain_type=\"stuff\",\n",
    ")\n",
    "question = \"Onde é o domicílio da pessoa natural ?\"\n",
    "chat_history=[]\n",
    "response = chain.invoke({\"question\":question,\"chat_history\":chat_history})\n",
    "print(response['answer'])\n"
   ]
  },
  {
   "cell_type": "code",
   "execution_count": null,
   "id": "cf3c8772-e45f-429b-bfd0-5cdd27af6f21",
   "metadata": {},
   "outputs": [],
   "source": []
  }
 ],
 "metadata": {
  "kernelspec": {
   "display_name": "Python 3 (ipykernel)",
   "language": "python",
   "name": "python3"
  },
  "language_info": {
   "codemirror_mode": {
    "name": "ipython",
    "version": 3
   },
   "file_extension": ".py",
   "mimetype": "text/x-python",
   "name": "python",
   "nbconvert_exporter": "python",
   "pygments_lexer": "ipython3",
   "version": "3.12.4"
  }
 },
 "nbformat": 4,
 "nbformat_minor": 5
}

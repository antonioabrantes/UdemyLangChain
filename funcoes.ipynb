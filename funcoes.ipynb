{
 "cells": [
  {
   "cell_type": "code",
   "execution_count": 8,
   "id": "2f4696f6-000a-4f41-9fbf-eb51cb3aff9b",
   "metadata": {},
   "outputs": [],
   "source": [
    "def converter(texto,minusculas=True):\n",
    "    if minusculas:\n",
    "        return texto.lower().strip()\n",
    "    else:    \n",
    "        return texto.upper().strip()\n"
   ]
  },
  {
   "cell_type": "code",
   "execution_count": 3,
   "id": "400f9b28-a6d3-4d17-a353-72067ffb97f8",
   "metadata": {},
   "outputs": [
    {
     "name": "stdout",
     "output_type": "stream",
     "text": [
      "[ teste ]\n"
     ]
    }
   ],
   "source": [
    "x = \"     teste     \"\n",
    "print(\"[\",x.strip(),\"]\")"
   ]
  },
  {
   "cell_type": "code",
   "execution_count": 4,
   "id": "81204ffc-4cee-4e51-a721-3fc308e93342",
   "metadata": {},
   "outputs": [
    {
     "name": "stdout",
     "output_type": "stream",
     "text": [
      "[      teste      ]\n"
     ]
    }
   ],
   "source": [
    "print(\"[\",x,\"]\")"
   ]
  },
  {
   "cell_type": "code",
   "execution_count": 5,
   "id": "a263739d-4503-463a-a7ec-fe7711421dbb",
   "metadata": {},
   "outputs": [
    {
     "name": "stdout",
     "output_type": "stream",
     "text": [
      "[     teste     ]\n"
     ]
    }
   ],
   "source": [
    "print(f\"[{x}]\")"
   ]
  },
  {
   "cell_type": "code",
   "execution_count": 6,
   "id": "5a5e0233-31a7-4603-82a5-dc300c6f9db9",
   "metadata": {},
   "outputs": [],
   "source": [
    "y  = x.strip()"
   ]
  },
  {
   "cell_type": "code",
   "execution_count": 7,
   "id": "86c389bc-3f13-45f4-9fe1-41a2272419a2",
   "metadata": {},
   "outputs": [
    {
     "name": "stdout",
     "output_type": "stream",
     "text": [
      "[teste]\n"
     ]
    }
   ],
   "source": [
    "print(f\"[{y}]\")"
   ]
  },
  {
   "cell_type": "code",
   "execution_count": 10,
   "id": "1d71c123-6347-496c-a07f-0de98a17375f",
   "metadata": {},
   "outputs": [
    {
     "name": "stdout",
     "output_type": "stream",
     "text": [
      "ola mundo\n"
     ]
    }
   ],
   "source": [
    "print(converter(\"Ola Mundo\"))"
   ]
  },
  {
   "cell_type": "code",
   "execution_count": 11,
   "id": "f62b37bc-7965-4a4a-bb72-415e67f4538a",
   "metadata": {},
   "outputs": [
    {
     "name": "stdout",
     "output_type": "stream",
     "text": [
      "OLA MUNDO\n"
     ]
    }
   ],
   "source": [
    "print(converter(\"Ola Mundo\",False))"
   ]
  },
  {
   "cell_type": "code",
   "execution_count": 21,
   "id": "a6be49f5-883d-4fcf-8d46-3119a1f25c6c",
   "metadata": {},
   "outputs": [
    {
     "name": "stdout",
     "output_type": "stream",
     "text": [
      "49\n"
     ]
    }
   ],
   "source": [
    "h = 5\n",
    "def quadrado(a):\n",
    "    # global h \n",
    "    h = 9\n",
    "    return a*a\n",
    "\n",
    "print(quadrado(7))"
   ]
  },
  {
   "cell_type": "code",
   "execution_count": 22,
   "id": "35b0f53f-cd31-4a69-885e-a40d35714b5f",
   "metadata": {},
   "outputs": [
    {
     "name": "stdout",
     "output_type": "stream",
     "text": [
      "5\n"
     ]
    }
   ],
   "source": [
    "print(h)"
   ]
  },
  {
   "cell_type": "code",
   "execution_count": null,
   "id": "e36de74d-b27c-4109-9361-5bf74a6903df",
   "metadata": {},
   "outputs": [],
   "source": []
  }
 ],
 "metadata": {
  "kernelspec": {
   "display_name": "Python 3 (ipykernel)",
   "language": "python",
   "name": "python3"
  },
  "language_info": {
   "codemirror_mode": {
    "name": "ipython",
    "version": 3
   },
   "file_extension": ".py",
   "mimetype": "text/x-python",
   "name": "python",
   "nbconvert_exporter": "python",
   "pygments_lexer": "ipython3",
   "version": "3.12.4"
  }
 },
 "nbformat": 4,
 "nbformat_minor": 5
}

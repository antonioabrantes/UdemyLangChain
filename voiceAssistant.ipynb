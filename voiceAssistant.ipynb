{
 "cells": [
  {
   "cell_type": "code",
   "execution_count": 2,
   "id": "2cfd13b5",
   "metadata": {},
   "outputs": [
    {
     "name": "stderr",
     "output_type": "stream",
     "text": [
      "D:\\Users\\abrantes\\InstallAnaconda\\envs\\academia3_13\\Lib\\site-packages\\tqdm\\auto.py:21: TqdmWarning: IProgress not found. Please update jupyter and ipywidgets. See https://ipywidgets.readthedocs.io/en/stable/user_install.html\n",
      "  from .autonotebook import tqdm as notebook_tqdm\n"
     ]
    },
    {
     "ename": "TypeError",
     "evalue": "argument of type 'NoneType' is not iterable",
     "output_type": "error",
     "traceback": [
      "\u001b[31m---------------------------------------------------------------------------\u001b[39m",
      "\u001b[31mTypeError\u001b[39m                                 Traceback (most recent call last)",
      "\u001b[36mCell\u001b[39m\u001b[36m \u001b[39m\u001b[32mIn[2]\u001b[39m\u001b[32m, line 9\u001b[39m\n\u001b[32m      1\u001b[39m \u001b[38;5;66;03m# billing https://platform.openai.com/settings/organization/billing/overview\u001b[39;00m\n\u001b[32m      2\u001b[39m \u001b[38;5;66;03m# instalação do ffmpeg no windows: https://www.youtube.com/watch?v=JR36oH35Fgg\u001b[39;00m\n\u001b[32m      3\u001b[39m \u001b[38;5;66;03m# https://ffmpeg.org/ffmpeg.html\u001b[39;00m\n\u001b[32m      4\u001b[39m \u001b[38;5;66;03m# https://ffmpeg.org/download.html\u001b[39;00m\n\u001b[32m      5\u001b[39m \u001b[38;5;66;03m# https://www.gyan.dev/ffmpeg/builds/ffmpeg-git-essentials.7z\u001b[39;00m\n\u001b[32m      6\u001b[39m \u001b[38;5;66;03m# no Jupiter Notebook ffmpeg -i apresentacao.mp3 teste.avi\u001b[39;00m\n\u001b[32m      8\u001b[39m \u001b[38;5;28;01mimport\u001b[39;00m\u001b[38;5;250m \u001b[39m\u001b[34;01mgradio\u001b[39;00m\u001b[38;5;250m \u001b[39m\u001b[38;5;28;01mas\u001b[39;00m\u001b[38;5;250m \u001b[39m\u001b[34;01mgr\u001b[39;00m\n\u001b[32m----> \u001b[39m\u001b[32m9\u001b[39m \u001b[38;5;28;01mimport\u001b[39;00m\u001b[38;5;250m \u001b[39m\u001b[34;01mwhisper\u001b[39;00m\n\u001b[32m     10\u001b[39m \u001b[38;5;28;01mfrom\u001b[39;00m\u001b[38;5;250m \u001b[39m\u001b[34;01mopenai\u001b[39;00m\u001b[38;5;250m \u001b[39m\u001b[38;5;28;01mimport\u001b[39;00m OpenAI\n\u001b[32m     11\u001b[39m \u001b[38;5;28;01mimport\u001b[39;00m\u001b[38;5;250m \u001b[39m\u001b[34;01mopenai\u001b[39;00m\n",
      "\u001b[36mFile \u001b[39m\u001b[32m~\\InstallAnaconda\\envs\\academia3_13\\Lib\\site-packages\\whisper.py:69\u001b[39m\n\u001b[32m     67\u001b[39m \u001b[38;5;28;01mif\u001b[39;00m CAN_FALLOCATE:\n\u001b[32m     68\u001b[39m   libc_name = ctypes.util.find_library(\u001b[33m'\u001b[39m\u001b[33mc\u001b[39m\u001b[33m'\u001b[39m)\n\u001b[32m---> \u001b[39m\u001b[32m69\u001b[39m   libc = ctypes.CDLL(libc_name)\n\u001b[32m     70\u001b[39m   c_off64_t = ctypes.c_int64\n\u001b[32m     71\u001b[39m   c_off_t = ctypes.c_int\n",
      "\u001b[36mFile \u001b[39m\u001b[32m~\\InstallAnaconda\\envs\\academia3_13\\Lib\\ctypes\\__init__.py:380\u001b[39m, in \u001b[36mCDLL.__init__\u001b[39m\u001b[34m(self, name, mode, handle, use_errno, use_last_error, winmode)\u001b[39m\n\u001b[32m    378\u001b[39m \u001b[38;5;28;01mimport\u001b[39;00m\u001b[38;5;250m \u001b[39m\u001b[34;01mnt\u001b[39;00m\n\u001b[32m    379\u001b[39m mode = nt._LOAD_LIBRARY_SEARCH_DEFAULT_DIRS\n\u001b[32m--> \u001b[39m\u001b[32m380\u001b[39m \u001b[38;5;28;01mif\u001b[39;00m \u001b[33m'\u001b[39m\u001b[33m/\u001b[39m\u001b[33m'\u001b[39m \u001b[38;5;129;01min\u001b[39;00m name \u001b[38;5;129;01mor\u001b[39;00m \u001b[33m'\u001b[39m\u001b[38;5;130;01m\\\\\u001b[39;00m\u001b[33m'\u001b[39m \u001b[38;5;129;01min\u001b[39;00m name:\n\u001b[32m    381\u001b[39m     \u001b[38;5;28mself\u001b[39m._name = nt._getfullpathname(\u001b[38;5;28mself\u001b[39m._name)\n\u001b[32m    382\u001b[39m     mode |= nt._LOAD_LIBRARY_SEARCH_DLL_LOAD_DIR\n",
      "\u001b[31mTypeError\u001b[39m: argument of type 'NoneType' is not iterable"
     ]
    }
   ],
   "source": [
    "# billing https://platform.openai.com/settings/organization/billing/overview\n",
    "# instalação do ffmpeg no windows: https://www.youtube.com/watch?v=JR36oH35Fgg\n",
    "# https://ffmpeg.org/ffmpeg.html\n",
    "# https://ffmpeg.org/download.html\n",
    "# https://www.gyan.dev/ffmpeg/builds/ffmpeg-git-essentials.7z\n",
    "# no Jupiter Notebook ffmpeg -i apresentacao.mp3 teste.avi\n",
    "# no ambiente do INPI o ffmpeg é bloqueado e não funciona whisper, playsound consequentemente, mas gradio e pygame funcionam !\n",
    "\n",
    "import gradio as gr\n",
    "import whisper\n",
    "from openai import OpenAI\n",
    "import openai\n",
    "\n",
    "import os\n",
    "from dotenv import load_dotenv\n",
    "load_dotenv(dotenv_path='.env',override=True)\n",
    "\n",
    "openai_api_key = os.getenv(\"OPENAI_API_KEY\")\n",
    "\n",
    "client = OpenAI(\n",
    "    # defaults to os.environ.get(\"OPENAI_API_KEY\")\n",
    "    api_key=openai_api_key,\n",
    ")"
   ]
  },
  {
   "cell_type": "code",
   "execution_count": null,
   "id": "2cc397a6",
   "metadata": {},
   "outputs": [],
   "source": [
    "# pip install whisper\n",
    "# pip install gradio\n",
    "# pip install openai-whisper (deu erro)\n",
    "# pip install playsound\n",
    "# pip install pygame\n",
    "# pip install pydub"
   ]
  },
  {
   "cell_type": "code",
   "execution_count": 3,
   "id": "3a0b50e9-e91a-4948-83ab-187021044c1d",
   "metadata": {},
   "outputs": [
    {
     "ename": "TypeError",
     "evalue": "argument of type 'NoneType' is not iterable",
     "output_type": "error",
     "traceback": [
      "\u001b[31m---------------------------------------------------------------------------\u001b[39m",
      "\u001b[31mTypeError\u001b[39m                                 Traceback (most recent call last)",
      "\u001b[36mCell\u001b[39m\u001b[36m \u001b[39m\u001b[32mIn[3]\u001b[39m\u001b[32m, line 1\u001b[39m\n\u001b[32m----> \u001b[39m\u001b[32m1\u001b[39m \u001b[38;5;28;01mimport\u001b[39;00m\u001b[38;5;250m \u001b[39m\u001b[34;01mwhisper\u001b[39;00m\n\u001b[32m      3\u001b[39m model = whisper.load_model(\u001b[33m\"\u001b[39m\u001b[33mbase\u001b[39m\u001b[33m\"\u001b[39m)\n\u001b[32m      4\u001b[39m result = model.transcribe(\u001b[33m\"\u001b[39m\u001b[33mapresentacao.mp3\u001b[39m\u001b[33m\"\u001b[39m, fp16=\u001b[38;5;28;01mFalse\u001b[39;00m)\n",
      "\u001b[36mFile \u001b[39m\u001b[32m~\\InstallAnaconda\\envs\\academia3_13\\Lib\\site-packages\\whisper.py:69\u001b[39m\n\u001b[32m     67\u001b[39m \u001b[38;5;28;01mif\u001b[39;00m CAN_FALLOCATE:\n\u001b[32m     68\u001b[39m   libc_name = ctypes.util.find_library(\u001b[33m'\u001b[39m\u001b[33mc\u001b[39m\u001b[33m'\u001b[39m)\n\u001b[32m---> \u001b[39m\u001b[32m69\u001b[39m   libc = ctypes.CDLL(libc_name)\n\u001b[32m     70\u001b[39m   c_off64_t = ctypes.c_int64\n\u001b[32m     71\u001b[39m   c_off_t = ctypes.c_int\n",
      "\u001b[36mFile \u001b[39m\u001b[32m~\\InstallAnaconda\\envs\\academia3_13\\Lib\\ctypes\\__init__.py:380\u001b[39m, in \u001b[36mCDLL.__init__\u001b[39m\u001b[34m(self, name, mode, handle, use_errno, use_last_error, winmode)\u001b[39m\n\u001b[32m    378\u001b[39m \u001b[38;5;28;01mimport\u001b[39;00m\u001b[38;5;250m \u001b[39m\u001b[34;01mnt\u001b[39;00m\n\u001b[32m    379\u001b[39m mode = nt._LOAD_LIBRARY_SEARCH_DEFAULT_DIRS\n\u001b[32m--> \u001b[39m\u001b[32m380\u001b[39m \u001b[38;5;28;01mif\u001b[39;00m \u001b[33m'\u001b[39m\u001b[33m/\u001b[39m\u001b[33m'\u001b[39m \u001b[38;5;129;01min\u001b[39;00m name \u001b[38;5;129;01mor\u001b[39;00m \u001b[33m'\u001b[39m\u001b[38;5;130;01m\\\\\u001b[39;00m\u001b[33m'\u001b[39m \u001b[38;5;129;01min\u001b[39;00m name:\n\u001b[32m    381\u001b[39m     \u001b[38;5;28mself\u001b[39m._name = nt._getfullpathname(\u001b[38;5;28mself\u001b[39m._name)\n\u001b[32m    382\u001b[39m     mode |= nt._LOAD_LIBRARY_SEARCH_DLL_LOAD_DIR\n",
      "\u001b[31mTypeError\u001b[39m: argument of type 'NoneType' is not iterable"
     ]
    }
   ],
   "source": [
    "import whisper\n",
    "\n",
    "model = whisper.load_model(\"base\")\n",
    "result = model.transcribe(\"apresentacao.mp3\", fp16=False)\n",
    "print(result[\"text\"])\n",
    "\n",
    "# https://www.youtube.com/watch?v=UAdX0cGuC28\n",
    "# Transcribe Audio Files with OpenAI Whisper\n",
    "\n",
    "with open(\"transcription.txt\",\"w\") as f:\n",
    "\tf.write(result[\"text\"])\n"
   ]
  },
  {
   "cell_type": "code",
   "execution_count": 4,
   "id": "59af5cba",
   "metadata": {},
   "outputs": [
    {
     "name": "stderr",
     "output_type": "stream",
     "text": [
      "\n",
      "    Error 305 for command:\n",
      "        open \"D:\\Users\\abrantes\\UdemyLangChain-main\\apresentacao.mp3\"\n",
      "    Não é possível especificar mais caracteres após uma cadeia de caracteres entre aspas.\n",
      "\n",
      "    Error 263 for command:\n",
      "        close \"D:\\Users\\abrantes\\UdemyLangChain-main\\apresentacao.mp3\"\n",
      "    O dispositivo especificado não está aberto ou o MCI não o reconhece.\n",
      "Failed to close the file: \"D:\\Users\\abrantes\\UdemyLangChain-main\\apresentacao.mp3\"\n"
     ]
    },
    {
     "ename": "PlaysoundException",
     "evalue": "\n    Error 305 for command:\n        open \"D:\\Users\\abrantes\\UdemyLangChain-main\\apresentacao.mp3\"\n    Não é possível especificar mais caracteres após uma cadeia de caracteres entre aspas.",
     "output_type": "error",
     "traceback": [
      "\u001b[31m---------------------------------------------------------------------------\u001b[39m",
      "\u001b[31mPlaysoundException\u001b[39m                        Traceback (most recent call last)",
      "\u001b[36mCell\u001b[39m\u001b[36m \u001b[39m\u001b[32mIn[4]\u001b[39m\u001b[32m, line 6\u001b[39m\n\u001b[32m      4\u001b[39m filename = \u001b[33m\"\u001b[39m\u001b[33mapresentacao.mp3\u001b[39m\u001b[33m\"\u001b[39m\n\u001b[32m      5\u001b[39m filename = os.path.abspath(filename)\n\u001b[32m----> \u001b[39m\u001b[32m6\u001b[39m playsound(filename)\n",
      "\u001b[36mFile \u001b[39m\u001b[32m~\\InstallAnaconda\\envs\\academia3_13\\Lib\\site-packages\\playsound.py:72\u001b[39m, in \u001b[36m_playsoundWin\u001b[39m\u001b[34m(sound, block)\u001b[39m\n\u001b[32m     70\u001b[39m \u001b[38;5;28;01mtry\u001b[39;00m:\n\u001b[32m     71\u001b[39m     logger.debug(\u001b[33m'\u001b[39m\u001b[33mStarting\u001b[39m\u001b[33m'\u001b[39m)\n\u001b[32m---> \u001b[39m\u001b[32m72\u001b[39m     winCommand(\u001b[33mu\u001b[39m\u001b[33m'\u001b[39m\u001b[33mopen \u001b[39m\u001b[38;5;132;01m{}\u001b[39;00m\u001b[33m'\u001b[39m.format(sound))\n\u001b[32m     73\u001b[39m     winCommand(\u001b[33mu\u001b[39m\u001b[33m'\u001b[39m\u001b[33mplay \u001b[39m\u001b[38;5;132;01m{}\u001b[39;00m\u001b[38;5;132;01m{}\u001b[39;00m\u001b[33m'\u001b[39m.format(sound, \u001b[33m'\u001b[39m\u001b[33m wait\u001b[39m\u001b[33m'\u001b[39m \u001b[38;5;28;01mif\u001b[39;00m block \u001b[38;5;28;01melse\u001b[39;00m \u001b[33m'\u001b[39m\u001b[33m'\u001b[39m))\n\u001b[32m     74\u001b[39m     logger.debug(\u001b[33m'\u001b[39m\u001b[33mReturning\u001b[39m\u001b[33m'\u001b[39m)\n",
      "\u001b[36mFile \u001b[39m\u001b[32m~\\InstallAnaconda\\envs\\academia3_13\\Lib\\site-packages\\playsound.py:64\u001b[39m, in \u001b[36m_playsoundWin.<locals>.winCommand\u001b[39m\u001b[34m(*command)\u001b[39m\n\u001b[32m     60\u001b[39m     exceptionMessage = (\u001b[33m'\u001b[39m\u001b[38;5;130;01m\\n\u001b[39;00m\u001b[33m    Error \u001b[39m\u001b[33m'\u001b[39m + \u001b[38;5;28mstr\u001b[39m(errorCode) + \u001b[33m'\u001b[39m\u001b[33m for command:\u001b[39m\u001b[33m'\u001b[39m\n\u001b[32m     61\u001b[39m                         \u001b[33m'\u001b[39m\u001b[38;5;130;01m\\n\u001b[39;00m\u001b[33m        \u001b[39m\u001b[33m'\u001b[39m + command.decode(\u001b[33m'\u001b[39m\u001b[33mutf-16\u001b[39m\u001b[33m'\u001b[39m) +\n\u001b[32m     62\u001b[39m                         \u001b[33m'\u001b[39m\u001b[38;5;130;01m\\n\u001b[39;00m\u001b[33m    \u001b[39m\u001b[33m'\u001b[39m + errorBuffer.raw.decode(\u001b[33m'\u001b[39m\u001b[33mutf-16\u001b[39m\u001b[33m'\u001b[39m).rstrip(\u001b[33m'\u001b[39m\u001b[38;5;130;01m\\0\u001b[39;00m\u001b[33m'\u001b[39m))\n\u001b[32m     63\u001b[39m     logger.error(exceptionMessage)\n\u001b[32m---> \u001b[39m\u001b[32m64\u001b[39m     \u001b[38;5;28;01mraise\u001b[39;00m PlaysoundException(exceptionMessage)\n\u001b[32m     65\u001b[39m \u001b[38;5;28;01mreturn\u001b[39;00m buf.value\n",
      "\u001b[31mPlaysoundException\u001b[39m: \n    Error 305 for command:\n        open \"D:\\Users\\abrantes\\UdemyLangChain-main\\apresentacao.mp3\"\n    Não é possível especificar mais caracteres após uma cadeia de caracteres entre aspas."
     ]
    }
   ],
   "source": [
    "import os\n",
    "from playsound import playsound\n",
    "\n",
    "filename = \"apresentacao.mp3\"\n",
    "filename = os.path.abspath(filename)\n",
    "playsound(filename)"
   ]
  },
  {
   "cell_type": "code",
   "execution_count": 5,
   "id": "3d121ebf-7115-4469-b4c7-e00264e1aab6",
   "metadata": {},
   "outputs": [
    {
     "name": "stdout",
     "output_type": "stream",
     "text": [
      "pygame 2.6.1 (SDL 2.28.4, Python 3.13.4)\n",
      "Hello from the pygame community. https://www.pygame.org/contribute.html\n"
     ]
    }
   ],
   "source": [
    "import pygame # Funcionou !!\n",
    "import time\n",
    "\n",
    "# Initialize pygame mixer\n",
    "pygame.mixer.init()\n",
    "\n",
    "# Load and play the sound\n",
    "filename = \"D:\\\\Users\\\\abrantes\\\\UdemyLangChain-main\\\\apresentacao.mp3\"\n",
    "filename = \"apresentacao.mp3\"\n",
    "pygame.mixer.music.load(filename)\n",
    "pygame.mixer.music.play()\n",
    "\n",
    "# Wait for the audio to finish\n",
    "while pygame.mixer.music.get_busy():\n",
    "    time.sleep(1)\n",
    "\n",
    "# Stop the audio playback\n",
    "pygame.mixer.music.stop()\n",
    "\n",
    "# Clean up: Quit the pygame mixer and remove the temporary audio file\n",
    "pygame.mixer.quit()"
   ]
  },
  {
   "cell_type": "code",
   "execution_count": 6,
   "id": "cf46764f-05a0-4885-9fa9-219c76fdfd62",
   "metadata": {},
   "outputs": [
    {
     "name": "stderr",
     "output_type": "stream",
     "text": [
      "D:\\Users\\abrantes\\InstallAnaconda\\envs\\academia3_13\\Lib\\site-packages\\pydub\\utils.py:300: SyntaxWarning: invalid escape sequence '\\('\n",
      "  m = re.match('([su]([0-9]{1,2})p?) \\(([0-9]{1,2}) bit\\)$', token)\n",
      "D:\\Users\\abrantes\\InstallAnaconda\\envs\\academia3_13\\Lib\\site-packages\\pydub\\utils.py:301: SyntaxWarning: invalid escape sequence '\\('\n",
      "  m2 = re.match('([su]([0-9]{1,2})p?)( \\(default\\))?$', token)\n",
      "D:\\Users\\abrantes\\InstallAnaconda\\envs\\academia3_13\\Lib\\site-packages\\pydub\\utils.py:310: SyntaxWarning: invalid escape sequence '\\('\n",
      "  elif re.match('(flt)p?( \\(default\\))?$', token):\n",
      "D:\\Users\\abrantes\\InstallAnaconda\\envs\\academia3_13\\Lib\\site-packages\\pydub\\utils.py:314: SyntaxWarning: invalid escape sequence '\\('\n",
      "  elif re.match('(dbl)p?( \\(default\\))?$', token):\n"
     ]
    },
    {
     "ename": "JSONDecodeError",
     "evalue": "Expecting value: line 1 column 1 (char 0)",
     "output_type": "error",
     "traceback": [
      "\u001b[31m---------------------------------------------------------------------------\u001b[39m",
      "\u001b[31mJSONDecodeError\u001b[39m                           Traceback (most recent call last)",
      "\u001b[36mCell\u001b[39m\u001b[36m \u001b[39m\u001b[32mIn[6]\u001b[39m\u001b[32m, line 7\u001b[39m\n\u001b[32m      5\u001b[39m filename = \u001b[33m\"\u001b[39m\u001b[33mapresentacao.mp3\u001b[39m\u001b[33m\"\u001b[39m\n\u001b[32m      6\u001b[39m filename = os.path.abspath(filename)\n\u001b[32m----> \u001b[39m\u001b[32m7\u001b[39m sound = AudioSegment.from_mp3(filename)\n\u001b[32m      8\u001b[39m wav_filename = filename.replace(\u001b[33m'\u001b[39m\u001b[33m.mp3\u001b[39m\u001b[33m'\u001b[39m, \u001b[33m'\u001b[39m\u001b[33m.wav\u001b[39m\u001b[33m'\u001b[39m)\n\u001b[32m      9\u001b[39m sound.export(wav_filename, \u001b[38;5;28mformat\u001b[39m=\u001b[33m\"\u001b[39m\u001b[33mwav\u001b[39m\u001b[33m\"\u001b[39m)\n",
      "\u001b[36mFile \u001b[39m\u001b[32m~\\InstallAnaconda\\envs\\academia3_13\\Lib\\site-packages\\pydub\\audio_segment.py:796\u001b[39m, in \u001b[36mAudioSegment.from_mp3\u001b[39m\u001b[34m(cls, file, parameters)\u001b[39m\n\u001b[32m    794\u001b[39m \u001b[38;5;129m@classmethod\u001b[39m\n\u001b[32m    795\u001b[39m \u001b[38;5;28;01mdef\u001b[39;00m\u001b[38;5;250m \u001b[39m\u001b[34mfrom_mp3\u001b[39m(\u001b[38;5;28mcls\u001b[39m, file, parameters=\u001b[38;5;28;01mNone\u001b[39;00m):\n\u001b[32m--> \u001b[39m\u001b[32m796\u001b[39m     \u001b[38;5;28;01mreturn\u001b[39;00m \u001b[38;5;28mcls\u001b[39m.from_file(file, \u001b[33m'\u001b[39m\u001b[33mmp3\u001b[39m\u001b[33m'\u001b[39m, parameters=parameters)\n",
      "\u001b[36mFile \u001b[39m\u001b[32m~\\InstallAnaconda\\envs\\academia3_13\\Lib\\site-packages\\pydub\\audio_segment.py:728\u001b[39m, in \u001b[36mAudioSegment.from_file\u001b[39m\u001b[34m(cls, file, format, codec, parameters, start_second, duration, **kwargs)\u001b[39m\n\u001b[32m    726\u001b[39m     info = \u001b[38;5;28;01mNone\u001b[39;00m\n\u001b[32m    727\u001b[39m \u001b[38;5;28;01melse\u001b[39;00m:\n\u001b[32m--> \u001b[39m\u001b[32m728\u001b[39m     info = mediainfo_json(orig_file, read_ahead_limit=read_ahead_limit)\n\u001b[32m    729\u001b[39m \u001b[38;5;28;01mif\u001b[39;00m info:\n\u001b[32m    730\u001b[39m     audio_streams = [x \u001b[38;5;28;01mfor\u001b[39;00m x \u001b[38;5;129;01min\u001b[39;00m info[\u001b[33m'\u001b[39m\u001b[33mstreams\u001b[39m\u001b[33m'\u001b[39m]\n\u001b[32m    731\u001b[39m                      \u001b[38;5;28;01mif\u001b[39;00m x[\u001b[33m'\u001b[39m\u001b[33mcodec_type\u001b[39m\u001b[33m'\u001b[39m] == \u001b[33m'\u001b[39m\u001b[33maudio\u001b[39m\u001b[33m'\u001b[39m]\n",
      "\u001b[36mFile \u001b[39m\u001b[32m~\\InstallAnaconda\\envs\\academia3_13\\Lib\\site-packages\\pydub\\utils.py:279\u001b[39m, in \u001b[36mmediainfo_json\u001b[39m\u001b[34m(filepath, read_ahead_limit)\u001b[39m\n\u001b[32m    276\u001b[39m output = output.decode(\u001b[33m\"\u001b[39m\u001b[33mutf-8\u001b[39m\u001b[33m\"\u001b[39m, \u001b[33m'\u001b[39m\u001b[33mignore\u001b[39m\u001b[33m'\u001b[39m)\n\u001b[32m    277\u001b[39m stderr = stderr.decode(\u001b[33m\"\u001b[39m\u001b[33mutf-8\u001b[39m\u001b[33m\"\u001b[39m, \u001b[33m'\u001b[39m\u001b[33mignore\u001b[39m\u001b[33m'\u001b[39m)\n\u001b[32m--> \u001b[39m\u001b[32m279\u001b[39m info = json.loads(output)\n\u001b[32m    281\u001b[39m \u001b[38;5;28;01mif\u001b[39;00m \u001b[38;5;129;01mnot\u001b[39;00m info:\n\u001b[32m    282\u001b[39m     \u001b[38;5;66;03m# If ffprobe didn't give any information, just return it\u001b[39;00m\n\u001b[32m    283\u001b[39m     \u001b[38;5;66;03m# (for example, because the file doesn't exist)\u001b[39;00m\n\u001b[32m    284\u001b[39m     \u001b[38;5;28;01mreturn\u001b[39;00m info\n",
      "\u001b[36mFile \u001b[39m\u001b[32m~\\InstallAnaconda\\envs\\academia3_13\\Lib\\json\\__init__.py:346\u001b[39m, in \u001b[36mloads\u001b[39m\u001b[34m(s, cls, object_hook, parse_float, parse_int, parse_constant, object_pairs_hook, **kw)\u001b[39m\n\u001b[32m    341\u001b[39m     s = s.decode(detect_encoding(s), \u001b[33m'\u001b[39m\u001b[33msurrogatepass\u001b[39m\u001b[33m'\u001b[39m)\n\u001b[32m    343\u001b[39m \u001b[38;5;28;01mif\u001b[39;00m (\u001b[38;5;28mcls\u001b[39m \u001b[38;5;129;01mis\u001b[39;00m \u001b[38;5;28;01mNone\u001b[39;00m \u001b[38;5;129;01mand\u001b[39;00m object_hook \u001b[38;5;129;01mis\u001b[39;00m \u001b[38;5;28;01mNone\u001b[39;00m \u001b[38;5;129;01mand\u001b[39;00m\n\u001b[32m    344\u001b[39m         parse_int \u001b[38;5;129;01mis\u001b[39;00m \u001b[38;5;28;01mNone\u001b[39;00m \u001b[38;5;129;01mand\u001b[39;00m parse_float \u001b[38;5;129;01mis\u001b[39;00m \u001b[38;5;28;01mNone\u001b[39;00m \u001b[38;5;129;01mand\u001b[39;00m\n\u001b[32m    345\u001b[39m         parse_constant \u001b[38;5;129;01mis\u001b[39;00m \u001b[38;5;28;01mNone\u001b[39;00m \u001b[38;5;129;01mand\u001b[39;00m object_pairs_hook \u001b[38;5;129;01mis\u001b[39;00m \u001b[38;5;28;01mNone\u001b[39;00m \u001b[38;5;129;01mand\u001b[39;00m \u001b[38;5;129;01mnot\u001b[39;00m kw):\n\u001b[32m--> \u001b[39m\u001b[32m346\u001b[39m     \u001b[38;5;28;01mreturn\u001b[39;00m _default_decoder.decode(s)\n\u001b[32m    347\u001b[39m \u001b[38;5;28;01mif\u001b[39;00m \u001b[38;5;28mcls\u001b[39m \u001b[38;5;129;01mis\u001b[39;00m \u001b[38;5;28;01mNone\u001b[39;00m:\n\u001b[32m    348\u001b[39m     \u001b[38;5;28mcls\u001b[39m = JSONDecoder\n",
      "\u001b[36mFile \u001b[39m\u001b[32m~\\InstallAnaconda\\envs\\academia3_13\\Lib\\json\\decoder.py:345\u001b[39m, in \u001b[36mJSONDecoder.decode\u001b[39m\u001b[34m(self, s, _w)\u001b[39m\n\u001b[32m    340\u001b[39m \u001b[38;5;28;01mdef\u001b[39;00m\u001b[38;5;250m \u001b[39m\u001b[34mdecode\u001b[39m(\u001b[38;5;28mself\u001b[39m, s, _w=WHITESPACE.match):\n\u001b[32m    341\u001b[39m \u001b[38;5;250m    \u001b[39m\u001b[33;03m\"\"\"Return the Python representation of ``s`` (a ``str`` instance\u001b[39;00m\n\u001b[32m    342\u001b[39m \u001b[33;03m    containing a JSON document).\u001b[39;00m\n\u001b[32m    343\u001b[39m \n\u001b[32m    344\u001b[39m \u001b[33;03m    \"\"\"\u001b[39;00m\n\u001b[32m--> \u001b[39m\u001b[32m345\u001b[39m     obj, end = \u001b[38;5;28mself\u001b[39m.raw_decode(s, idx=_w(s, \u001b[32m0\u001b[39m).end())\n\u001b[32m    346\u001b[39m     end = _w(s, end).end()\n\u001b[32m    347\u001b[39m     \u001b[38;5;28;01mif\u001b[39;00m end != \u001b[38;5;28mlen\u001b[39m(s):\n",
      "\u001b[36mFile \u001b[39m\u001b[32m~\\InstallAnaconda\\envs\\academia3_13\\Lib\\json\\decoder.py:363\u001b[39m, in \u001b[36mJSONDecoder.raw_decode\u001b[39m\u001b[34m(self, s, idx)\u001b[39m\n\u001b[32m    361\u001b[39m     obj, end = \u001b[38;5;28mself\u001b[39m.scan_once(s, idx)\n\u001b[32m    362\u001b[39m \u001b[38;5;28;01mexcept\u001b[39;00m \u001b[38;5;167;01mStopIteration\u001b[39;00m \u001b[38;5;28;01mas\u001b[39;00m err:\n\u001b[32m--> \u001b[39m\u001b[32m363\u001b[39m     \u001b[38;5;28;01mraise\u001b[39;00m JSONDecodeError(\u001b[33m\"\u001b[39m\u001b[33mExpecting value\u001b[39m\u001b[33m\"\u001b[39m, s, err.value) \u001b[38;5;28;01mfrom\u001b[39;00m\u001b[38;5;250m \u001b[39m\u001b[38;5;28;01mNone\u001b[39;00m\n\u001b[32m    364\u001b[39m \u001b[38;5;28;01mreturn\u001b[39;00m obj, end\n",
      "\u001b[31mJSONDecodeError\u001b[39m: Expecting value: line 1 column 1 (char 0)"
     ]
    }
   ],
   "source": [
    "from pydub import AudioSegment\n",
    "from playsound import playsound\n",
    "\n",
    "# Convert MP3 to WAV\n",
    "filename = \"apresentacao.mp3\"\n",
    "filename = os.path.abspath(filename)\n",
    "sound = AudioSegment.from_mp3(filename)\n",
    "wav_filename = filename.replace('.mp3', '.wav')\n",
    "sound.export(wav_filename, format=\"wav\")\n",
    "\n",
    "# Play the WAV file. Erro\n",
    "playsound(filename) # ao executar em seguida dá erro....\n"
   ]
  },
  {
   "cell_type": "code",
   "execution_count": 7,
   "id": "c58b4eba",
   "metadata": {},
   "outputs": [
    {
     "name": "stdout",
     "output_type": "stream",
     "text": [
      "Arquivos no diretório: ['apresentacao.mp3']\n"
     ]
    }
   ],
   "source": [
    "import os # Funcionou !!\n",
    "\n",
    "# Especifica o caminho do diretório\n",
    "directory_path = './'\n",
    "\n",
    "# Lista todos os arquivos e diretórios\n",
    "files_and_directories = os.listdir(directory_path)\n",
    "\n",
    "# Filtra apenas os arquivos\n",
    "files = [f for f in files_and_directories if os.path.isfile(os.path.join(directory_path, f))]\n",
    "mp3_files = [f for f in files_and_directories \n",
    "             if os.path.isfile(os.path.join(directory_path, f)) and f.lower().endswith('.mp3')]\n",
    "\n",
    "print(\"Arquivos no diretório:\", mp3_files)\n"
   ]
  },
  {
   "cell_type": "code",
   "execution_count": 8,
   "id": "f37a7fab",
   "metadata": {
    "scrolled": true
   },
   "outputs": [
    {
     "ename": "NameError",
     "evalue": "name 'OpenAI' is not defined",
     "output_type": "error",
     "traceback": [
      "\u001b[31m---------------------------------------------------------------------------\u001b[39m",
      "\u001b[31mNameError\u001b[39m                                 Traceback (most recent call last)",
      "\u001b[36mCell\u001b[39m\u001b[36m \u001b[39m\u001b[32mIn[8]\u001b[39m\u001b[32m, line 118\u001b[39m\n\u001b[32m    114\u001b[39m             \u001b[38;5;28;01mreturn\u001b[39;00m completion\n\u001b[32m    117\u001b[39m \u001b[38;5;66;03m# Ensure the class is defined before creating an instance\u001b[39;00m\n\u001b[32m--> \u001b[39m\u001b[32m118\u001b[39m discussion = Discussion()\n\u001b[32m    120\u001b[39m \u001b[38;5;28;01mimport\u001b[39;00m\u001b[38;5;250m \u001b[39m\u001b[34;01mgradio\u001b[39;00m\u001b[38;5;250m \u001b[39m\u001b[38;5;28;01mas\u001b[39;00m\u001b[38;5;250m \u001b[39m\u001b[34;01mgr\u001b[39;00m\n\u001b[32m    122\u001b[39m gr.Interface(\n\u001b[32m    123\u001b[39m     theme=gr.themes.Soft(),\n\u001b[32m    124\u001b[39m     fn=discussion.discuss_from_audio,\n\u001b[32m   (...)\u001b[39m\u001b[32m    129\u001b[39m     description=\u001b[33m\"\u001b[39m\u001b[33mGrave um áudio pelo microfone e obtenha a transcrição.\u001b[39m\u001b[33m\"\u001b[39m\n\u001b[32m    130\u001b[39m ).launch()\n",
      "\u001b[36mCell\u001b[39m\u001b[36m \u001b[39m\u001b[32mIn[8]\u001b[39m\u001b[32m, line 38\u001b[39m, in \u001b[36mDiscussion.__init__\u001b[39m\u001b[34m(self, state, messages_history)\u001b[39m\n\u001b[32m     36\u001b[39m \u001b[38;5;28mself\u001b[39m.state = state\n\u001b[32m     37\u001b[39m \u001b[38;5;28mself\u001b[39m.messages_history = messages_history\n\u001b[32m---> \u001b[39m\u001b[32m38\u001b[39m \u001b[38;5;28mself\u001b[39m.client = OpenAI()\n\u001b[32m     39\u001b[39m \u001b[38;5;28mself\u001b[39m.stt_model = whisper.load_model(\u001b[33m\"\u001b[39m\u001b[33mbase\u001b[39m\u001b[33m\"\u001b[39m)\n",
      "\u001b[31mNameError\u001b[39m: name 'OpenAI' is not defined"
     ]
    }
   ],
   "source": [
    "starting_prompt = \"\"\"Você é um assistente.\n",
    "Você pode discutir com o usuário.\n",
    "Você receberá instruções começando com [Instruction] ou entrada do usuário começando com [User]. Siga as instruções.\n",
    "\"\"\"\n",
    "\n",
    "prompts = {\n",
    "'START': '[Instrução] Escreva WRITE_EMAIL se o usuário quiser escrever um e-mail, \"QUESTION\" se o usuário tiver uma pergunta precisa, \"OTHER\" em qualquer outro caso. Escreva apenas uma palavra.',\n",
    "'QUESTION': '[Instrução] Se você puder responder à pergunta, escreva \"ANSWER\", se precisar de mais informações, escreva MORE, se não puder responder, escreva \"OTHER\". Escreva apenas uma palavra.',\n",
    "'ANSWER': '[Instrução] Responda à pergunta do usuário',\n",
    "'MORE': '[Instrução] Peça mais informações ao usuário, conforme especificado nas instruções anteriores',\n",
    "'OTHER': '[Instrução] Dê uma resposta educada ou saudações se o usuário estiver conversando educadamente. Caso contrário, responda ao usuário que você não pode responder à pergunta ou realizar a ação',\n",
    "}\n",
    "\n",
    "class Discussion:\n",
    "    \"\"\"\n",
    "    A class representing a discussion with a voice assistant.\n",
    "\n",
    "    Attributes:\n",
    "        state (str): The current state of the discussion.\n",
    "        messages_history (list): A list of dictionaries representing the history of messages in the discussion.\n",
    "        client: An instance of the OpenAI client.\n",
    "        stt_model: The speech-to-text model used for transcribing audio.\n",
    "\n",
    "    Methods:\n",
    "        generate_answer: Generates an answer based on the given messages.\n",
    "        reset: Resets the discussion to the initial state.\n",
    "        do_action: Performs the specified action.\n",
    "        transcribe: Transcribes the given audio file.\n",
    "        discuss_from_audio: Starts a discussion based on the transcribed audio file.\n",
    "        discuss: Continues the discussion based on the given input.\n",
    "    \"\"\"\n",
    "\n",
    "    def __init__(self, state='START', messages_history=None) -> None:\n",
    "        if messages_history is None:\n",
    "            messages_history = [{'role': 'user', 'content': f'{starting_prompt}'}]\n",
    "        self.state = state\n",
    "        self.messages_history = messages_history\n",
    "        self.client = OpenAI()\n",
    "        self.stt_model = whisper.load_model(\"base\")\n",
    "\n",
    "    def generate_answer(self, messages):\n",
    "        response = self.client.chat.completions.create(\n",
    "            model=\"gpt-4o-mini\",\n",
    "            messages=messages\n",
    "        )\n",
    "        return response.choices[0].message.content\n",
    "\n",
    "    def reset(self, start_state='START'):\n",
    "        self.messages_history = [{'role': 'user', 'content': f'{starting_prompt}'}]\n",
    "        self.state = start_state\n",
    "        self.previous_state = None\n",
    "\n",
    "    def reset_to_previous_state(self):\n",
    "        self.state = self.previous_state\n",
    "        self.previous_state = None\n",
    "\n",
    "    def to_state(self, state):\n",
    "        self.previous_state = self.state\n",
    "        self.state = state\n",
    "\n",
    "    def do_action(self, action):\n",
    "        \"\"\"\n",
    "        Performs the specified action.\n",
    "\n",
    "        Args:\n",
    "            action (str): The action to perform.\n",
    "        \"\"\"\n",
    "        print(f'DEBUG perform action={action}')\n",
    "        pass\n",
    "\n",
    "    def transcribe(self, file):\n",
    "        transcription = self.stt_model.transcribe(file)\n",
    "        return transcription['text']\n",
    "\n",
    "    def discuss_from_audio(self, file):\n",
    "        if file:\n",
    "            # Transcribe the audio file and use the input to start the discussion\n",
    "            return self.discuss(f'[User] {self.transcribe(file)}')\n",
    "        # Empty output if there is no file\n",
    "        return ''\n",
    "\n",
    "    def discuss(self, input=None):\n",
    "        if input is not None:\n",
    "            self.messages_history.append({\"role\": \"user\", \"content\": input})\n",
    "\n",
    "        # Generate a completion\n",
    "        completion = self.generate_answer(\n",
    "            self.messages_history +\n",
    "            [{\"role\": \"user\", \"content\": prompts[self.state]}]\n",
    "        )\n",
    "\n",
    "        # Is the completion an action?\n",
    "        actions = [\"action1\", \"action2\"]\n",
    "        if completion.split(\"|\")[0].strip() in actions:\n",
    "            action = completion.split(\"|\")[0].strip()\n",
    "            self.to_state(action)\n",
    "            self.do_action(completion)\n",
    "            # Continue discussion\n",
    "            return self.discuss()\n",
    "        # Is the completion a new state?\n",
    "        elif completion in prompts:\n",
    "            self.to_state(completion)\n",
    "            # Continue discussion\n",
    "            return self.discuss()\n",
    "        # Is the completion an output for the user?\n",
    "        else:\n",
    "            self.messages_history.append({\"role\": \"assistant\", \"content\": completion})\n",
    "            if self.state != 'MORE':\n",
    "                # Get back to start\n",
    "                self.reset()\n",
    "            else:\n",
    "                # Get back to previous state\n",
    "                self.reset_to_previous_state()\n",
    "            return completion\n",
    "\n",
    "\n",
    "# Ensure the class is defined before creating an instance\n",
    "discussion = Discussion()\n",
    "\n",
    "import gradio as gr\n",
    "\n",
    "gr.Interface(\n",
    "    theme=gr.themes.Soft(),\n",
    "    fn=discussion.discuss_from_audio,\n",
    "    live=True,\n",
    "    inputs=gr.Audio(sources=\"microphone\", type=\"filepath\"),\n",
    "    outputs=\"text\",\n",
    "    title=\"Transcrição de Áudio\",\n",
    "    description=\"Grave um áudio pelo microfone e obtenha a transcrição.\"\n",
    ").launch()\n",
    "\n"
   ]
  },
  {
   "cell_type": "code",
   "execution_count": null,
   "id": "f9c60c11",
   "metadata": {},
   "outputs": [],
   "source": [
    "# To use command line instead of Gradio, remove above code and use this instead:  Qual  acapital do Brasil ?\n",
    "#while True:\n",
    "message = input('User: ')\n",
    "print(f'Assistant: {discussion.discuss(message)}')"
   ]
  },
  {
   "cell_type": "code",
   "execution_count": 9,
   "id": "602ba57e-d174-44b8-9ad0-774bb2c636fd",
   "metadata": {},
   "outputs": [
    {
     "name": "stdout",
     "output_type": "stream",
     "text": [
      "* Running on local URL:  http://127.0.0.1:7860\n",
      "* To create a public link, set `share=True` in `launch()`.\n"
     ]
    },
    {
     "data": {
      "text/html": [
       "<div><iframe src=\"http://127.0.0.1:7860/\" width=\"100%\" height=\"500\" allow=\"autoplay; camera; microphone; clipboard-read; clipboard-write;\" frameborder=\"0\" allowfullscreen></iframe></div>"
      ],
      "text/plain": [
       "<IPython.core.display.HTML object>"
      ]
     },
     "metadata": {},
     "output_type": "display_data"
    },
    {
     "data": {
      "text/plain": []
     },
     "execution_count": 9,
     "metadata": {},
     "output_type": "execute_result"
    }
   ],
   "source": [
    "import gradio as gr  # Funcionou !!\n",
    "\n",
    "# Função que retorna o caminho do arquivo de áudio\n",
    "def play_audio():\n",
    "    return \"./apresentacao.mp3\"\n",
    "\n",
    "# Criação da interface Gradio\n",
    "interface = gr.Interface(\n",
    "    fn=play_audio,\n",
    "    inputs=[],\n",
    "    outputs=gr.Audio(type=\"filepath\", label=\"Tocar Áudio\"),\n",
    "    title=\"Tocar Áudio MP3\",\n",
    "    description=\"Clique no botão Generate para tocar o áudio.\"\n",
    ")\n",
    "\n",
    "# Inicia a interface\n",
    "interface.launch()\n",
    "\n"
   ]
  },
  {
   "cell_type": "code",
   "execution_count": 10,
   "id": "6c885248-5d63-4f23-8f4f-490d8941ad1c",
   "metadata": {},
   "outputs": [
    {
     "ename": "TypeError",
     "evalue": "argument of type 'NoneType' is not iterable",
     "output_type": "error",
     "traceback": [
      "\u001b[31m---------------------------------------------------------------------------\u001b[39m",
      "\u001b[31mTypeError\u001b[39m                                 Traceback (most recent call last)",
      "\u001b[36mCell\u001b[39m\u001b[36m \u001b[39m\u001b[32mIn[10]\u001b[39m\u001b[32m, line 2\u001b[39m\n\u001b[32m      1\u001b[39m \u001b[38;5;28;01mimport\u001b[39;00m\u001b[38;5;250m \u001b[39m\u001b[34;01mgradio\u001b[39;00m\u001b[38;5;250m \u001b[39m\u001b[38;5;28;01mas\u001b[39;00m\u001b[38;5;250m \u001b[39m\u001b[34;01mgr\u001b[39;00m\n\u001b[32m----> \u001b[39m\u001b[32m2\u001b[39m \u001b[38;5;28;01mimport\u001b[39;00m\u001b[38;5;250m \u001b[39m\u001b[34;01mwhisper\u001b[39;00m\n\u001b[32m      4\u001b[39m \u001b[38;5;66;03m# Carregar o modelo de transcrição do Whisper\u001b[39;00m\n\u001b[32m      5\u001b[39m model = whisper.load_model(\u001b[33m\"\u001b[39m\u001b[33mbase\u001b[39m\u001b[33m\"\u001b[39m)\n",
      "\u001b[36mFile \u001b[39m\u001b[32m~\\InstallAnaconda\\envs\\academia3_13\\Lib\\site-packages\\whisper.py:69\u001b[39m\n\u001b[32m     67\u001b[39m \u001b[38;5;28;01mif\u001b[39;00m CAN_FALLOCATE:\n\u001b[32m     68\u001b[39m   libc_name = ctypes.util.find_library(\u001b[33m'\u001b[39m\u001b[33mc\u001b[39m\u001b[33m'\u001b[39m)\n\u001b[32m---> \u001b[39m\u001b[32m69\u001b[39m   libc = ctypes.CDLL(libc_name)\n\u001b[32m     70\u001b[39m   c_off64_t = ctypes.c_int64\n\u001b[32m     71\u001b[39m   c_off_t = ctypes.c_int\n",
      "\u001b[36mFile \u001b[39m\u001b[32m~\\InstallAnaconda\\envs\\academia3_13\\Lib\\ctypes\\__init__.py:380\u001b[39m, in \u001b[36mCDLL.__init__\u001b[39m\u001b[34m(self, name, mode, handle, use_errno, use_last_error, winmode)\u001b[39m\n\u001b[32m    378\u001b[39m \u001b[38;5;28;01mimport\u001b[39;00m\u001b[38;5;250m \u001b[39m\u001b[34;01mnt\u001b[39;00m\n\u001b[32m    379\u001b[39m mode = nt._LOAD_LIBRARY_SEARCH_DEFAULT_DIRS\n\u001b[32m--> \u001b[39m\u001b[32m380\u001b[39m \u001b[38;5;28;01mif\u001b[39;00m \u001b[33m'\u001b[39m\u001b[33m/\u001b[39m\u001b[33m'\u001b[39m \u001b[38;5;129;01min\u001b[39;00m name \u001b[38;5;129;01mor\u001b[39;00m \u001b[33m'\u001b[39m\u001b[38;5;130;01m\\\\\u001b[39;00m\u001b[33m'\u001b[39m \u001b[38;5;129;01min\u001b[39;00m name:\n\u001b[32m    381\u001b[39m     \u001b[38;5;28mself\u001b[39m._name = nt._getfullpathname(\u001b[38;5;28mself\u001b[39m._name)\n\u001b[32m    382\u001b[39m     mode |= nt._LOAD_LIBRARY_SEARCH_DLL_LOAD_DIR\n",
      "\u001b[31mTypeError\u001b[39m: argument of type 'NoneType' is not iterable"
     ]
    }
   ],
   "source": [
    "import gradio as gr\n",
    "import whisper\n",
    "\n",
    "# Carregar o modelo de transcrição do Whisper\n",
    "model = whisper.load_model(\"base\")\n",
    "\n",
    "# Função que retorna o caminho do arquivo de áudio e sua transcrição\n",
    "def play_and_transcribe_audio():\n",
    "    audio_path = \"./apresentacao.mp3\"\n",
    "    transcription = model.transcribe(audio_path)\n",
    "    return audio_path, transcription[\"text\"]\n",
    "\n",
    "# Criação da interface Gradio\n",
    "interface = gr.Interface(\n",
    "    fn=play_and_transcribe_audio,\n",
    "    inputs=[],\n",
    "    outputs=[gr.Audio(type=\"filepath\", label=\"Tocar Áudio\"), gr.Textbox(label=\"Transcrição\")],\n",
    "    title=\"Tocar Áudio MP3 e Transcrição\",\n",
    "    description=\"Clique no botão Generate para tocar o áudio e ver a transcrição.\"\n",
    ")\n",
    "\n",
    "# Inicia a interface\n",
    "interface.launch()\n"
   ]
  },
  {
   "cell_type": "code",
   "execution_count": null,
   "id": "a9a67cd3-e419-4b6a-9957-af8e20795423",
   "metadata": {},
   "outputs": [],
   "source": []
  }
 ],
 "metadata": {
  "kernelspec": {
   "display_name": "Python 3 (ipykernel)",
   "language": "python",
   "name": "python3"
  },
  "language_info": {
   "codemirror_mode": {
    "name": "ipython",
    "version": 3
   },
   "file_extension": ".py",
   "mimetype": "text/x-python",
   "name": "python",
   "nbconvert_exporter": "python",
   "pygments_lexer": "ipython3",
   "version": "3.13.4"
  }
 },
 "nbformat": 4,
 "nbformat_minor": 5
}

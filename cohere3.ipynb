{
 "cells": [
  {
   "cell_type": "code",
   "execution_count": 1,
   "id": "1a9bf434-7e42-442a-aa5b-a7252fc810f1",
   "metadata": {},
   "outputs": [],
   "source": [
    "# https://docs.cohere.com/docs/chat-on-langchain\n",
    "# https://www.pinecone.io/learn/refine-with-rerank/\n",
    "\n",
    "import os\n",
    "import openai\n",
    "import getpass  # platform.openai.com\n",
    "from dotenv import load_dotenv\n",
    "\n",
    "load_dotenv(dotenv_path='.env')\n",
    "cohere_api_key = os.getenv(\"COHERE_API_KEY\")"
   ]
  },
  {
   "cell_type": "code",
   "execution_count": 2,
   "id": "04bee2d1-45a5-4379-b229-c4936ecd3ee7",
   "metadata": {},
   "outputs": [
    {
     "name": "stdout",
     "output_type": "stream",
     "text": [
      "id='7a09a493-0242-425e-bc34-958de2a898e9' results=[V2RerankResponseResultsItem(document=V2RerankResponseResultsItemDocument(text='Washington, D.C. (also known as simply Washington or D.C., and officially as the District of Columbia) is the capital of the United States. It is a federal district.'), index=3, relevance_score=0.999071), V2RerankResponseResultsItem(document=V2RerankResponseResultsItemDocument(text='Capital punishment (the death penalty) has existed in the United States since beforethe United States was a country. As of 2017, capital punishment is legal in 30 of the 50 states.'), index=4, relevance_score=0.7867867), V2RerankResponseResultsItem(document=V2RerankResponseResultsItemDocument(text='Carson City is the capital city of the American state of Nevada.'), index=0, relevance_score=0.32713068)] meta=ApiMeta(api_version=ApiMetaApiVersion(version='2', is_deprecated=None, is_experimental=None), billed_units=ApiMetaBilledUnits(images=None, input_tokens=None, output_tokens=None, search_units=1.0, classifications=None), tokens=None, warnings=None)\n"
     ]
    }
   ],
   "source": [
    "import cohere\n",
    "\n",
    "co = cohere.ClientV2(api_key=cohere_api_key)\n",
    "\n",
    "docs = [\n",
    "    \"Carson City is the capital city of the American state of Nevada.\",\n",
    "    \"The Commonwealth of the Northern Mariana Islands is a group of islands in the Pacific Ocean. Its capital is Saipan.\",\n",
    "    \"Capitalization or capitalisation in English grammar is the use of a capital letter at the start of a word. English usage varies from capitalization in other languages.\",\n",
    "    \"Washington, D.C. (also known as simply Washington or D.C., and officially as the District of Columbia) is the capital of the United States. It is a federal district.\",\n",
    "    \"Capital punishment (the death penalty) has existed in the United States since beforethe United States was a country. As of 2017, capital punishment is legal in 30 of the 50 states.\",\n",
    "]\n",
    "\n",
    "response = co.rerank(\n",
    "    model=\"rerank-english-v3.0\",\n",
    "    query=\"What is the capital of the United States?\",\n",
    "    documents=docs,\n",
    "    top_n=3,\n",
    "    return_documents=True\n",
    ")\n",
    "\n",
    "print(response)\n"
   ]
  },
  {
   "cell_type": "code",
   "execution_count": 3,
   "id": "541b3d01-79f3-414c-b93d-20ca1485e3d4",
   "metadata": {},
   "outputs": [
    {
     "name": "stdout",
     "output_type": "stream",
     "text": [
      "document=V2RerankResponseResultsItemDocument(text='Washington, D.C. (also known as simply Washington or D.C., and officially as the District of Columbia) is the capital of the United States. It is a federal district.') index=3 relevance_score=0.999071\n",
      "document=V2RerankResponseResultsItemDocument(text='Capital punishment (the death penalty) has existed in the United States since beforethe United States was a country. As of 2017, capital punishment is legal in 30 of the 50 states.') index=4 relevance_score=0.7867867\n",
      "document=V2RerankResponseResultsItemDocument(text='Carson City is the capital city of the American state of Nevada.') index=0 relevance_score=0.32713068\n"
     ]
    }
   ],
   "source": [
    "for result in response.results:\n",
    "    print(result)"
   ]
  },
  {
   "cell_type": "code",
   "execution_count": 4,
   "id": "6f643fa1-00bb-4dd4-914c-af0a048283bf",
   "metadata": {},
   "outputs": [
    {
     "name": "stdout",
     "output_type": "stream",
     "text": [
      "Document 3, Relevance score: 0.999071: Washington, D.C. (also known as simply Washington or D.C., and officially as the District of Columbia) is the capital of the United States. It is a federal district. \n",
      "\n",
      "Document 4, Relevance score: 0.7867867: Capital punishment (the death penalty) has existed in the United States since beforethe United States was a country. As of 2017, capital punishment is legal in 30 of the 50 states. \n",
      "\n",
      "Document 0, Relevance score: 0.32713068: Carson City is the capital city of the American state of Nevada. \n",
      "\n"
     ]
    }
   ],
   "source": [
    "for result in response.results:\n",
    "    if result.document is not None:\n",
    "        print(f\"Document {result.index}, Relevance score: {result.relevance_score}: {result.document.text} \\n\")\n",
    "    else:\n",
    "        print(f\"Document not found for result {result.index}. Relevance score: {result.relevance_score} \\n\")\n"
   ]
  },
  {
   "cell_type": "code",
   "execution_count": 5,
   "id": "f32dae3e-90b8-4c3e-a941-30c9d513ec9d",
   "metadata": {},
   "outputs": [
    {
     "name": "stdout",
     "output_type": "stream",
     "text": [
      "bbdc198e-c927-4f08-a33a-fea5bbe6c27e\n",
      "[V2RerankResponseResultsItem(document=V2RerankResponseResultsItemDocument(text=None, Content='Washington, D.C. (also known as simply Washington or D.C., and officially as the District of Columbia) is the capital of the United States. It is a federal district. The President of the USA and many major national government offices are in the territory. This makes it the political center of the United States of America.', Title='Washington D.C.'), index=3, relevance_score=0.9987405), V2RerankResponseResultsItem(document=V2RerankResponseResultsItemDocument(text=None, Content='Capital punishment (the death penalty) has existed in the United States since before the United States was a country. As of 2017, capital punishment is legal in 30 of the 50 states. The federal government (including the United States military) also uses capital punishment.', Title='Capital Punishment in the US'), index=4, relevance_score=0.5011778)]\n",
      "\n",
      "\n",
      "\n",
      "0.9987405\n",
      "Washington, D.C. (also known as simply Washington or D.C., and officially as the District of Columbia) is the capital of the United States. It is a federal district. The President of the USA and many major national government offices are in the territory. This makes it the political center of the United States of America.\n",
      "*****************\n",
      "0.5011778\n",
      "Capital punishment (the death penalty) has existed in the United States since before the United States was a country. As of 2017, capital punishment is legal in 30 of the 50 states. The federal government (including the United States military) also uses capital punishment.\n",
      "*****************\n"
     ]
    }
   ],
   "source": [
    "# https://docs.cohere.com/v2/docs/overview\n",
    "import cohere\n",
    "import os\n",
    "from dotenv import load_dotenv\n",
    "\n",
    "load_dotenv(dotenv_path='.env')\n",
    "cohere_api_key=os.getenv(\"COHERE_API_KEY\")\n",
    "co = cohere.ClientV2(api_key=cohere_api_key)\n",
    "\n",
    "query = \"What is the capital of the United States?\"\n",
    "docs = [\n",
    "  {\"Title\":\"Facts about Carson City\",\"Content\":\"Carson City is the capital city of the American state of Nevada. At the 2010 United States Census, Carson City had a population of 55,274.\"},\n",
    "  {\"Title\":\"The Commonwealth of Northern Mariana Islands\",\"Content\":\"The Commonwealth of the Northern Mariana Islands is a group of islands in the Pacific Ocean that are a political division controlled by the United States. Its capital is Saipan.\"},\n",
    "  {\"Title\":\"The Capital of United States Virgin Islands\",\"Content\":\"Charlotte Amalie is the capital and largest city of the United States Virgin Islands. It has about 20,000 people. The city is on the island of Saint Thomas.\"},\n",
    "  {\"Title\":\"Washington D.C.\",\"Content\":\"Washington, D.C. (also known as simply Washington or D.C., and officially as the District of Columbia) is the capital of the United States. It is a federal district. The President of the USA and many major national government offices are in the territory. This makes it the political center of the United States of America.\"},\n",
    "\t{\"Title\":\"Capital Punishment in the US\",\"Content\":\"Capital punishment (the death penalty) has existed in the United States since before the United States was a country. As of 2017, capital punishment is legal in 30 of the 50 states. The federal government (including the United States military) also uses capital punishment.\"}]\n",
    "\n",
    "results = co.rerank(model=\"rerank-english-v3.0\", query=query, documents=docs, rank_fields=['Title','Content'],top_n=2, return_documents=True)\n",
    "print(results.id)\n",
    "print(results.results)\n",
    "print(\"\\n\\n\")\n",
    "for item in results.results:\n",
    "    #print(item)\n",
    "    print(item.relevance_score)\n",
    "    print(item.document.Content)\n",
    "    print(\"*****************\")"
   ]
  },
  {
   "cell_type": "code",
   "execution_count": 8,
   "id": "0c3f4bb7-58f3-4baf-92e2-e8bc4b50dbf8",
   "metadata": {},
   "outputs": [
    {
     "name": "stdout",
     "output_type": "stream",
     "text": [
      "{'id': 'id-1', 'text': 'A cor da mesa é vermelha'}\n",
      "\n",
      "\n",
      "A cor da mesa é vermelha\n",
      "\n",
      "\n",
      "------------------------------\n",
      "\n",
      "\n",
      "A cor da mesa é vermelha.\n",
      "[ChatCitation(start=16, end=25, text='vermelha.', document_ids=['id-1'])]\n"
     ]
    }
   ],
   "source": [
    "from langchain_cohere import CohereRagRetriever\n",
    "from langchain_cohere import ChatCohere\n",
    "from langchain_core.documents import Document\n",
    "\n",
    "cohere_chat_model = ChatCohere(cohere_api_key=os.getenv(\"COHERE_API_KEY\"))\n",
    "rag = CohereRagRetriever(llm=cohere_chat_model, connectors=[])\n",
    "\n",
    "query = \"Qual a cor da mesa?\"\n",
    "input_docs = [\n",
    "    Document(page_content=\"A cor da mesa é vermelha\", metadata={\"id\": \"id-1\", \"citations\": \"citation1\"}),\n",
    "    Document(page_content=\"A cor da bola é amarela\", metadata={\"id\": \"id-2\", \"citations\": \"citation2\"}),\n",
    "    Document(page_content=\"A cor do mesa é violeta\", metadata={\"id\": \"id-3\", \"citations\": \"citation3\"}),\n",
    "]\n",
    "\n",
    "# docs = rag.get_relevant_documents(query)  # Chamada sem 'source_documents'\n",
    "docs = rag.invoke(\n",
    "    query,\n",
    "    documents=input_docs,\n",
    ")\n",
    "\n",
    "# Print the documents\n",
    "for doc in docs[:-1]:\n",
    "    print(doc.metadata)\n",
    "    print(\"\\n\\n\" + doc.page_content)\n",
    "    print(\"\\n\\n\" + \"-\" * 30 + \"\\n\\n\")\n",
    "    \n",
    "# Print the final generation \n",
    "answer = docs[-1].page_content\n",
    "print(answer)\n",
    "# Print the final citations \n",
    "citations = docs[-1].metadata['citations']\n",
    "print(citations)"
   ]
  },
  {
   "cell_type": "code",
   "execution_count": 9,
   "id": "892e049c-932d-4b05-a645-f05367fdfcaf",
   "metadata": {},
   "outputs": [
    {
     "data": {
      "text/plain": [
       "2"
      ]
     },
     "execution_count": 9,
     "metadata": {},
     "output_type": "execute_result"
    }
   ],
   "source": [
    "len(docs)"
   ]
  },
  {
   "cell_type": "code",
   "execution_count": 10,
   "id": "b4d55ad1-cd1c-435a-b987-adf4b1555a1f",
   "metadata": {},
   "outputs": [
    {
     "name": "stdout",
     "output_type": "stream",
     "text": [
      "Rank: 1\n",
      "Document: Trabalhar no exterior: É possível trabalhar remotamente de outro país. Basta coordenar com seu gerente e garantir que você esteja disponível.\n",
      "\n",
      "Rank: 2\n",
      "Document: Reembolso de despesas de viagem: gerencie facilmente suas despesas de viagem enviando-as por meio de nossa ferramenta financeira. \n",
      "\n"
     ]
    }
   ],
   "source": [
    "import numpy as np\n",
    "\n",
    "### STEP 1: Embed the documents\n",
    "\n",
    "documents = [\n",
    " \"Reembolso de despesas de viagem: gerencie facilmente suas despesas de viagem enviando-as por meio de nossa ferramenta financeira. \",\n",
    " \"Trabalhar no exterior: É possível trabalhar remotamente de outro país. Basta coordenar com seu gerente e garantir que você esteja disponível.\",\n",
    " \"Benefícios de saúde e bem-estar: nos preocupamos com o seu bem-estar e oferecemos inscrições em academias, aulas de ioga no local e seguro saúde\",\n",
    " \"Frequência das avaliações de desempenho: realizamos avaliações informais trimestralmente e revisões formais duas vezes por ano.\",\n",
    "]\n",
    "\n",
    "# Embed the documents\n",
    "doc_emb = co.embed(\n",
    "    texts=documents,\n",
    "    model=\"embed-english-v3.0\",\n",
    "    input_type=\"search_document\",\n",
    "    embedding_types=[\"float\"]\n",
    ").embeddings.float\n",
    "\n",
    "### STEP 2: Embed the query\n",
    "\n",
    "# Add the user query\n",
    "query = \"Qual sua política de trabalho remoto?\"\n",
    "\n",
    "# Embed the query\n",
    "query_emb = co.embed(\n",
    "    texts=[query],\n",
    "    model=\"embed-english-v3.0\",\n",
    "    input_type=\"search_query\",\n",
    "    embedding_types=[\"float\"]\n",
    ").embeddings.float\n",
    "\n",
    "### STEP 3: Return the most similar documents\n",
    "\n",
    "# Calculate similarity scores\n",
    "scores = np.dot(query_emb, np.transpose(doc_emb))[0]\n",
    "\n",
    "# Sort and filter documents based on scores\n",
    "top_n = 2\n",
    "top_doc_idxs = np.argsort(-scores)[:top_n] # retornará os índices dos elementos em ordem decrescente (-scores).\n",
    "\n",
    "# Display search results\n",
    "for idx, docs_idx in enumerate(top_doc_idxs):\n",
    "    print(f\"Rank: {idx+1}\")\n",
    "    print(f\"Document: {documents[docs_idx]}\\n\")\n",
    "\n"
   ]
  },
  {
   "cell_type": "code",
   "execution_count": null,
   "id": "6805b0b7-8654-4bc2-8b69-a6359bf38786",
   "metadata": {},
   "outputs": [],
   "source": []
  }
 ],
 "metadata": {
  "kernelspec": {
   "display_name": "Python 3 (ipykernel)",
   "language": "python",
   "name": "python3"
  },
  "language_info": {
   "codemirror_mode": {
    "name": "ipython",
    "version": 3
   },
   "file_extension": ".py",
   "mimetype": "text/x-python",
   "name": "python",
   "nbconvert_exporter": "python",
   "pygments_lexer": "ipython3",
   "version": "3.10.15"
  }
 },
 "nbformat": 4,
 "nbformat_minor": 5
}

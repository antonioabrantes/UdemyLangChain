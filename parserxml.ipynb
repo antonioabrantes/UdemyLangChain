{
 "cells": [
  {
   "cell_type": "code",
   "execution_count": 1,
   "id": "0f05a21b-cea4-450b-ad1e-e3e5c2b53fab",
   "metadata": {},
   "outputs": [],
   "source": [
    "import xml.etree.ElementTree as ET"
   ]
  },
  {
   "cell_type": "code",
   "execution_count": 2,
   "id": "0f58439d-7991-4d12-b4ae-b3569fc18044",
   "metadata": {},
   "outputs": [
    {
     "name": "stdout",
     "output_type": "stream",
     "text": [
      "biblioteca\n"
     ]
    }
   ],
   "source": [
    "tree = ET.parse(\"exemplo.xml\")\n",
    "root = tree.getroot()\n",
    "print(root.tag)"
   ]
  },
  {
   "cell_type": "code",
   "execution_count": 3,
   "id": "d3db7972-590b-4f83-8f7b-6aa25f85dbb7",
   "metadata": {},
   "outputs": [
    {
     "name": "stdout",
     "output_type": "stream",
     "text": [
      "1984 George Orwell\n",
      "Cem Anos de Solidão Gabriel García Márquez\n",
      "O Senhor dos Anéis J.R.R. Tolkien\n"
     ]
    }
   ],
   "source": [
    "for livro in root.findall(\"livro\"):\n",
    "    titulo = livro.find(\"titulo\").text\n",
    "    autor = livro.find(\"autor\").text\n",
    "    print(titulo, autor)"
   ]
  },
  {
   "cell_type": "code",
   "execution_count": 5,
   "id": "b691257f-f463-4160-b20b-e7ae0b5b122a",
   "metadata": {},
   "outputs": [
    {
     "name": "stdout",
     "output_type": "stream",
     "text": [
      "Autor: George Orwell, Titulo: 1984, Gênero: Ficção Científica\n"
     ]
    }
   ],
   "source": [
    "for livro in root.findall(\"livro\"):\n",
    "    autor = livro.find(\"autor\").text\n",
    "    if autor=='George Orwell':\n",
    "        titulo = livro.find(\"titulo\").text\n",
    "        genero = livro.find(\"genero\").text\n",
    "        print(f\"Autor: {autor}, Titulo: {titulo}, Gênero: {genero}\")"
   ]
  },
  {
   "cell_type": "code",
   "execution_count": null,
   "id": "f468a365-713d-4c81-95b8-9707b6a740e2",
   "metadata": {},
   "outputs": [],
   "source": []
  }
 ],
 "metadata": {
  "kernelspec": {
   "display_name": "Python 3 (ipykernel)",
   "language": "python",
   "name": "python3"
  },
  "language_info": {
   "codemirror_mode": {
    "name": "ipython",
    "version": 3
   },
   "file_extension": ".py",
   "mimetype": "text/x-python",
   "name": "python",
   "nbconvert_exporter": "python",
   "pygments_lexer": "ipython3",
   "version": "3.12.4"
  }
 },
 "nbformat": 4,
 "nbformat_minor": 5
}

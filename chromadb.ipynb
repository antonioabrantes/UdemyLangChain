{
 "cells": [
  {
   "cell_type": "code",
   "execution_count": 1,
   "id": "e585db6a-ba6e-4747-b445-4ff8a72f364b",
   "metadata": {},
   "outputs": [],
   "source": [
    "# pip install chromadb\n",
    "\n",
    "import os\n",
    "from dotenv import load_dotenv\n",
    "from langchain_openai import ChatOpenAI\n",
    "\n",
    "load_dotenv('./.env')\n",
    "openai_api_key = os.getenv(\"OPENAI_API_KEY\")\n"
   ]
  },
  {
   "cell_type": "code",
   "execution_count": 2,
   "id": "0240bfe8-963d-4bee-8ae5-9951c91a1535",
   "metadata": {},
   "outputs": [],
   "source": [
    "llm = ChatOpenAI(\n",
    "    model='gpt-4o-mini',\n",
    "    openai_api_key = openai_api_key,\n",
    "    max_tokens = 512\n",
    ")"
   ]
  },
  {
   "cell_type": "code",
   "execution_count": 3,
   "id": "e5c1a684-8d2f-4e92-935c-6105cbaf0638",
   "metadata": {},
   "outputs": [],
   "source": [
    "from langchain_openai import OpenAIEmbeddings\n",
    "from langchain.vectorstores import Chroma\n",
    "from langchain.docstore.document import Document\n",
    "from langchain.chains import RetrievalQA\n",
    "\n",
    "# Configurar as embeddings\n",
    "embeddings = OpenAIEmbeddings(openai_api_key=openai_api_key)"
   ]
  },
  {
   "cell_type": "code",
   "execution_count": 4,
   "id": "f8a7e1c5-e590-46f7-b1fc-c91c9f7ac21c",
   "metadata": {},
   "outputs": [
    {
     "name": "stderr",
     "output_type": "stream",
     "text": [
      "C:\\Users\\otimi\\AppData\\Local\\Temp\\ipykernel_48284\\175187644.py:2: LangChainDeprecationWarning: The class `Chroma` was deprecated in LangChain 0.2.9 and will be removed in 1.0. An updated version of the class exists in the :class:`~langchain-chroma package and should be used instead. To use it run `pip install -U :class:`~langchain-chroma` and import as `from :class:`~langchain_chroma import Chroma``.\n",
      "  vector_store = Chroma(collection_name=\"minha_colecao\", embedding_function=embeddings)\n"
     ]
    }
   ],
   "source": [
    "# Criar um banco de dados vetorial usando Chroma\n",
    "vector_store = Chroma(collection_name=\"minha_colecao\", embedding_function=embeddings)\n"
   ]
  },
  {
   "cell_type": "code",
   "execution_count": 5,
   "id": "7656647b-9fd1-4d61-8791-87f8247be03f",
   "metadata": {},
   "outputs": [],
   "source": [
    "# Adicionar documentos\n",
    "documentos = [\n",
    "    Document(page_content=\"Maria foi a feira.\", metadata={\"id\": \"1\"}),\n",
    "    Document(page_content=\"João foi na escola.\", metadata={\"id\": \"2\"}),\n",
    "    Document(page_content=\"José foi na universidade.\", metadata={\"id\": \"3\"}),\n",
    "    Document(page_content=\"Gustavo ficou em casa.\", metadata={\"id\": \"4\"}),\n",
    "    Document(page_content=\"Olívia foi na farmácia.\", metadata={\"id\": \"5\"}),\n",
    "]\n",
    "vector_store.add_documents(documentos)\n",
    "\n",
    "# Configurar o sistema de recuperação\n",
    "retriever = vector_store.as_retriever()\n"
   ]
  },
  {
   "cell_type": "code",
   "execution_count": 6,
   "id": "f4aee14d-1341-448e-bce5-3d33d830c66e",
   "metadata": {},
   "outputs": [
    {
     "name": "stdout",
     "output_type": "stream",
     "text": [
      "{'query': 'Onde está Maria? Mostre o documento que diz isso.', 'result': 'Maria foi à feira.'}\n"
     ]
    }
   ],
   "source": [
    "# Criar uma chain de QA com o modelo da OpenAI\n",
    "qa = RetrievalQA.from_chain_type(\n",
    "    llm=llm,\n",
    "    chain_type=\"stuff\", \n",
    "    retriever=retriever\n",
    ")\n",
    "\n",
    "# Executar uma consulta\n",
    "query = \"Onde está Maria? Mostre o documento que diz isso.\"\n",
    "resposta = qa.invoke(query)\n",
    "print(resposta)"
   ]
  },
  {
   "cell_type": "code",
   "execution_count": 7,
   "id": "cb79b762-6ad6-495e-b1b4-73a7ae95d8b9",
   "metadata": {},
   "outputs": [],
   "source": [
    "from langchain_community.document_loaders import TextLoader \n",
    "from langchain.text_splitter import RecursiveCharacterTextSplitter\n",
    "\n",
    "loader = TextLoader('dados/lei9279.txt', encoding='utf-8') # to load text document \n",
    "documents = loader.load() \n",
    "text_splitter = RecursiveCharacterTextSplitter(chunk_size=1000, chunk_overlap=200) \n",
    "chunks = text_splitter.split_documents(documents) \n"
   ]
  },
  {
   "cell_type": "code",
   "execution_count": 8,
   "id": "64342c2b-41b0-47b2-88e7-0ae50055a996",
   "metadata": {},
   "outputs": [
    {
     "data": {
      "text/plain": [
       "Document(metadata={'source': 'dados/lei9279.txt'}, page_content='Parágrafo único. O pedido de patente poderá ser desarquivado, se o depositante assim o requerer, dentro de 60 (sessenta) dias contados do arquivamento, mediante pagamento de uma retribuição específica, sob pena de arquivamento definitivo.\\n#\\n       Art. 34. Requerido o exame, deverão ser apresentados, no prazo de 60 (sessenta) dias, sempre que solicitado, sob pena de arquivamento do pedido:\\n\\n        I - objeções, buscas de anterioridade e resultados de exame para concessão de pedido correspondente em outros países, quando houver reivindicação de prioridade;\\n\\n        II - documentos necessários à regularização do processo e exame do pedido; e\\n\\n        III - tradução simples do documento hábil referido no § 2º do art. 16, caso esta tenha sido substituída pela declaração prevista no § 5º do mesmo artigo.\\n#\\n        Art. 35. Por ocasião do exame técnico, será elaborado o relatório de busca e parecer relativo a:\\n\\n        I - patenteabilidade do pedido;')"
      ]
     },
     "execution_count": 8,
     "metadata": {},
     "output_type": "execute_result"
    }
   ],
   "source": [
    "chunks[20]"
   ]
  },
  {
   "cell_type": "code",
   "execution_count": 9,
   "id": "dceac96c-f528-4fc2-b80a-dbf193a3a46f",
   "metadata": {},
   "outputs": [
    {
     "data": {
      "text/plain": [
       "155"
      ]
     },
     "execution_count": 9,
     "metadata": {},
     "output_type": "execute_result"
    }
   ],
   "source": [
    "len(chunks)"
   ]
  },
  {
   "cell_type": "code",
   "execution_count": 10,
   "id": "e707c50b-e991-42c9-9012-437d70303fb6",
   "metadata": {},
   "outputs": [],
   "source": [
    "embeddings = OpenAIEmbeddings(openai_api_key=openai_api_key)\n",
    "vector_store = Chroma.from_documents(chunks, embeddings) \n",
    "retriever=vector_store.as_retriever() "
   ]
  },
  {
   "cell_type": "code",
   "execution_count": 11,
   "id": "650dd7a0-4e28-40f2-9dba-9e229605f559",
   "metadata": {},
   "outputs": [],
   "source": [
    "from langchain.chains import ConversationalRetrievalChain\n",
    "\n",
    "crc = ConversationalRetrievalChain.from_llm(llm, retriever) "
   ]
  },
  {
   "cell_type": "code",
   "execution_count": 12,
   "id": "4c036c9e-dbb8-4bf2-b25c-c4975aa915c8",
   "metadata": {},
   "outputs": [
    {
     "name": "stdout",
     "output_type": "stream",
     "text": [
      "Um certificado de adição é um instrumento legal que protege aperfeiçoamentos ou desenvolvimentos introduzidos em uma invenção já patenteada, mesmo que esses aperfeiçoamentos não apresentem atividade inventiva, desde que estejam relacionados ao mesmo conceito inventivo da patente original. Ele é considerado acessório da patente e tem a mesma data de vigência.\n",
      "\n",
      "O artigo da LPI (Lei de Propriedade Industrial) que trata do certificado de adição é o Art. 76.\n"
     ]
    }
   ],
   "source": [
    "question = 'o que é um certificado de adição ? qual artigo da LPI trata disso ?'\n",
    "response = crc.invoke({'question':question,'chat_history':''})\n",
    "print(response['answer'])"
   ]
  },
  {
   "cell_type": "code",
   "execution_count": null,
   "id": "f4bd8a6a-3eba-43e9-b8de-a4f0ca2df45f",
   "metadata": {},
   "outputs": [],
   "source": []
  }
 ],
 "metadata": {
  "kernelspec": {
   "display_name": "Python 3 (ipykernel)",
   "language": "python",
   "name": "python3"
  },
  "language_info": {
   "codemirror_mode": {
    "name": "ipython",
    "version": 3
   },
   "file_extension": ".py",
   "mimetype": "text/x-python",
   "name": "python",
   "nbconvert_exporter": "python",
   "pygments_lexer": "ipython3",
   "version": "3.10.15"
  }
 },
 "nbformat": 4,
 "nbformat_minor": 5
}

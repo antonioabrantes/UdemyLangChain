{
 "cells": [
  {
   "cell_type": "code",
   "execution_count": 1,
   "metadata": {},
   "outputs": [],
   "source": [
    "\n",
    "from langchain_core.output_parsers import StrOutputParser\n",
    "from langchain_core.prompts import PromptTemplate\n",
    "from langchain_openai import ChatOpenAI\n",
    "from dotenv import load_dotenv\n",
    "import os\n",
    "\n",
    "load_dotenv(dotenv_path='.env')\n",
    "openai_api_key = os.getenv(\"OPENAI_API_KEY\")\n",
    "\n",
    "classification_template = PromptTemplate.from_template(\n",
    "    \"\"\"Você deve classificar uma pergunta\n",
    "    \n",
    "    Dada a pergunta do usuário abaixo, classifique-a como sendo sobre `Carro`, `Restaurante` ou `Tecnologia`.\n",
    "\n",
    "    <Se a pergunta for sobre mecânica de carros, modelos ou tecnologia automotiva, classifique-a como 'Carro'>\n",
    "    <Se a pergunta for sobre piadas, classifique-a como 'Piada'>\n",
    "    <Se a pergunta for sobre patentes, classifique-a como 'Patente'>\n",
    "    \n",
    "    <question>\n",
    "    {question}\n",
    "    </question>\n",
    "    \n",
    "    Classificação:\"\"\"\n",
    ")\n",
    "\n",
    "classification_chain = classification_template | ChatOpenAI() | StrOutputParser()"
   ]
  },
  {
   "cell_type": "code",
   "execution_count": 4,
   "metadata": {},
   "outputs": [
    {
     "name": "stdout",
     "output_type": "stream",
     "text": [
      "Questão relativa a carros\n"
     ]
    }
   ],
   "source": [
    "import re\n",
    "\n",
    "carro_template = \"\"\"Você é um especialista em automóveis. Você tem amplo conhecimento sobre mecânica de carros, \\\n",
    "modelos e tecnologia automotiva. Você fornece respostas claras e úteis sobre carros.\\\n",
    "\\\n",
    "Pergunta:\\\n",
    "{query}\"\"\"\n",
    "\n",
    "piada_template = \"\"\"Você é um comediante,alegre e divertido. Dada uma pergunta crie uma piada sobre a pergunta \\\n",
    "\\\n",
    "Pergunta:\\\n",
    "{query}\"\"\"\n",
    "\n",
    "patent_template = \"\"\"Você é um assistente que responde perguntas sobre pedidos de patente, levando em conta o contexto {contexto} \\\n",
    "\\\n",
    "Pergunta:\\\n",
    "{query}\"\"\"\n",
    "\n",
    "# teste expressão regular online https://regex101.com/\n",
    "\n",
    "def extrair_numero_pedido(texto):\n",
    "    padrao = r\"(PI|MU|C1|C2|C3|C4|C5|C6|C7|C8|C9)\\s*\\d{7}(?:-\\d)?|(?:BR\\s*)?(?:\\d{2}\\s*)?(?:\\d{4}\\s*)?\\d{6}(?:-\\d)?\"\n",
    "    match = re.search(padrao, texto)\n",
    "    if match:\n",
    "        numero_pedido = match.group()\n",
    "        numero_pedido = numero_pedido.replace(\" \", \"\").upper().strip()\n",
    "        return numero_pedido\n",
    "    else:\n",
    "        return None\n",
    "        \n",
    "def prompt_router(input):\n",
    "    classification = classification_chain.invoke({\"question\": input[\"query\"]})\n",
    "   \n",
    "    if classification == \"Carro\":\n",
    "        print(\"Questão relativa a carros\")\n",
    "        return PromptTemplate.from_template(carro_template)\n",
    "    elif classification == \"Piada\":\n",
    "        print(\"Questão relativa a piada\")\n",
    "        return PromptTemplate.from_template(piada_template)\n",
    "    elif classification == \"Patente\":\n",
    "        print(\"Questão relativa a patentes\")\n",
    "        numero = extrair_numero_pedido(input[\"query\"])\n",
    "        if numero:\n",
    "            contexto = f\"O pedido {numero} teve carta patente concedida em 2024\" \n",
    "        else:\n",
    "            contexto = \"Informações adicionais sobre o pedido não foram encontradas.\"\n",
    "        return PromptTemplate.from_template(patent_template).format(query=input[\"query\"], contexto=contexto)\n",
    "    else:\n",
    "        print(\"Unexpected classification:\", classification)\n",
    "        return None\n",
    "\n",
    "query = \"Qual o andamento do pedido de patente PI8900908?\"\n",
    "#query = \"Qual o andamento do pedido de patente ?\"\n",
    "query = \"Quais as características de um veículo sedan ?\"\n",
    "input_query = {\"query\": query}\n",
    "prompt = prompt_router(input_query)"
   ]
  },
  {
   "cell_type": "code",
   "execution_count": 5,
   "metadata": {},
   "outputs": [],
   "source": [
    "from langchain_core.runnables import RunnableLambda, RunnablePassthrough\n",
    "chain = (\n",
    "    {\"query\": RunnablePassthrough()}\n",
    "    | RunnableLambda(prompt_router)\n",
    "    | ChatOpenAI()\n",
    "    | StrOutputParser()\n",
    ")"
   ]
  },
  {
   "cell_type": "code",
   "execution_count": 6,
   "metadata": {},
   "outputs": [
    {
     "name": "stdout",
     "output_type": "stream",
     "text": [
      "Questão relativa a patentes\n"
     ]
    },
    {
     "data": {
      "text/plain": [
       "'O pedido de patente PI8900908 teve a carta patente concedida em 2024, o que significa que o processo de patenteamento foi concluído com sucesso e a invenção foi oficialmente protegida. Se você está procurando informações atualizadas sobre o andamento do pedido de patente, recomendo entrar em contato com o órgão responsável pela concessão de patentes em seu país ou com um advogado especializado em propriedade intelectual. Eles poderão fornecer detalhes sobre qualquer atualização ou status adicional relacionado ao pedido de patente PI8900908.'"
      ]
     },
     "execution_count": 6,
     "metadata": {},
     "output_type": "execute_result"
    }
   ],
   "source": [
    "query = \"Qual o andamento do pedido de patente PI8900908?\"\n",
    "chain.invoke(query)"
   ]
  },
  {
   "cell_type": "code",
   "execution_count": 7,
   "metadata": {},
   "outputs": [
    {
     "name": "stdout",
     "output_type": "stream",
     "text": [
      "Questão relativa a carros\n"
     ]
    },
    {
     "data": {
      "text/plain": [
       "'O Jeep Compass possui diversos concorrentes no mercado de SUVs compactos, como o Hyundai ix35, o Ford Ecosport, o Honda HR-V, o Chevrolet Tracker, o Nissan Kicks, entre outros. Cada um desses modelos possui suas próprias características e vantagens, sendo importante comparar as especificações, desempenho e preço de cada um antes de tomar uma decisão de compra.'"
      ]
     },
     "execution_count": 7,
     "metadata": {},
     "output_type": "execute_result"
    }
   ],
   "source": [
    "chain.invoke(\"qual o concorrente do Compass ?\")"
   ]
  },
  {
   "cell_type": "code",
   "execution_count": null,
   "metadata": {},
   "outputs": [],
   "source": []
  }
 ],
 "metadata": {
  "kernelspec": {
   "display_name": "Python 3 (ipykernel)",
   "language": "python",
   "name": "python3"
  },
  "language_info": {
   "codemirror_mode": {
    "name": "ipython",
    "version": 3
   },
   "file_extension": ".py",
   "mimetype": "text/x-python",
   "name": "python",
   "nbconvert_exporter": "python",
   "pygments_lexer": "ipython3",
   "version": "3.12.4"
  }
 },
 "nbformat": 4,
 "nbformat_minor": 4
}

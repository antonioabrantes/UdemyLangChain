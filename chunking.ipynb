{
 "cells": [
  {
   "cell_type": "markdown",
   "metadata": {},
   "source": [
    "### Standard Chunking"
   ]
  },
  {
   "cell_type": "code",
   "execution_count": 38,
   "metadata": {},
   "outputs": [
    {
     "data": {
      "text/plain": [
       "True"
      ]
     },
     "execution_count": 38,
     "metadata": {},
     "output_type": "execute_result"
    }
   ],
   "source": [
    "from dotenv import load_dotenv\n",
    "import os\n",
    "\n",
    "app_dir = os.path.join(os.getcwd())\n",
    "load_dotenv(os.path.join(app_dir, \".env\"))"
   ]
  },
  {
   "cell_type": "code",
   "execution_count": 39,
   "metadata": {},
   "outputs": [],
   "source": [
    "with open(\"./dados/restaurant.txt\", encoding=\"utf-8\") as f:\n",
    "    raw_data = f.read()"
   ]
  },
  {
   "cell_type": "code",
   "execution_count": 41,
   "metadata": {},
   "outputs": [
    {
     "name": "stdout",
     "output_type": "stream",
     "text": [
      "Nas charmosas ruas de Palermo, escondido em um beco pitoresco, ficava o Chef Amico, um restaurante que era mais do que um mero restaurante — era um pedaço do paraíso siciliano. Fundado por Amico, um chef cujo nome era sinônimo de paixão e criatividade, o restaurante era um mosaico da jornada de sua vida pelos sabores da Itália.\n",
      "\n",
      "As portas do Chef Amico se abriram para um mundo onde os aromas de alho e azeite eram tão acolhedores quanto um abraço caloroso. As paredes, adornadas com fotos das viagens de Amico e receitas de família, falavam de uma rica herança culinária. A conversa e o riso dos clientes enchiam o ar, criando uma sinfonia tão deliciosa quanto os pratos servidos.\n",
      "\n",
      "Uma noite, enquanto o sol lançava um brilho dourado sobre a cidade, uma renomada crítica gastronômica, Elena Rossi, entrou no Chef Amico. Sua missão era descobrir o segredo por trás da crescente fama do restaurante. Ela foi recebida pelo próprio Amico, cujos olhos brilhavam com a alegria de um homem que amava seu trabalho.\n",
      "\n",
      "Elena foi levada a uma mesa adornada com um cenário simples e elegante. O primeiro prato foi Caponata, uma melodia de berinjela, alcaparras e tomates doces, que dançou em seu paladar. Em seguida, veio o Risotto al Nero di Seppia, um prato que contava a história do caso de amor da Sicília com o mar. Cada colherada era uma revelação, os sabores ricos da tinta de lula harmonizando com o arroz cremoso.\n",
      "\n",
      "A obra-prima final foi Cannoli, a joia da coroa das sobremesas sicilianas. Enquanto Elena saboreava o recheio doce de ricota, envolto em uma casca perfeitamente crocante, ela percebeu que o Chef Amico não era apenas sobre a comida. Era sobre as histórias, as tradições e o coração derramado em cada prato.\n",
      "\n",
      "Saindo do restaurante, Elena sabia que sua avaliação cantaria louvores não apenas à comida, mas à alma do Chef Amico — um lugar onde cada prato era uma jornada pela Sicília, e cada mordida, um gostinho do sonho de Amico se tornando realidade.\n"
     ]
    }
   ],
   "source": [
    "print(raw_data)"
   ]
  },
  {
   "cell_type": "code",
   "execution_count": 58,
   "metadata": {},
   "outputs": [
    {
     "name": "stderr",
     "output_type": "stream",
     "text": [
      "Created a chunk of size 329, which is longer than the specified 30\n",
      "Created a chunk of size 352, which is longer than the specified 30\n",
      "Created a chunk of size 324, which is longer than the specified 30\n",
      "Created a chunk of size 401, which is longer than the specified 30\n",
      "Created a chunk of size 305, which is longer than the specified 30\n"
     ]
    },
    {
     "name": "stdout",
     "output_type": "stream",
     "text": [
      "['Nas charmosas ruas de Palermo, escondido em um beco pitoresco, ficava o Chef Amico, um restaurante que era mais do que um mero restaurante — era um pedaço do paraíso siciliano. Fundado por Amico, um chef cujo nome era sinônimo de paixão e criatividade, o restaurante era um mosaico da jornada de sua vida pelos sabores da Itália.', 'As portas do Chef Amico se abriram para um mundo onde os aromas de alho e azeite eram tão acolhedores quanto um abraço caloroso. As paredes, adornadas com fotos das viagens de Amico e receitas de família, falavam de uma rica herança culinária. A conversa e o riso dos clientes enchiam o ar, criando uma sinfonia tão deliciosa quanto os pratos servidos.', 'Uma noite, enquanto o sol lançava um brilho dourado sobre a cidade, uma renomada crítica gastronômica, Elena Rossi, entrou no Chef Amico. Sua missão era descobrir o segredo por trás da crescente fama do restaurante. Ela foi recebida pelo próprio Amico, cujos olhos brilhavam com a alegria de um homem que amava seu trabalho.', 'Elena foi levada a uma mesa adornada com um cenário simples e elegante. O primeiro prato foi Caponata, uma melodia de berinjela, alcaparras e tomates doces, que dançou em seu paladar. Em seguida, veio o Risotto al Nero di Seppia, um prato que contava a história do caso de amor da Sicília com o mar. Cada colherada era uma revelação, os sabores ricos da tinta de lula harmonizando com o arroz cremoso.', 'A obra-prima final foi Cannoli, a joia da coroa das sobremesas sicilianas. Enquanto Elena saboreava o recheio doce de ricota, envolto em uma casca perfeitamente crocante, ela percebeu que o Chef Amico não era apenas sobre a comida. Era sobre as histórias, as tradições e o coração derramado em cada prato.', 'Saindo do restaurante, Elena sabia que sua avaliação cantaria louvores não apenas à comida, mas à alma do Chef Amico — um lugar onde cada prato era uma jornada pela Sicília, e cada mordida, um gostinho do sonho de Amico se tornando realidade.']\n",
      "6\n"
     ]
    }
   ],
   "source": [
    "from langchain_text_splitters import CharacterTextSplitter\n",
    "\n",
    "text_splitter = CharacterTextSplitter(\n",
    "    separator=\"\\n\",\n",
    "    chunk_size=30,\n",
    "    chunk_overlap=20,\n",
    "    length_function=len,\n",
    "    is_separator_regex=False,\n",
    ")\n",
    "docs = text_splitter.split_text(raw_data)\n",
    "print(docs)\n",
    "print(len(docs))"
   ]
  },
  {
   "cell_type": "code",
   "execution_count": 47,
   "metadata": {},
   "outputs": [
    {
     "name": "stdout",
     "output_type": "stream",
     "text": [
      "['Nas charmosas ruas de Palermo, escondido em um beco pitoresco, ficava o Chef Amico, um restaurante que era mais do que um mero restaurante — era um pedaço do paraíso siciliano. Fundado por Amico, um chef cujo nome era sinônimo de paixão e criatividade, o restaurante era um mosaico da jornada de sua vida pelos sabores da Itália.', '\\nAs portas do Chef Amico se abriram para um mundo onde os aromas de alho e azeite eram tão acolhedores quanto um abraço caloroso. As paredes, adornadas com fotos das viagens de Amico e receitas de família, falavam de uma rica herança culinária. A conversa e o riso dos clientes enchiam o ar, criando uma sinfonia tão deliciosa quanto os pratos servidos.', '\\nUma noite, enquanto o sol lançava um brilho dourado sobre a cidade, uma renomada crítica gastronômica, Elena Rossi, entrou no Chef Amico. Sua missão era descobrir o segredo por trás da crescente fama do restaurante. Ela foi recebida pelo próprio Amico, cujos olhos brilhavam com a alegria de um homem que amava seu trabalho.', '\\nElena foi levada a uma mesa adornada com um cenário simples e elegante. O primeiro prato foi Caponata, uma melodia de berinjela, alcaparras e tomates doces, que dançou em seu paladar. Em seguida, veio o Risotto al Nero di Seppia, um prato que contava a história do caso de amor da Sicília com o mar. Cada colherada era uma revelação, os sabores ricos da tinta de lula harmonizando com o arroz cremoso.', '\\nA obra-prima final foi Cannoli, a joia da coroa das sobremesas sicilianas. Enquanto Elena saboreava o recheio doce de ricota, envolto em uma casca perfeitamente crocante, ela percebeu que o Chef Amico não era apenas sobre a comida. Era sobre as histórias, as tradições e o coração derramado em cada prato.', '\\nSaindo do restaurante, Elena sabia que sua avaliação cantaria louvores não apenas à comida, mas à alma do Chef Amico — um lugar onde cada prato era uma jornada pela Sicília, e cada mordida, um gostinho do sonho de Amico se tornando realidade.']\n",
      "6\n"
     ]
    }
   ],
   "source": [
    "from langchain_text_splitters import RecursiveCharacterTextSplitter\n",
    "\n",
    "text_splitter = RecursiveCharacterTextSplitter(\n",
    "    separators=[\"\\n\"],\n",
    "    chunk_size=100,\n",
    "    chunk_overlap=20,\n",
    "    length_function=len,\n",
    "    is_separator_regex=False,\n",
    ")\n",
    "docs = text_splitter.split_text(raw_data)\n",
    "print(docs)\n",
    "print(len(docs))"
   ]
  },
  {
   "cell_type": "code",
   "execution_count": 49,
   "metadata": {},
   "outputs": [
    {
     "name": "stdout",
     "output_type": "stream",
     "text": [
      "CharacterTextSplitter: ['Este é um exemplo de texto. Ele contém várias frases. Vamos dividir este texto!', 'Um texto de teste que mostra como funcionam as duas funções CharacterTextSplitter e', 'RecursiveCharacterTextSplitter note as diferenças'] 3\n",
      "RecursiveCharacterTextSplitter: ['Este é um exemplo de texto. Ele contém várias frases. Vamos dividir este texto!', 'Um texto de teste que mostra como funcionam as duas funções CharacterTextSplitter e', 'RecursiveCharacterTextSplitter note as diferenças'] 3\n"
     ]
    }
   ],
   "source": [
    "from langchain.text_splitter import CharacterTextSplitter, RecursiveCharacterTextSplitter\n",
    "\n",
    "# Texto de exemplo\n",
    "texto = \"\"\"\n",
    "Este é um exemplo de texto. Ele contém várias frases. Vamos dividir este texto! \n",
    "Um texto de teste que mostra como funcionam as duas funções CharacterTextSplitter e\n",
    "RecursiveCharacterTextSplitter note as diferenças\n",
    "\"\"\"\n",
    "\n",
    "# Usando CharacterTextSplitter\n",
    "splitter1 = CharacterTextSplitter(chunk_size=100, chunk_overlap=2, separator=\"\\n\")\n",
    "partes1 = splitter1.split_text(texto)\n",
    "\n",
    "# Usando RecursiveCharacterTextSplitter\n",
    "splitter2 = RecursiveCharacterTextSplitter(chunk_size=100, chunk_overlap=2, separators=['\\n'])\n",
    "partes2 = splitter2.split_text(texto)\n",
    "\n",
    "print(\"CharacterTextSplitter:\", partes1, len(partes1))\n",
    "print(\"RecursiveCharacterTextSplitter:\", partes2, len(partes2))\n"
   ]
  },
  {
   "cell_type": "code",
   "execution_count": 51,
   "metadata": {},
   "outputs": [
    {
     "name": "stdout",
     "output_type": "stream",
     "text": [
      "page_content='Madam Speaker, Madam Vice President, our First Lady and Second Gentleman. Members of Congress and'\n",
      "page_content='senators of Congress and the Cabinet. Justices of the Supreme Court. My fellow Americans.'\n"
     ]
    }
   ],
   "source": [
    "state_of_the_union = \"\"\"\n",
    "Madam Speaker, Madam Vice President, our First Lady and Second Gentleman. Members of Congress and\n",
    "senators of Congress and the Cabinet. Justices of the Supreme Court. My fellow Americans.\"\"\"\n",
    "\n",
    "text_splitter = RecursiveCharacterTextSplitter(\n",
    "    # Set a really small chunk size, just to show.\n",
    "    chunk_size=100,\n",
    "    chunk_overlap=20,\n",
    "    length_function=len,\n",
    "    is_separator_regex=False,\n",
    ")\n",
    "texts = text_splitter.create_documents([state_of_the_union])\n",
    "print(texts[0])\n",
    "print(texts[1])"
   ]
  },
  {
   "cell_type": "code",
   "execution_count": 57,
   "metadata": {},
   "outputs": [
    {
     "name": "stdout",
     "output_type": "stream",
     "text": [
      "page_content='Madam Speaker, Madam Vice President, our First Lady and Second Gentleman. Members of Congress and\n",
      "senators of Congress and the Cabinet. Justices of the Supreme Court. My fellow Americans.'\n"
     ]
    }
   ],
   "source": [
    "state_of_the_union = \"\"\"\n",
    "Madam Speaker, Madam Vice President, our First Lady and Second Gentleman. Members of Congress and\n",
    "senators of Congress and the Cabinet. Justices of the Supreme Court. My fellow Americans.\"\"\"\n",
    "\n",
    "text_splitter = CharacterTextSplitter(\n",
    "    # Set a really small chunk size, just to show.\n",
    "    chunk_size=5,\n",
    "    chunk_overlap=2,\n",
    "    length_function=len,\n",
    "    is_separator_regex=False,\n",
    ")\n",
    "texts = text_splitter.create_documents([state_of_the_union])\n",
    "print(texts[0])\n"
   ]
  },
  {
   "cell_type": "code",
   "execution_count": 60,
   "metadata": {},
   "outputs": [
    {
     "name": "stdout",
     "output_type": "stream",
     "text": [
      "102\n"
     ]
    }
   ],
   "source": [
    "import tiktoken\n",
    "tokenizer = tiktoken.get_encoding(\"cl100k_base\")\n",
    "\n",
    "def count_tokens(text: str) -> int:\n",
    "    return len(tokenizer.encode(text))\n",
    "\n",
    "print(count_tokens(docs[0]))"
   ]
  },
  {
   "cell_type": "code",
   "execution_count": 57,
   "metadata": {},
   "outputs": [
    {
     "name": "stdout",
     "output_type": "stream",
     "text": [
      "page_content='Madam Speaker, Madam Vice President, our First Lady and Second Gentleman. Members of Congress and\n",
      "1 senators of Congress and the Cabinet. Justices of the Supreme Court. My fellow Americans.\n",
      "2 senators of Congress and the Cabinet. Justices of the Supreme Court. My fellow Americans.\n",
      "3 senators of Congress and the Cabinet. Justices of the Supreme Court. My fellow Americans.\n",
      "4 senators of Congress and the Cabinet. Justices of the Supreme Court. My fellow Americans.\n",
      "5 senators of Congress and the Cabinet. Justices of the Supreme Court. My fellow Americans.\n",
      "6 senators of Congress and the Cabinet. Justices of the Supreme Court. My fellow Americans.'\n",
      "137\n"
     ]
    }
   ],
   "source": [
    "state_of_the_union = \"\"\"\n",
    "Madam Speaker, Madam Vice President, our First Lady and Second Gentleman. Members of Congress and\n",
    "1 senators of Congress and the Cabinet. Justices of the Supreme Court. My fellow Americans.\n",
    "2 senators of Congress and the Cabinet. Justices of the Supreme Court. My fellow Americans.\n",
    "3 senators of Congress and the Cabinet. Justices of the Supreme Court. My fellow Americans.\n",
    "4 senators of Congress and the Cabinet. Justices of the Supreme Court. My fellow Americans.\n",
    "5 senators of Congress and the Cabinet. Justices of the Supreme Court. My fellow Americans.\n",
    "6 senators of Congress and the Cabinet. Justices of the Supreme Court. My fellow Americans.\n",
    "\"\"\"\n",
    "\n",
    "text_splitter = CharacterTextSplitter(\n",
    "    # Set a really small chunk size, just to show.\n",
    "    chunk_size=100,\n",
    "    chunk_overlap=20,\n",
    "    length_function=len,\n",
    "    is_separator_regex=False,\n",
    ")\n",
    "texts = text_splitter.create_documents([state_of_the_union])\n",
    "print(texts[0])\n",
    "print(count_tokens(state_of_the_union))"
   ]
  },
  {
   "cell_type": "markdown",
   "metadata": {},
   "source": [
    "### Semantic chunking"
   ]
  },
  {
   "cell_type": "code",
   "execution_count": 62,
   "metadata": {},
   "outputs": [],
   "source": [
    "from langchain_experimental.text_splitter import SemanticChunker\n",
    "from langchain_openai.embeddings import OpenAIEmbeddings\n",
    "\n",
    "text_splitter = SemanticChunker(OpenAIEmbeddings()) # faz uma quebra semantica, é mais eficiente que o anterior. combina chunks similares\n",
    "# text_splitter = SemanticChunker(\n",
    "#     OpenAIEmbeddings(), breakpoint_threshold_type=\"standard_deviation\" # or 'interquartile'\n",
    "# )"
   ]
  },
  {
   "cell_type": "code",
   "execution_count": 34,
   "metadata": {},
   "outputs": [
    {
     "name": "stdout",
     "output_type": "stream",
     "text": [
      "['Nas charmosas ruas de Palermo, escondido em um beco pitoresco, ficava o Chef Amico, um restaurante que era mais do que um mero restaurante — era um pedaço do paraíso siciliano. Fundado por Amico, um chef cujo nome era sinônimo de paixão e criatividade, o restaurante era um mosaico da jornada de sua vida pelos sabores da Itália. As portas do Chef Amico se abriram para um mundo onde os aromas de alho e azeite eram tão acolhedores quanto um abraço caloroso. As paredes, adornadas com fotos das viagens de Amico e receitas de família, falavam de uma rica herança culinária. A conversa e o riso dos clientes enchiam o ar, criando uma sinfonia tão deliciosa quanto os pratos servidos. Uma noite, enquanto o sol lançava um brilho dourado sobre a cidade, uma renomada crítica gastronômica, Elena Rossi, entrou no Chef Amico. Sua missão era descobrir o segredo por trás da crescente fama do restaurante. Ela foi recebida pelo próprio Amico, cujos olhos brilhavam com a alegria de um homem que amava seu trabalho.', 'Elena foi levada a uma mesa adornada com um cenário simples e elegante. O primeiro prato foi Caponata, uma melodia de berinjela, alcaparras e tomates doces, que dançou em seu paladar. Em seguida, veio o Risotto al Nero di Seppia, um prato que contava a história do caso de amor da Sicília com o mar. Cada colherada era uma revelação, os sabores ricos da tinta de lula harmonizando com o arroz cremoso. A obra-prima final foi Cannoli, a joia da coroa das sobremesas sicilianas. Enquanto Elena saboreava o recheio doce de ricota, envolto em uma casca perfeitamente crocante, ela percebeu que o Chef Amico não era apenas sobre a comida. Era sobre as histórias, as tradições e o coração derramado em cada prato. Saindo do restaurante, Elena sabia que sua avaliação cantaria louvores não apenas à comida, mas à alma do Chef Amico — um lugar onde cada prato era uma jornada pela Sicília, e cada mordida, um gostinho do sonho de Amico se tornando realidade.']\n",
      "2\n"
     ]
    }
   ],
   "source": [
    "docs = text_splitter.split_text(raw_data)\n",
    "print(docs)\n",
    "print(len(docs))"
   ]
  },
  {
   "cell_type": "markdown",
   "metadata": {},
   "source": [
    "### Custom Chunking com LLM"
   ]
  },
  {
   "cell_type": "code",
   "execution_count": 71,
   "metadata": {},
   "outputs": [],
   "source": [
    "import re\n",
    "from langchain_openai import ChatOpenAI\n",
    "from typing import Any, List\n",
    "from langchain_text_splitters import TextSplitter\n",
    "from langchain_core.prompts import ChatPromptTemplate\n",
    "from langchain_core.output_parsers import StrOutputParser\n",
    "from langchain_core.runnables import RunnablePassthrough\n",
    "\n",
    "class GPTSplitter(TextSplitter):\n",
    "    def __init__(self, model_name: str = \"gpt-4o-mini\", **kwargs: Any) -> None:\n",
    "        super().__init__(**kwargs)\n",
    "        self.model = ChatOpenAI(model=model_name)\n",
    "\n",
    "        self.prompt = ChatPromptTemplate.from_template(\n",
    "        \"Você é um especialista em identificar o significado semântico do texto.\"\n",
    "        \"Você envolve cada pedaço em <<<>>>.\\n\\n\"\n",
    "        \"Exemplo:\\n\"\n",
    "        \"Texto: \\\"O gato curioso empoleirou-se no parapeito da janela, com os olhos arregalados enquanto observava os pássaros voando lá fora.\"\n",
    "        \"Com um salto rápido, ele estava no chão, furtivamente caminhando em direção à porta. \"\n",
    "        \"De repente, um barulho o assustou, fazendo o gato congelar no lugar.\\\"\\n\"\n",
    "        \"Resultado:\\n\"\n",
    "        \"<<<O gato curioso empoleirou-se no parapeito da janela, com os olhos arregalados enquanto observava os pássaros voando do lado de fora.>>>\\n\"\n",
    "        \"<<<Com um salto rápido, ele estava no chão, furtivamente caminhando em direção à porta.>>>\\n\"\n",
    "        \"<<<De repente, um barulho o assustou, fazendo o gato congelar no lugar.>>>\\n\\n\"\n",
    "        \"Agora, processe o seguinte texto:\\n\\n\"\n",
    "            \"{text}\"\n",
    "        )\n",
    "        self.output_parser = StrOutputParser()\n",
    "        self.chain = (\n",
    "            {\"text\": RunnablePassthrough()}\n",
    "            | self.prompt\n",
    "            | self.model\n",
    "            | self.output_parser\n",
    "        )\n",
    "\n",
    "    def split_text(self, text: str) -> List[str]:\n",
    "        response = self.chain.invoke({\"text\": text})\n",
    "        print(response)\n",
    "        # Use regex to split properly by <<< and >>> markers\n",
    "        chunks = re.findall(r'<<<(.*?)>>>', response, re.DOTALL)\n",
    "        return [chunk.strip() for chunk in chunks]"
   ]
  },
  {
   "cell_type": "code",
   "execution_count": 72,
   "metadata": {},
   "outputs": [
    {
     "name": "stdout",
     "output_type": "stream",
     "text": [
      "<<<Nas charmosas ruas de Palermo, escondido em um beco pitoresco, ficava o Chef Amico, um restaurante que era mais do que um mero restaurante — era um pedaço do paraíso siciliano.>>>\n",
      "<<<Fundado por Amico, um chef cujo nome era sinônimo de paixão e criatividade, o restaurante era um mosaico da jornada de sua vida pelos sabores da Itália.>>>\n",
      "<<<As portas do Chef Amico se abriram para um mundo onde os aromas de alho e azeite eram tão acolhedores quanto um abraço caloroso.>>>\n",
      "<<<As paredes, adornadas com fotos das viagens de Amico e receitas de família, falavam de uma rica herança culinária.>>>\n",
      "<<<A conversa e o riso dos clientes enchiam o ar, criando uma sinfonia tão deliciosa quanto os pratos servidos.>>>\n",
      "<<<Uma noite, enquanto o sol lançava um brilho dourado sobre a cidade, uma renomada crítica gastronômica, Elena Rossi, entrou no Chef Amico.>>>\n",
      "<<<Sua missão era descobrir o segredo por trás da crescente fama do restaurante.>>>\n",
      "<<<Ela foi recebida pelo próprio Amico, cujos olhos brilhavam com a alegria de um homem que amava seu trabalho.>>>\n",
      "<<<Elena foi levada a uma mesa adornada com um cenário simples e elegante.>>>\n",
      "<<<O primeiro prato foi Caponata, uma melodia de berinjela, alcaparras e tomates doces, que dançou em seu paladar.>>>\n",
      "<<<Em seguida, veio o Risotto al Nero di Seppia, um prato que contava a história do caso de amor da Sicília com o mar.>>>\n",
      "<<<Cada colherada era uma revelação, os sabores ricos da tinta de lula harmonizando com o arroz cremoso.>>>\n",
      "<<<A obra-prima final foi Cannoli, a joia da coroa das sobremesas sicilianas.>>>\n",
      "<<<Enquanto Elena saboreava o recheio doce de ricota, envolto em uma casca perfeitamente crocante, ela percebeu que o Chef Amico não era apenas sobre a comida.>>>\n",
      "<<<Era sobre as histórias, as tradições e o coração derramado em cada prato.>>>\n",
      "<<<Saindo do restaurante, Elena sabia que sua avaliação cantaria louvores não apenas à comida, mas à alma do Chef Amico — um lugar onde cada prato era uma jornada pela Sicília, e cada mordida, um gostinho do sonho de Amico se tornando realidade.>>>\n"
     ]
    }
   ],
   "source": [
    "gpt_splitter = GPTSplitter()\n",
    "gpt_docs = gpt_splitter.split_text(raw_data)"
   ]
  },
  {
   "cell_type": "code",
   "execution_count": 66,
   "metadata": {},
   "outputs": [
    {
     "name": "stdout",
     "output_type": "stream",
     "text": [
      "16\n"
     ]
    }
   ],
   "source": [
    "print(len(gpt_docs))"
   ]
  },
  {
   "cell_type": "code",
   "execution_count": 68,
   "metadata": {},
   "outputs": [
    {
     "data": {
      "text/plain": [
       "['Nas charmosas ruas de Palermo, escondido em um beco pitoresco, ficava o Chef Amico, um restaurante que era mais do que um mero restaurante — era um pedaço do paraíso siciliano.',\n",
       " 'Fundado por Amico, um chef cujo nome era sinônimo de paixão e criatividade, o restaurante era um mosaico da jornada de sua vida pelos sabores da Itália.',\n",
       " 'As portas do Chef Amico se abriram para um mundo onde os aromas de alho e azeite eram tão acolhedores quanto um abraço caloroso.',\n",
       " 'As paredes, adornadas com fotos das viagens de Amico e receitas de família, falavam de uma rica herança culinária.',\n",
       " 'A conversa e o riso dos clientes enchiam o ar, criando uma sinfonia tão deliciosa quanto os pratos servidos.',\n",
       " 'Uma noite, enquanto o sol lançava um brilho dourado sobre a cidade, uma renomada crítica gastronômica, Elena Rossi, entrou no Chef Amico.',\n",
       " 'Sua missão era descobrir o segredo por trás da crescente fama do restaurante.',\n",
       " 'Ela foi recebida pelo próprio Amico, cujos olhos brilhavam com a alegria de um homem que amava seu trabalho.',\n",
       " 'Elena foi levada a uma mesa adornada com um cenário simples e elegante.',\n",
       " 'O primeiro prato foi Caponata, uma melodia de berinjela, alcaparras e tomates doces, que dançou em seu paladar.',\n",
       " 'Em seguida, veio o Risotto al Nero di Seppia, um prato que contava a história do caso de amor da Sicília com o mar.',\n",
       " 'Cada colherada era uma revelação, os sabores ricos da tinta de lula harmonizando com o arroz cremoso.',\n",
       " 'A obra-prima final foi Cannoli, a joia da coroa das sobremesas sicilianas.',\n",
       " 'Enquanto Elena saboreava o recheio doce de ricota, envolto em uma casca perfeitamente crocante, ela percebeu que o Chef Amico não era apenas sobre a comida.',\n",
       " 'Era sobre as histórias, as tradições e o coração derramado em cada prato.',\n",
       " 'Saindo do restaurante, Elena sabia que sua avaliação cantaria louvores não apenas à comida, mas à alma do Chef Amico — um lugar onde cada prato era uma jornada pela Sicília, e cada mordida, um gostinho do sonho de Amico se tornando realidade.']"
      ]
     },
     "execution_count": 68,
     "metadata": {},
     "output_type": "execute_result"
    }
   ],
   "source": [
    "gpt_docs"
   ]
  },
  {
   "cell_type": "code",
   "execution_count": 67,
   "metadata": {},
   "outputs": [
    {
     "data": {
      "text/plain": [
       "'Nas charmosas ruas de Palermo, escondido em um beco pitoresco, ficava o Chef Amico, um restaurante que era mais do que um mero restaurante — era um pedaço do paraíso siciliano.'"
      ]
     },
     "execution_count": 67,
     "metadata": {},
     "output_type": "execute_result"
    }
   ],
   "source": [
    "gpt_docs[0]"
   ]
  },
  {
   "cell_type": "markdown",
   "metadata": {},
   "source": [
    "### Exemplos de Uso\n",
    "Divisão de Documentos Longos para Indexação: Ao processar documentos longos, o SemanticChunker pode ser usado para criar chunks menores que ainda mantêm a coesão semântica, facilitando a indexação e a recuperação de informações relevantes.\n",
    "\n",
    "Preparação de Dados para Modelos de IA: Ao treinar modelos de linguagem, pode ser vantajoso dividir o texto em partes menores com significado completo para melhorar a qualidade do treinamento.\n",
    "\n",
    "Geração de Resumos: Para criar resumos que preservem o contexto, o SemanticChunker pode ajudar a identificar partes do texto que devem ser mantidas juntas.\n",
    "\n",
    "Comparação com Outros Splitters\n",
    "\n",
    "CharacterTextSplitter: Divide o texto com base no número de caracteres. Não leva em consideração o contexto ou o significado do conteúdo.\n",
    "\n",
    "RecursiveCharacterTextSplitter: Tenta dividir o texto de forma mais inteligente usando delimitadores diferentes (por exemplo, parágrafos, frases) \n",
    "recursivamente, mas ainda assim sem levar em conta a semântica.\n",
    "    \n",
    "SemanticChunker: Utiliza técnicas avançadas de NLP para dividir o texto com base no seu significado e contexto, resultando em divisões mais naturais e coerentes.\n"
   ]
  },
  {
   "cell_type": "markdown",
   "metadata": {},
   "source": []
  }
 ],
 "metadata": {
  "kernelspec": {
   "display_name": "Python 3 (ipykernel)",
   "language": "python",
   "name": "python3"
  },
  "language_info": {
   "codemirror_mode": {
    "name": "ipython",
    "version": 3
   },
   "file_extension": ".py",
   "mimetype": "text/x-python",
   "name": "python",
   "nbconvert_exporter": "python",
   "pygments_lexer": "ipython3",
   "version": "3.12.4"
  }
 },
 "nbformat": 4,
 "nbformat_minor": 4
}

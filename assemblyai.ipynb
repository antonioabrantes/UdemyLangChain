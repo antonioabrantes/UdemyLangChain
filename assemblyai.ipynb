{
 "cells": [
  {
   "cell_type": "code",
   "execution_count": 8,
   "id": "83e29ac9-521e-424a-88c0-9fa443de9b75",
   "metadata": {},
   "outputs": [
    {
     "name": "stdout",
     "output_type": "stream",
     "text": [
      "Curso completo de Langchain, com várias ferramentas úteis para seus projetos.\n"
     ]
    }
   ],
   "source": [
    "# Install the assemblyai package by executing the command \"pip install assemblyai\"\n",
    "# https://www.assemblyai.com/dashboard/activation\n",
    "\n",
    "import assemblyai as aai\n",
    "\n",
    "aai.settings.api_key = \"\"\n",
    "\n",
    "# audio_file = \"./local_file.mp3\"\n",
    "audio_file = \"https://assembly.ai/wildfires.mp3\"\n",
    "audio_file = \"apresentacao.mp3\"\n",
    "\n",
    "config = aai.TranscriptionConfig(speech_model=aai.SpeechModel.best, language_code=\"pt\")\n",
    "\n",
    "transcript = aai.Transcriber(config=config).transcribe(audio_file)\n",
    "\n",
    "if transcript.status == \"error\":\n",
    "  raise RuntimeError(f\"Transcription failed: {transcript.error}\")\n",
    "\n",
    "print(transcript.text)"
   ]
  },
  {
   "cell_type": "code",
   "execution_count": null,
   "id": "76d3b495-bda3-47cb-96a5-77e61ac0f278",
   "metadata": {},
   "outputs": [],
   "source": []
  }
 ],
 "metadata": {
  "kernelspec": {
   "display_name": "Python 3 (ipykernel)",
   "language": "python",
   "name": "python3"
  },
  "language_info": {
   "codemirror_mode": {
    "name": "ipython",
    "version": 3
   },
   "file_extension": ".py",
   "mimetype": "text/x-python",
   "name": "python",
   "nbconvert_exporter": "python",
   "pygments_lexer": "ipython3",
   "version": "3.13.4"
  }
 },
 "nbformat": 4,
 "nbformat_minor": 5
}

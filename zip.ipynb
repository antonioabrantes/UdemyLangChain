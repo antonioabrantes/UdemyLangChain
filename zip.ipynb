{
 "cells": [
  {
   "cell_type": "code",
   "execution_count": 4,
   "id": "12728bae-7a00-47a9-9ca3-99b5dad95c38",
   "metadata": {},
   "outputs": [],
   "source": [
    "import zipfile, requests"
   ]
  },
  {
   "cell_type": "code",
   "execution_count": 7,
   "id": "e1c36dd9-cab6-4f08-b383-3fd7bfd06b0d",
   "metadata": {},
   "outputs": [
    {
     "name": "stdout",
     "output_type": "stream",
     "text": [
      "http://revistas.inpi.gov.br/txt/P2800.zip\n",
      "Sucesso\n"
     ]
    }
   ],
   "source": [
    "def download_zip(revista):\n",
    "    url = f\"http://revistas.inpi.gov.br/txt/P{revista}.zip\"\n",
    "    print(url)\n",
    "    response = requests.get(url, stream=True)\n",
    "    try:\n",
    "        with open(f\"dados/P{revista}.zip\",\"wb\") as f:\n",
    "            for chunk in response.iter_content(chunk_size=512):\n",
    "                if chunk:\n",
    "                    f.write(chunk)\n",
    "        with zipfile.ZipFile(f\"dados/P{revista}.zip\", mode='r') as zip_ref:\n",
    "            zip_ref.extractall('dados')\n",
    "            zip_ref.close()\n",
    "        print(\"Sucesso\")\n",
    "    except Exception as e:\n",
    "        print(f\"Erro {e}\")\n",
    "        \n",
    "    return None\n",
    "\n",
    "download_zip(2800)"
   ]
  },
  {
   "cell_type": "code",
   "execution_count": null,
   "id": "8784d9a5-700d-426a-8819-c7bb032195ed",
   "metadata": {},
   "outputs": [],
   "source": []
  }
 ],
 "metadata": {
  "kernelspec": {
   "display_name": "Python 3 (ipykernel)",
   "language": "python",
   "name": "python3"
  },
  "language_info": {
   "codemirror_mode": {
    "name": "ipython",
    "version": 3
   },
   "file_extension": ".py",
   "mimetype": "text/x-python",
   "name": "python",
   "nbconvert_exporter": "python",
   "pygments_lexer": "ipython3",
   "version": "3.12.4"
  }
 },
 "nbformat": 4,
 "nbformat_minor": 5
}

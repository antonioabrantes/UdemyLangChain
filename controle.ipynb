{
 "cells": [
  {
   "cell_type": "code",
   "execution_count": 3,
   "id": "616ca6c5-ffd6-40be-bb42-cf74b64914c3",
   "metadata": {},
   "outputs": [
    {
     "name": "stdin",
     "output_type": "stream",
     "text": [
      "Digite a nota 6\n"
     ]
    },
    {
     "name": "stdout",
     "output_type": "stream",
     "text": [
      "recuperação\n"
     ]
    }
   ],
   "source": [
    "nota = float(input(\"Digite a nota\"))\n",
    "if nota>=9:\n",
    "    print(\"parabens\")\n",
    "elif nota>=7:\n",
    "    print(\"aprovado\")\n",
    "elif nota>=5:\n",
    "    print(\"recuperação\")\n",
    "else:\n",
    "    print(\"reprovado\")"
   ]
  },
  {
   "cell_type": "code",
   "execution_count": 4,
   "id": "f3c6b68f-4ce1-4692-8ca1-e5d471bdf807",
   "metadata": {},
   "outputs": [
    {
     "name": "stdout",
     "output_type": "stream",
     "text": [
      "6.0\n"
     ]
    }
   ],
   "source": [
    "print(nota)"
   ]
  },
  {
   "cell_type": "code",
   "execution_count": 8,
   "id": "6451e48f-e51b-4731-8744-71811118ee60",
   "metadata": {},
   "outputs": [],
   "source": [
    "if (nota!=6) and (nota<=9):\n",
    "   print(\"aprovado\")"
   ]
  },
  {
   "cell_type": "code",
   "execution_count": 9,
   "id": "f87d2a45-9b27-4b7a-a989-0de67dbc6e84",
   "metadata": {},
   "outputs": [],
   "source": [
    " x = 3"
   ]
  },
  {
   "cell_type": "code",
   "execution_count": 10,
   "id": "1c47144c-963e-4f10-bb50-a0f218fa9b97",
   "metadata": {},
   "outputs": [
    {
     "data": {
      "text/plain": [
       "True"
      ]
     },
     "execution_count": 10,
     "metadata": {},
     "output_type": "execute_result"
    }
   ],
   "source": [
    "x==3"
   ]
  },
  {
   "cell_type": "code",
   "execution_count": 11,
   "id": "1a67d2e4-3c26-4e24-a12f-8cf0849f5bf9",
   "metadata": {},
   "outputs": [
    {
     "data": {
      "text/plain": [
       "False"
      ]
     },
     "execution_count": 11,
     "metadata": {},
     "output_type": "execute_result"
    }
   ],
   "source": [
    "x!=3"
   ]
  },
  {
   "cell_type": "code",
   "execution_count": 13,
   "id": "29c4ce04-1924-449d-a5e7-c5914c06d965",
   "metadata": {},
   "outputs": [
    {
     "name": "stdout",
     "output_type": "stream",
     "text": [
      "soma maior que 5. A soma =  10\n"
     ]
    }
   ],
   "source": [
    "x = [1,3,4,2]\n",
    "y = sum(x)\n",
    "if y>5:\n",
    "    print(\"soma maior que 5. A soma = \",y)"
   ]
  },
  {
   "cell_type": "code",
   "execution_count": 14,
   "id": "ebc81c1b-a7dd-4e35-bcb3-3b8f2b9abd3d",
   "metadata": {},
   "outputs": [
    {
     "name": "stdout",
     "output_type": "stream",
     "text": [
      "1\n",
      "3\n",
      "4\n",
      "2\n"
     ]
    }
   ],
   "source": [
    "for i in x:\n",
    "    k=9\n",
    "    print(i)\n",
    "c=10"
   ]
  },
  {
   "cell_type": "code",
   "execution_count": 15,
   "id": "7df2d358-774c-4cd7-9222-f034dfbd0868",
   "metadata": {},
   "outputs": [
    {
     "name": "stdout",
     "output_type": "stream",
     "text": [
      "0\n",
      "1\n",
      "2\n",
      "3\n",
      "4\n",
      "5\n",
      "6\n",
      "7\n",
      "8\n",
      "9\n"
     ]
    }
   ],
   "source": [
    "for i in range(10):\n",
    "    print(i)"
   ]
  },
  {
   "cell_type": "code",
   "execution_count": 17,
   "id": "cc5af5d1-35c7-4e8b-a7b0-c3a9226e7545",
   "metadata": {},
   "outputs": [
    {
     "name": "stdout",
     "output_type": "stream",
     "text": [
      "2\n",
      "3\n",
      "4\n",
      "5\n",
      "6\n",
      "7\n",
      "8\n",
      "9\n"
     ]
    }
   ],
   "source": [
    "for i in range(2,10):\n",
    "   print(i)"
   ]
  },
  {
   "cell_type": "code",
   "execution_count": 19,
   "id": "9909e8e1-8185-4690-8b27-673526405320",
   "metadata": {},
   "outputs": [
    {
     "name": "stdout",
     "output_type": "stream",
     "text": [
      "1\n",
      "2\n",
      "3\n",
      "4\n",
      "5\n",
      "6\n",
      "7\n",
      "8\n",
      "9\n",
      "10\n"
     ]
    }
   ],
   "source": [
    "for i in range(1,11):\n",
    "   print(i)"
   ]
  },
  {
   "cell_type": "code",
   "execution_count": 20,
   "id": "0d93cd9b-7fec-4abc-abdf-ee9fe7f9f88d",
   "metadata": {},
   "outputs": [
    {
     "name": "stdout",
     "output_type": "stream",
     "text": [
      "10\n",
      "9\n",
      "8\n",
      "7\n",
      "6\n",
      "5\n",
      "4\n",
      "3\n",
      "2\n"
     ]
    }
   ],
   "source": [
    "for i in range(10,1,-1):\n",
    "   print(i)"
   ]
  },
  {
   "cell_type": "code",
   "execution_count": 21,
   "id": "4a02c921-85dc-4091-8fdc-2f39cfe80d91",
   "metadata": {},
   "outputs": [
    {
     "name": "stdout",
     "output_type": "stream",
     "text": [
      "10\n",
      "8\n",
      "6\n",
      "4\n",
      "2\n"
     ]
    }
   ],
   "source": [
    "for i in range(10,1,-2):\n",
    "   print(i)"
   ]
  },
  {
   "cell_type": "code",
   "execution_count": 23,
   "id": "e3daae73-44ad-4d24-9a71-bd8495a7ed77",
   "metadata": {},
   "outputs": [
    {
     "name": "stdout",
     "output_type": "stream",
     "text": [
      "o\n",
      "l\n",
      "a\n",
      " \n",
      "m\n",
      "u\n",
      "n\n",
      "d\n",
      "o\n"
     ]
    }
   ],
   "source": [
    "s = \"ola mundo\"\n",
    "for i in range(len(s)):\n",
    "   print(s[i])"
   ]
  },
  {
   "cell_type": "code",
   "execution_count": 25,
   "id": "7391ce87-a9d6-454b-bcaa-68515c913766",
   "metadata": {},
   "outputs": [
    {
     "name": "stdout",
     "output_type": "stream",
     "text": [
      "Fim 6\n"
     ]
    }
   ],
   "source": [
    "flag = True\n",
    "i = 0\n",
    "while flag:\n",
    "    i = i + 1\n",
    "    if i>5:\n",
    "        flag = False\n",
    "\n",
    "print(\"Fim\", i)"
   ]
  },
  {
   "cell_type": "code",
   "execution_count": null,
   "id": "476bb4bf-4b59-4413-95e0-00d5dc94f3f2",
   "metadata": {},
   "outputs": [],
   "source": []
  }
 ],
 "metadata": {
  "kernelspec": {
   "display_name": "Python 3 (ipykernel)",
   "language": "python",
   "name": "python3"
  },
  "language_info": {
   "codemirror_mode": {
    "name": "ipython",
    "version": 3
   },
   "file_extension": ".py",
   "mimetype": "text/x-python",
   "name": "python",
   "nbconvert_exporter": "python",
   "pygments_lexer": "ipython3",
   "version": "3.12.4"
  }
 },
 "nbformat": 4,
 "nbformat_minor": 5
}

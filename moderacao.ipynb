{
 "cells": [
  {
   "cell_type": "code",
   "execution_count": 1,
   "id": "2c7d5170-20fe-4cd2-b2bb-b9f9a45c97a4",
   "metadata": {},
   "outputs": [
    {
     "name": "stderr",
     "output_type": "stream",
     "text": [
      "C:\\Users\\otimi\\anaconda3\\envs\\python\\Lib\\site-packages\\tqdm\\auto.py:21: TqdmWarning: IProgress not found. Please update jupyter and ipywidgets. See https://ipywidgets.readthedocs.io/en/stable/user_install.html\n",
      "  from .autonotebook import tqdm as notebook_tqdm\n"
     ]
    }
   ],
   "source": [
    "# https://python.langchain.com/docs/integrations/tools/\n",
    "# https://platform.openai.com/docs/guides/moderation\n",
    "\n",
    "from langchain_openai import ChatOpenAI\n",
    "from langchain_groq import ChatGroq\n",
    "from langchain_anthropic import ChatAnthropic\n",
    "from langchain_google_genai import ChatGoogleGenerativeAI\n",
    "\n",
    "import os\n",
    "from dotenv import load_dotenv\n"
   ]
  },
  {
   "cell_type": "code",
   "execution_count": 2,
   "id": "12310351-e216-40d0-a1b2-72186c1ef8df",
   "metadata": {},
   "outputs": [],
   "source": [
    "load_dotenv(dotenv_path='.env')\n",
    "\n",
    "# https://platform.openai.com/api-keys\n",
    "openai_api_key = os.getenv(\"OPENAI_API_KEY\")\n",
    "\n",
    "# https://console.groq.com/keys\n",
    "groq_api_key = os.getenv(\"GROQ_API_KEY\")\n",
    "\n",
    "# https://console.anthropic.com/dashboard\n",
    "anthropic_api_key = os.getenv(\"ANTHROPIC_API_KEY\")\n",
    "\n",
    "# https://aistudio.google.com/app/apikey\n",
    "gemini_api_key = os.getenv(\"GEMINI_API_KEY\")"
   ]
  },
  {
   "cell_type": "code",
   "execution_count": 6,
   "id": "2dd79b32-5ae1-4b9f-910e-94dfa20855e2",
   "metadata": {},
   "outputs": [
    {
     "name": "stdout",
     "output_type": "stream",
     "text": [
      "Model:  text-moderation-007\n",
      "\n",
      "Categorias:\n",
      "Harassment: False\n",
      "Harassment Threatening: False\n",
      "Hate: False\n",
      "Hate Threatening: False\n",
      "Self Harm: False\n",
      "Self Harm Instructions: False\n",
      "Self Harm Intent: False\n",
      "Sexual: False\n",
      "Sexual Minors: False\n",
      "Violence: True\n",
      "Violence Graphic: False\n",
      "\n",
      "Scores das Categorias:\n",
      "Harassment: 0.07683801651000977\n",
      "Harassment Threatening: 0.17401666939258575\n",
      "Hate: 0.006400284823030233\n",
      "Hate Threatening: 0.00010030140401795506\n",
      "Self Harm: 0.00039341894444078207\n",
      "Self Harm Instructions: 1.491239800088806e-06\n",
      "Self Harm Intent: 0.0003371780621819198\n",
      "Sexual: 0.00017773699073586613\n",
      "Sexual Minors: 9.443144790566294e-07\n",
      "Violence: 0.9916210174560547\n",
      "Violence Graphic: 4.195504880044609e-05\n"
     ]
    }
   ],
   "source": [
    "from openai import OpenAI\n",
    "client = OpenAI(api_key = openai_api_key)\n",
    "\n",
    "response = client.moderations.create(\n",
    "    model=\"text-moderation-latest\",\n",
    "    input='I want to kill my neighbor'\n",
    "    #input='qual a capital do Brasil ?'\n",
    ")\n",
    "\n",
    "if response:\n",
    "    print(\"Model: \", response.model)\n",
    "    results = response.results\n",
    "    if results:\n",
    "        for result in results:\n",
    "            categories = result.categories\n",
    "            category_scores = result.category_scores\n",
    "\n",
    "            # Imprimindo categorias\n",
    "            print(\"\\nCategorias:\")\n",
    "            print(f\"Harassment: {categories.harassment}\")\n",
    "            print(f\"Harassment Threatening: {categories.harassment_threatening}\")\n",
    "            print(f\"Hate: {categories.hate}\")\n",
    "            print(f\"Hate Threatening: {categories.hate_threatening}\")\n",
    "            print(f\"Self Harm: {categories.self_harm}\")\n",
    "            print(f\"Self Harm Instructions: {categories.self_harm_instructions}\")\n",
    "            print(f\"Self Harm Intent: {categories.self_harm_intent}\")\n",
    "            print(f\"Sexual: {categories.sexual}\")\n",
    "            print(f\"Sexual Minors: {categories.sexual_minors}\")\n",
    "            print(f\"Violence: {categories.violence}\")\n",
    "            print(f\"Violence Graphic: {categories.violence_graphic}\")\n",
    "\n",
    "            # Imprimindo scores das categorias\n",
    "            print(\"\\nScores das Categorias:\")\n",
    "            print(f\"Harassment: {category_scores.harassment}\")\n",
    "            print(f\"Harassment Threatening: {category_scores.harassment_threatening}\")\n",
    "            print(f\"Hate: {category_scores.hate}\")\n",
    "            print(f\"Hate Threatening: {category_scores.hate_threatening}\")\n",
    "            print(f\"Self Harm: {category_scores.self_harm}\")\n",
    "            print(f\"Self Harm Instructions: {category_scores.self_harm_instructions}\")\n",
    "            print(f\"Self Harm Intent: {category_scores.self_harm_intent}\")\n",
    "            print(f\"Sexual: {category_scores.sexual}\")\n",
    "            print(f\"Sexual Minors: {category_scores.sexual_minors}\")\n",
    "            print(f\"Violence: {category_scores.violence}\")\n",
    "            print(f\"Violence Graphic: {category_scores.violence_graphic}\")\n",
    "    else:\n",
    "        print(\"Nenhum resultado encontrado na resposta.\")"
   ]
  },
  {
   "cell_type": "code",
   "execution_count": 5,
   "id": "a2843856-f99e-4f7d-9078-496fa2d406e1",
   "metadata": {},
   "outputs": [
    {
     "name": "stdout",
     "output_type": "stream",
     "text": [
      "{\n",
      "    \"id\": \"modr-ABT3UaBuc7qpHeDDsWgdi1He0arcd\",\n",
      "    \"model\": \"text-moderation-007\",\n",
      "    \"results\": [\n",
      "        {\n",
      "            \"flagged\": true,\n",
      "            \"categories\": {\n",
      "                \"sexual\": false,\n",
      "                \"hate\": false,\n",
      "                \"harassment\": false,\n",
      "                \"self-harm\": false,\n",
      "                \"sexual/minors\": false,\n",
      "                \"hate/threatening\": false,\n",
      "                \"violence/graphic\": false,\n",
      "                \"self-harm/intent\": false,\n",
      "                \"self-harm/instructions\": false,\n",
      "                \"harassment/threatening\": false,\n",
      "                \"violence\": true\n",
      "            },\n",
      "            \"category_scores\": {\n",
      "                \"sexual\": 0.00017773699073586613,\n",
      "                \"hate\": 0.006400284823030233,\n",
      "                \"harassment\": 0.07683801651000977,\n",
      "                \"self-harm\": 0.00039341894444078207,\n",
      "                \"sexual/minors\": 9.443144790566294e-07,\n",
      "                \"hate/threatening\": 0.00010030140401795506,\n",
      "                \"violence/graphic\": 4.195504880044609e-05,\n",
      "                \"self-harm/intent\": 0.0003371780621819198,\n",
      "                \"self-harm/instructions\": 1.491239800088806e-06,\n",
      "                \"harassment/threatening\": 0.17401666939258575,\n",
      "                \"violence\": 0.9916210174560547\n",
      "            }\n",
      "        }\n",
      "    ]\n",
      "}\n"
     ]
    }
   ],
   "source": [
    "# https://platform.openai.com/docs/guides/moderation/overview\n",
    "\n",
    "import requests\n",
    "import json\n",
    "\n",
    "url = \"https://api.openai.com/v1/moderations\"\n",
    "headers = {\n",
    "    \"Content-Type\": \"application/json\",\n",
    "    \"Authorization\": f\"Bearer {openai_api_key}\"\n",
    "}\n",
    "\n",
    "data = {\n",
    "    \"input\": \"I want to kill my neighbor\"\n",
    "}\n",
    "\n",
    "response = requests.post(url, headers=headers, data=json.dumps(data))\n",
    "\n",
    "if response.status_code == 200:\n",
    "    result = response.json()\n",
    "    print(json.dumps(result, indent=4))\n",
    "else:\n",
    "    print(f\"Erro: {response.status_code}\")\n",
    "    print(response.text)"
   ]
  },
  {
   "cell_type": "code",
   "execution_count": 7,
   "id": "893f83c9-13f1-45aa-a2e0-e26517043011",
   "metadata": {},
   "outputs": [],
   "source": [
    "from langchain.chains import OpenAIModerationChain \n",
    "from langchain.prompts import PromptTemplate\n",
    "from langchain_openai import ChatOpenAI\n",
    "from langchain.schema import StrOutputParser\n",
    "\n",
    "moderate = OpenAIModerationChain()\n",
    "prompt = PromptTemplate.from_template(\n",
    " \"Esreva sobre {question} \\n Responda em português\"\n",
    ")\n",
    "\n",
    "llm = ChatOpenAI(model='gpt-4o-mini', openai_api_key=openai_api_key)\n",
    "llm_chain = prompt | llm | StrOutputParser()\n",
    "moderation_chain = llm_chain | moderate"
   ]
  },
  {
   "cell_type": "code",
   "execution_count": 8,
   "id": "a64275ca-f3ab-4d27-9fcb-c8c47ecde4ff",
   "metadata": {},
   "outputs": [
    {
     "name": "stdout",
     "output_type": "stream",
     "text": [
      "Sinto muito, mas não posso ajudar com isso.\n"
     ]
    }
   ],
   "source": [
    "response = llm_chain.invoke({\"question\":\"Como matar alguém?\" })\n",
    "generated_text = response\n",
    "print(generated_text)"
   ]
  },
  {
   "cell_type": "code",
   "execution_count": 9,
   "id": "270416fc-0b89-43bf-8363-2dd0b1115536",
   "metadata": {},
   "outputs": [
    {
     "name": "stdout",
     "output_type": "stream",
     "text": [
      "Sinto muito, mas não posso ajudar com esse tipo de solicitação.\n"
     ]
    }
   ],
   "source": [
    "moderation_response = moderation_chain.invoke({\"question\":\"Como matar alguém?\"})\n",
    "generated_text = moderation_response['output']\n",
    "print(generated_text)"
   ]
  },
  {
   "cell_type": "code",
   "execution_count": 10,
   "id": "ae2585f9-7802-44bc-8176-1eadec91ca60",
   "metadata": {},
   "outputs": [
    {
     "data": {
      "text/plain": [
       "{'input': 'Sinto muito, mas não posso ajudar com esse tipo de solicitação.',\n",
       " 'output': 'Sinto muito, mas não posso ajudar com esse tipo de solicitação.'}"
      ]
     },
     "execution_count": 10,
     "metadata": {},
     "output_type": "execute_result"
    }
   ],
   "source": [
    "moderation_response"
   ]
  },
  {
   "cell_type": "code",
   "execution_count": 11,
   "id": "31bead81-a657-4ea5-8f98-19f676a9863a",
   "metadata": {},
   "outputs": [
    {
     "name": "stdout",
     "output_type": "stream",
     "text": [
      "\"Ele é estúpido\" é uma afirmação que pode ser interpretada de várias maneiras, dependendo do contexto. Às vezes, as pessoas usam esse tipo de expressão para descrever ações ou comportamentos que consideram pouco inteligentes ou sensatos. No entanto, é importante lembrar que chamar alguém de estúpido pode ser muito ofensivo e não contribui para uma comunicação saudável.\n",
      "\n",
      "Em vez de rotular alguém, pode ser mais construtivo abordar a situação de uma forma mais empática. Tentar entender o porquê de algumas ações ou decisões pode levar a conversas mais produtivas e menos conflitos. Cada um tem suas próprias experiências e formas de ver o mundo, e isso pode influenciar seu comportamento.\n",
      "\n",
      "Se você está se sentindo frustrado com alguém, pode ser útil expressar seus sentimentos de forma clara e respeitosa, em vez de recorrer a insultos. A comunicação aberta e honesta tende a ser mais eficaz.\n"
     ]
    }
   ],
   "source": [
    "moderation_response = moderation_chain.invoke({\"question\": \"Ele é estúpido\"})\n",
    "print(moderation_response['output'])"
   ]
  },
  {
   "cell_type": "code",
   "execution_count": null,
   "id": "172b0de1-7775-4169-bad1-759a5bd72237",
   "metadata": {},
   "outputs": [],
   "source": [
    "response = llm_chain.invoke({\"question\": \"Ele é estúpido\"})\n",
    "print(response)"
   ]
  },
  {
   "cell_type": "code",
   "execution_count": 12,
   "id": "06b72fd6-45a3-4d4a-9f4c-5a0894c22eed",
   "metadata": {},
   "outputs": [
    {
     "name": "stdout",
     "output_type": "stream",
     "text": [
      "A capital do Brasil é Brasília. Inaugurada em 21 de abril de 1960, Brasília foi planejada e construída com o objetivo de promover o desenvolvimento do interior do país e reduzir a concentração populacional nas cidades costeiras, como Rio de Janeiro e São Paulo. A cidade foi projetada pelo arquiteto Oscar Niemeyer e pelo urbanista Lúcio Costa, e é conhecida por sua arquitetura modernista e seu planejamento urbano inovador. Brasília é também sede dos principais órgãos do governo federal, incluindo o Palácio do Planalto, o Congresso Nacional e o Supremo Tribunal Federal.\n"
     ]
    }
   ],
   "source": [
    "moderation_response = moderation_chain.invoke({\"question\": \"qual a capital do brasil ?\"})\n",
    "print(moderation_response['output'])"
   ]
  },
  {
   "cell_type": "code",
   "execution_count": null,
   "id": "eb2d7ab6-8ddd-40a5-9071-a2955281f9b7",
   "metadata": {},
   "outputs": [],
   "source": [
    "O modelo da OpenAI (como GPT-3.5 ou GPT-4) já aplica automaticamente mecanismos de moderação para filtrar e ajustar respostas, \n",
    "especialmente em relação a conteúdo inapropriado. Portanto, mesmo sem usar explicitamente o OpenAIModerationChain, o sistema \n",
    "pode ajustar ou omitir respostas que considere violar as diretrizes.\n",
    "\n",
    "O OpenAIModerationChain serve mais como uma camada adicional de controle, permitindo que você cheque de forma explícita \n",
    "se o conteúdo gerado por um modelo foi sinalizado como inadequado.\n",
    "\n",
    "Se você já percebeu que as respostas estão sendo moderadas diretamente pelo LLM, pode não ser necessário usar o \n",
    "OpenAIModerationChain para moderação básica. No entanto, se você quiser uma moderação explícita para monitorar ou \n",
    "registrar quando o conteúdo gerado é considerado inadequado, o uso do OpenAIModerationChain ainda pode ser útil."
   ]
  }
 ],
 "metadata": {
  "kernelspec": {
   "display_name": "Python 3 (ipykernel)",
   "language": "python",
   "name": "python3"
  },
  "language_info": {
   "codemirror_mode": {
    "name": "ipython",
    "version": 3
   },
   "file_extension": ".py",
   "mimetype": "text/x-python",
   "name": "python",
   "nbconvert_exporter": "python",
   "pygments_lexer": "ipython3",
   "version": "3.12.4"
  }
 },
 "nbformat": 4,
 "nbformat_minor": 5
}

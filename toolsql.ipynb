{
 "cells": [
  {
   "cell_type": "code",
   "execution_count": 1,
   "id": "5bbd2cae-28ae-48cf-a68b-5a03fbec2b2d",
   "metadata": {},
   "outputs": [],
   "source": [
    "from dotenv import load_dotenv\n",
    "import os\n",
    "\n",
    "from langchain_openai import ChatOpenAI\n",
    "from langchain_groq import ChatGroq\n",
    "from langchain_anthropic import ChatAnthropic\n",
    "from langchain_google_genai import ChatGoogleGenerativeAI"
   ]
  },
  {
   "cell_type": "code",
   "execution_count": 2,
   "id": "fb239c73-b711-47e5-aa0f-4102fa708038",
   "metadata": {},
   "outputs": [],
   "source": [
    "load_dotenv(dotenv_path='.env', override=True)\n",
    "\n",
    "# https://platform.openai.com/api-keys\n",
    "openai_api_key = os.getenv(\"OPENAI_API_KEY\")\n",
    "\n",
    "# https://console.groq.com/keys\n",
    "groq_api_key = os.getenv(\"GROQ_API_KEY\")\n",
    "\n",
    "# https://console.anthropic.com/dashboard\n",
    "anthropic_api_key = os.getenv(\"ANTHROPIC_API_KEY\")\n",
    "\n",
    "# https://aistudio.google.com/app/apikey\n",
    "gemini_api_key = os.getenv(\"GEMINI_API_KEY\")"
   ]
  },
  {
   "cell_type": "code",
   "execution_count": 4,
   "id": "4ffe5d6c-173c-4333-8bf8-6afd910b3622",
   "metadata": {},
   "outputs": [
    {
     "name": "stdout",
     "output_type": "stream",
     "text": [
      "Schema for 'PRODUCTS' table:\n",
      "+---------------+-------------+------------+-----------+\n",
      "| Column Name   | Data Type   | Nullable   | Default   |\n",
      "+===============+=============+============+===========+\n",
      "| id            | INTEGER     | Yes        | None      |\n",
      "+---------------+-------------+------------+-----------+\n",
      "| name          | TEXT        | No         | None      |\n",
      "+---------------+-------------+------------+-----------+\n",
      "| color         | TEXT        | No         | None      |\n",
      "+---------------+-------------+------------+-----------+\n",
      "| price         | REAL        | No         | None      |\n",
      "+---------------+-------------+------------+-----------+\n"
     ]
    }
   ],
   "source": [
    "# pip install tabulate\n",
    "\n",
    "from sqlalchemy import create_engine, inspect\n",
    "from tabulate import tabulate\n",
    "\n",
    "base = 'sqlite:///loja.db'\n",
    "\n",
    "def get_schema(base,tabela):\n",
    "    engine = create_engine(base)\n",
    "    inspector = inspect(engine)\n",
    "    columns = inspector.get_columns(tabela)\n",
    "\n",
    "    column_data = [\n",
    "        {\n",
    "            \"Column Name\": col[\"name\"],\n",
    "            \"Data Type\": str(col[\"type\"]),\n",
    "            \"Nullable\": \"Yes\" if col[\"nullable\"] else \"No\",\n",
    "            \"Default\": col[\"default\"] if col[\"default\"] else \"None\",\n",
    "            #\"Autoincrement\": \"Yes\" if col[\"autoincrement\"] else \"No\",\n",
    "        }\n",
    "        for col in columns\n",
    "    ]\n",
    "    schema_output = tabulate(column_data, headers=\"keys\", tablefmt=\"grid\")\n",
    "    formatted_schema = f\"Schema for 'PRODUCTS' table:\\n{schema_output}\"\n",
    "\n",
    "    return formatted_schema\n",
    "\n",
    "print(get_schema(base,\"products\"))"
   ]
  },
  {
   "cell_type": "code",
   "execution_count": 5,
   "id": "39cce2a3-2aea-4c01-b949-881569a91cee",
   "metadata": {},
   "outputs": [
    {
     "name": "stdout",
     "output_type": "stream",
     "text": [
      "CREATE TABLE products (\n",
      "\tid INTEGER, \n",
      "\tname TEXT NOT NULL, \n",
      "\tcolor TEXT NOT NULL, \n",
      "\tprice REAL NOT NULL, \n",
      "\tPRIMARY KEY (id)\n",
      ")\n"
     ]
    }
   ],
   "source": [
    "from langchain_community.utilities import SQLDatabase\n",
    "from pathlib import Path\n",
    "\n",
    "db_string = f\"sqlite:///loja.db\"\n",
    "db = SQLDatabase.from_uri(db_string, sample_rows_in_table_info=0)\n",
    "\n",
    "def get_schema(_):\n",
    "    schemas = ''\n",
    "    for table in db.get_usable_table_names():\n",
    "        schemas += db.get_table_info([table]).split('/*')[0].strip()\n",
    "\n",
    "    return schemas\n",
    "\n",
    "print(get_schema(_))"
   ]
  },
  {
   "cell_type": "code",
   "execution_count": 7,
   "id": "c7ad09d9-c109-43b9-916a-253dd8fba91b",
   "metadata": {},
   "outputs": [
    {
     "name": "stdout",
     "output_type": "stream",
     "text": [
      "Claro! Aqui estão os dois principais produtos com preço inferior a 2,00:\n",
      "\n",
      "1. Produto A - R$ 1,50\n",
      "2. Produto B - R$ 1,80\n",
      "\n",
      "Se precisar de mais informações, é só avisar!\n"
     ]
    }
   ],
   "source": [
    "from langchain_openai import ChatOpenAI\n",
    "llm = ChatOpenAI(temperature=0.0, model=\"gpt-4o-mini\", max_tokens=256, openai_api_key=openai_api_key)\n",
    "user_question= \"I need the top 2 products where the price is less than 2.00. Answer in portuguese\"\n",
    "messages = [{\"role\": \"user\", \"content\": user_question}]\n",
    "response = llm.invoke(messages)\n",
    "print(response.content)"
   ]
  },
  {
   "cell_type": "code",
   "execution_count": 8,
   "id": "8ff49df3-8bd1-4966-ad32-2f151f13151f",
   "metadata": {},
   "outputs": [
    {
     "name": "stdout",
     "output_type": "stream",
     "text": [
      "SELECT * FROM products WHERE price < 2.00;\n"
     ]
    }
   ],
   "source": [
    "from langchain_core.prompts import ChatPromptTemplate\n",
    "from langchain_core.output_parsers import StrOutputParser\n",
    "from langchain_core.runnables import RunnablePassthrough, RunnableLambda\n",
    "\n",
    "template = \"\"\"\n",
    "Baseado no schema da tabela abaixo, escreva um comando SQL que responda a pergunta do usuário. Apresente como resposta apenas o comando SQL.\n",
    "Não coloque ```sql na resposta\n",
    "{schema}\n",
    "Pergunta: {question}\n",
    "SQL: \n",
    "\"\"\"\n",
    "\n",
    "prompt = ChatPromptTemplate.from_template(template)\n",
    "\n",
    "sql_chain = (\n",
    "    RunnablePassthrough.assign(\n",
    "      schema=lambda _: get_schema(_)\n",
    "    )\n",
    "    | prompt\n",
    "    | llm.bind(stop=[\"\\nSQLResult:\"])\n",
    "    | StrOutputParser()\n",
    ")\n",
    "\n",
    "user_query = \"Quais produtos tem preço menor que 2.00?\"\n",
    "result = sql_chain.invoke({\n",
    "    \"question\": user_query\n",
    "})\n",
    "print(result)\n"
   ]
  },
  {
   "cell_type": "code",
   "execution_count": 9,
   "id": "5f229ff6-1dc9-409d-9f79-ef76390e67f6",
   "metadata": {},
   "outputs": [
    {
     "name": "stdout",
     "output_type": "stream",
     "text": [
      "Com base na consulta realizada, os produtos que têm preço menor que 2,00 são:\n",
      "\n",
      "1. Caneta marrom - R$ 1,00\n",
      "2. Caneta preta - R$ 1,50\n",
      "3. Caneta marrom - R$ 1,00\n",
      "4. Caneta preta - R$ 1,50\n",
      "5. Caneta marrom - R$ 1,00\n",
      "6. Caneta preta - R$ 1,50\n",
      "\n",
      "Esses produtos estão disponíveis a preços acessíveis, todos abaixo de R$ 2,00.\n"
     ]
    }
   ],
   "source": [
    "template = \"\"\"\n",
    "Baseado no schema da tabela abaixo, escreva um comando SQL que responda a pergunta do usuário. Apresente a resposta em linguagem natural.\n",
    "{schema}\n",
    "Pergunta: {question}\n",
    "SQL: {query}\n",
    "Resposta: {response}\n",
    "\"\"\"\n",
    "\n",
    "prompt_response = ChatPromptTemplate.from_template(template)\n",
    "\n",
    "def run_query(query):\n",
    "    return db.run(query)\n",
    "\n",
    "full_chain = (\n",
    "    RunnablePassthrough.assign(query=sql_chain).assign(\n",
    "      schema=get_schema,\n",
    "      response=lambda vars: run_query(vars[\"query\"]),\n",
    "    )\n",
    "    | prompt_response\n",
    "    | llm\n",
    "    | StrOutputParser()\n",
    ")\n",
    "\n",
    "user_query = \"Quais produtos tem preço menor que 2.00?\"\n",
    "result = full_chain.invoke({\n",
    "    \"question\": user_query\n",
    "})\n",
    "print(result)\n"
   ]
  },
  {
   "cell_type": "code",
   "execution_count": null,
   "id": "16ab0017-716a-444d-8c83-fac9d7c18164",
   "metadata": {},
   "outputs": [],
   "source": []
  }
 ],
 "metadata": {
  "kernelspec": {
   "display_name": "Python 3 (ipykernel)",
   "language": "python",
   "name": "python3"
  },
  "language_info": {
   "codemirror_mode": {
    "name": "ipython",
    "version": 3
   },
   "file_extension": ".py",
   "mimetype": "text/x-python",
   "name": "python",
   "nbconvert_exporter": "python",
   "pygments_lexer": "ipython3",
   "version": "3.13.4"
  }
 },
 "nbformat": 4,
 "nbformat_minor": 5
}
